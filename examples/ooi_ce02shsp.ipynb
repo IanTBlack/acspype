{
 "cells": [
  {
   "metadata": {
    "ExecuteTime": {
     "end_time": "2025-04-30T16:18:25.980249Z",
     "start_time": "2025-04-30T16:18:24.037451Z"
    }
   },
   "cell_type": "code",
   "source": [
    "import gsw\n",
    "import matplotlib.pyplot as plt\n",
    "from matplotlib.ticker import MultipleLocator\n",
    "import numpy as np\n",
    "import xarray as xr\n",
    "\n",
    "from acspype.utils.ooi import download_and_load_goldcopy, reformat_ooi_optaa, get_ooi_optaa_cal\n",
    "import acspype.processing as acsproc\n",
    "import acspype.qaqc as acsqaqc\n",
    "from acspype.tscor import ACSTSCor"
   ],
   "id": "d4de3f982047c94c",
   "outputs": [],
   "execution_count": 1
  },
  {
   "metadata": {},
   "cell_type": "markdown",
   "source": [
    "## Step 0: Accessing Example Data\n",
    "\n",
    "In this example, we will be using ACS data from the OOI Oregon Shelf Coastal Surface Piercing Profiler (CE02SHSP). "
   ],
   "id": "44ab59593c77a5dc"
  },
  {
   "metadata": {},
   "cell_type": "markdown",
   "source": [
    "#### Download and Select OOI Data\n",
    "If you inspect the data before it is reformatted, you'll find that it has the dimensions of `obs` and `wavelength`. These two dimensions are not compatible with *acspype* and do not provide any meaningful information. `obs` is simply and iterative identify for a file. `wavelength`, in this instance, is also an iterative identifier and not actually representative of the actual wavelength. This is particularly confusing because variables associated with absorption will have different wavelengths compared to those associated with attenuation. \n",
    "\n",
    "Since all OOI ACS assets are (currently) immobile and files ***SHOULD*** only contain data from one ACS, the reformatted dataset reassigns latitude, longitude, and deployment as coordinates rather than variables. If continuing to use Xarray, the acspype functions should handle these extra dimensions, but this example will whittle the dataset down to the coordinates of `time`, `a_wavelength`, and `c_wavelength` for simplicity."
   ],
   "id": "60a3e06bdd491466"
  },
  {
   "metadata": {
    "ExecuteTime": {
     "end_time": "2025-04-30T16:18:27.469640Z",
     "start_time": "2025-04-30T16:18:25.980249Z"
    }
   },
   "cell_type": "code",
   "source": [
    "acs_url = 'https://thredds.dataexplorer.oceanobservatories.org/thredds/fileServer/ooigoldcopy/public/CE02SHSP-SP001-04-OPTAAJ000-recovered_cspp-optaa_dj_cspp_instrument_recovered/deployment0013_CE02SHSP-SP001-04-OPTAAJ000-recovered_cspp-optaa_dj_cspp_instrument_recovered_20190624T165543.774000-20190627T023924.583000.nc'\n",
    "acs = download_and_load_goldcopy(acs_url)\n",
    "acs = reformat_ooi_optaa(acs)\n",
    "acs = acs.sel(latitude = float(acs.latitude), longitude = float(acs.longitude), deployment = int(acs.deployment))"
   ],
   "id": "49f5610e4d3d5d07",
   "outputs": [],
   "execution_count": 2
  },
  {
   "metadata": {},
   "cell_type": "markdown",
   "source": "The `reformat_ooi_optaa` function renames `optical_absorption` and `beam_attenuation` to `a_m_discontinuity` and `c_m_discontinuity`, respectively. These variables are not corrected for the discontinuity step that is observed in all ACS datasets. In this example, we will recalculate these variables from the raw data, so they are removed in the cell below.",
   "id": "c1a86c7d95456ba4"
  },
  {
   "metadata": {
    "ExecuteTime": {
     "end_time": "2025-04-30T16:18:27.480569Z",
     "start_time": "2025-04-30T16:18:27.469640Z"
    }
   },
   "cell_type": "code",
   "source": "acs = acs.drop_vars(['a_m_discontinuity','c_m_discontinuity'])",
   "id": "ed207f632586a3c",
   "outputs": [],
   "execution_count": 3
  },
  {
   "metadata": {},
   "cell_type": "markdown",
   "source": "#### Download ACS Device Calibration Information",
   "id": "96690f9ca9f2b0c5"
  },
  {
   "metadata": {
    "ExecuteTime": {
     "end_time": "2025-04-30T16:18:28.928830Z",
     "start_time": "2025-04-30T16:18:27.480569Z"
    }
   },
   "cell_type": "code",
   "source": "acs_dev = get_ooi_optaa_cal(acs)",
   "id": "ff31bc08d402012e",
   "outputs": [],
   "execution_count": 4
  },
  {
   "metadata": {},
   "cell_type": "markdown",
   "source": [
    "#### Quick Verification of Data and Device File\n",
    "The device file is a file that is unique to each ACS. For OOI datasets, one way to verify that you have the correct device file information is to verify that the wavelength values match between the file and the calibration information. In some rare cases, two calibration files for the same instrument may have the same wavelengths, so it is important to use the calibration information that happens before the data collection and is closest to the first timestamp in the dataset. The `get_ooi_optaa_cal` function does this automatically."
   ],
   "id": "6020574aefcf2e37"
  },
  {
   "metadata": {
    "ExecuteTime": {
     "end_time": "2025-04-30T16:18:28.936127Z",
     "start_time": "2025-04-30T16:18:28.928830Z"
    }
   },
   "cell_type": "code",
   "source": "assert np.all(acs_dev.a_wavelength == acs.a_wavelength)",
   "id": "cccf3b2614054cee",
   "outputs": [],
   "execution_count": 5
  },
  {
   "metadata": {},
   "cell_type": "markdown",
   "source": "## Step 1: Reprocess Data",
   "id": "a2dcb7986a78f5fc"
  },
  {
   "metadata": {
    "ExecuteTime": {
     "end_time": "2025-04-30T16:18:28.981672Z",
     "start_time": "2025-04-30T16:18:28.936127Z"
    }
   },
   "cell_type": "code",
   "source": [
    "acs['sea_water_absolute_salinity'] = gsw.SA_from_SP(acs.sea_water_practical_salinity, acs.sea_water_pressure, acs.longitude, acs.latitude)\n",
    "acs['sea_water_conservative_temperature'] = gsw.CT_from_t(acs.sea_water_absolute_salinity, acs.sea_water_temperature, acs.sea_water_pressure)"
   ],
   "id": "5f2a5df1b9f7a9e9",
   "outputs": [],
   "execution_count": 6
  },
  {
   "metadata": {
    "ExecuteTime": {
     "end_time": "2025-04-30T16:18:29.004141Z",
     "start_time": "2025-04-30T16:18:28.983150Z"
    }
   },
   "cell_type": "code",
   "source": [
    "acs['internal_temperature'] = acsproc.compute_internal_temperature(acs.raw_internal_temperature)\n",
    "acs['external_temperature'] = acsproc.compute_external_temperature(acs.raw_external_temperature)"
   ],
   "id": "a6964392491f445c",
   "outputs": [],
   "execution_count": 7
  },
  {
   "metadata": {
    "ExecuteTime": {
     "end_time": "2025-04-30T16:18:29.153840Z",
     "start_time": "2025-04-30T16:18:29.004141Z"
    }
   },
   "cell_type": "code",
   "source": [
    "acs['a_uncorrected'] = acsproc.compute_uncorrected(acs.a_signal, acs.a_reference, acs_dev.path_length)\n",
    "acs['c_uncorrected'] = acsproc.compute_uncorrected(acs.c_signal, acs.c_reference, acs_dev.path_length)"
   ],
   "id": "636ccc3532a8f7cb",
   "outputs": [
    {
     "name": "stderr",
     "output_type": "stream",
     "text": [
      "C:\\Users\\Ian\\phd\\projects\\acspype\\.venv\\Lib\\site-packages\\xarray\\computation\\apply_ufunc.py:821: RuntimeWarning: divide by zero encountered in log\n",
      "  result_data = func(*input_data)\n",
      "C:\\Users\\Ian\\phd\\projects\\acspype\\.venv\\Lib\\site-packages\\xarray\\computation\\apply_ufunc.py:821: RuntimeWarning: divide by zero encountered in log\n",
      "  result_data = func(*input_data)\n"
     ]
    }
   ],
   "execution_count": 8
  },
  {
   "metadata": {
    "ExecuteTime": {
     "end_time": "2025-04-30T16:18:29.361095Z",
     "start_time": "2025-04-30T16:18:29.153840Z"
    }
   },
   "cell_type": "code",
   "source": [
    "acs['a_m_discontinuity'] = acsproc.compute_measured(acs.a_uncorrected, acs.internal_temperature, acs_dev.a_offset, acs_dev.func_a_delta_t)\n",
    "acs['c_m_discontinuity'] = acsproc.compute_measured(acs.c_uncorrected, acs.internal_temperature, acs_dev.c_offset, acs_dev.func_c_delta_t)"
   ],
   "id": "f5c9eed96b0e3daf",
   "outputs": [],
   "execution_count": 9
  },
  {
   "metadata": {
    "ExecuteTime": {
     "end_time": "2025-04-30T16:19:08.812544Z",
     "start_time": "2025-04-30T16:18:29.363614Z"
    }
   },
   "cell_type": "code",
   "source": [
    "discontinuity_index = acsproc.find_discontinuity_index(acs.a_wavelength, acs.c_wavelength)\n",
    "acs['a_m'], acs['a_discontinuity_offset'] = acsproc.discontinuity_correction(acs.a_m_discontinuity,discontinuity_index,'a_wavelength')\n",
    "acs['c_m'], acs['c_discontinuity_offset'] = acsproc.discontinuity_correction(acs.c_m_discontinuity,discontinuity_index,'c_wavelength')"
   ],
   "id": "fc919d2adc1b840",
   "outputs": [],
   "execution_count": 10
  },
  {
   "metadata": {
    "ExecuteTime": {
     "end_time": "2025-04-30T16:19:09.232584Z",
     "start_time": "2025-04-30T16:19:08.812544Z"
    }
   },
   "cell_type": "code",
   "source": [
    "tcal = acs_dev.tcal\n",
    "tscor = ACSTSCor().to_xarray()\n",
    "\n",
    "psi_t = tscor.psi_t.sel(wavelength=acs.a_wavelength)\n",
    "psi_s_a = tscor.psi_s_a.sel(wavelength=acs.a_wavelength)\n",
    "acs['a_mts'] = acsproc.ts_correction(acs.a_m, acs.sea_water_conservative_temperature,acs.sea_water_absolute_salinity, psi_t, psi_s_a, tcal)\n",
    "\n",
    "psi_t = tscor.psi_t.sel(wavelength=acs.c_wavelength)\n",
    "psi_s_c = tscor.psi_s_c.sel(wavelength=acs.c_wavelength)\n",
    "acs['c_mts'] = acsproc.ts_correction(acs.c_m, acs.sea_water_conservative_temperature,acs.sea_water_absolute_salinity, psi_t, psi_s_c, tcal)"
   ],
   "id": "82bab5e2c8b480f6",
   "outputs": [],
   "execution_count": 11
  },
  {
   "metadata": {
    "ExecuteTime": {
     "end_time": "2025-04-30T16:19:09.353789Z",
     "start_time": "2025-04-30T16:19:09.235046Z"
    }
   },
   "cell_type": "code",
   "source": [
    "acs['a_mts'] = acsproc.zero_shift_correction(acs.a_mts)\n",
    "acs['c_mts'] = acsproc.zero_shift_correction(acs.c_mts)"
   ],
   "id": "3fcdf93d0e1cdceb",
   "outputs": [],
   "execution_count": 12
  },
  {
   "metadata": {
    "ExecuteTime": {
     "end_time": "2025-04-30T16:19:16.418739Z",
     "start_time": "2025-04-30T16:19:09.355909Z"
    }
   },
   "cell_type": "code",
   "source": "acs = acsproc.interpolate_common_wavelengths(acs, 'a_wavelength','c_wavelength')",
   "id": "8e521e00d5fb0fa",
   "outputs": [
    {
     "name": "stderr",
     "output_type": "stream",
     "text": [
      "C:\\Users\\Ian\\phd\\projects\\acspype\\.venv\\Lib\\site-packages\\scipy\\interpolate\\_interpolate.py:482: RuntimeWarning: invalid value encountered in add\n",
      "  y_new = slope*(x_new - x_lo)[:, None] + y_lo\n",
      "C:\\Users\\Ian\\phd\\projects\\acspype\\.venv\\Lib\\site-packages\\scipy\\interpolate\\_interpolate.py:479: RuntimeWarning: invalid value encountered in subtract\n",
      "  slope = (y_hi - y_lo) / (x_hi - x_lo)[:, None]\n"
     ]
    }
   ],
   "execution_count": 13
  },
  {
   "metadata": {
    "ExecuteTime": {
     "end_time": "2025-04-30T16:19:18.747521Z",
     "start_time": "2025-04-30T16:19:16.418739Z"
    }
   },
   "cell_type": "code",
   "source": [
    "ref_wvl = acsproc.estimate_reference_wavelength(acs.a_mts, 'wavelength')\n",
    "ref_wvl = 745"
   ],
   "id": "88edb8b65c5bec20",
   "outputs": [],
   "execution_count": 14
  },
  {
   "metadata": {
    "ExecuteTime": {
     "end_time": "2025-04-30T16:19:18.842315Z",
     "start_time": "2025-04-30T16:19:18.747521Z"
    }
   },
   "cell_type": "code",
   "source": [
    "reference_a = acs.a_mts.sel(wavelength = ref_wvl, method = 'nearest')\n",
    "acs['a_mts_baseline'] = acsproc.baseline_scattering_correction(acs.a_mts, reference_a)"
   ],
   "id": "641f5baabd7b0b85",
   "outputs": [],
   "execution_count": 15
  },
  {
   "metadata": {
    "ExecuteTime": {
     "end_time": "2025-04-30T16:19:19.122303Z",
     "start_time": "2025-04-30T16:19:18.842315Z"
    }
   },
   "cell_type": "code",
   "source": "acs['a_mts_fixed'] = acsproc.fixed_scattering_correction(acs.a_mts, acs.c_mts)",
   "id": "763b67c7e6bebff4",
   "outputs": [],
   "execution_count": 16
  },
  {
   "metadata": {
    "ExecuteTime": {
     "end_time": "2025-04-30T16:19:19.416856Z",
     "start_time": "2025-04-30T16:19:19.122303Z"
    }
   },
   "cell_type": "code",
   "source": [
    "reference_a = acs.a_mts.sel(wavelength = ref_wvl, method = 'nearest')\n",
    "reference_c = acs.c_mts.sel(wavelength = ref_wvl, method = 'nearest')\n",
    "\n",
    "acs['a_mts_proportional'] = acsproc.proportional_scattering_correction(acs.a_mts, acs.c_mts, reference_a, reference_c)"
   ],
   "id": "54c663a46fcc14bd",
   "outputs": [],
   "execution_count": 17
  },
  {
   "metadata": {
    "ExecuteTime": {
     "end_time": "2025-04-30T16:19:19.638494Z",
     "start_time": "2025-04-30T16:19:19.416856Z"
    }
   },
   "cell_type": "code",
   "source": [
    "spectrum = acs.sel(time = acs.time.values[-1000])\n",
    "\n",
    "fig, ax = plt.subplots(1, 1, figsize=(10, 5))\n",
    "\n",
    "ax.plot(spectrum.wavelength, spectrum.a_mts, label='a_mts')\n",
    "ax.plot(spectrum.wavelength, spectrum.a_mts_baseline, label = 'a_mts_baseline')\n",
    "ax.plot(spectrum.wavelength, spectrum.a_mts_fixed, label = 'a_mts_fixed')\n",
    "ax.plot(spectrum.wavelength, spectrum.a_mts_proportional, label = 'a_mts_proportional')\n",
    "ax.legend(loc = 'upper right', ncols = 2)"
   ],
   "id": "478f1ae92a52287d",
   "outputs": [
    {
     "data": {
      "text/plain": [
       "<matplotlib.legend.Legend at 0x1d5a2ab38c0>"
      ]
     },
     "execution_count": 18,
     "metadata": {},
     "output_type": "execute_result"
    },
    {
     "data": {
      "text/plain": [
       "<Figure size 1000x500 with 1 Axes>"
      ],
      "image/png": "[encoded data removed]"
     },
     "metadata": {},
     "output_type": "display_data"
    }
   ],
   "execution_count": 18
  },
  {
   "metadata": {},
   "cell_type": "markdown",
   "source": "## QAQC",
   "id": "ab59b12f6e4b97f4"
  },
  {
   "metadata": {
    "ExecuteTime": {
     "end_time": "2025-04-30T16:19:19.725940Z",
     "start_time": "2025-04-30T16:19:19.714851Z"
    }
   },
   "cell_type": "code",
   "source": "acs['flag_elapsed_time'] = acsqaqc.elapsed_time_test(acs.elapsed_time)",
   "id": "df4c069eb844355a",
   "outputs": [],
   "execution_count": 20
  },
  {
   "metadata": {
    "ExecuteTime": {
     "end_time": "2025-04-30T16:19:19.729949Z",
     "start_time": "2025-04-30T16:19:19.726946Z"
    }
   },
   "cell_type": "code",
   "source": "",
   "id": "9e7b3c538b844717",
   "outputs": [],
   "execution_count": 20
  },
  {
   "metadata": {
    "ExecuteTime": {
     "end_time": "2025-04-30T16:19:19.760010Z",
     "start_time": "2025-04-30T16:19:19.756993Z"
    }
   },
   "cell_type": "code",
   "source": "",
   "id": "6d11f657ffb15710",
   "outputs": [],
   "execution_count": 22
  }
 ],
 "metadata": {
  "kernelspec": {
   "display_name": "Python 3",
   "language": "python",
   "name": "python3"
  },
  "language_info": {
   "codemirror_mode": {
    "name": "ipython",
    "version": 2
   },
   "file_extension": ".py",
   "mimetype": "text/x-python",
   "name": "python",
   "nbconvert_exporter": "python",
   "pygments_lexer": "ipython2",
   "version": "2.7.6"
  }
 },
 "nbformat": 4,
 "nbformat_minor": 5
}

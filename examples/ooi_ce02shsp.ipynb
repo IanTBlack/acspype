{
 "cells": [
  {
   "metadata": {
    "ExecuteTime": {
     "end_time": "2025-04-30T21:10:54.464619Z",
     "start_time": "2025-04-30T21:10:52.407234Z"
    }
   },
   "cell_type": "code",
   "source": [
    "import gsw\n",
    "import matplotlib.pyplot as plt\n",
    "from matplotlib.ticker import MultipleLocator\n",
    "import numpy as np\n",
    "import xarray as xr\n",
    "\n",
    "from acspype.utils.ooi import download_and_load_goldcopy, reformat_ooi_optaa, get_ooi_optaa_cal\n",
    "import acspype.processing as acsproc\n",
    "import acspype.qaqc as acsqaqc\n",
    "from acspype.tscor import ACSTSCor"
   ],
   "id": "d4de3f982047c94c",
   "outputs": [],
   "execution_count": 1
  },
  {
   "metadata": {},
   "cell_type": "markdown",
   "source": [
    "## Step 0: Accessing Example Data\n",
    "\n",
    "In this example, we will be using ACS data from the OOI Oregon Shelf Coastal Surface Piercing Profiler (CE02SHSP). "
   ],
   "id": "44ab59593c77a5dc"
  },
  {
   "metadata": {},
   "cell_type": "markdown",
   "source": [
    "#### Download and Select OOI Data\n",
    "If you inspect the data before it is reformatted, you'll find that it has the dimensions of `obs` and `wavelength`. These two dimensions are not compatible with *acspype* and do not provide any meaningful information. `obs` is simply and iterative identify for a file. `wavelength`, in this instance, is also an iterative identifier and not actually representative of the actual wavelength. This is particularly confusing because variables associated with absorption will have different wavelengths compared to those associated with attenuation. \n",
    "\n",
    "Since all OOI ACS assets are (currently) immobile and files ***SHOULD*** only contain data from one ACS, the reformatted dataset reassigns latitude, longitude, and deployment as coordinates rather than variables. If continuing to use Xarray, the acspype functions should handle these extra dimensions, but this example will whittle the dataset down to the coordinates of `time`, `a_wavelength`, and `c_wavelength` for simplicity."
   ],
   "id": "60a3e06bdd491466"
  },
  {
   "metadata": {
    "ExecuteTime": {
     "end_time": "2025-04-30T21:10:55.912555Z",
     "start_time": "2025-04-30T21:10:54.465626Z"
    }
   },
   "cell_type": "code",
   "source": [
    "acs_url = 'https://thredds.dataexplorer.oceanobservatories.org/thredds/fileServer/ooigoldcopy/public/CE02SHSP-SP001-04-OPTAAJ000-recovered_cspp-optaa_dj_cspp_instrument_recovered/deployment0013_CE02SHSP-SP001-04-OPTAAJ000-recovered_cspp-optaa_dj_cspp_instrument_recovered_20190624T165543.774000-20190627T023924.583000.nc'\n",
    "acs = download_and_load_goldcopy(acs_url)\n",
    "acs = reformat_ooi_optaa(acs)\n",
    "acs = acs.sel(latitude = float(acs.latitude), longitude = float(acs.longitude), deployment = int(acs.deployment))"
   ],
   "id": "49f5610e4d3d5d07",
   "outputs": [],
   "execution_count": 2
  },
  {
   "metadata": {},
   "cell_type": "markdown",
   "source": "The `reformat_ooi_optaa` function renames `optical_absorption` and `beam_attenuation` to `a_m_discontinuity` and `c_m_discontinuity`, respectively. These variables are not corrected for the discontinuity step that is observed in all ACS datasets. In this example, we will recalculate these variables from the raw data, so they are removed in the cell below.",
   "id": "c1a86c7d95456ba4"
  },
  {
   "metadata": {
    "ExecuteTime": {
     "end_time": "2025-04-30T21:10:55.927404Z",
     "start_time": "2025-04-30T21:10:55.912555Z"
    }
   },
   "cell_type": "code",
   "source": "acs = acs.drop_vars(['a_m_discontinuity','c_m_discontinuity'])",
   "id": "ed207f632586a3c",
   "outputs": [],
   "execution_count": 3
  },
  {
   "metadata": {},
   "cell_type": "markdown",
   "source": "#### Download ACS Device Calibration Information",
   "id": "96690f9ca9f2b0c5"
  },
  {
   "metadata": {
    "ExecuteTime": {
     "end_time": "2025-04-30T21:10:56.313999Z",
     "start_time": "2025-04-30T21:10:55.929937Z"
    }
   },
   "cell_type": "code",
   "source": "acs_dev = get_ooi_optaa_cal(acs)",
   "id": "ff31bc08d402012e",
   "outputs": [],
   "execution_count": 4
  },
  {
   "metadata": {},
   "cell_type": "markdown",
   "source": [
    "#### Quick Verification of Data and Device File\n",
    "The device file is a file that is unique to each ACS. For OOI datasets, one way to verify that you have the correct device file information is to verify that the wavelength values match between the file and the calibration information. In some rare cases, two calibration files for the same instrument may have the same wavelengths, so it is important to use the calibration information that happens before the data collection and is closest to the first timestamp in the dataset. The `get_ooi_optaa_cal` function does this automatically."
   ],
   "id": "6020574aefcf2e37"
  },
  {
   "metadata": {
    "ExecuteTime": {
     "end_time": "2025-04-30T21:10:56.319111Z",
     "start_time": "2025-04-30T21:10:56.313999Z"
    }
   },
   "cell_type": "code",
   "source": "assert np.all(acs_dev.a_wavelength == acs.a_wavelength)",
   "id": "cccf3b2614054cee",
   "outputs": [],
   "execution_count": 5
  },
  {
   "metadata": {},
   "cell_type": "markdown",
   "source": "## Step 1: Reprocess Data",
   "id": "a2dcb7986a78f5fc"
  },
  {
   "metadata": {
    "ExecuteTime": {
     "end_time": "2025-04-30T21:10:56.369443Z",
     "start_time": "2025-04-30T21:10:56.319111Z"
    }
   },
   "cell_type": "code",
   "source": [
    "acs['sea_water_absolute_salinity'] = gsw.SA_from_SP(acs.sea_water_practical_salinity, acs.sea_water_pressure, acs.longitude, acs.latitude)\n",
    "acs['sea_water_conservative_temperature'] = gsw.CT_from_t(acs.sea_water_absolute_salinity, acs.sea_water_temperature, acs.sea_water_pressure)"
   ],
   "id": "5f2a5df1b9f7a9e9",
   "outputs": [],
   "execution_count": 6
  },
  {
   "metadata": {
    "ExecuteTime": {
     "end_time": "2025-04-30T21:10:56.391775Z",
     "start_time": "2025-04-30T21:10:56.369443Z"
    }
   },
   "cell_type": "code",
   "source": [
    "acs['internal_temperature'] = acsproc.compute_internal_temperature(acs.raw_internal_temperature)\n",
    "acs['external_temperature'] = acsproc.compute_external_temperature(acs.raw_external_temperature)"
   ],
   "id": "a6964392491f445c",
   "outputs": [],
   "execution_count": 7
  },
  {
   "metadata": {
    "ExecuteTime": {
     "end_time": "2025-04-30T21:10:56.521214Z",
     "start_time": "2025-04-30T21:10:56.391775Z"
    }
   },
   "cell_type": "code",
   "source": [
    "acs['a_uncorrected'] = acsproc.compute_uncorrected(acs.a_signal, acs.a_reference, acs_dev.path_length)\n",
    "acs['c_uncorrected'] = acsproc.compute_uncorrected(acs.c_signal, acs.c_reference, acs_dev.path_length)"
   ],
   "id": "636ccc3532a8f7cb",
   "outputs": [
    {
     "name": "stderr",
     "output_type": "stream",
     "text": [
      "C:\\Users\\Ian\\phd\\projects\\acspype\\.venv\\Lib\\site-packages\\xarray\\computation\\apply_ufunc.py:821: RuntimeWarning: divide by zero encountered in log\n",
      "  result_data = func(*input_data)\n",
      "C:\\Users\\Ian\\phd\\projects\\acspype\\.venv\\Lib\\site-packages\\xarray\\computation\\apply_ufunc.py:821: RuntimeWarning: divide by zero encountered in log\n",
      "  result_data = func(*input_data)\n"
     ]
    }
   ],
   "execution_count": 8
  },
  {
   "metadata": {
    "ExecuteTime": {
     "end_time": "2025-04-30T21:10:56.721408Z",
     "start_time": "2025-04-30T21:10:56.521214Z"
    }
   },
   "cell_type": "code",
   "source": [
    "acs['a_m_discontinuity'] = acsproc.compute_measured(acs.a_uncorrected, acs.internal_temperature, acs_dev.a_offset, acs_dev.func_a_delta_t)\n",
    "acs['c_m_discontinuity'] = acsproc.compute_measured(acs.c_uncorrected, acs.internal_temperature, acs_dev.c_offset, acs_dev.func_c_delta_t)"
   ],
   "id": "f5c9eed96b0e3daf",
   "outputs": [],
   "execution_count": 9
  },
  {
   "metadata": {
    "ExecuteTime": {
     "end_time": "2025-04-30T21:11:35.107224Z",
     "start_time": "2025-04-30T21:10:56.721408Z"
    }
   },
   "cell_type": "code",
   "source": [
    "discontinuity_index = acsproc.find_discontinuity_index(acs.a_wavelength, acs.c_wavelength)\n",
    "acs['a_m'], acs['a_discontinuity_offset'] = acsproc.discontinuity_correction(acs.a_m_discontinuity,discontinuity_index,'a_wavelength')\n",
    "acs['c_m'], acs['c_discontinuity_offset'] = acsproc.discontinuity_correction(acs.c_m_discontinuity,discontinuity_index,'c_wavelength')"
   ],
   "id": "fc919d2adc1b840",
   "outputs": [],
   "execution_count": 10
  },
  {
   "metadata": {
    "ExecuteTime": {
     "end_time": "2025-04-30T21:11:35.645051Z",
     "start_time": "2025-04-30T21:11:35.107224Z"
    }
   },
   "cell_type": "code",
   "source": [
    "tcal = acs_dev.tcal\n",
    "tscor = ACSTSCor().to_xarray()\n",
    "\n",
    "psi_t = tscor.psi_t.sel(wavelength=acs.a_wavelength)\n",
    "psi_s_a = tscor.psi_s_a.sel(wavelength=acs.a_wavelength)\n",
    "acs['a_mts'] = acsproc.ts_correction(acs.a_m, acs.sea_water_conservative_temperature,acs.sea_water_absolute_salinity, psi_t, psi_s_a, tcal)\n",
    "\n",
    "psi_t = tscor.psi_t.sel(wavelength=acs.c_wavelength)\n",
    "psi_s_c = tscor.psi_s_c.sel(wavelength=acs.c_wavelength)\n",
    "acs['c_mts'] = acsproc.ts_correction(acs.c_m, acs.sea_water_conservative_temperature,acs.sea_water_absolute_salinity, psi_t, psi_s_c, tcal)"
   ],
   "id": "82bab5e2c8b480f6",
   "outputs": [],
   "execution_count": 11
  },
  {
   "metadata": {
    "ExecuteTime": {
     "end_time": "2025-04-30T21:11:35.771638Z",
     "start_time": "2025-04-30T21:11:35.647595Z"
    }
   },
   "cell_type": "code",
   "source": [
    "acs['a_mts'] = acsproc.zero_shift_correction(acs.a_mts)\n",
    "acs['c_mts'] = acsproc.zero_shift_correction(acs.c_mts)"
   ],
   "id": "3fcdf93d0e1cdceb",
   "outputs": [],
   "execution_count": 12
  },
  {
   "metadata": {
    "ExecuteTime": {
     "end_time": "2025-04-30T21:11:43.421298Z",
     "start_time": "2025-04-30T21:11:35.771638Z"
    }
   },
   "cell_type": "code",
   "source": "acs = acsproc.interpolate_common_wavelengths(acs, 'a_wavelength','c_wavelength')",
   "id": "8e521e00d5fb0fa",
   "outputs": [
    {
     "name": "stderr",
     "output_type": "stream",
     "text": [
      "C:\\Users\\Ian\\phd\\projects\\acspype\\.venv\\Lib\\site-packages\\scipy\\interpolate\\_interpolate.py:482: RuntimeWarning: invalid value encountered in add\n",
      "  y_new = slope*(x_new - x_lo)[:, None] + y_lo\n",
      "C:\\Users\\Ian\\phd\\projects\\acspype\\.venv\\Lib\\site-packages\\scipy\\interpolate\\_interpolate.py:479: RuntimeWarning: invalid value encountered in subtract\n",
      "  slope = (y_hi - y_lo) / (x_hi - x_lo)[:, None]\n"
     ]
    }
   ],
   "execution_count": 13
  },
  {
   "metadata": {
    "ExecuteTime": {
     "end_time": "2025-04-30T21:11:45.727363Z",
     "start_time": "2025-04-30T21:11:43.421298Z"
    }
   },
   "cell_type": "code",
   "source": [
    "ref_wvl = acsproc.estimate_reference_wavelength(acs.a_mts, 'wavelength')\n",
    "ref_wvl = 715"
   ],
   "id": "88edb8b65c5bec20",
   "outputs": [],
   "execution_count": 14
  },
  {
   "metadata": {
    "ExecuteTime": {
     "end_time": "2025-04-30T21:11:45.830642Z",
     "start_time": "2025-04-30T21:11:45.728368Z"
    }
   },
   "cell_type": "code",
   "source": [
    "reference_a = acs.a_mts.sel(wavelength = ref_wvl, method = 'nearest')\n",
    "acs['a_mts_baseline'] = acsproc.baseline_scattering_correction(acs.a_mts, reference_a)"
   ],
   "id": "641f5baabd7b0b85",
   "outputs": [],
   "execution_count": 15
  },
  {
   "metadata": {
    "ExecuteTime": {
     "end_time": "2025-04-30T21:11:46.161356Z",
     "start_time": "2025-04-30T21:11:45.830642Z"
    }
   },
   "cell_type": "code",
   "source": [
    "reference_a = acs.a_mts.sel(wavelength = ref_wvl, method = 'nearest')\n",
    "reference_c = acs.c_mts.sel(wavelength = ref_wvl, method = 'nearest')\n",
    "\n",
    "acs['a_mts_proportional'] = acsproc.proportional_scattering_correction(acs.a_mts, acs.c_mts, reference_a, reference_c)"
   ],
   "id": "54c663a46fcc14bd",
   "outputs": [],
   "execution_count": 16
  },
  {
   "metadata": {
    "ExecuteTime": {
     "end_time": "2025-04-30T21:11:46.305591Z",
     "start_time": "2025-04-30T21:11:46.162173Z"
    }
   },
   "cell_type": "code",
   "source": [
    "spectrum = acs.sel(time = acs.time.values[-1000])\n",
    "\n",
    "fig, ax = plt.subplots(1, 1, figsize=(10, 5))\n",
    "\n",
    "ax.plot(spectrum.wavelength, spectrum.a_mts, label='a_mts')\n",
    "ax.plot(spectrum.wavelength, spectrum.a_mts_baseline, label = 'a_mts_baseline')\n",
    "ax.plot(spectrum.wavelength, spectrum.a_mts_proportional, label = 'a_mts_proportional')\n",
    "ax.legend(loc = 'upper right', ncols = 2)"
   ],
   "id": "478f1ae92a52287d",
   "outputs": [
    {
     "data": {
      "text/plain": [
       "<matplotlib.legend.Legend at 0x23c7fd1aab0>"
      ]
     },
     "execution_count": 17,
     "metadata": {},
     "output_type": "execute_result"
    },
    {
     "data": {
      "text/plain": [
       "<Figure size 1000x500 with 1 Axes>"
      ],
      "image/png": "[encoded data removed]"
     },
     "metadata": {},
     "output_type": "display_data"
    }
   ],
   "execution_count": 17
  },
  {
   "metadata": {},
   "cell_type": "markdown",
   "source": [
    "## QAQC\n",
    "\n",
    "Because OOI distributes ACS data parsed into its raw values, we can probably assume that the gap and syntax tests passed."
   ],
   "id": "ab59b12f6e4b97f4"
  },
  {
   "metadata": {
    "ExecuteTime": {
     "end_time": "2025-04-30T21:13:28.686066Z",
     "start_time": "2025-04-30T21:13:28.681277Z"
    }
   },
   "cell_type": "code",
   "source": "print(f'Total Number of ACS Samples Before QAQC: {len(acs.time.values)}')",
   "id": "5b33a47550a83266",
   "outputs": [
    {
     "name": "stdout",
     "output_type": "stream",
     "text": [
      "Total Number of ACS Samples Before QAQC: 118140\n"
     ]
    }
   ],
   "execution_count": 27
  },
  {
   "metadata": {
    "ExecuteTime": {
     "end_time": "2025-04-30T21:11:46.329788Z",
     "start_time": "2025-04-30T21:11:46.312489Z"
    }
   },
   "cell_type": "code",
   "source": [
    "acs['flag_elapsed_time'] = acsqaqc.elapsed_time_test(acs.elapsed_time, fail_threshold = 30 * 1000, suspect_threshold = 60 * 1000)\n",
    "\n",
    "flags, flag_counts= np.unique(acs.flag_elapsed_time.values, return_counts = True)\n",
    "print('flag_elapsed_time')\n",
    "for flag in flags: \n",
    "    idx = flags.tolist().index(flag)\n",
    "    if flag == 1:\n",
    "        flag_name = 'Passed'\n",
    "    elif flag == 2:\n",
    "        flag_name = 'Not Evaluated'\n",
    "    elif flag == 3:\n",
    "        flag_name = 'Suspect'\n",
    "    elif flag == 4:\n",
    "        flag_name = 'Failed'\n",
    "    elif flag == 9:\n",
    "        flag_name = 'Missing Data'\n",
    "    print(f\"# Samples {flag_name}: {flag_counts[idx]} \")"
   ],
   "id": "5de6a7dd99d5f439",
   "outputs": [
    {
     "name": "stdout",
     "output_type": "stream",
     "text": [
      "flag_elapsed_time\n",
      "# Samples Passed: 102970 \n",
      "# Samples Suspect: 15587 \n",
      "# Samples Failed: 13422 \n"
     ]
    }
   ],
   "execution_count": 19
  },
  {
   "metadata": {
    "ExecuteTime": {
     "end_time": "2025-04-30T21:11:46.346720Z",
     "start_time": "2025-04-30T21:11:46.329788Z"
    }
   },
   "cell_type": "code",
   "source": [
    "acs['flag_internal_temperature'] = acsqaqc.internal_temperature_test(acs.internal_temperature,acs_dev)\n",
    "\n",
    "flags, flag_counts= np.unique(acs.flag_internal_temperature.values, return_counts = True)\n",
    "print('flag_internal_temperature')\n",
    "for flag in flags: \n",
    "    idx = flags.tolist().index(flag)\n",
    "    if flag == 1:\n",
    "        flag_name = 'Passed'\n",
    "    elif flag == 2:\n",
    "        flag_name = 'Not Evaluated'\n",
    "    elif flag == 3:\n",
    "        flag_name = 'Suspect'\n",
    "    elif flag == 4:\n",
    "        flag_name = 'Failed'\n",
    "    elif flag == 9:\n",
    "        flag_name = 'Missing Data'\n",
    "    print(f\"# Samples {flag_name}: {flag_counts[idx]} \")"
   ],
   "id": "3e5394ba8669fc5e",
   "outputs": [
    {
     "name": "stdout",
     "output_type": "stream",
     "text": [
      "flag_internal_temperature\n",
      "# Samples Passed: 131979 \n"
     ]
    }
   ],
   "execution_count": 20
  },
  {
   "metadata": {
    "ExecuteTime": {
     "end_time": "2025-04-30T21:11:46.551881Z",
     "start_time": "2025-04-30T21:11:46.346720Z"
    }
   },
   "cell_type": "code",
   "source": [
    "acs['flag_a_uncorrected_inf_nan'] = acsqaqc.inf_nan_test(acs.a_uncorrected)\n",
    "acs['flag_c_uncorrected_inf_nan'] = acsqaqc.inf_nan_test(acs.c_uncorrected)\n",
    "\n",
    "for flag_var in ['flag_a_uncorrected_inf_nan','flag_c_uncorrected_inf_nan']:\n",
    "    flags, flag_counts= np.unique(acs[flag_var].values, return_counts = True)\n",
    "    print(f'{flag_var}')\n",
    "    for flag in flags: \n",
    "        idx = flags.tolist().index(flag)\n",
    "        if flag == 1:\n",
    "            flag_name = 'Passed'\n",
    "        elif flag == 2:\n",
    "            flag_name = 'Not Evaluated'\n",
    "        elif flag == 3:\n",
    "            flag_name = 'Suspect'\n",
    "        elif flag == 4:\n",
    "            flag_name = 'Failed'\n",
    "        elif flag == 9:\n",
    "            flag_name = 'Missing Data'\n",
    "        print(f\"# Samples {flag_name}: {flag_counts[idx]}\")\n",
    "    print('\\n')\n",
    "\n"
   ],
   "id": "df4c069eb844355a",
   "outputs": [
    {
     "name": "stdout",
     "output_type": "stream",
     "text": [
      "flag_a_uncorrected_inf_nan\n",
      "# Samples Passed: 131798\n",
      "# Samples Failed: 181\n",
      "\n",
      "\n",
      "flag_c_uncorrected_inf_nan\n",
      "# Samples Passed: 131742\n",
      "# Samples Failed: 237\n",
      "\n",
      "\n"
     ]
    }
   ],
   "execution_count": 21
  },
  {
   "metadata": {},
   "cell_type": "markdown",
   "source": "## Removing Data By Flags",
   "id": "532d65cbb8ef8c9e"
  },
  {
   "metadata": {
    "ExecuteTime": {
     "end_time": "2025-04-30T21:13:00.901475Z",
     "start_time": "2025-04-30T21:12:45.196720Z"
    }
   },
   "cell_type": "code",
   "source": [
    "acs = acs.where(acs.flag_elapsed_time != 4, drop = True)  # Remove samples with a flag of 4 for the elapsed time test\n",
    "acs = acs.where(acs.flag_internal_temperature != 4, drop = True)  # Remove samples with a flag of 4 for the internal temperature test.\n",
    "acs = acs.where(acs.flag_a_uncorrected_inf_nan != 4, drop = True)  # Remove samples with a flag of 4 for the absorption inf nan test.\n",
    "acs = acs.where(acs.flag_c_uncorrected_inf_nan != 4, drop = True)  # Remove samples with a flag of 4 for the absorption inf nan test."
   ],
   "id": "d0bbde5bb51ca096",
   "outputs": [],
   "execution_count": 25
  },
  {
   "metadata": {
    "ExecuteTime": {
     "end_time": "2025-04-30T21:13:33.113599Z",
     "start_time": "2025-04-30T21:13:33.099928Z"
    }
   },
   "cell_type": "code",
   "source": "print(f'Total Number of ACS Samples After QAQC: {len(acs.time.values)}')",
   "id": "fc06da08c5815e14",
   "outputs": [
    {
     "name": "stdout",
     "output_type": "stream",
     "text": [
      "Total Number of ACS Samples After QAQC: 118140\n"
     ]
    }
   ],
   "execution_count": 28
  },
  {
   "metadata": {
    "ExecuteTime": {
     "end_time": "2025-04-30T21:13:48.183636Z",
     "start_time": "2025-04-30T21:13:48.145179Z"
    }
   },
   "cell_type": "code",
   "source": "acs",
   "id": "49443cb50c55fc24",
   "outputs": [
    {
     "data": {
      "text/plain": [
       "<xarray.Dataset> Size: 5GB\n",
       "Dimensions:                             (time: 118140, wavelength: 344)\n",
       "Coordinates:\n",
       "    latitude                            float64 8B 44.63\n",
       "    longitude                           float64 8B -123.7\n",
       "    deployment                          int32 4B 13\n",
       "    depth                               (time) float64 945kB 76.8 76.8 ... 0.736\n",
       "  * time                                (time) datetime64[ns] 945kB 2019-06-2...\n",
       "  * wavelength                          (wavelength) float64 3kB 402.0 ... 745.0\n",
       "Data variables: (12/34)\n",
       "    a_reference                         (time, wavelength) float64 325MB 624....\n",
       "    a_reference_dark                    (time) float32 473kB 473.0 ... 471.0\n",
       "    a_signal                            (time, wavelength) float64 325MB 484....\n",
       "    a_signal_dark                       (time) float32 473kB 709.0 ... 712.0\n",
       "    c_reference                         (time, wavelength) float64 325MB 687....\n",
       "    c_reference_dark                    (time) float32 473kB 476.0 ... 475.0\n",
       "    ...                                  ...\n",
       "    a_mts_baseline                      (time, wavelength) float64 325MB 0.12...\n",
       "    a_mts_proportional                  (time, wavelength) float64 325MB 0.11...\n",
       "    flag_elapsed_time                   (time) float32 473kB 3.0 3.0 ... 1.0 1.0\n",
       "    flag_internal_temperature           (time) float64 945kB 1.0 1.0 ... 1.0 1.0\n",
       "    flag_a_uncorrected_inf_nan          (time) float64 945kB 1.0 1.0 ... 1.0 1.0\n",
       "    flag_c_uncorrected_inf_nan          (time) float64 945kB 1.0 1.0 ... 1.0 1.0\n",
       "Attributes: (12/60)\n",
       "    AssetManagementRecordLastModified:  2023-06-02T18:55:55.111000\n",
       "    AssetUniqueID:                      CGINS-OPTAAJ-00138\n",
       "    Conventions:                        CF-1.6\n",
       "    Description:                        Spectrophotometer: OPTAA Series J\n",
       "    FirmwareVersion:                    Not specified.\n",
       "    Manufacturer:                       WET Labs\n",
       "    ...                                 ...\n",
       "    time_coverage_resolution:           P1.57S\n",
       "    time_coverage_start:                2019-06-24T16:55:43.774000\n",
       "    title:                              Data produced by Stream Engine versio...\n",
       "    uuid:                               62529081-0c5a-42f1-a139-b717249fdf1e\n",
       "    number_of_output_wavelengths:       86\n",
       "    interpolation_step:                 1"
      ],
      "text/html": [
       "<div><svg style=\"position: absolute; width: 0; height: 0; overflow: hidden\">\n",
       "<defs>\n",
       "<symbol id=\"icon-database\" viewBox=\"0 0 32 32\">\n",
       "<path d=\"M16 0c-8.837 0-16 2.239-16 5v4c0 2.761 7.163 5 16 5s16-2.239 16-5v-4c0-2.761-7.163-5-16-5z\"></path>\n",
       "<path d=\"M16 17c-8.837 0-16-2.239-16-5v6c0 2.761 7.163 5 16 5s16-2.239 16-5v-6c0 2.761-7.163 5-16 5z\"></path>\n",
       "<path d=\"M16 26c-8.837 0-16-2.239-16-5v6c0 2.761 7.163 5 16 5s16-2.239 16-5v-6c0 2.761-7.163 5-16 5z\"></path>\n",
       "</symbol>\n",
       "<symbol id=\"icon-file-text2\" viewBox=\"0 0 32 32\">\n",
       "<path d=\"M28.681 7.159c-0.694-0.947-1.662-2.053-2.724-3.116s-2.169-2.030-3.116-2.724c-1.612-1.182-2.393-1.319-2.841-1.319h-15.5c-1.378 0-2.5 1.121-2.5 2.5v27c0 1.378 1.122 2.5 2.5 2.5h23c1.378 0 2.5-1.122 2.5-2.5v-19.5c0-0.448-0.137-1.23-1.319-2.841zM24.543 5.457c0.959 0.959 1.712 1.825 2.268 2.543h-4.811v-4.811c0.718 0.556 1.584 1.309 2.543 2.268zM28 29.5c0 0.271-0.229 0.5-0.5 0.5h-23c-0.271 0-0.5-0.229-0.5-0.5v-27c0-0.271 0.229-0.5 0.5-0.5 0 0 15.499-0 15.5 0v7c0 0.552 0.448 1 1 1h7v19.5z\"></path>\n",
       "<path d=\"M23 26h-14c-0.552 0-1-0.448-1-1s0.448-1 1-1h14c0.552 0 1 0.448 1 1s-0.448 1-1 1z\"></path>\n",
       "<path d=\"M23 22h-14c-0.552 0-1-0.448-1-1s0.448-1 1-1h14c0.552 0 1 0.448 1 1s-0.448 1-1 1z\"></path>\n",
       "<path d=\"M23 18h-14c-0.552 0-1-0.448-1-1s0.448-1 1-1h14c0.552 0 1 0.448 1 1s-0.448 1-1 1z\"></path>\n",
       "</symbol>\n",
       "</defs>\n",
       "</svg>\n",
       "<style>/* CSS stylesheet for displaying xarray objects in jupyterlab.\n",
       " *\n",
       " */\n",
       "\n",
       ":root {\n",
       "  --xr-font-color0: var(--jp-content-font-color0, rgba(0, 0, 0, 1));\n",
       "  --xr-font-color2: var(--jp-content-font-color2, rgba(0, 0, 0, 0.54));\n",
       "  --xr-font-color3: var(--jp-content-font-color3, rgba(0, 0, 0, 0.38));\n",
       "  --xr-border-color: var(--jp-border-color2, #e0e0e0);\n",
       "  --xr-disabled-color: var(--jp-layout-color3, #bdbdbd);\n",
       "  --xr-background-color: var(--jp-layout-color0, white);\n",
       "  --xr-background-color-row-even: var(--jp-layout-color1, white);\n",
       "  --xr-background-color-row-odd: var(--jp-layout-color2, #eeeeee);\n",
       "}\n",
       "\n",
       "html[theme=\"dark\"],\n",
       "html[data-theme=\"dark\"],\n",
       "body[data-theme=\"dark\"],\n",
       "body.vscode-dark {\n",
       "  --xr-font-color0: rgba(255, 255, 255, 1);\n",
       "  --xr-font-color2: rgba(255, 255, 255, 0.54);\n",
       "  --xr-font-color3: rgba(255, 255, 255, 0.38);\n",
       "  --xr-border-color: #1f1f1f;\n",
       "  --xr-disabled-color: #515151;\n",
       "  --xr-background-color: #111111;\n",
       "  --xr-background-color-row-even: #111111;\n",
       "  --xr-background-color-row-odd: #313131;\n",
       "}\n",
       "\n",
       ".xr-wrap {\n",
       "  display: block !important;\n",
       "  min-width: 300px;\n",
       "  max-width: 700px;\n",
       "}\n",
       "\n",
       ".xr-text-repr-fallback {\n",
       "  /* fallback to plain text repr when CSS is not injected (untrusted notebook) */\n",
       "  display: none;\n",
       "}\n",
       "\n",
       ".xr-header {\n",
       "  padding-top: 6px;\n",
       "  padding-bottom: 6px;\n",
       "  margin-bottom: 4px;\n",
       "  border-bottom: solid 1px var(--xr-border-color);\n",
       "}\n",
       "\n",
       ".xr-header > div,\n",
       ".xr-header > ul {\n",
       "  display: inline;\n",
       "  margin-top: 0;\n",
       "  margin-bottom: 0;\n",
       "}\n",
       "\n",
       ".xr-obj-type,\n",
       ".xr-array-name {\n",
       "  margin-left: 2px;\n",
       "  margin-right: 10px;\n",
       "}\n",
       "\n",
       ".xr-obj-type {\n",
       "  color: var(--xr-font-color2);\n",
       "}\n",
       "\n",
       ".xr-sections {\n",
       "  padding-left: 0 !important;\n",
       "  display: grid;\n",
       "  grid-template-columns: 150px auto auto 1fr 0 20px 0 20px;\n",
       "}\n",
       "\n",
       ".xr-section-item {\n",
       "  display: contents;\n",
       "}\n",
       "\n",
       ".xr-section-item input {\n",
       "  display: inline-block;\n",
       "  opacity: 0;\n",
       "  height: 0;\n",
       "}\n",
       "\n",
       ".xr-section-item input + label {\n",
       "  color: var(--xr-disabled-color);\n",
       "}\n",
       "\n",
       ".xr-section-item input:enabled + label {\n",
       "  cursor: pointer;\n",
       "  color: var(--xr-font-color2);\n",
       "}\n",
       "\n",
       ".xr-section-item input:focus + label {\n",
       "  border: 2px solid var(--xr-font-color0);\n",
       "}\n",
       "\n",
       ".xr-section-item input:enabled + label:hover {\n",
       "  color: var(--xr-font-color0);\n",
       "}\n",
       "\n",
       ".xr-section-summary {\n",
       "  grid-column: 1;\n",
       "  color: var(--xr-font-color2);\n",
       "  font-weight: 500;\n",
       "}\n",
       "\n",
       ".xr-section-summary > span {\n",
       "  display: inline-block;\n",
       "  padding-left: 0.5em;\n",
       "}\n",
       "\n",
       ".xr-section-summary-in:disabled + label {\n",
       "  color: var(--xr-font-color2);\n",
       "}\n",
       "\n",
       ".xr-section-summary-in + label:before {\n",
       "  display: inline-block;\n",
       "  content: \"►\";\n",
       "  font-size: 11px;\n",
       "  width: 15px;\n",
       "  text-align: center;\n",
       "}\n",
       "\n",
       ".xr-section-summary-in:disabled + label:before {\n",
       "  color: var(--xr-disabled-color);\n",
       "}\n",
       "\n",
       ".xr-section-summary-in:checked + label:before {\n",
       "  content: \"▼\";\n",
       "}\n",
       "\n",
       ".xr-section-summary-in:checked + label > span {\n",
       "  display: none;\n",
       "}\n",
       "\n",
       ".xr-section-summary,\n",
       ".xr-section-inline-details {\n",
       "  padding-top: 4px;\n",
       "  padding-bottom: 4px;\n",
       "}\n",
       "\n",
       ".xr-section-inline-details {\n",
       "  grid-column: 2 / -1;\n",
       "}\n",
       "\n",
       ".xr-section-details {\n",
       "  display: none;\n",
       "  grid-column: 1 / -1;\n",
       "  margin-bottom: 5px;\n",
       "}\n",
       "\n",
       ".xr-section-summary-in:checked ~ .xr-section-details {\n",
       "  display: contents;\n",
       "}\n",
       "\n",
       ".xr-array-wrap {\n",
       "  grid-column: 1 / -1;\n",
       "  display: grid;\n",
       "  grid-template-columns: 20px auto;\n",
       "}\n",
       "\n",
       ".xr-array-wrap > label {\n",
       "  grid-column: 1;\n",
       "  vertical-align: top;\n",
       "}\n",
       "\n",
       ".xr-preview {\n",
       "  color: var(--xr-font-color3);\n",
       "}\n",
       "\n",
       ".xr-array-preview,\n",
       ".xr-array-data {\n",
       "  padding: 0 5px !important;\n",
       "  grid-column: 2;\n",
       "}\n",
       "\n",
       ".xr-array-data,\n",
       ".xr-array-in:checked ~ .xr-array-preview {\n",
       "  display: none;\n",
       "}\n",
       "\n",
       ".xr-array-in:checked ~ .xr-array-data,\n",
       ".xr-array-preview {\n",
       "  display: inline-block;\n",
       "}\n",
       "\n",
       ".xr-dim-list {\n",
       "  display: inline-block !important;\n",
       "  list-style: none;\n",
       "  padding: 0 !important;\n",
       "  margin: 0;\n",
       "}\n",
       "\n",
       ".xr-dim-list li {\n",
       "  display: inline-block;\n",
       "  padding: 0;\n",
       "  margin: 0;\n",
       "}\n",
       "\n",
       ".xr-dim-list:before {\n",
       "  content: \"(\";\n",
       "}\n",
       "\n",
       ".xr-dim-list:after {\n",
       "  content: \")\";\n",
       "}\n",
       "\n",
       ".xr-dim-list li:not(:last-child):after {\n",
       "  content: \",\";\n",
       "  padding-right: 5px;\n",
       "}\n",
       "\n",
       ".xr-has-index {\n",
       "  font-weight: bold;\n",
       "}\n",
       "\n",
       ".xr-var-list,\n",
       ".xr-var-item {\n",
       "  display: contents;\n",
       "}\n",
       "\n",
       ".xr-var-item > div,\n",
       ".xr-var-item label,\n",
       ".xr-var-item > .xr-var-name span {\n",
       "  background-color: var(--xr-background-color-row-even);\n",
       "  margin-bottom: 0;\n",
       "}\n",
       "\n",
       ".xr-var-item > .xr-var-name:hover span {\n",
       "  padding-right: 5px;\n",
       "}\n",
       "\n",
       ".xr-var-list > li:nth-child(odd) > div,\n",
       ".xr-var-list > li:nth-child(odd) > label,\n",
       ".xr-var-list > li:nth-child(odd) > .xr-var-name span {\n",
       "  background-color: var(--xr-background-color-row-odd);\n",
       "}\n",
       "\n",
       ".xr-var-name {\n",
       "  grid-column: 1;\n",
       "}\n",
       "\n",
       ".xr-var-dims {\n",
       "  grid-column: 2;\n",
       "}\n",
       "\n",
       ".xr-var-dtype {\n",
       "  grid-column: 3;\n",
       "  text-align: right;\n",
       "  color: var(--xr-font-color2);\n",
       "}\n",
       "\n",
       ".xr-var-preview {\n",
       "  grid-column: 4;\n",
       "}\n",
       "\n",
       ".xr-index-preview {\n",
       "  grid-column: 2 / 5;\n",
       "  color: var(--xr-font-color2);\n",
       "}\n",
       "\n",
       ".xr-var-name,\n",
       ".xr-var-dims,\n",
       ".xr-var-dtype,\n",
       ".xr-preview,\n",
       ".xr-attrs dt {\n",
       "  white-space: nowrap;\n",
       "  overflow: hidden;\n",
       "  text-overflow: ellipsis;\n",
       "  padding-right: 10px;\n",
       "}\n",
       "\n",
       ".xr-var-name:hover,\n",
       ".xr-var-dims:hover,\n",
       ".xr-var-dtype:hover,\n",
       ".xr-attrs dt:hover {\n",
       "  overflow: visible;\n",
       "  width: auto;\n",
       "  z-index: 1;\n",
       "}\n",
       "\n",
       ".xr-var-attrs,\n",
       ".xr-var-data,\n",
       ".xr-index-data {\n",
       "  display: none;\n",
       "  background-color: var(--xr-background-color) !important;\n",
       "  padding-bottom: 5px !important;\n",
       "}\n",
       "\n",
       ".xr-var-attrs-in:checked ~ .xr-var-attrs,\n",
       ".xr-var-data-in:checked ~ .xr-var-data,\n",
       ".xr-index-data-in:checked ~ .xr-index-data {\n",
       "  display: block;\n",
       "}\n",
       "\n",
       ".xr-var-data > table {\n",
       "  float: right;\n",
       "}\n",
       "\n",
       ".xr-var-name span,\n",
       ".xr-var-data,\n",
       ".xr-index-name div,\n",
       ".xr-index-data,\n",
       ".xr-attrs {\n",
       "  padding-left: 25px !important;\n",
       "}\n",
       "\n",
       ".xr-attrs,\n",
       ".xr-var-attrs,\n",
       ".xr-var-data,\n",
       ".xr-index-data {\n",
       "  grid-column: 1 / -1;\n",
       "}\n",
       "\n",
       "dl.xr-attrs {\n",
       "  padding: 0;\n",
       "  margin: 0;\n",
       "  display: grid;\n",
       "  grid-template-columns: 125px auto;\n",
       "}\n",
       "\n",
       ".xr-attrs dt,\n",
       ".xr-attrs dd {\n",
       "  padding: 0;\n",
       "  margin: 0;\n",
       "  float: left;\n",
       "  padding-right: 10px;\n",
       "  width: auto;\n",
       "}\n",
       "\n",
       ".xr-attrs dt {\n",
       "  font-weight: normal;\n",
       "  grid-column: 1;\n",
       "}\n",
       "\n",
       ".xr-attrs dt:hover span {\n",
       "  display: inline-block;\n",
       "  background: var(--xr-background-color);\n",
       "  padding-right: 10px;\n",
       "}\n",
       "\n",
       ".xr-attrs dd {\n",
       "  grid-column: 2;\n",
       "  white-space: pre-wrap;\n",
       "  word-break: break-all;\n",
       "}\n",
       "\n",
       ".xr-icon-database,\n",
       ".xr-icon-file-text2,\n",
       ".xr-no-icon {\n",
       "  display: inline-block;\n",
       "  vertical-align: middle;\n",
       "  width: 1em;\n",
       "  height: 1.5em !important;\n",
       "  stroke-width: 0;\n",
       "  stroke: currentColor;\n",
       "  fill: currentColor;\n",
       "}\n",
       "</style><pre class='xr-text-repr-fallback'>&lt;xarray.Dataset&gt; Size: 5GB\n",
       "Dimensions:                             (time: 118140, wavelength: 344)\n",
       "Coordinates:\n",
       "    latitude                            float64 8B 44.63\n",
       "    longitude                           float64 8B -123.7\n",
       "    deployment                          int32 4B 13\n",
       "    depth                               (time) float64 945kB 76.8 76.8 ... 0.736\n",
       "  * time                                (time) datetime64[ns] 945kB 2019-06-2...\n",
       "  * wavelength                          (wavelength) float64 3kB 402.0 ... 745.0\n",
       "Data variables: (12/34)\n",
       "    a_reference                         (time, wavelength) float64 325MB 624....\n",
       "    a_reference_dark                    (time) float32 473kB 473.0 ... 471.0\n",
       "    a_signal                            (time, wavelength) float64 325MB 484....\n",
       "    a_signal_dark                       (time) float32 473kB 709.0 ... 712.0\n",
       "    c_reference                         (time, wavelength) float64 325MB 687....\n",
       "    c_reference_dark                    (time) float32 473kB 476.0 ... 475.0\n",
       "    ...                                  ...\n",
       "    a_mts_baseline                      (time, wavelength) float64 325MB 0.12...\n",
       "    a_mts_proportional                  (time, wavelength) float64 325MB 0.11...\n",
       "    flag_elapsed_time                   (time) float32 473kB 3.0 3.0 ... 1.0 1.0\n",
       "    flag_internal_temperature           (time) float64 945kB 1.0 1.0 ... 1.0 1.0\n",
       "    flag_a_uncorrected_inf_nan          (time) float64 945kB 1.0 1.0 ... 1.0 1.0\n",
       "    flag_c_uncorrected_inf_nan          (time) float64 945kB 1.0 1.0 ... 1.0 1.0\n",
       "Attributes: (12/60)\n",
       "    AssetManagementRecordLastModified:  2023-06-02T18:55:55.111000\n",
       "    AssetUniqueID:                      CGINS-OPTAAJ-00138\n",
       "    Conventions:                        CF-1.6\n",
       "    Description:                        Spectrophotometer: OPTAA Series J\n",
       "    FirmwareVersion:                    Not specified.\n",
       "    Manufacturer:                       WET Labs\n",
       "    ...                                 ...\n",
       "    time_coverage_resolution:           P1.57S\n",
       "    time_coverage_start:                2019-06-24T16:55:43.774000\n",
       "    title:                              Data produced by Stream Engine versio...\n",
       "    uuid:                               62529081-0c5a-42f1-a139-b717249fdf1e\n",
       "    number_of_output_wavelengths:       86\n",
       "    interpolation_step:                 1</pre><div class='xr-wrap' style='display:none'><div class='xr-header'><div class='xr-obj-type'>xarray.Dataset</div></div><ul class='xr-sections'><li class='xr-section-item'><input id='section-413ffebf-c972-4cc3-89f9-bcc6b2974322' class='xr-section-summary-in' type='checkbox' disabled ><label for='section-413ffebf-c972-4cc3-89f9-bcc6b2974322' class='xr-section-summary'  title='Expand/collapse section'>Dimensions:</label><div class='xr-section-inline-details'><ul class='xr-dim-list'><li><span class='xr-has-index'>time</span>: 118140</li><li><span class='xr-has-index'>wavelength</span>: 344</li></ul></div><div class='xr-section-details'></div></li><li class='xr-section-item'><input id='section-aaabc25b-e703-4610-a9be-21ff3ba54cf6' class='xr-section-summary-in' type='checkbox'  checked><label for='section-aaabc25b-e703-4610-a9be-21ff3ba54cf6' class='xr-section-summary' >Coordinates: <span>(6)</span></label><div class='xr-section-inline-details'></div><div class='xr-section-details'><ul class='xr-var-list'><li class='xr-var-item'><div class='xr-var-name'><span>latitude</span></div><div class='xr-var-dims'>()</div><div class='xr-var-dtype'>float64</div><div class='xr-var-preview xr-preview'>44.63</div><input id='attrs-9452c75d-688c-4d0f-8474-b52b359313b5' class='xr-var-attrs-in' type='checkbox' disabled><label for='attrs-9452c75d-688c-4d0f-8474-b52b359313b5' title='Show/Hide attributes'><svg class='icon xr-icon-file-text2'><use xlink:href='#icon-file-text2'></use></svg></label><input id='data-7a73983f-2278-4339-a79f-5bf97ee5e4e7' class='xr-var-data-in' type='checkbox'><label for='data-7a73983f-2278-4339-a79f-5bf97ee5e4e7' title='Show/Hide data repr'><svg class='icon xr-icon-database'><use xlink:href='#icon-database'></use></svg></label><div class='xr-var-attrs'><dl class='xr-attrs'></dl></div><div class='xr-var-data'><pre>array(44.63455)</pre></div></li><li class='xr-var-item'><div class='xr-var-name'><span>longitude</span></div><div class='xr-var-dims'>()</div><div class='xr-var-dtype'>float64</div><div class='xr-var-preview xr-preview'>-123.7</div><input id='attrs-410930a3-6ae7-45c2-8e85-22fc4fd57870' class='xr-var-attrs-in' type='checkbox' disabled><label for='attrs-410930a3-6ae7-45c2-8e85-22fc4fd57870' title='Show/Hide attributes'><svg class='icon xr-icon-file-text2'><use xlink:href='#icon-file-text2'></use></svg></label><input id='data-20bf10b6-f979-425b-9aad-732f4fce0c2b' class='xr-var-data-in' type='checkbox'><label for='data-20bf10b6-f979-425b-9aad-732f4fce0c2b' title='Show/Hide data repr'><svg class='icon xr-icon-database'><use xlink:href='#icon-database'></use></svg></label><div class='xr-var-attrs'><dl class='xr-attrs'></dl></div><div class='xr-var-data'><pre>array(-123.69743)</pre></div></li><li class='xr-var-item'><div class='xr-var-name'><span>deployment</span></div><div class='xr-var-dims'>()</div><div class='xr-var-dtype'>int32</div><div class='xr-var-preview xr-preview'>13</div><input id='attrs-44a767a8-7ad5-4609-8c9b-dc6202dcdbef' class='xr-var-attrs-in' type='checkbox' disabled><label for='attrs-44a767a8-7ad5-4609-8c9b-dc6202dcdbef' title='Show/Hide attributes'><svg class='icon xr-icon-file-text2'><use xlink:href='#icon-file-text2'></use></svg></label><input id='data-9feef9d5-358c-49f5-bf54-887fca9bd131' class='xr-var-data-in' type='checkbox'><label for='data-9feef9d5-358c-49f5-bf54-887fca9bd131' title='Show/Hide data repr'><svg class='icon xr-icon-database'><use xlink:href='#icon-database'></use></svg></label><div class='xr-var-attrs'><dl class='xr-attrs'></dl></div><div class='xr-var-data'><pre>array(13, dtype=int32)</pre></div></li><li class='xr-var-item'><div class='xr-var-name'><span>depth</span></div><div class='xr-var-dims'>(time)</div><div class='xr-var-dtype'>float64</div><div class='xr-var-preview xr-preview'>76.8 76.8 76.8 ... 0.7938 0.736</div><input id='attrs-65c66634-535a-4e97-8817-e8c871fffd60' class='xr-var-attrs-in' type='checkbox' ><label for='attrs-65c66634-535a-4e97-8817-e8c871fffd60' title='Show/Hide attributes'><svg class='icon xr-icon-file-text2'><use xlink:href='#icon-file-text2'></use></svg></label><input id='data-0d7acad1-5700-4f93-96e2-2bb257b1bbd6' class='xr-var-data-in' type='checkbox'><label for='data-0d7acad1-5700-4f93-96e2-2bb257b1bbd6' title='Show/Hide data repr'><svg class='icon xr-icon-database'><use xlink:href='#icon-database'></use></svg></label><div class='xr-var-attrs'><dl class='xr-attrs'><dt><span>comment :</span></dt><dd>Depth (m) calculated from pressure (dbar) and latitude.</dd><dt><span>long_name :</span></dt><dd>Depth calculated from pressure</dd><dt><span>units :</span></dt><dd>m</dd><dt><span>precision :</span></dt><dd>3</dd><dt><span>instrument :</span></dt><dd>CE02SHSP-SP001-08-CTDPFJ000</dd><dt><span>stream :</span></dt><dd>ctdpf_j_cspp_instrument_recovered</dd><dt><span>axis :</span></dt><dd>Z</dd></dl></div><div class='xr-var-data'><pre>array([76.79731537, 76.79767896, 76.79887468, ...,  0.85430689,\n",
       "        0.79376867,  0.73604876], shape=(118140,))</pre></div></li><li class='xr-var-item'><div class='xr-var-name'><span class='xr-has-index'>time</span></div><div class='xr-var-dims'>(time)</div><div class='xr-var-dtype'>datetime64[ns]</div><div class='xr-var-preview xr-preview'>2019-06-24T16:55:43.774000128 .....</div><input id='attrs-97a8eb57-4c27-4e4f-86db-f687e0e0f3d4' class='xr-var-attrs-in' type='checkbox' disabled><label for='attrs-97a8eb57-4c27-4e4f-86db-f687e0e0f3d4' title='Show/Hide attributes'><svg class='icon xr-icon-file-text2'><use xlink:href='#icon-file-text2'></use></svg></label><input id='data-1656787c-82b0-4e10-aa14-66a033bc8f8c' class='xr-var-data-in' type='checkbox'><label for='data-1656787c-82b0-4e10-aa14-66a033bc8f8c' title='Show/Hide data repr'><svg class='icon xr-icon-database'><use xlink:href='#icon-database'></use></svg></label><div class='xr-var-attrs'><dl class='xr-attrs'></dl></div><div class='xr-var-data'><pre>array([&#x27;2019-06-24T16:55:43.774000128&#x27;, &#x27;2019-06-24T16:55:44.024999936&#x27;,\n",
       "       &#x27;2019-06-24T16:55:44.275000320&#x27;, ..., &#x27;2019-06-27T02:39:24.084000256&#x27;,\n",
       "       &#x27;2019-06-27T02:39:24.333000192&#x27;, &#x27;2019-06-27T02:39:24.583000064&#x27;],\n",
       "      shape=(118140,), dtype=&#x27;datetime64[ns]&#x27;)</pre></div></li><li class='xr-var-item'><div class='xr-var-name'><span class='xr-has-index'>wavelength</span></div><div class='xr-var-dims'>(wavelength)</div><div class='xr-var-dtype'>float64</div><div class='xr-var-preview xr-preview'>402.0 403.0 404.0 ... 744.0 745.0</div><input id='attrs-1a4d31e3-f8da-4010-9eae-0adbaba86878' class='xr-var-attrs-in' type='checkbox' disabled><label for='attrs-1a4d31e3-f8da-4010-9eae-0adbaba86878' title='Show/Hide attributes'><svg class='icon xr-icon-file-text2'><use xlink:href='#icon-file-text2'></use></svg></label><input id='data-f3ca3a53-e97d-4543-8710-358f23b2eb5d' class='xr-var-data-in' type='checkbox'><label for='data-f3ca3a53-e97d-4543-8710-358f23b2eb5d' title='Show/Hide data repr'><svg class='icon xr-icon-database'><use xlink:href='#icon-database'></use></svg></label><div class='xr-var-attrs'><dl class='xr-attrs'></dl></div><div class='xr-var-data'><pre>array([402., 403., 404., ..., 743., 744., 745.], shape=(344,))</pre></div></li></ul></div></li><li class='xr-section-item'><input id='section-31c78f74-d8c8-4d5d-b1de-e89d10f7f4ac' class='xr-section-summary-in' type='checkbox'  ><label for='section-31c78f74-d8c8-4d5d-b1de-e89d10f7f4ac' class='xr-section-summary' >Data variables: <span>(34)</span></label><div class='xr-section-inline-details'></div><div class='xr-section-details'><ul class='xr-var-list'><li class='xr-var-item'><div class='xr-var-name'><span>a_reference</span></div><div class='xr-var-dims'>(time, wavelength)</div><div class='xr-var-dtype'>float64</div><div class='xr-var-preview xr-preview'>624.5 650.2 ... 5.703e+03 5.563e+03</div><input id='attrs-b58805d0-afc8-4152-8e9d-6ba80a0ce064' class='xr-var-attrs-in' type='checkbox' ><label for='attrs-b58805d0-afc8-4152-8e9d-6ba80a0ce064' title='Show/Hide attributes'><svg class='icon xr-icon-file-text2'><use xlink:href='#icon-file-text2'></use></svg></label><input id='data-1336e1c3-7951-403c-bf53-cf9bf82e7b83' class='xr-var-data-in' type='checkbox'><label for='data-1336e1c3-7951-403c-bf53-cf9bf82e7b83' title='Show/Hide data repr'><svg class='icon xr-icon-database'><use xlink:href='#icon-database'></use></svg></label><div class='xr-var-attrs'><dl class='xr-attrs'><dt><span>comment :</span></dt><dd>Array of raw a-channel reference counts, used to compute the Optical Absorption Coefficient data product.</dd><dt><span>long_name :</span></dt><dd>Reference Absorption</dd><dt><span>precision :</span></dt><dd>0</dd><dt><span>data_product_identifier :</span></dt><dd>OPTAREF_L0</dd><dt><span>units :</span></dt><dd>counts</dd></dl></div><div class='xr-var-data'><pre>array([[ 624.51282051,  650.15384615,  675.79487179, ..., 5880.97222222,\n",
       "        5743.93939394, 5601.81818182],\n",
       "       [ 625.69230769,  650.30769231,  674.92307692, ..., 5879.55555556,\n",
       "        5742.93939394, 5600.81818182],\n",
       "       [ 626.69230769,  651.30769231,  675.92307692, ..., 5878.38888889,\n",
       "        5741.54545455, 5600.63636364],\n",
       "       ...,\n",
       "       [ 610.66666667,  634.        ,  657.33333333, ..., 5826.83333333,\n",
       "        5691.60606061, 5552.81818182],\n",
       "       [ 612.07692308,  635.92307692,  659.76923077, ..., 5834.55555556,\n",
       "        5699.        , 5559.        ],\n",
       "       [ 612.07692308,  635.92307692,  659.76923077, ..., 5838.41666667,\n",
       "        5702.84848485, 5562.54545455]], shape=(118140, 344))</pre></div></li><li class='xr-var-item'><div class='xr-var-name'><span>a_reference_dark</span></div><div class='xr-var-dims'>(time)</div><div class='xr-var-dtype'>float32</div><div class='xr-var-preview xr-preview'>473.0 473.0 472.0 ... 471.0 471.0</div><input id='attrs-c7932e1c-f5bc-4f46-a2cd-673b188e384d' class='xr-var-attrs-in' type='checkbox' ><label for='attrs-c7932e1c-f5bc-4f46-a2cd-673b188e384d' title='Show/Hide attributes'><svg class='icon xr-icon-file-text2'><use xlink:href='#icon-file-text2'></use></svg></label><input id='data-1857ef03-ea7d-446c-9633-ca0d0746d452' class='xr-var-data-in' type='checkbox'><label for='data-1857ef03-ea7d-446c-9633-ca0d0746d452' title='Show/Hide data repr'><svg class='icon xr-icon-database'><use xlink:href='#icon-database'></use></svg></label><div class='xr-var-attrs'><dl class='xr-attrs'><dt><span>comment :</span></dt><dd>A-channel reference dark counts, used for diagnostic purposes</dd><dt><span>precision :</span></dt><dd>0</dd><dt><span>long_name :</span></dt><dd>Absorption Dark Reference</dd><dt><span>units :</span></dt><dd>counts</dd></dl></div><div class='xr-var-data'><pre>array([473., 473., 472., ..., 471., 471., 471.],\n",
       "      shape=(118140,), dtype=float32)</pre></div></li><li class='xr-var-item'><div class='xr-var-name'><span>a_signal</span></div><div class='xr-var-dims'>(time, wavelength)</div><div class='xr-var-dtype'>float64</div><div class='xr-var-preview xr-preview'>484.8 513.2 ... 4.299e+03 4.174e+03</div><input id='attrs-078cf79a-3ee4-42f1-abd4-881b9dc39ddb' class='xr-var-attrs-in' type='checkbox' ><label for='attrs-078cf79a-3ee4-42f1-abd4-881b9dc39ddb' title='Show/Hide attributes'><svg class='icon xr-icon-file-text2'><use xlink:href='#icon-file-text2'></use></svg></label><input id='data-f26228cb-a0e1-475f-9fef-60c7abf2ade0' class='xr-var-data-in' type='checkbox'><label for='data-f26228cb-a0e1-475f-9fef-60c7abf2ade0' title='Show/Hide data repr'><svg class='icon xr-icon-database'><use xlink:href='#icon-database'></use></svg></label><div class='xr-var-attrs'><dl class='xr-attrs'><dt><span>comment :</span></dt><dd>Array of raw a-channel signal counts. This is the uncorrected absorption measurement.</dd><dt><span>long_name :</span></dt><dd>Signal Absorption</dd><dt><span>precision :</span></dt><dd>0</dd><dt><span>data_product_identifier :</span></dt><dd>OPTASIG_L0</dd><dt><span>units :</span></dt><dd>counts</dd></dl></div><div class='xr-var-data'><pre>array([[ 484.76923077,  513.23076923,  541.69230769, ..., 4578.72222222,\n",
       "        4443.39393939, 4312.18181818],\n",
       "       [ 486.15384615,  513.84615385,  541.53846154, ..., 4578.88888889,\n",
       "        4444.24242424, 4312.72727273],\n",
       "       [ 485.15384615,  512.84615385,  540.53846154, ..., 4573.44444444,\n",
       "        4438.6969697 , 4308.09090909],\n",
       "       ...,\n",
       "       [ 463.92307692,  490.07692308,  516.23076923, ..., 4420.80555556,\n",
       "        4292.18181818, 4168.54545455],\n",
       "       [ 462.53846154,  489.46153846,  516.38461538, ..., 4421.80555556,\n",
       "        4293.18181818, 4169.54545455],\n",
       "       [ 462.74358974,  489.92307692,  517.1025641 , ..., 4427.66666667,\n",
       "        4298.72727273, 4174.18181818]], shape=(118140, 344))</pre></div></li><li class='xr-var-item'><div class='xr-var-name'><span>a_signal_dark</span></div><div class='xr-var-dims'>(time)</div><div class='xr-var-dtype'>float32</div><div class='xr-var-preview xr-preview'>709.0 709.0 709.0 ... 712.0 712.0</div><input id='attrs-94eaac62-724e-42d2-8a5f-793a1ed58f8e' class='xr-var-attrs-in' type='checkbox' ><label for='attrs-94eaac62-724e-42d2-8a5f-793a1ed58f8e' title='Show/Hide attributes'><svg class='icon xr-icon-file-text2'><use xlink:href='#icon-file-text2'></use></svg></label><input id='data-a7cd21dd-b3a3-451a-a374-9094c588e53c' class='xr-var-data-in' type='checkbox'><label for='data-a7cd21dd-b3a3-451a-a374-9094c588e53c' title='Show/Hide data repr'><svg class='icon xr-icon-database'><use xlink:href='#icon-database'></use></svg></label><div class='xr-var-attrs'><dl class='xr-attrs'><dt><span>comment :</span></dt><dd>A-signal reference dark counts, used for diagnostic purposes</dd><dt><span>precision :</span></dt><dd>0</dd><dt><span>long_name :</span></dt><dd>Absorption Dark Signal</dd><dt><span>units :</span></dt><dd>counts</dd></dl></div><div class='xr-var-data'><pre>array([709., 709., 709., ..., 712., 712., 712.],\n",
       "      shape=(118140,), dtype=float32)</pre></div></li><li class='xr-var-item'><div class='xr-var-name'><span>c_reference</span></div><div class='xr-var-dims'>(time, wavelength)</div><div class='xr-var-dtype'>float64</div><div class='xr-var-preview xr-preview'>687.9 716.3 ... 6.347e+03 6.198e+03</div><input id='attrs-d8c6bfcd-b59d-40aa-ba30-242d1cc7b2bf' class='xr-var-attrs-in' type='checkbox' ><label for='attrs-d8c6bfcd-b59d-40aa-ba30-242d1cc7b2bf' title='Show/Hide attributes'><svg class='icon xr-icon-file-text2'><use xlink:href='#icon-file-text2'></use></svg></label><input id='data-2ba6958c-36d9-403d-83dc-6ab5417902fd' class='xr-var-data-in' type='checkbox'><label for='data-2ba6958c-36d9-403d-83dc-6ab5417902fd' title='Show/Hide data repr'><svg class='icon xr-icon-database'><use xlink:href='#icon-database'></use></svg></label><div class='xr-var-attrs'><dl class='xr-attrs'><dt><span>comment :</span></dt><dd>Array of raw c-channel reference counts, used to compute the Optical Beam Attenuation Coefficient data product.</dd><dt><span>long_name :</span></dt><dd>Reference Beam Attenuation</dd><dt><span>precision :</span></dt><dd>0</dd><dt><span>data_product_identifier :</span></dt><dd>OPTCREF_L0</dd><dt><span>units :</span></dt><dd>counts</dd></dl></div><div class='xr-var-data'><pre>array([[ 687.89473684,  716.31578947,  747.77777778, ..., 6567.02857143,\n",
       "        6417.31428571, 6267.6       ],\n",
       "       [ 688.21052632,  716.36842105,  747.55555556, ..., 6571.71428571,\n",
       "        6418.85714286, 6266.        ],\n",
       "       [ 687.89473684,  716.31578947,  747.77777778, ..., 6567.97142857,\n",
       "        6417.68571429, 6267.4       ],\n",
       "       ...,\n",
       "       [ 674.84210526,  702.47368421,  733.11111111, ..., 6493.05714286,\n",
       "        6343.62857143, 6194.2       ],\n",
       "       [ 673.84210526,  701.47368421,  732.55555556, ..., 6496.02857143,\n",
       "        6346.31428571, 6196.6       ],\n",
       "       [ 674.15789474,  701.52631579,  732.77777778, ..., 6497.02857143,\n",
       "        6347.31428571, 6197.6       ]], shape=(118140, 344))</pre></div></li><li class='xr-var-item'><div class='xr-var-name'><span>c_reference_dark</span></div><div class='xr-var-dims'>(time)</div><div class='xr-var-dtype'>float32</div><div class='xr-var-preview xr-preview'>476.0 476.0 476.0 ... 475.0 475.0</div><input id='attrs-76fa5fed-771d-4a5d-ac93-bc2642cf2486' class='xr-var-attrs-in' type='checkbox' ><label for='attrs-76fa5fed-771d-4a5d-ac93-bc2642cf2486' title='Show/Hide attributes'><svg class='icon xr-icon-file-text2'><use xlink:href='#icon-file-text2'></use></svg></label><input id='data-d185d853-9d9b-4f39-9e85-8a385dde5783' class='xr-var-data-in' type='checkbox'><label for='data-d185d853-9d9b-4f39-9e85-8a385dde5783' title='Show/Hide data repr'><svg class='icon xr-icon-database'><use xlink:href='#icon-database'></use></svg></label><div class='xr-var-attrs'><dl class='xr-attrs'><dt><span>comment :</span></dt><dd>C-channel reference dark counts, used for diagnostic purposes</dd><dt><span>precision :</span></dt><dd>0</dd><dt><span>long_name :</span></dt><dd>Attenuation Dark Reference</dd><dt><span>units :</span></dt><dd>counts</dd></dl></div><div class='xr-var-data'><pre>array([476., 476., 476., ..., 475., 475., 475.],\n",
       "      shape=(118140,), dtype=float32)</pre></div></li><li class='xr-var-item'><div class='xr-var-name'><span>c_signal</span></div><div class='xr-var-dims'>(time, wavelength)</div><div class='xr-var-dtype'>float64</div><div class='xr-var-preview xr-preview'>545.6 569.3 ... 4e+03 3.886e+03</div><input id='attrs-d44a3f9f-3256-4852-9769-f7160cce9712' class='xr-var-attrs-in' type='checkbox' ><label for='attrs-d44a3f9f-3256-4852-9769-f7160cce9712' title='Show/Hide attributes'><svg class='icon xr-icon-file-text2'><use xlink:href='#icon-file-text2'></use></svg></label><input id='data-d0327acb-6e58-42c6-842a-a818eca800bf' class='xr-var-data-in' type='checkbox'><label for='data-d0327acb-6e58-42c6-842a-a818eca800bf' title='Show/Hide data repr'><svg class='icon xr-icon-database'><use xlink:href='#icon-database'></use></svg></label><div class='xr-var-attrs'><dl class='xr-attrs'><dt><span>comment :</span></dt><dd>Array of raw c-channel signal counts. This is the uncorrected beam attenuation measurement.</dd><dt><span>long_name :</span></dt><dd>Signal Beam Attenuation</dd><dt><span>precision :</span></dt><dd>0</dd><dt><span>data_product_identifier :</span></dt><dd>OPTCSIG_L0</dd><dt><span>units :</span></dt><dd>counts</dd></dl></div><div class='xr-var-data'><pre>array([[ 545.57894737,  569.26315789,  595.55555556, ..., 3505.28571429,\n",
       "        3408.14285714, 3311.        ],\n",
       "       [ 545.52631579,  568.42105263,  594.55555556, ..., 3516.17142857,\n",
       "        3417.88571429, 3319.6       ],\n",
       "       [ 545.89473684,  569.31578947,  595.55555556, ..., 3512.25714286,\n",
       "        3414.82857143, 3317.4       ],\n",
       "       ...,\n",
       "       [ 673.26315789,  702.21052632,  735.33333333, ..., 4125.51428571,\n",
       "        4010.65714286, 3895.8       ],\n",
       "       [ 673.94736842,  703.15789474,  735.66666667, ..., 4118.51428571,\n",
       "        4003.65714286, 3888.8       ],\n",
       "       [ 674.26315789,  703.21052632,  736.33333333, ..., 4113.6       ,\n",
       "        3999.6       , 3885.6       ]], shape=(118140, 344))</pre></div></li><li class='xr-var-item'><div class='xr-var-name'><span>c_signal_dark</span></div><div class='xr-var-dims'>(time)</div><div class='xr-var-dtype'>float32</div><div class='xr-var-preview xr-preview'>717.0 717.0 716.0 ... 716.0 717.0</div><input id='attrs-044b0b35-dc6a-4894-bac5-0f33377610d1' class='xr-var-attrs-in' type='checkbox' ><label for='attrs-044b0b35-dc6a-4894-bac5-0f33377610d1' title='Show/Hide attributes'><svg class='icon xr-icon-file-text2'><use xlink:href='#icon-file-text2'></use></svg></label><input id='data-ed5ba03c-2b70-4886-968f-a3a3c2744dd8' class='xr-var-data-in' type='checkbox'><label for='data-ed5ba03c-2b70-4886-968f-a3a3c2744dd8' title='Show/Hide data repr'><svg class='icon xr-icon-database'><use xlink:href='#icon-database'></use></svg></label><div class='xr-var-attrs'><dl class='xr-attrs'><dt><span>comment :</span></dt><dd>C-signal reference dark counts, used for diagnostic purposes</dd><dt><span>precision :</span></dt><dd>0</dd><dt><span>long_name :</span></dt><dd>Attenuation Dark Signal</dd><dt><span>units :</span></dt><dd>counts</dd></dl></div><div class='xr-var-data'><pre>array([717., 717., 716., ..., 716., 716., 717.],\n",
       "      shape=(118140,), dtype=float32)</pre></div></li><li class='xr-var-item'><div class='xr-var-name'><span>elapsed_time</span></div><div class='xr-var-dims'>(time)</div><div class='xr-var-dtype'>float32</div><div class='xr-var-preview xr-preview'>5.041e+04 5.066e+04 ... 2.107e+05</div><input id='attrs-86a34dec-df0a-4e61-b442-8e030c2a6290' class='xr-var-attrs-in' type='checkbox' ><label for='attrs-86a34dec-df0a-4e61-b442-8e030c2a6290' title='Show/Hide attributes'><svg class='icon xr-icon-file-text2'><use xlink:href='#icon-file-text2'></use></svg></label><input id='data-83b29389-c137-4ef5-a3af-fd1a12ecb32d' class='xr-var-data-in' type='checkbox'><label for='data-83b29389-c137-4ef5-a3af-fd1a12ecb32d' title='Show/Hide data repr'><svg class='icon xr-icon-database'><use xlink:href='#icon-database'></use></svg></label><div class='xr-var-attrs'><dl class='xr-attrs'><dt><span>units :</span></dt><dd>ms</dd></dl></div><div class='xr-var-data'><pre>array([ 50406.,  50657.,  50907., ..., 210188., 210437., 210687.],\n",
       "      shape=(118140,), dtype=float32)</pre></div></li><li class='xr-var-item'><div class='xr-var-name'><span>raw_external_temperature</span></div><div class='xr-var-dims'>(time)</div><div class='xr-var-dtype'>float32</div><div class='xr-var-preview xr-preview'>4.116e+04 4.116e+04 ... 3.889e+04</div><input id='attrs-2526677e-03ce-4cd2-8225-8f8502be6ed2' class='xr-var-attrs-in' type='checkbox' ><label for='attrs-2526677e-03ce-4cd2-8225-8f8502be6ed2' title='Show/Hide attributes'><svg class='icon xr-icon-file-text2'><use xlink:href='#icon-file-text2'></use></svg></label><input id='data-150ddfda-a23b-4c57-8ab8-e56db1731adf' class='xr-var-data-in' type='checkbox'><label for='data-150ddfda-a23b-4c57-8ab8-e56db1731adf' title='Show/Hide data repr'><svg class='icon xr-icon-database'><use xlink:href='#icon-database'></use></svg></label><div class='xr-var-attrs'><dl class='xr-attrs'><dt><span>comment :</span></dt><dd>Temperature external to the instrument measured in counts</dd><dt><span>precision :</span></dt><dd>0</dd><dt><span>long_name :</span></dt><dd>Raw External Temperature</dd><dt><span>units :</span></dt><dd>counts</dd></dl></div><div class='xr-var-data'><pre>array([41158., 41155., 41155., ..., 38946., 38920., 38892.],\n",
       "      shape=(118140,), dtype=float32)</pre></div></li><li class='xr-var-item'><div class='xr-var-name'><span>raw_internal_temperature</span></div><div class='xr-var-dims'>(time)</div><div class='xr-var-dtype'>float32</div><div class='xr-var-preview xr-preview'>5.149e+04 5.149e+04 ... 5.079e+04</div><input id='attrs-e96223b7-1430-46d4-ab6c-3cf16460ad9a' class='xr-var-attrs-in' type='checkbox' ><label for='attrs-e96223b7-1430-46d4-ab6c-3cf16460ad9a' title='Show/Hide attributes'><svg class='icon xr-icon-file-text2'><use xlink:href='#icon-file-text2'></use></svg></label><input id='data-e0eb4113-86f9-43bc-89ef-6321b42a80c1' class='xr-var-data-in' type='checkbox'><label for='data-e0eb4113-86f9-43bc-89ef-6321b42a80c1' title='Show/Hide data repr'><svg class='icon xr-icon-database'><use xlink:href='#icon-database'></use></svg></label><div class='xr-var-attrs'><dl class='xr-attrs'><dt><span>comment :</span></dt><dd>Internal Instrument Temperature of the Absorption Spectrophotometer. These data are used in the calculation of the optical absorption coefficient as changes in instrument internal temperature may alter absorption properties of the seawater.</dd><dt><span>long_name :</span></dt><dd>Internal Instrument Temperature Measurement</dd><dt><span>precision :</span></dt><dd>0</dd><dt><span>data_product_identifier :</span></dt><dd>OPTTEMP_L0</dd><dt><span>units :</span></dt><dd>counts</dd></dl></div><div class='xr-var-data'><pre>array([51489., 51488., 51483., ..., 50807., 50793., 50787.],\n",
       "      shape=(118140,), dtype=float32)</pre></div></li><li class='xr-var-item'><div class='xr-var-name'><span>sea_water_practical_salinity</span></div><div class='xr-var-dims'>(time)</div><div class='xr-var-dtype'>float64</div><div class='xr-var-preview xr-preview'>33.98 34.01 33.98 ... 31.18 31.18</div><input id='attrs-1d225aa3-4266-4920-bf91-3d8d1b89e925' class='xr-var-attrs-in' type='checkbox' ><label for='attrs-1d225aa3-4266-4920-bf91-3d8d1b89e925' title='Show/Hide attributes'><svg class='icon xr-icon-file-text2'><use xlink:href='#icon-file-text2'></use></svg></label><input id='data-5aa701c0-9290-4846-821a-263ebd1e03df' class='xr-var-data-in' type='checkbox'><label for='data-5aa701c0-9290-4846-821a-263ebd1e03df' title='Show/Hide data repr'><svg class='icon xr-icon-database'><use xlink:href='#icon-database'></use></svg></label><div class='xr-var-attrs'><dl class='xr-attrs'><dt><span>comment :</span></dt><dd>Salinity is generally defined as the concentration of dissolved salt in a parcel of seawater. Practical Salinity is a more specific unitless quantity calculated from the conductivity of seawater and adjusted for temperature and pressure. It is approximately equivalent to Absolute Salinity (the mass fraction of dissolved salt in seawater) but they are not interchangeable.</dd><dt><span>data_product_identifier :</span></dt><dd>PRACSAL_L2</dd><dt><span>precision :</span></dt><dd>3</dd><dt><span>long_name :</span></dt><dd>Practical Salinity</dd><dt><span>standard_name :</span></dt><dd>sea_water_practical_salinity</dd><dt><span>units :</span></dt><dd>1</dd><dt><span>alternate_parameter_name :</span></dt><dd>ctdpf_j_cspp_instrument_recovered-salinity</dd><dt><span>instrument :</span></dt><dd>CE02SHSP-SP001-08-CTDPFJ000</dd><dt><span>stream :</span></dt><dd>ctdpf_j_cspp_instrument_recovered</dd></dl></div><div class='xr-var-data'><pre>array([33.97606878, 34.00754816, 33.97879819, ..., 31.18486532,\n",
       "       31.18419475, 31.18386269], shape=(118140,))</pre></div></li><li class='xr-var-item'><div class='xr-var-name'><span>sea_water_pressure</span></div><div class='xr-var-dims'>(time)</div><div class='xr-var-dtype'>float64</div><div class='xr-var-preview xr-preview'>77.44 77.44 77.44 ... 0.8002 0.742</div><input id='attrs-5005cebb-687e-45f2-a22c-3c5b13a284ac' class='xr-var-attrs-in' type='checkbox' ><label for='attrs-5005cebb-687e-45f2-a22c-3c5b13a284ac' title='Show/Hide attributes'><svg class='icon xr-icon-file-text2'><use xlink:href='#icon-file-text2'></use></svg></label><input id='data-d092e278-1ac3-47b6-8df9-4e507af78dcd' class='xr-var-data-in' type='checkbox'><label for='data-d092e278-1ac3-47b6-8df9-4e507af78dcd' title='Show/Hide data repr'><svg class='icon xr-icon-database'><use xlink:href='#icon-database'></use></svg></label><div class='xr-var-attrs'><dl class='xr-attrs'><dt><span>comment :</span></dt><dd>Seawater Pressure refers to the pressure exerted on a sensor in situ by the weight of the column of seawater above it. It is calculated by subtracting one standard atmosphere from the absolute pressure at the sensor to remove the weight of the atmosphere on top of the water column. The pressure at a sensor in situ provides a metric of the depth of that sensor.</dd><dt><span>data_product_identifier :</span></dt><dd>PRESWAT_L1</dd><dt><span>precision :</span></dt><dd>3</dd><dt><span>long_name :</span></dt><dd>Seawater Pressure</dd><dt><span>standard_name :</span></dt><dd>sea_water_pressure</dd><dt><span>units :</span></dt><dd>dbar</dd></dl></div><div class='xr-var-data'><pre>array([77.43763344, 77.43800354, 77.4392092 , ...,  0.86126989,\n",
       "        0.8002381 ,  0.74204765], shape=(118140,))</pre></div></li><li class='xr-var-item'><div class='xr-var-name'><span>sea_water_temperature</span></div><div class='xr-var-dims'>(time)</div><div class='xr-var-dtype'>float64</div><div class='xr-var-preview xr-preview'>7.288 7.288 7.288 ... 15.22 15.21</div><input id='attrs-d138c880-1f64-4772-a4c4-c6ea70e7bb32' class='xr-var-attrs-in' type='checkbox' ><label for='attrs-d138c880-1f64-4772-a4c4-c6ea70e7bb32' title='Show/Hide attributes'><svg class='icon xr-icon-file-text2'><use xlink:href='#icon-file-text2'></use></svg></label><input id='data-3e6488b7-6003-4c8e-93f3-75fd45f34d52' class='xr-var-data-in' type='checkbox'><label for='data-3e6488b7-6003-4c8e-93f3-75fd45f34d52' title='Show/Hide data repr'><svg class='icon xr-icon-database'><use xlink:href='#icon-database'></use></svg></label><div class='xr-var-attrs'><dl class='xr-attrs'><dt><span>comment :</span></dt><dd>Seawater temperature near the sensor.</dd><dt><span>data_product_identifier :</span></dt><dd>TEMPWAT_L1</dd><dt><span>precision :</span></dt><dd>4</dd><dt><span>long_name :</span></dt><dd>Seawater Temperature</dd><dt><span>standard_name :</span></dt><dd>sea_water_temperature</dd><dt><span>units :</span></dt><dd>degrees_Celsius</dd><dt><span>alternate_parameter_name :</span></dt><dd>ctdpf_j_cspp_instrument_recovered-temperature</dd><dt><span>instrument :</span></dt><dd>CE02SHSP-SP001-08-CTDPFJ000</dd><dt><span>stream :</span></dt><dd>ctdpf_j_cspp_instrument_recovered</dd></dl></div><div class='xr-var-data'><pre>array([ 7.28783162,  7.2881999 ,  7.28826984, ..., 15.21738228,\n",
       "       15.21629029, 15.21211415], shape=(118140,))</pre></div></li><li class='xr-var-item'><div class='xr-var-name'><span>sea_water_absolute_salinity</span></div><div class='xr-var-dims'>(time)</div><div class='xr-var-dtype'>float64</div><div class='xr-var-preview xr-preview'>34.14 34.17 34.14 ... 31.33 31.33</div><input id='attrs-6f3cac41-f39a-4168-a14c-a7b2b147b1f4' class='xr-var-attrs-in' type='checkbox' ><label for='attrs-6f3cac41-f39a-4168-a14c-a7b2b147b1f4' title='Show/Hide attributes'><svg class='icon xr-icon-file-text2'><use xlink:href='#icon-file-text2'></use></svg></label><input id='data-1c19c3e6-195e-414a-a73d-73df0c4f662a' class='xr-var-data-in' type='checkbox'><label for='data-1c19c3e6-195e-414a-a73d-73df0c4f662a' title='Show/Hide data repr'><svg class='icon xr-icon-database'><use xlink:href='#icon-database'></use></svg></label><div class='xr-var-attrs'><dl class='xr-attrs'><dt><span>comment :</span></dt><dd>Salinity is generally defined as the concentration of dissolved salt in a parcel of seawater. Practical Salinity is a more specific unitless quantity calculated from the conductivity of seawater and adjusted for temperature and pressure. It is approximately equivalent to Absolute Salinity (the mass fraction of dissolved salt in seawater) but they are not interchangeable.</dd><dt><span>data_product_identifier :</span></dt><dd>PRACSAL_L2</dd><dt><span>precision :</span></dt><dd>3</dd><dt><span>long_name :</span></dt><dd>Practical Salinity</dd><dt><span>standard_name :</span></dt><dd>sea_water_practical_salinity</dd><dt><span>units :</span></dt><dd>1</dd><dt><span>alternate_parameter_name :</span></dt><dd>ctdpf_j_cspp_instrument_recovered-salinity</dd><dt><span>instrument :</span></dt><dd>CE02SHSP-SP001-08-CTDPFJ000</dd><dt><span>stream :</span></dt><dd>ctdpf_j_cspp_instrument_recovered</dd></dl></div><div class='xr-var-data'><pre>array([34.13889557, 34.17052583, 34.14163811, ..., 31.3334802 ,\n",
       "       31.33280652, 31.33247296], shape=(118140,))</pre></div></li><li class='xr-var-item'><div class='xr-var-name'><span>sea_water_conservative_temperature</span></div><div class='xr-var-dims'>(time)</div><div class='xr-var-dtype'>float64</div><div class='xr-var-preview xr-preview'>7.287 7.287 7.288 ... 15.3 15.3</div><input id='attrs-5e0fc2f9-02b7-483d-905e-0e2d5f78a3b8' class='xr-var-attrs-in' type='checkbox' ><label for='attrs-5e0fc2f9-02b7-483d-905e-0e2d5f78a3b8' title='Show/Hide attributes'><svg class='icon xr-icon-file-text2'><use xlink:href='#icon-file-text2'></use></svg></label><input id='data-ef8d81b2-936d-45f0-b6af-20960c5ecee3' class='xr-var-data-in' type='checkbox'><label for='data-ef8d81b2-936d-45f0-b6af-20960c5ecee3' title='Show/Hide data repr'><svg class='icon xr-icon-database'><use xlink:href='#icon-database'></use></svg></label><div class='xr-var-attrs'><dl class='xr-attrs'><dt><span>comment :</span></dt><dd>Salinity is generally defined as the concentration of dissolved salt in a parcel of seawater. Practical Salinity is a more specific unitless quantity calculated from the conductivity of seawater and adjusted for temperature and pressure. It is approximately equivalent to Absolute Salinity (the mass fraction of dissolved salt in seawater) but they are not interchangeable.</dd><dt><span>data_product_identifier :</span></dt><dd>PRACSAL_L2</dd><dt><span>precision :</span></dt><dd>3</dd><dt><span>long_name :</span></dt><dd>Practical Salinity</dd><dt><span>standard_name :</span></dt><dd>sea_water_practical_salinity</dd><dt><span>units :</span></dt><dd>1</dd><dt><span>alternate_parameter_name :</span></dt><dd>ctdpf_j_cspp_instrument_recovered-salinity</dd><dt><span>instrument :</span></dt><dd>CE02SHSP-SP001-08-CTDPFJ000</dd><dt><span>stream :</span></dt><dd>ctdpf_j_cspp_instrument_recovered</dd></dl></div><div class='xr-var-data'><pre>array([ 7.28719995,  7.2871025 ,  7.28759764, ..., 15.30270015,\n",
       "       15.30162816, 15.29744684], shape=(118140,))</pre></div></li><li class='xr-var-item'><div class='xr-var-name'><span>internal_temperature</span></div><div class='xr-var-dims'>(time)</div><div class='xr-var-dtype'>float32</div><div class='xr-var-preview xr-preview'>7.264 7.267 7.283 ... 9.388 9.406</div><input id='attrs-5a06b3ee-71e9-496f-a511-ba009f360d86' class='xr-var-attrs-in' type='checkbox' disabled><label for='attrs-5a06b3ee-71e9-496f-a511-ba009f360d86' title='Show/Hide attributes'><svg class='icon xr-icon-file-text2'><use xlink:href='#icon-file-text2'></use></svg></label><input id='data-c74984ed-d174-4070-b32d-62ddf81102b3' class='xr-var-data-in' type='checkbox'><label for='data-c74984ed-d174-4070-b32d-62ddf81102b3' title='Show/Hide data repr'><svg class='icon xr-icon-database'><use xlink:href='#icon-database'></use></svg></label><div class='xr-var-attrs'><dl class='xr-attrs'></dl></div><div class='xr-var-data'><pre>array([7.263916 , 7.2670593, 7.2828064, ..., 9.346527 , 9.3880005,\n",
       "       9.405762 ], shape=(118140,), dtype=float32)</pre></div></li><li class='xr-var-item'><div class='xr-var-name'><span>external_temperature</span></div><div class='xr-var-dims'>(time)</div><div class='xr-var-dtype'>float32</div><div class='xr-var-preview xr-preview'>7.159 7.164 7.164 ... 10.76 10.8</div><input id='attrs-533fa3e8-de2f-4f32-b038-0b132ed19b77' class='xr-var-attrs-in' type='checkbox' disabled><label for='attrs-533fa3e8-de2f-4f32-b038-0b132ed19b77' title='Show/Hide attributes'><svg class='icon xr-icon-file-text2'><use xlink:href='#icon-file-text2'></use></svg></label><input id='data-6b603833-04b1-4bc9-86cf-e3d7b644b0b8' class='xr-var-data-in' type='checkbox'><label for='data-6b603833-04b1-4bc9-86cf-e3d7b644b0b8' title='Show/Hide data repr'><svg class='icon xr-icon-database'><use xlink:href='#icon-database'></use></svg></label><div class='xr-var-attrs'><dl class='xr-attrs'></dl></div><div class='xr-var-data'><pre>array([ 7.1587524,  7.1636734,  7.1636734, ..., 10.714325 , 10.75531  ,\n",
       "       10.799454 ], shape=(118140,), dtype=float32)</pre></div></li><li class='xr-var-item'><div class='xr-var-name'><span>a_uncorrected</span></div><div class='xr-var-dims'>(time, wavelength)</div><div class='xr-var-dtype'>float64</div><div class='xr-var-preview xr-preview'>-1.021 -0.9574 ... -1.131 -1.15</div><input id='attrs-fe075f0e-3d18-4384-ad77-5e4dcfe8643c' class='xr-var-attrs-in' type='checkbox' disabled><label for='attrs-fe075f0e-3d18-4384-ad77-5e4dcfe8643c' title='Show/Hide attributes'><svg class='icon xr-icon-file-text2'><use xlink:href='#icon-file-text2'></use></svg></label><input id='data-afe8f1ba-9f98-4796-9c0c-eaa75a37d816' class='xr-var-data-in' type='checkbox'><label for='data-afe8f1ba-9f98-4796-9c0c-eaa75a37d816' title='Show/Hide data repr'><svg class='icon xr-icon-database'><use xlink:href='#icon-database'></use></svg></label><div class='xr-var-attrs'><dl class='xr-attrs'></dl></div><div class='xr-var-data'><pre>array([[-1.02106971, -0.95736032, -0.89365094, ..., -1.00243941,\n",
       "        -1.02768406, -1.0481291 ],\n",
       "       [-1.01694508, -0.95314913, -0.88935317, ..., -1.00128428,\n",
       "        -1.02623423, -1.04692983],\n",
       "       [-1.03165077, -0.96720562, -0.90276046, ..., -1.00526045,\n",
       "        -1.03025809, -1.05110284],\n",
       "       ...,\n",
       "       [-1.10704776, -1.0411731 , -0.97529844, ..., -1.10577628,\n",
       "        -1.12949118, -1.14834478],\n",
       "       [-1.1288926 , -1.05926103, -0.98962946, ..., -1.11018447,\n",
       "        -1.13372481, -1.15178144],\n",
       "       [-1.12739118, -1.05588285, -0.98437451, ..., -1.10752271,\n",
       "        -1.13128673, -1.14993605]], shape=(118140, 344))</pre></div></li><li class='xr-var-item'><div class='xr-var-name'><span>c_uncorrected</span></div><div class='xr-var-dims'>(time, wavelength)</div><div class='xr-var-dtype'>float64</div><div class='xr-var-preview xr-preview'>-0.9283 -0.9194 ... -1.849 -1.869</div><input id='attrs-32c02d9e-a79c-4d2a-9630-2297797a046f' class='xr-var-attrs-in' type='checkbox' disabled><label for='attrs-32c02d9e-a79c-4d2a-9630-2297797a046f' title='Show/Hide attributes'><svg class='icon xr-icon-file-text2'><use xlink:href='#icon-file-text2'></use></svg></label><input id='data-3f05224e-24cb-4e0d-94cc-3fcde4088871' class='xr-var-data-in' type='checkbox'><label for='data-3f05224e-24cb-4e0d-94cc-3fcde4088871' title='Show/Hide data repr'><svg class='icon xr-icon-database'><use xlink:href='#icon-database'></use></svg></label><div class='xr-var-attrs'><dl class='xr-attrs'></dl></div><div class='xr-var-data'><pre>array([[-9.28337856e-01, -9.19375467e-01, -9.11230299e-01, ...,\n",
       "        -2.51134177e+00, -2.53279665e+00, -2.55425153e+00],\n",
       "       [-9.29956662e-01, -9.25457515e-01, -9.16919390e-01, ...,\n",
       "        -2.50178667e+00, -2.52229510e+00, -2.54280353e+00],\n",
       "       [-9.25730730e-01, -9.18940946e-01, -9.11230299e-01, ...,\n",
       "        -2.50396693e+00, -2.52517549e+00, -2.54638405e+00],\n",
       "       ...,\n",
       "       [-1.05176450e-02, -1.75294084e-03,  1.07614456e-02, ...,\n",
       "        -1.81435338e+00, -1.83543592e+00, -1.85651846e+00],\n",
       "       [-6.89970820e-04,  9.30114796e-03,  1.63259811e-02, ...,\n",
       "        -1.82297739e+00, -1.84412355e+00, -1.86526971e+00],\n",
       "       [-6.75951082e-04,  9.30348303e-03,  1.84561179e-02, ...,\n",
       "        -1.82836159e+00, -1.84875197e+00, -1.86914234e+00]],\n",
       "      shape=(118140, 344))</pre></div></li><li class='xr-var-item'><div class='xr-var-name'><span>a_m_discontinuity</span></div><div class='xr-var-dims'>(time, wavelength)</div><div class='xr-var-dtype'>float64</div><div class='xr-var-preview xr-preview'>0.1471 0.1494 ... -0.01246 -0.01017</div><input id='attrs-0ee1d40b-d01a-4b72-a787-dc5d05d929d8' class='xr-var-attrs-in' type='checkbox' disabled><label for='attrs-0ee1d40b-d01a-4b72-a787-dc5d05d929d8' title='Show/Hide attributes'><svg class='icon xr-icon-file-text2'><use xlink:href='#icon-file-text2'></use></svg></label><input id='data-a9a96cf6-0a30-485c-9bbd-0260aeaae1ea' class='xr-var-data-in' type='checkbox'><label for='data-a9a96cf6-0a30-485c-9bbd-0260aeaae1ea' title='Show/Hide data repr'><svg class='icon xr-icon-database'><use xlink:href='#icon-database'></use></svg></label><div class='xr-var-attrs'><dl class='xr-attrs'></dl></div><div class='xr-var-data'><pre>array([[ 0.14705099,  0.14941201,  0.15177302, ..., -0.11951478,\n",
       "        -0.11583379, -0.1117697 ],\n",
       "       [ 0.14291842,  0.14519253,  0.14746663, ..., -0.12066974,\n",
       "        -0.11728345, -0.11296884],\n",
       "       [ 0.15758432,  0.15920751,  0.16083069, ..., -0.11669274,\n",
       "        -0.11325873, -0.10879514],\n",
       "       ...,\n",
       "       [ 0.23046229,  0.23063157,  0.23080085, ..., -0.01639018,\n",
       "        -0.01424945, -0.01175738],\n",
       "       [ 0.25227783,  0.24869239,  0.24510695, ..., -0.01198851,\n",
       "        -0.01002205, -0.00832564],\n",
       "       [ 0.25076387,  0.2453026 ,  0.23984133, ..., -0.01465305,\n",
       "        -0.01246279, -0.01017314]], shape=(118140, 344))</pre></div></li><li class='xr-var-item'><div class='xr-var-name'><span>c_m_discontinuity</span></div><div class='xr-var-dims'>(time, wavelength)</div><div class='xr-var-dtype'>float64</div><div class='xr-var-preview xr-preview'>1.903 1.906 1.905 ... 0.6139 0.6157</div><input id='attrs-537ddea6-695b-4572-8b9f-eb1f11a9278d' class='xr-var-attrs-in' type='checkbox' disabled><label for='attrs-537ddea6-695b-4572-8b9f-eb1f11a9278d' title='Show/Hide attributes'><svg class='icon xr-icon-file-text2'><use xlink:href='#icon-file-text2'></use></svg></label><input id='data-b010dce4-eaf1-44f2-a824-823a4a34c5f8' class='xr-var-data-in' type='checkbox'><label for='data-b010dce4-eaf1-44f2-a824-823a4a34c5f8' title='Show/Hide data repr'><svg class='icon xr-icon-database'><use xlink:href='#icon-database'></use></svg></label><div class='xr-var-attrs'><dl class='xr-attrs'></dl></div><div class='xr-var-data'><pre>array([[1.90345537, 1.90560733, 1.90513458, ..., 1.29434155, 1.29727497,\n",
       "        1.30020839],\n",
       "       [1.90507234, 1.91168768, 1.91082201, ..., 1.28478762, 1.28677439,\n",
       "        1.28876115],\n",
       "       [1.90083718, 1.90516259, 1.90512462, ..., 1.28697373, 1.28965961,\n",
       "        1.29234549],\n",
       "       ...,\n",
       "       [0.98393913, 0.98611869, 0.98139299, ..., 0.59810871, 0.60060047,\n",
       "        0.60309223],\n",
       "       [0.97410896, 0.97506089, 0.97582505, ..., 0.60675148, 0.60930532,\n",
       "        0.61185917],\n",
       "       [0.97409387, 0.97505696, 0.97369345, ..., 0.61214373, 0.61394112,\n",
       "        0.61573852]], shape=(118140, 344))</pre></div></li><li class='xr-var-item'><div class='xr-var-name'><span>a_m</span></div><div class='xr-var-dims'>(time, wavelength)</div><div class='xr-var-dtype'>float64</div><div class='xr-var-preview xr-preview'>0.1471 0.1494 ... -0.01493 -0.01264</div><input id='attrs-ff7eaa05-047f-4014-8389-6d90f4a9ee72' class='xr-var-attrs-in' type='checkbox' disabled><label for='attrs-ff7eaa05-047f-4014-8389-6d90f4a9ee72' title='Show/Hide attributes'><svg class='icon xr-icon-file-text2'><use xlink:href='#icon-file-text2'></use></svg></label><input id='data-3d819cb0-6fdf-4f55-8f44-9bd76b814df9' class='xr-var-data-in' type='checkbox'><label for='data-3d819cb0-6fdf-4f55-8f44-9bd76b814df9' title='Show/Hide data repr'><svg class='icon xr-icon-database'><use xlink:href='#icon-database'></use></svg></label><div class='xr-var-attrs'><dl class='xr-attrs'></dl></div><div class='xr-var-data'><pre>array([[ 0.14705099,  0.14941201,  0.15177302, ..., -0.12012478,\n",
       "        -0.11644379, -0.1123797 ],\n",
       "       [ 0.14291842,  0.14519253,  0.14746663, ..., -0.11931974,\n",
       "        -0.11593345, -0.11161884],\n",
       "       [ 0.15758432,  0.15920751,  0.16083069, ..., -0.11717274,\n",
       "        -0.11373873, -0.10927514],\n",
       "       ...,\n",
       "       [ 0.23046229,  0.23063157,  0.23080085, ..., -0.01432018,\n",
       "        -0.01217945, -0.00968738],\n",
       "       [ 0.25227783,  0.24869239,  0.24510695, ..., -0.01077851,\n",
       "        -0.00881205, -0.00711564],\n",
       "       [ 0.25076387,  0.2453026 ,  0.23984133, ..., -0.01712305,\n",
       "        -0.01493279, -0.01264314]], shape=(118140, 344))</pre></div></li><li class='xr-var-item'><div class='xr-var-name'><span>a_discontinuity_offset</span></div><div class='xr-var-dims'>(time)</div><div class='xr-var-dtype'>float64</div><div class='xr-var-preview xr-preview'>-0.00061 0.00135 ... -0.00247</div><input id='attrs-70e2438d-a438-47af-86cc-c59eeae7ea44' class='xr-var-attrs-in' type='checkbox' disabled><label for='attrs-70e2438d-a438-47af-86cc-c59eeae7ea44' title='Show/Hide attributes'><svg class='icon xr-icon-file-text2'><use xlink:href='#icon-file-text2'></use></svg></label><input id='data-910d855f-ebce-4519-8e75-ebae3acc70d2' class='xr-var-data-in' type='checkbox'><label for='data-910d855f-ebce-4519-8e75-ebae3acc70d2' title='Show/Hide data repr'><svg class='icon xr-icon-database'><use xlink:href='#icon-database'></use></svg></label><div class='xr-var-attrs'><dl class='xr-attrs'></dl></div><div class='xr-var-data'><pre>array([-0.00061,  0.00135, -0.00048, ...,  0.00207,  0.00121, -0.00247],\n",
       "      shape=(118140,))</pre></div></li><li class='xr-var-item'><div class='xr-var-name'><span>c_m</span></div><div class='xr-var-dims'>(time, wavelength)</div><div class='xr-var-dtype'>float64</div><div class='xr-var-preview xr-preview'>1.903 1.906 1.905 ... 0.618 0.6198</div><input id='attrs-a7ff0bfe-34c1-48a2-b23d-b48408d611ac' class='xr-var-attrs-in' type='checkbox' disabled><label for='attrs-a7ff0bfe-34c1-48a2-b23d-b48408d611ac' title='Show/Hide attributes'><svg class='icon xr-icon-file-text2'><use xlink:href='#icon-file-text2'></use></svg></label><input id='data-71d40884-0f71-4059-80b4-db4cc2e4c134' class='xr-var-data-in' type='checkbox'><label for='data-71d40884-0f71-4059-80b4-db4cc2e4c134' title='Show/Hide data repr'><svg class='icon xr-icon-database'><use xlink:href='#icon-database'></use></svg></label><div class='xr-var-attrs'><dl class='xr-attrs'></dl></div><div class='xr-var-data'><pre>array([[1.90345537, 1.90560733, 1.90513458, ..., 1.29146155, 1.29439497,\n",
       "        1.29732839],\n",
       "       [1.90507234, 1.91168768, 1.91082201, ..., 1.29243762, 1.29442439,\n",
       "        1.29641115],\n",
       "       [1.90083718, 1.90516259, 1.90512462, ..., 1.28642373, 1.28910961,\n",
       "        1.29179549],\n",
       "       ...,\n",
       "       [0.98393913, 0.98611869, 0.98139299, ..., 0.58597871, 0.58847047,\n",
       "        0.59096223],\n",
       "       [0.97410896, 0.97506089, 0.97582505, ..., 0.60218148, 0.60473532,\n",
       "        0.60728917],\n",
       "       [0.97409387, 0.97505696, 0.97369345, ..., 0.61617373, 0.61797112,\n",
       "        0.61976852]], shape=(118140, 344))</pre></div></li><li class='xr-var-item'><div class='xr-var-name'><span>c_discontinuity_offset</span></div><div class='xr-var-dims'>(time)</div><div class='xr-var-dtype'>float64</div><div class='xr-var-preview xr-preview'>-0.00288 0.00765 ... 0.00403</div><input id='attrs-1deab5b0-03b6-4a86-8201-860330e949f2' class='xr-var-attrs-in' type='checkbox' disabled><label for='attrs-1deab5b0-03b6-4a86-8201-860330e949f2' title='Show/Hide attributes'><svg class='icon xr-icon-file-text2'><use xlink:href='#icon-file-text2'></use></svg></label><input id='data-35ff5b6e-f653-4615-861c-adb2db2dc852' class='xr-var-data-in' type='checkbox'><label for='data-35ff5b6e-f653-4615-861c-adb2db2dc852' title='Show/Hide data repr'><svg class='icon xr-icon-database'><use xlink:href='#icon-database'></use></svg></label><div class='xr-var-attrs'><dl class='xr-attrs'></dl></div><div class='xr-var-data'><pre>array([-0.00288,  0.00765, -0.00055, ..., -0.01213, -0.00457,  0.00403],\n",
       "      shape=(118140,))</pre></div></li><li class='xr-var-item'><div class='xr-var-name'><span>a_mts</span></div><div class='xr-var-dims'>(time, wavelength)</div><div class='xr-var-dtype'>float64</div><div class='xr-var-preview xr-preview'>0.1469 0.1492 ... 0.00551 0.005759</div><input id='attrs-9cf2b108-ddd7-4404-93fd-6411dd48c579' class='xr-var-attrs-in' type='checkbox' disabled><label for='attrs-9cf2b108-ddd7-4404-93fd-6411dd48c579' title='Show/Hide attributes'><svg class='icon xr-icon-file-text2'><use xlink:href='#icon-file-text2'></use></svg></label><input id='data-e20205a2-a820-4d81-bbf4-67fea24d2723' class='xr-var-data-in' type='checkbox'><label for='data-e20205a2-a820-4d81-bbf4-67fea24d2723' title='Show/Hide data repr'><svg class='icon xr-icon-database'><use xlink:href='#icon-database'></use></svg></label><div class='xr-var-attrs'><dl class='xr-attrs'></dl></div><div class='xr-var-data'><pre>array([[0.14690359, 0.14919217, 0.15148074, ..., 0.00610936, 0.00585409,\n",
       "        0.00545829],\n",
       "       [0.14276994, 0.14497159, 0.14717324, ..., 0.00690261, 0.00635119,\n",
       "        0.00620461],\n",
       "       [0.15743679, 0.15898753, 0.16053828, ..., 0.00905505, 0.00855277,\n",
       "        0.00855648],\n",
       "       ...,\n",
       "       [0.22964276, 0.22978214, 0.22992152, ..., 0.00807582, 0.00819567,\n",
       "        0.0086484 ],\n",
       "       [0.25145843, 0.24784308, 0.24422773, ..., 0.01163181, 0.01157718,\n",
       "        0.01123398],\n",
       "       [0.24994488, 0.24445368, 0.23896248, ..., 0.00534218, 0.00551042,\n",
       "        0.00575928]], shape=(118140, 344))</pre></div></li><li class='xr-var-item'><div class='xr-var-name'><span>c_mts</span></div><div class='xr-var-dims'>(time, wavelength)</div><div class='xr-var-dtype'>float64</div><div class='xr-var-preview xr-preview'>1.905 1.907 1.907 ... 0.64 0.6398</div><input id='attrs-987d5c84-1a0b-46ed-9570-f0a9d5b3af20' class='xr-var-attrs-in' type='checkbox' disabled><label for='attrs-987d5c84-1a0b-46ed-9570-f0a9d5b3af20' title='Show/Hide attributes'><svg class='icon xr-icon-file-text2'><use xlink:href='#icon-file-text2'></use></svg></label><input id='data-c0576446-cc75-4d98-8dc1-6489dfa6ce51' class='xr-var-data-in' type='checkbox'><label for='data-c0576446-cc75-4d98-8dc1-6489dfa6ce51' title='Show/Hide data repr'><svg class='icon xr-icon-database'><use xlink:href='#icon-database'></use></svg></label><div class='xr-var-attrs'><dl class='xr-attrs'></dl></div><div class='xr-var-data'><pre>array([[1.90497981, 1.9071485 , 1.90663043, ..., 1.41965207, 1.41831622,\n",
       "        1.41698037],\n",
       "       [1.90659728, 1.91322938, 1.91231843, ..., 1.42061794, 1.41833405,\n",
       "        1.41605017],\n",
       "       [1.90236163, 1.90670377, 1.90662049, ..., 1.41460804, 1.41302463,\n",
       "        1.41144123],\n",
       "       ...,\n",
       "       [0.9846736 , 0.98688729, 0.98217132, ..., 0.60999519, 0.61044404,\n",
       "        0.61089288],\n",
       "       [0.97484352, 0.97582957, 0.97660346, ..., 0.62621228, 0.62672295,\n",
       "        0.62723363],\n",
       "       [0.97482881, 0.97582602, 0.9744722 , ..., 0.64025952, 0.64001266,\n",
       "        0.6397658 ]], shape=(118140, 344))</pre></div></li><li class='xr-var-item'><div class='xr-var-name'><span>a_mts_baseline</span></div><div class='xr-var-dims'>(time, wavelength)</div><div class='xr-var-dtype'>float64</div><div class='xr-var-preview xr-preview'>0.1245 0.1268 ... -0.01349 -0.01324</div><input id='attrs-1fa2698e-13c6-4c4b-af00-7fb47e85edea' class='xr-var-attrs-in' type='checkbox' disabled><label for='attrs-1fa2698e-13c6-4c4b-af00-7fb47e85edea' title='Show/Hide attributes'><svg class='icon xr-icon-file-text2'><use xlink:href='#icon-file-text2'></use></svg></label><input id='data-b3abc529-d6ea-4d31-bf1c-3a5f8aa55bff' class='xr-var-data-in' type='checkbox'><label for='data-b3abc529-d6ea-4d31-bf1c-3a5f8aa55bff' title='Show/Hide data repr'><svg class='icon xr-icon-database'><use xlink:href='#icon-database'></use></svg></label><div class='xr-var-attrs'><dl class='xr-attrs'></dl></div><div class='xr-var-data'><pre>array([[ 0.12448896,  0.12677753,  0.12906611, ..., -0.01630528,\n",
       "        -0.01656054, -0.01695634],\n",
       "       [ 0.11835626,  0.12055791,  0.12275955, ..., -0.01751107,\n",
       "        -0.01806249, -0.01820907],\n",
       "       [ 0.13017943,  0.13173017,  0.13328091, ..., -0.01820231,\n",
       "        -0.01870459, -0.01870089],\n",
       "       ...,\n",
       "       [ 0.20828979,  0.20842917,  0.20856855, ..., -0.01327715,\n",
       "        -0.01315731, -0.01270457],\n",
       "       [ 0.22842736,  0.22481201,  0.22119667, ..., -0.01139925,\n",
       "        -0.01145389, -0.01179709],\n",
       "       [ 0.23094261,  0.22545141,  0.21996021, ..., -0.01366009,\n",
       "        -0.01349185, -0.01324299]], shape=(118140, 344))</pre></div></li><li class='xr-var-item'><div class='xr-var-name'><span>a_mts_proportional</span></div><div class='xr-var-dims'>(time, wavelength)</div><div class='xr-var-dtype'>float64</div><div class='xr-var-preview xr-preview'>0.1197 0.122 ... -0.01314 -0.01287</div><input id='attrs-53c785f1-9a4c-4f0f-a444-2bced4551843' class='xr-var-attrs-in' type='checkbox' disabled><label for='attrs-53c785f1-9a4c-4f0f-a444-2bced4551843' title='Show/Hide attributes'><svg class='icon xr-icon-file-text2'><use xlink:href='#icon-file-text2'></use></svg></label><input id='data-e4c9fa12-82e0-4087-be49-e69e6095c5b1' class='xr-var-data-in' type='checkbox'><label for='data-e4c9fa12-82e0-4087-be49-e69e6095c5b1' title='Show/Hide data repr'><svg class='icon xr-icon-database'><use xlink:href='#icon-database'></use></svg></label><div class='xr-var-attrs'><dl class='xr-attrs'></dl></div><div class='xr-var-data'><pre>array([[ 0.11969358,  0.12198401,  0.12431602, ..., -0.01576826,\n",
       "        -0.0160068 , -0.01638805],\n",
       "       [ 0.11302163,  0.11514856,  0.1174027 , ..., -0.01694079,\n",
       "        -0.01746299, -0.01757352],\n",
       "       [ 0.12439382,  0.1258917 ,  0.12747338, ..., -0.01756137,\n",
       "        -0.01804318, -0.01800941],\n",
       "       ...,\n",
       "       [ 0.20333056,  0.20339765,  0.20370624, ..., -0.01290057,\n",
       "        -0.01279219, -0.01233932],\n",
       "       [ 0.22519744,  0.22141505,  0.21764036, ..., -0.01067925,\n",
       "        -0.01075441, -0.01112861],\n",
       "       [ 0.22864249,  0.22296062,  0.21734783, ..., -0.01331633,\n",
       "        -0.01313589, -0.01287246]], shape=(118140, 344))</pre></div></li><li class='xr-var-item'><div class='xr-var-name'><span>flag_elapsed_time</span></div><div class='xr-var-dims'>(time)</div><div class='xr-var-dtype'>float32</div><div class='xr-var-preview xr-preview'>3.0 3.0 3.0 3.0 ... 1.0 1.0 1.0 1.0</div><input id='attrs-14a27b34-9302-41d8-a728-a57c8dfecf05' class='xr-var-attrs-in' type='checkbox' disabled><label for='attrs-14a27b34-9302-41d8-a728-a57c8dfecf05' title='Show/Hide attributes'><svg class='icon xr-icon-file-text2'><use xlink:href='#icon-file-text2'></use></svg></label><input id='data-7c52967f-3b9b-404e-aa4e-af62c3222692' class='xr-var-data-in' type='checkbox'><label for='data-7c52967f-3b9b-404e-aa4e-af62c3222692' title='Show/Hide data repr'><svg class='icon xr-icon-database'><use xlink:href='#icon-database'></use></svg></label><div class='xr-var-attrs'><dl class='xr-attrs'></dl></div><div class='xr-var-data'><pre>array([3., 3., 3., ..., 1., 1., 1.], shape=(118140,), dtype=float32)</pre></div></li><li class='xr-var-item'><div class='xr-var-name'><span>flag_internal_temperature</span></div><div class='xr-var-dims'>(time)</div><div class='xr-var-dtype'>float64</div><div class='xr-var-preview xr-preview'>1.0 1.0 1.0 1.0 ... 1.0 1.0 1.0 1.0</div><input id='attrs-74acf4fe-f396-48b6-b44c-c484d996f6de' class='xr-var-attrs-in' type='checkbox' disabled><label for='attrs-74acf4fe-f396-48b6-b44c-c484d996f6de' title='Show/Hide attributes'><svg class='icon xr-icon-file-text2'><use xlink:href='#icon-file-text2'></use></svg></label><input id='data-81561d40-7634-42d2-9139-6165539843b0' class='xr-var-data-in' type='checkbox'><label for='data-81561d40-7634-42d2-9139-6165539843b0' title='Show/Hide data repr'><svg class='icon xr-icon-database'><use xlink:href='#icon-database'></use></svg></label><div class='xr-var-attrs'><dl class='xr-attrs'></dl></div><div class='xr-var-data'><pre>array([1., 1., 1., ..., 1., 1., 1.], shape=(118140,))</pre></div></li><li class='xr-var-item'><div class='xr-var-name'><span>flag_a_uncorrected_inf_nan</span></div><div class='xr-var-dims'>(time)</div><div class='xr-var-dtype'>float64</div><div class='xr-var-preview xr-preview'>1.0 1.0 1.0 1.0 ... 1.0 1.0 1.0 1.0</div><input id='attrs-7024609f-0e81-4654-85c9-42b2e5ac9e01' class='xr-var-attrs-in' type='checkbox' disabled><label for='attrs-7024609f-0e81-4654-85c9-42b2e5ac9e01' title='Show/Hide attributes'><svg class='icon xr-icon-file-text2'><use xlink:href='#icon-file-text2'></use></svg></label><input id='data-903a1a10-0cfb-4407-be03-24d828bcb505' class='xr-var-data-in' type='checkbox'><label for='data-903a1a10-0cfb-4407-be03-24d828bcb505' title='Show/Hide data repr'><svg class='icon xr-icon-database'><use xlink:href='#icon-database'></use></svg></label><div class='xr-var-attrs'><dl class='xr-attrs'></dl></div><div class='xr-var-data'><pre>array([1., 1., 1., ..., 1., 1., 1.], shape=(118140,))</pre></div></li><li class='xr-var-item'><div class='xr-var-name'><span>flag_c_uncorrected_inf_nan</span></div><div class='xr-var-dims'>(time)</div><div class='xr-var-dtype'>float64</div><div class='xr-var-preview xr-preview'>1.0 1.0 1.0 1.0 ... 1.0 1.0 1.0 1.0</div><input id='attrs-a4afe45a-dba5-46eb-997a-bd56452330ef' class='xr-var-attrs-in' type='checkbox' disabled><label for='attrs-a4afe45a-dba5-46eb-997a-bd56452330ef' title='Show/Hide attributes'><svg class='icon xr-icon-file-text2'><use xlink:href='#icon-file-text2'></use></svg></label><input id='data-c957c07e-d4dc-4df3-97a9-1b2ded3698cf' class='xr-var-data-in' type='checkbox'><label for='data-c957c07e-d4dc-4df3-97a9-1b2ded3698cf' title='Show/Hide data repr'><svg class='icon xr-icon-database'><use xlink:href='#icon-database'></use></svg></label><div class='xr-var-attrs'><dl class='xr-attrs'></dl></div><div class='xr-var-data'><pre>array([1., 1., 1., ..., 1., 1., 1.], shape=(118140,))</pre></div></li></ul></div></li><li class='xr-section-item'><input id='section-b3564660-a802-4125-86d9-1060ba2a2b65' class='xr-section-summary-in' type='checkbox'  ><label for='section-b3564660-a802-4125-86d9-1060ba2a2b65' class='xr-section-summary' >Indexes: <span>(2)</span></label><div class='xr-section-inline-details'></div><div class='xr-section-details'><ul class='xr-var-list'><li class='xr-var-item'><div class='xr-index-name'><div>time</div></div><div class='xr-index-preview'>PandasIndex</div><input type='checkbox' disabled/><label></label><input id='index-461c70bf-45ad-4ce1-a2bc-f0685208fc0d' class='xr-index-data-in' type='checkbox'/><label for='index-461c70bf-45ad-4ce1-a2bc-f0685208fc0d' title='Show/Hide index repr'><svg class='icon xr-icon-database'><use xlink:href='#icon-database'></use></svg></label><div class='xr-index-data'><pre>PandasIndex(DatetimeIndex([&#x27;2019-06-24 16:55:43.774000128&#x27;,\n",
       "               &#x27;2019-06-24 16:55:44.024999936&#x27;,\n",
       "               &#x27;2019-06-24 16:55:44.275000320&#x27;,\n",
       "               &#x27;2019-06-24 16:55:44.524000256&#x27;,\n",
       "               &#x27;2019-06-24 16:55:44.774000128&#x27;,\n",
       "               &#x27;2019-06-24 16:55:45.024999936&#x27;,\n",
       "               &#x27;2019-06-24 16:55:45.275000320&#x27;,\n",
       "               &#x27;2019-06-24 16:55:45.524000256&#x27;,\n",
       "               &#x27;2019-06-24 16:55:45.774000128&#x27;,\n",
       "               &#x27;2019-06-24 16:55:46.024999936&#x27;,\n",
       "               ...\n",
       "               &#x27;2019-06-27 02:39:22.333000192&#x27;,\n",
       "                  &#x27;2019-06-27 02:39:22.584000&#x27;,\n",
       "               &#x27;2019-06-27 02:39:22.833999872&#x27;,\n",
       "               &#x27;2019-06-27 02:39:23.083000320&#x27;,\n",
       "               &#x27;2019-06-27 02:39:23.333000192&#x27;,\n",
       "                  &#x27;2019-06-27 02:39:23.584000&#x27;,\n",
       "               &#x27;2019-06-27 02:39:23.834999808&#x27;,\n",
       "               &#x27;2019-06-27 02:39:24.084000256&#x27;,\n",
       "               &#x27;2019-06-27 02:39:24.333000192&#x27;,\n",
       "               &#x27;2019-06-27 02:39:24.583000064&#x27;],\n",
       "              dtype=&#x27;datetime64[ns]&#x27;, name=&#x27;time&#x27;, length=118140, freq=None))</pre></div></li><li class='xr-var-item'><div class='xr-index-name'><div>wavelength</div></div><div class='xr-index-preview'>PandasIndex</div><input type='checkbox' disabled/><label></label><input id='index-7666c4c4-ea6a-42bd-b516-81f9922b769b' class='xr-index-data-in' type='checkbox'/><label for='index-7666c4c4-ea6a-42bd-b516-81f9922b769b' title='Show/Hide index repr'><svg class='icon xr-icon-database'><use xlink:href='#icon-database'></use></svg></label><div class='xr-index-data'><pre>PandasIndex(Index([402.0, 403.0, 404.0, 405.0, 406.0, 407.0, 408.0, 409.0, 410.0, 411.0,\n",
       "       ...\n",
       "       736.0, 737.0, 738.0, 739.0, 740.0, 741.0, 742.0, 743.0, 744.0, 745.0],\n",
       "      dtype=&#x27;float64&#x27;, name=&#x27;wavelength&#x27;, length=344))</pre></div></li></ul></div></li><li class='xr-section-item'><input id='section-7b335bbd-230f-45c1-b971-9e96844a8b1a' class='xr-section-summary-in' type='checkbox'  ><label for='section-7b335bbd-230f-45c1-b971-9e96844a8b1a' class='xr-section-summary' >Attributes: <span>(60)</span></label><div class='xr-section-inline-details'></div><div class='xr-section-details'><dl class='xr-attrs'><dt><span>AssetManagementRecordLastModified :</span></dt><dd>2023-06-02T18:55:55.111000</dd><dt><span>AssetUniqueID :</span></dt><dd>CGINS-OPTAAJ-00138</dd><dt><span>Conventions :</span></dt><dd>CF-1.6</dd><dt><span>Description :</span></dt><dd>Spectrophotometer: OPTAA Series J</dd><dt><span>FirmwareVersion :</span></dt><dd>Not specified.</dd><dt><span>Manufacturer :</span></dt><dd>WET Labs</dd><dt><span>Metadata_Conventions :</span></dt><dd>Unidata Dataset Discovery v1.0</dd><dt><span>Mobile :</span></dt><dd>False</dd><dt><span>ModelNumber :</span></dt><dd>AC-S</dd><dt><span>Notes :</span></dt><dd>Not specified.</dd><dt><span>Owner :</span></dt><dd>Oregon State University</dd><dt><span>SerialNumber :</span></dt><dd>ACS-138</dd><dt><span>ShelfLifeExpirationDate :</span></dt><dd>Not specified.</dd><dt><span>SoftwareVersion :</span></dt><dd>Not specified.</dd><dt><span>cdm_data_type :</span></dt><dd>Point</dd><dt><span>collection_method :</span></dt><dd>recovered_cspp</dd><dt><span>creator_name :</span></dt><dd>Ocean Observatories Initiative</dd><dt><span>creator_url :</span></dt><dd>http://oceanobservatories.org/</dd><dt><span>date_created :</span></dt><dd>2023-06-14T16:18:41.293933</dd><dt><span>date_modified :</span></dt><dd>2023-06-14T16:18:41.293936</dd><dt><span>featureType :</span></dt><dd>point</dd><dt><span>feature_Type :</span></dt><dd>point</dd><dt><span>geospatial_lat_max :</span></dt><dd>44.63455</dd><dt><span>geospatial_lat_min :</span></dt><dd>44.63455</dd><dt><span>geospatial_lat_resolution :</span></dt><dd>0.1</dd><dt><span>geospatial_lat_units :</span></dt><dd>degrees_north</dd><dt><span>geospatial_lon_max :</span></dt><dd>-123.69743</dd><dt><span>geospatial_lon_min :</span></dt><dd>-123.69743</dd><dt><span>geospatial_lon_resolution :</span></dt><dd>0.1</dd><dt><span>geospatial_lon_units :</span></dt><dd>degrees_east</dd><dt><span>geospatial_vertical_positive :</span></dt><dd>down</dd><dt><span>geospatial_vertical_resolution :</span></dt><dd>0.1</dd><dt><span>geospatial_vertical_units :</span></dt><dd>meters</dd><dt><span>history :</span></dt><dd>2023-06-14T16:18:41.293877 generated from Stream Engine</dd><dt><span>id :</span></dt><dd>CE02SHSP-SP001-04-OPTAAJ000-recovered_cspp-optaa_dj_cspp_instrument_recovered</dd><dt><span>infoUrl :</span></dt><dd>http://oceanobservatories.org/</dd><dt><span>institution :</span></dt><dd>Ocean Observatories Initiative</dd><dt><span>naming_authority :</span></dt><dd>org.oceanobservatories</dd><dt><span>nodc_template_version :</span></dt><dd>NODC_NetCDF_TimeSeries_Orthogonal_Template_v1.1</dd><dt><span>node :</span></dt><dd>SP001</dd><dt><span>processing_level :</span></dt><dd>L2</dd><dt><span>project :</span></dt><dd>Ocean Observatories Initiative</dd><dt><span>publisher_name :</span></dt><dd>Ocean Observatories Initiative</dd><dt><span>publisher_url :</span></dt><dd>http://oceanobservatories.org/</dd><dt><span>references :</span></dt><dd>More information can be found at http://oceanobservatories.org/</dd><dt><span>requestUUID :</span></dt><dd>62529081-0c5a-42f1-a139-b717249fdf1e</dd><dt><span>sensor :</span></dt><dd>04-OPTAAJ000</dd><dt><span>source :</span></dt><dd>CE02SHSP-SP001-04-OPTAAJ000-recovered_cspp-optaa_dj_cspp_instrument_recovered</dd><dt><span>sourceUrl :</span></dt><dd>http://oceanobservatories.org/</dd><dt><span>standard_name_vocabulary :</span></dt><dd>NetCDF Climate and Forecast (CF) Metadata Convention Standard Name Table 29</dd><dt><span>stream :</span></dt><dd>optaa_dj_cspp_instrument_recovered</dd><dt><span>subsite :</span></dt><dd>CE02SHSP</dd><dt><span>summary :</span></dt><dd>Dataset Generated by Stream Engine from Ocean Observatories Initiative</dd><dt><span>time_coverage_end :</span></dt><dd>2019-06-27T02:39:24.583000</dd><dt><span>time_coverage_resolution :</span></dt><dd>P1.57S</dd><dt><span>time_coverage_start :</span></dt><dd>2019-06-24T16:55:43.774000</dd><dt><span>title :</span></dt><dd>Data produced by Stream Engine version 1.20.6 for CE02SHSP-SP001-04-OPTAAJ000-recovered_cspp-optaa_dj_cspp_instrument_recovered</dd><dt><span>uuid :</span></dt><dd>62529081-0c5a-42f1-a139-b717249fdf1e</dd><dt><span>number_of_output_wavelengths :</span></dt><dd>86</dd><dt><span>interpolation_step :</span></dt><dd>1</dd></dl></div></li></ul></div></div>"
      ]
     },
     "execution_count": 29,
     "metadata": {},
     "output_type": "execute_result"
    }
   ],
   "execution_count": 29
  },
  {
   "metadata": {},
   "cell_type": "code",
   "outputs": [],
   "execution_count": null,
   "source": "",
   "id": "ea46f345e224488a"
  }
 ],
 "metadata": {
  "kernelspec": {
   "display_name": "Python 3",
   "language": "python",
   "name": "python3"
  },
  "language_info": {
   "codemirror_mode": {
    "name": "ipython",
    "version": 2
   },
   "file_extension": ".py",
   "mimetype": "text/x-python",
   "name": "python",
   "nbconvert_exporter": "python",
   "pygments_lexer": "ipython2",
   "version": "2.7.6"
  }
 },
 "nbformat": 4,
 "nbformat_minor": 5
}

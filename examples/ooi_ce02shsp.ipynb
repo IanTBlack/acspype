{
 "cells": [
  {
   "metadata": {},
   "cell_type": "markdown",
   "source": [
    "# Install acspype\n",
    "\n",
    "acspype can be installed using pip:\n",
    "\n",
    "`pip install acspype`\n",
    "\n",
    "Code documentation for acspype can be found at [https://iantblack.github.io/acspype/](https://iantblack.github.io/acspype/)."
   ],
   "id": "d99e579d3d12011"
  },
  {
   "metadata": {},
   "cell_type": "markdown",
   "source": "## Import Required Packages for this Example",
   "id": "8692efc86af14bf2"
  },
  {
   "metadata": {
    "ExecuteTime": {
     "end_time": "2025-05-22T15:40:07.666609Z",
     "start_time": "2025-05-22T15:40:06.070521Z"
    }
   },
   "cell_type": "code",
   "source": [
    "from datetime import datetime\n",
    "import matplotlib\n",
    "import matplotlib.pyplot as plt\n",
    "from matplotlib.dates import DayLocator, HourLocator\n",
    "from matplotlib.ticker import MultipleLocator\n",
    "import numpy as np\n",
    "\n",
    "from acspype import ACSTSCor\n",
    "import acspype.processing as acsproc # Module level wrapper around processing functions.\n",
    "import acspype.qaqc as acsqaqc # Module level wrapper around qaqc functions.\n",
    "from acspype.experimental import estimate_chl\n",
    "\n",
    "from acspype.utils.ooi import download_and_load_goldcopy, reformat_ooi_optaa, get_ooi_optaa_cal  # Convenience functions for OOI data. These have not been thoroughly tested outside of this example."
   ],
   "id": "d4de3f982047c94c",
   "outputs": [],
   "execution_count": 1
  },
  {
   "metadata": {},
   "cell_type": "markdown",
   "source": "",
   "id": "1f2e61fde7ee4996"
  },
  {
   "metadata": {},
   "cell_type": "markdown",
   "source": [
    "# OOI CE02SHSP Example\n",
    "\n",
    "\n",
    "In this example, we will be using ACS data from the [OOI Oregon Shelf Coastal Surface Piercing Profiler (CE02SHSP)](https://thredds.dataexplorer.oceanobservatories.org/thredds/catalog/ooigoldcopy/public/CE02SHSP-SP001-04-OPTAAJ000-recovered_cspp-optaa_dj_cspp_instrument_recovered/catalog.html). \n",
    "\n",
    "This data contains upward profiles of ACS data from roughly 75m depth to the sea-surface. The data used in this example are from a deployment where the profiler failed to follow its prescribed sampling regime and instead collected a profile every 20 minutes for 3 days before its batteries died. In total, roughly 132 thousand ACS samples were taken.\n",
    "\n",
    "The data made available from OOI already has the nearest neighbor salinity, temperature, and pressure assigned to each ACS timestamp. One thing to consider is that the ACS data from the OOI are not time-lag corrected in these datasets. For simplicity, this example does not handle andy time-lag correction or consider the different heights of the sensors on the profiler."
   ],
   "id": "f6323340ffbd6bef"
  },
  {
   "metadata": {},
   "cell_type": "markdown",
   "source": [
    "#### Download, Select, and Reformat OOI Data\n",
    "\n",
    "OOI NetCDFs accessed through OpenDAP are not CF compliant, which may result in datatype conversions that create invalid values (e.g. unsigned integer converted to signed integer). The reconversion to the appropriate datatype would add extra steps to this example, so instead this example downloads the file, which should have the appropriate datatypes. \n",
    "\n",
    "If you inspect the data before it is reformatted, you'll find that it has the dimensions of `obs` and `wavelength`. These two dimensions are not compatible with *acspype* and do not provide any meaningful information that can't already be determined by inspecting the shape of the data. `obs` is simply an iterative identifier for a file and does not express the uniqueness of the sample (a better use would be the UUID). `wavelength`, in this instance, is also an iterative identifier and not actually representative of the actual wavelength, but rather the index of the wavelength bin. This is particularly confusing because variables associated with absorption will have different wavelengths compared to those associated with attenuation. ACS data is much better represented by the dimensions of `a_wavelength` and `c_wavelength`, which are unique and attached to specific absorption and attenuation variables. Later in this example we will show how to linearly interpolate between wavelengths to obtain common bins, which makes it easier to perform scattering correction on ACS data.\n",
    "\n",
    "Since all OOI assets with an ACS are (currently) immobile and files ***SHOULD*** only contain data from one ACS, the reformatted dataset reassigns latitude, longitude, and deployment as coordinates rather than variables. If continuing to use Xarray, the acspype functions should handle these extra dimensions, but this example will whittle the dataset down to the coordinates of `time`, `a_wavelength`, and `c_wavelength` for simplicity."
   ],
   "id": "60a3e06bdd491466"
  },
  {
   "metadata": {
    "ExecuteTime": {
     "end_time": "2025-05-22T15:40:07.726107Z",
     "start_time": "2025-05-22T15:40:07.666609Z"
    }
   },
   "cell_type": "code",
   "source": [
    "acs_url = 'https://thredds.dataexplorer.oceanobservatories.org/thredds/fileServer/ooigoldcopy/public/CE02SHSP-SP001-04-OPTAAJ000-recovered_cspp-optaa_dj_cspp_instrument_recovered/deployment0013_CE02SHSP-SP001-04-OPTAAJ000-recovered_cspp-optaa_dj_cspp_instrument_recovered_20190624T165543.774000-20190627T023924.583000.nc'\n",
    "acs = download_and_load_goldcopy(thredds_fileserver_url=acs_url,\n",
    "                                 save_dir = 'ooi_data/')"
   ],
   "id": "49f5610e4d3d5d07",
   "outputs": [],
   "execution_count": 2
  },
  {
   "metadata": {
    "ExecuteTime": {
     "end_time": "2025-05-22T15:40:07.746177Z",
     "start_time": "2025-05-22T15:40:07.726107Z"
    }
   },
   "cell_type": "code",
   "source": "acs # ACS data before reformatting",
   "id": "562fbfc4535eed31",
   "outputs": [
    {
     "data": {
      "text/plain": [
       "<xarray.Dataset> Size: 393MB\n",
       "Dimensions:                       (obs: 131979, wavelength: 86)\n",
       "Coordinates:\n",
       "  * obs                           (obs) int32 528kB 0 1 2 ... 131977 131978\n",
       "    lat                           (obs) float64 1MB ...\n",
       "  * wavelength                    (wavelength) int32 344B 0 1 2 3 ... 83 84 85\n",
       "    lon                           (obs) float64 1MB ...\n",
       "    depth                         (obs) float64 1MB ...\n",
       "    time                          (obs) datetime64[ns] 1MB ...\n",
       "Data variables: (12/30)\n",
       "    external_temp_raw             (obs) float32 528kB ...\n",
       "    c_signal_counts               (obs, wavelength) float32 45MB ...\n",
       "    deployment                    (obs) int32 528kB ...\n",
       "    a_signal_counts               (obs, wavelength) float32 45MB ...\n",
       "    int_ctd_pressure              (obs) float64 1MB ...\n",
       "    a_reference_counts            (obs, wavelength) float32 45MB ...\n",
       "    ...                            ...\n",
       "    preferred_timestamp           (obs) object 1MB ...\n",
       "    a_signal_dark_counts          (obs) float32 528kB ...\n",
       "    c_reference_counts            (obs, wavelength) float32 45MB ...\n",
       "    a_reference_dark_counts       (obs) float32 528kB ...\n",
       "    suspect_timestamp             (obs) float32 528kB ...\n",
       "    sea_water_temperature         (obs) float64 1MB ...\n",
       "Attributes: (12/68)\n",
       "    node:                               SP001\n",
       "    comment:                            \n",
       "    publisher_email:                    \n",
       "    sourceUrl:                          http://oceanobservatories.org/\n",
       "    collection_method:                  recovered_cspp\n",
       "    stream:                             optaa_dj_cspp_instrument_recovered\n",
       "    ...                                 ...\n",
       "    geospatial_lon_max:                 -123.69743\n",
       "    geospatial_lon_units:               degrees_east\n",
       "    geospatial_lon_resolution:          0.1\n",
       "    geospatial_vertical_units:          meters\n",
       "    geospatial_vertical_resolution:     0.1\n",
       "    geospatial_vertical_positive:       down"
      ],
      "text/html": [
       "<div><svg style=\"position: absolute; width: 0; height: 0; overflow: hidden\">\n",
       "<defs>\n",
       "<symbol id=\"icon-database\" viewBox=\"0 0 32 32\">\n",
       "<path d=\"M16 0c-8.837 0-16 2.239-16 5v4c0 2.761 7.163 5 16 5s16-2.239 16-5v-4c0-2.761-7.163-5-16-5z\"></path>\n",
       "<path d=\"M16 17c-8.837 0-16-2.239-16-5v6c0 2.761 7.163 5 16 5s16-2.239 16-5v-6c0 2.761-7.163 5-16 5z\"></path>\n",
       "<path d=\"M16 26c-8.837 0-16-2.239-16-5v6c0 2.761 7.163 5 16 5s16-2.239 16-5v-6c0 2.761-7.163 5-16 5z\"></path>\n",
       "</symbol>\n",
       "<symbol id=\"icon-file-text2\" viewBox=\"0 0 32 32\">\n",
       "<path d=\"M28.681 7.159c-0.694-0.947-1.662-2.053-2.724-3.116s-2.169-2.030-3.116-2.724c-1.612-1.182-2.393-1.319-2.841-1.319h-15.5c-1.378 0-2.5 1.121-2.5 2.5v27c0 1.378 1.122 2.5 2.5 2.5h23c1.378 0 2.5-1.122 2.5-2.5v-19.5c0-0.448-0.137-1.23-1.319-2.841zM24.543 5.457c0.959 0.959 1.712 1.825 2.268 2.543h-4.811v-4.811c0.718 0.556 1.584 1.309 2.543 2.268zM28 29.5c0 0.271-0.229 0.5-0.5 0.5h-23c-0.271 0-0.5-0.229-0.5-0.5v-27c0-0.271 0.229-0.5 0.5-0.5 0 0 15.499-0 15.5 0v7c0 0.552 0.448 1 1 1h7v19.5z\"></path>\n",
       "<path d=\"M23 26h-14c-0.552 0-1-0.448-1-1s0.448-1 1-1h14c0.552 0 1 0.448 1 1s-0.448 1-1 1z\"></path>\n",
       "<path d=\"M23 22h-14c-0.552 0-1-0.448-1-1s0.448-1 1-1h14c0.552 0 1 0.448 1 1s-0.448 1-1 1z\"></path>\n",
       "<path d=\"M23 18h-14c-0.552 0-1-0.448-1-1s0.448-1 1-1h14c0.552 0 1 0.448 1 1s-0.448 1-1 1z\"></path>\n",
       "</symbol>\n",
       "</defs>\n",
       "</svg>\n",
       "<style>/* CSS stylesheet for displaying xarray objects in jupyterlab.\n",
       " *\n",
       " */\n",
       "\n",
       ":root {\n",
       "  --xr-font-color0: var(--jp-content-font-color0, rgba(0, 0, 0, 1));\n",
       "  --xr-font-color2: var(--jp-content-font-color2, rgba(0, 0, 0, 0.54));\n",
       "  --xr-font-color3: var(--jp-content-font-color3, rgba(0, 0, 0, 0.38));\n",
       "  --xr-border-color: var(--jp-border-color2, #e0e0e0);\n",
       "  --xr-disabled-color: var(--jp-layout-color3, #bdbdbd);\n",
       "  --xr-background-color: var(--jp-layout-color0, white);\n",
       "  --xr-background-color-row-even: var(--jp-layout-color1, white);\n",
       "  --xr-background-color-row-odd: var(--jp-layout-color2, #eeeeee);\n",
       "}\n",
       "\n",
       "html[theme=\"dark\"],\n",
       "html[data-theme=\"dark\"],\n",
       "body[data-theme=\"dark\"],\n",
       "body.vscode-dark {\n",
       "  --xr-font-color0: rgba(255, 255, 255, 1);\n",
       "  --xr-font-color2: rgba(255, 255, 255, 0.54);\n",
       "  --xr-font-color3: rgba(255, 255, 255, 0.38);\n",
       "  --xr-border-color: #1f1f1f;\n",
       "  --xr-disabled-color: #515151;\n",
       "  --xr-background-color: #111111;\n",
       "  --xr-background-color-row-even: #111111;\n",
       "  --xr-background-color-row-odd: #313131;\n",
       "}\n",
       "\n",
       ".xr-wrap {\n",
       "  display: block !important;\n",
       "  min-width: 300px;\n",
       "  max-width: 700px;\n",
       "}\n",
       "\n",
       ".xr-text-repr-fallback {\n",
       "  /* fallback to plain text repr when CSS is not injected (untrusted notebook) */\n",
       "  display: none;\n",
       "}\n",
       "\n",
       ".xr-header {\n",
       "  padding-top: 6px;\n",
       "  padding-bottom: 6px;\n",
       "  margin-bottom: 4px;\n",
       "  border-bottom: solid 1px var(--xr-border-color);\n",
       "}\n",
       "\n",
       ".xr-header > div,\n",
       ".xr-header > ul {\n",
       "  display: inline;\n",
       "  margin-top: 0;\n",
       "  margin-bottom: 0;\n",
       "}\n",
       "\n",
       ".xr-obj-type,\n",
       ".xr-array-name {\n",
       "  margin-left: 2px;\n",
       "  margin-right: 10px;\n",
       "}\n",
       "\n",
       ".xr-obj-type {\n",
       "  color: var(--xr-font-color2);\n",
       "}\n",
       "\n",
       ".xr-sections {\n",
       "  padding-left: 0 !important;\n",
       "  display: grid;\n",
       "  grid-template-columns: 150px auto auto 1fr 0 20px 0 20px;\n",
       "}\n",
       "\n",
       ".xr-section-item {\n",
       "  display: contents;\n",
       "}\n",
       "\n",
       ".xr-section-item input {\n",
       "  display: inline-block;\n",
       "  opacity: 0;\n",
       "  height: 0;\n",
       "}\n",
       "\n",
       ".xr-section-item input + label {\n",
       "  color: var(--xr-disabled-color);\n",
       "}\n",
       "\n",
       ".xr-section-item input:enabled + label {\n",
       "  cursor: pointer;\n",
       "  color: var(--xr-font-color2);\n",
       "}\n",
       "\n",
       ".xr-section-item input:focus + label {\n",
       "  border: 2px solid var(--xr-font-color0);\n",
       "}\n",
       "\n",
       ".xr-section-item input:enabled + label:hover {\n",
       "  color: var(--xr-font-color0);\n",
       "}\n",
       "\n",
       ".xr-section-summary {\n",
       "  grid-column: 1;\n",
       "  color: var(--xr-font-color2);\n",
       "  font-weight: 500;\n",
       "}\n",
       "\n",
       ".xr-section-summary > span {\n",
       "  display: inline-block;\n",
       "  padding-left: 0.5em;\n",
       "}\n",
       "\n",
       ".xr-section-summary-in:disabled + label {\n",
       "  color: var(--xr-font-color2);\n",
       "}\n",
       "\n",
       ".xr-section-summary-in + label:before {\n",
       "  display: inline-block;\n",
       "  content: \"►\";\n",
       "  font-size: 11px;\n",
       "  width: 15px;\n",
       "  text-align: center;\n",
       "}\n",
       "\n",
       ".xr-section-summary-in:disabled + label:before {\n",
       "  color: var(--xr-disabled-color);\n",
       "}\n",
       "\n",
       ".xr-section-summary-in:checked + label:before {\n",
       "  content: \"▼\";\n",
       "}\n",
       "\n",
       ".xr-section-summary-in:checked + label > span {\n",
       "  display: none;\n",
       "}\n",
       "\n",
       ".xr-section-summary,\n",
       ".xr-section-inline-details {\n",
       "  padding-top: 4px;\n",
       "  padding-bottom: 4px;\n",
       "}\n",
       "\n",
       ".xr-section-inline-details {\n",
       "  grid-column: 2 / -1;\n",
       "}\n",
       "\n",
       ".xr-section-details {\n",
       "  display: none;\n",
       "  grid-column: 1 / -1;\n",
       "  margin-bottom: 5px;\n",
       "}\n",
       "\n",
       ".xr-section-summary-in:checked ~ .xr-section-details {\n",
       "  display: contents;\n",
       "}\n",
       "\n",
       ".xr-array-wrap {\n",
       "  grid-column: 1 / -1;\n",
       "  display: grid;\n",
       "  grid-template-columns: 20px auto;\n",
       "}\n",
       "\n",
       ".xr-array-wrap > label {\n",
       "  grid-column: 1;\n",
       "  vertical-align: top;\n",
       "}\n",
       "\n",
       ".xr-preview {\n",
       "  color: var(--xr-font-color3);\n",
       "}\n",
       "\n",
       ".xr-array-preview,\n",
       ".xr-array-data {\n",
       "  padding: 0 5px !important;\n",
       "  grid-column: 2;\n",
       "}\n",
       "\n",
       ".xr-array-data,\n",
       ".xr-array-in:checked ~ .xr-array-preview {\n",
       "  display: none;\n",
       "}\n",
       "\n",
       ".xr-array-in:checked ~ .xr-array-data,\n",
       ".xr-array-preview {\n",
       "  display: inline-block;\n",
       "}\n",
       "\n",
       ".xr-dim-list {\n",
       "  display: inline-block !important;\n",
       "  list-style: none;\n",
       "  padding: 0 !important;\n",
       "  margin: 0;\n",
       "}\n",
       "\n",
       ".xr-dim-list li {\n",
       "  display: inline-block;\n",
       "  padding: 0;\n",
       "  margin: 0;\n",
       "}\n",
       "\n",
       ".xr-dim-list:before {\n",
       "  content: \"(\";\n",
       "}\n",
       "\n",
       ".xr-dim-list:after {\n",
       "  content: \")\";\n",
       "}\n",
       "\n",
       ".xr-dim-list li:not(:last-child):after {\n",
       "  content: \",\";\n",
       "  padding-right: 5px;\n",
       "}\n",
       "\n",
       ".xr-has-index {\n",
       "  font-weight: bold;\n",
       "}\n",
       "\n",
       ".xr-var-list,\n",
       ".xr-var-item {\n",
       "  display: contents;\n",
       "}\n",
       "\n",
       ".xr-var-item > div,\n",
       ".xr-var-item label,\n",
       ".xr-var-item > .xr-var-name span {\n",
       "  background-color: var(--xr-background-color-row-even);\n",
       "  margin-bottom: 0;\n",
       "}\n",
       "\n",
       ".xr-var-item > .xr-var-name:hover span {\n",
       "  padding-right: 5px;\n",
       "}\n",
       "\n",
       ".xr-var-list > li:nth-child(odd) > div,\n",
       ".xr-var-list > li:nth-child(odd) > label,\n",
       ".xr-var-list > li:nth-child(odd) > .xr-var-name span {\n",
       "  background-color: var(--xr-background-color-row-odd);\n",
       "}\n",
       "\n",
       ".xr-var-name {\n",
       "  grid-column: 1;\n",
       "}\n",
       "\n",
       ".xr-var-dims {\n",
       "  grid-column: 2;\n",
       "}\n",
       "\n",
       ".xr-var-dtype {\n",
       "  grid-column: 3;\n",
       "  text-align: right;\n",
       "  color: var(--xr-font-color2);\n",
       "}\n",
       "\n",
       ".xr-var-preview {\n",
       "  grid-column: 4;\n",
       "}\n",
       "\n",
       ".xr-index-preview {\n",
       "  grid-column: 2 / 5;\n",
       "  color: var(--xr-font-color2);\n",
       "}\n",
       "\n",
       ".xr-var-name,\n",
       ".xr-var-dims,\n",
       ".xr-var-dtype,\n",
       ".xr-preview,\n",
       ".xr-attrs dt {\n",
       "  white-space: nowrap;\n",
       "  overflow: hidden;\n",
       "  text-overflow: ellipsis;\n",
       "  padding-right: 10px;\n",
       "}\n",
       "\n",
       ".xr-var-name:hover,\n",
       ".xr-var-dims:hover,\n",
       ".xr-var-dtype:hover,\n",
       ".xr-attrs dt:hover {\n",
       "  overflow: visible;\n",
       "  width: auto;\n",
       "  z-index: 1;\n",
       "}\n",
       "\n",
       ".xr-var-attrs,\n",
       ".xr-var-data,\n",
       ".xr-index-data {\n",
       "  display: none;\n",
       "  background-color: var(--xr-background-color) !important;\n",
       "  padding-bottom: 5px !important;\n",
       "}\n",
       "\n",
       ".xr-var-attrs-in:checked ~ .xr-var-attrs,\n",
       ".xr-var-data-in:checked ~ .xr-var-data,\n",
       ".xr-index-data-in:checked ~ .xr-index-data {\n",
       "  display: block;\n",
       "}\n",
       "\n",
       ".xr-var-data > table {\n",
       "  float: right;\n",
       "}\n",
       "\n",
       ".xr-var-name span,\n",
       ".xr-var-data,\n",
       ".xr-index-name div,\n",
       ".xr-index-data,\n",
       ".xr-attrs {\n",
       "  padding-left: 25px !important;\n",
       "}\n",
       "\n",
       ".xr-attrs,\n",
       ".xr-var-attrs,\n",
       ".xr-var-data,\n",
       ".xr-index-data {\n",
       "  grid-column: 1 / -1;\n",
       "}\n",
       "\n",
       "dl.xr-attrs {\n",
       "  padding: 0;\n",
       "  margin: 0;\n",
       "  display: grid;\n",
       "  grid-template-columns: 125px auto;\n",
       "}\n",
       "\n",
       ".xr-attrs dt,\n",
       ".xr-attrs dd {\n",
       "  padding: 0;\n",
       "  margin: 0;\n",
       "  float: left;\n",
       "  padding-right: 10px;\n",
       "  width: auto;\n",
       "}\n",
       "\n",
       ".xr-attrs dt {\n",
       "  font-weight: normal;\n",
       "  grid-column: 1;\n",
       "}\n",
       "\n",
       ".xr-attrs dt:hover span {\n",
       "  display: inline-block;\n",
       "  background: var(--xr-background-color);\n",
       "  padding-right: 10px;\n",
       "}\n",
       "\n",
       ".xr-attrs dd {\n",
       "  grid-column: 2;\n",
       "  white-space: pre-wrap;\n",
       "  word-break: break-all;\n",
       "}\n",
       "\n",
       ".xr-icon-database,\n",
       ".xr-icon-file-text2,\n",
       ".xr-no-icon {\n",
       "  display: inline-block;\n",
       "  vertical-align: middle;\n",
       "  width: 1em;\n",
       "  height: 1.5em !important;\n",
       "  stroke-width: 0;\n",
       "  stroke: currentColor;\n",
       "  fill: currentColor;\n",
       "}\n",
       "</style><pre class='xr-text-repr-fallback'>&lt;xarray.Dataset&gt; Size: 393MB\n",
       "Dimensions:                       (obs: 131979, wavelength: 86)\n",
       "Coordinates:\n",
       "  * obs                           (obs) int32 528kB 0 1 2 ... 131977 131978\n",
       "    lat                           (obs) float64 1MB ...\n",
       "  * wavelength                    (wavelength) int32 344B 0 1 2 3 ... 83 84 85\n",
       "    lon                           (obs) float64 1MB ...\n",
       "    depth                         (obs) float64 1MB ...\n",
       "    time                          (obs) datetime64[ns] 1MB ...\n",
       "Data variables: (12/30)\n",
       "    external_temp_raw             (obs) float32 528kB ...\n",
       "    c_signal_counts               (obs, wavelength) float32 45MB ...\n",
       "    deployment                    (obs) int32 528kB ...\n",
       "    a_signal_counts               (obs, wavelength) float32 45MB ...\n",
       "    int_ctd_pressure              (obs) float64 1MB ...\n",
       "    a_reference_counts            (obs, wavelength) float32 45MB ...\n",
       "    ...                            ...\n",
       "    preferred_timestamp           (obs) object 1MB ...\n",
       "    a_signal_dark_counts          (obs) float32 528kB ...\n",
       "    c_reference_counts            (obs, wavelength) float32 45MB ...\n",
       "    a_reference_dark_counts       (obs) float32 528kB ...\n",
       "    suspect_timestamp             (obs) float32 528kB ...\n",
       "    sea_water_temperature         (obs) float64 1MB ...\n",
       "Attributes: (12/68)\n",
       "    node:                               SP001\n",
       "    comment:                            \n",
       "    publisher_email:                    \n",
       "    sourceUrl:                          http://oceanobservatories.org/\n",
       "    collection_method:                  recovered_cspp\n",
       "    stream:                             optaa_dj_cspp_instrument_recovered\n",
       "    ...                                 ...\n",
       "    geospatial_lon_max:                 -123.69743\n",
       "    geospatial_lon_units:               degrees_east\n",
       "    geospatial_lon_resolution:          0.1\n",
       "    geospatial_vertical_units:          meters\n",
       "    geospatial_vertical_resolution:     0.1\n",
       "    geospatial_vertical_positive:       down</pre><div class='xr-wrap' style='display:none'><div class='xr-header'><div class='xr-obj-type'>xarray.Dataset</div></div><ul class='xr-sections'><li class='xr-section-item'><input id='section-279e0d39-b1c5-4afa-8341-0f3ee7274d7c' class='xr-section-summary-in' type='checkbox' disabled ><label for='section-279e0d39-b1c5-4afa-8341-0f3ee7274d7c' class='xr-section-summary'  title='Expand/collapse section'>Dimensions:</label><div class='xr-section-inline-details'><ul class='xr-dim-list'><li><span class='xr-has-index'>obs</span>: 131979</li><li><span class='xr-has-index'>wavelength</span>: 86</li></ul></div><div class='xr-section-details'></div></li><li class='xr-section-item'><input id='section-bfcc6bb5-d2df-4272-8835-f1badbc8e7e2' class='xr-section-summary-in' type='checkbox'  checked><label for='section-bfcc6bb5-d2df-4272-8835-f1badbc8e7e2' class='xr-section-summary' >Coordinates: <span>(6)</span></label><div class='xr-section-inline-details'></div><div class='xr-section-details'><ul class='xr-var-list'><li class='xr-var-item'><div class='xr-var-name'><span class='xr-has-index'>obs</span></div><div class='xr-var-dims'>(obs)</div><div class='xr-var-dtype'>int32</div><div class='xr-var-preview xr-preview'>0 1 2 3 ... 131976 131977 131978</div><input id='attrs-059b9977-09a3-4212-bb87-68b87b91adfc' class='xr-var-attrs-in' type='checkbox' disabled><label for='attrs-059b9977-09a3-4212-bb87-68b87b91adfc' title='Show/Hide attributes'><svg class='icon xr-icon-file-text2'><use xlink:href='#icon-file-text2'></use></svg></label><input id='data-96b8e5bc-58b2-404b-94bd-96d5f37e0cd3' class='xr-var-data-in' type='checkbox'><label for='data-96b8e5bc-58b2-404b-94bd-96d5f37e0cd3' title='Show/Hide data repr'><svg class='icon xr-icon-database'><use xlink:href='#icon-database'></use></svg></label><div class='xr-var-attrs'><dl class='xr-attrs'></dl></div><div class='xr-var-data'><pre>array([     0,      1,      2, ..., 131976, 131977, 131978],\n",
       "      shape=(131979,), dtype=int32)</pre></div></li><li class='xr-var-item'><div class='xr-var-name'><span>lat</span></div><div class='xr-var-dims'>(obs)</div><div class='xr-var-dtype'>float64</div><div class='xr-var-preview xr-preview'>...</div><input id='attrs-b476116f-2027-40f1-8762-0203e93dd940' class='xr-var-attrs-in' type='checkbox' ><label for='attrs-b476116f-2027-40f1-8762-0203e93dd940' title='Show/Hide attributes'><svg class='icon xr-icon-file-text2'><use xlink:href='#icon-file-text2'></use></svg></label><input id='data-1a9d369d-cb33-4a9d-8032-28fcefb69c09' class='xr-var-data-in' type='checkbox'><label for='data-1a9d369d-cb33-4a9d-8032-28fcefb69c09' title='Show/Hide data repr'><svg class='icon xr-icon-database'><use xlink:href='#icon-database'></use></svg></label><div class='xr-var-attrs'><dl class='xr-attrs'><dt><span>units :</span></dt><dd>degrees_north</dd><dt><span>standard_name :</span></dt><dd>latitude</dd><dt><span>axis :</span></dt><dd>Y</dd></dl></div><div class='xr-var-data'><pre>[131979 values with dtype=float64]</pre></div></li><li class='xr-var-item'><div class='xr-var-name'><span class='xr-has-index'>wavelength</span></div><div class='xr-var-dims'>(wavelength)</div><div class='xr-var-dtype'>int32</div><div class='xr-var-preview xr-preview'>0 1 2 3 4 5 6 ... 80 81 82 83 84 85</div><input id='attrs-ec9e2412-bdc4-4d52-ba88-e093b861e470' class='xr-var-attrs-in' type='checkbox' disabled><label for='attrs-ec9e2412-bdc4-4d52-ba88-e093b861e470' title='Show/Hide attributes'><svg class='icon xr-icon-file-text2'><use xlink:href='#icon-file-text2'></use></svg></label><input id='data-a2c27e7e-70be-4f03-a892-be056f3d0668' class='xr-var-data-in' type='checkbox'><label for='data-a2c27e7e-70be-4f03-a892-be056f3d0668' title='Show/Hide data repr'><svg class='icon xr-icon-database'><use xlink:href='#icon-database'></use></svg></label><div class='xr-var-attrs'><dl class='xr-attrs'></dl></div><div class='xr-var-data'><pre>array([ 0,  1,  2,  3,  4,  5,  6,  7,  8,  9, 10, 11, 12, 13, 14, 15, 16, 17,\n",
       "       18, 19, 20, 21, 22, 23, 24, 25, 26, 27, 28, 29, 30, 31, 32, 33, 34, 35,\n",
       "       36, 37, 38, 39, 40, 41, 42, 43, 44, 45, 46, 47, 48, 49, 50, 51, 52, 53,\n",
       "       54, 55, 56, 57, 58, 59, 60, 61, 62, 63, 64, 65, 66, 67, 68, 69, 70, 71,\n",
       "       72, 73, 74, 75, 76, 77, 78, 79, 80, 81, 82, 83, 84, 85], dtype=int32)</pre></div></li><li class='xr-var-item'><div class='xr-var-name'><span>lon</span></div><div class='xr-var-dims'>(obs)</div><div class='xr-var-dtype'>float64</div><div class='xr-var-preview xr-preview'>...</div><input id='attrs-d8f949cc-304a-44b6-9e81-219cc1366955' class='xr-var-attrs-in' type='checkbox' ><label for='attrs-d8f949cc-304a-44b6-9e81-219cc1366955' title='Show/Hide attributes'><svg class='icon xr-icon-file-text2'><use xlink:href='#icon-file-text2'></use></svg></label><input id='data-8be3d3b0-2a99-4407-9a98-ef3073aabf8f' class='xr-var-data-in' type='checkbox'><label for='data-8be3d3b0-2a99-4407-9a98-ef3073aabf8f' title='Show/Hide data repr'><svg class='icon xr-icon-database'><use xlink:href='#icon-database'></use></svg></label><div class='xr-var-attrs'><dl class='xr-attrs'><dt><span>units :</span></dt><dd>degrees_east</dd><dt><span>standard_name :</span></dt><dd>longitude</dd><dt><span>axis :</span></dt><dd>X</dd></dl></div><div class='xr-var-data'><pre>[131979 values with dtype=float64]</pre></div></li><li class='xr-var-item'><div class='xr-var-name'><span>depth</span></div><div class='xr-var-dims'>(obs)</div><div class='xr-var-dtype'>float64</div><div class='xr-var-preview xr-preview'>...</div><input id='attrs-426f9550-0b76-4d2c-a573-760eec5fef2e' class='xr-var-attrs-in' type='checkbox' ><label for='attrs-426f9550-0b76-4d2c-a573-760eec5fef2e' title='Show/Hide attributes'><svg class='icon xr-icon-file-text2'><use xlink:href='#icon-file-text2'></use></svg></label><input id='data-b105b2a7-166b-4903-a850-6b0200b9bd78' class='xr-var-data-in' type='checkbox'><label for='data-b105b2a7-166b-4903-a850-6b0200b9bd78' title='Show/Hide data repr'><svg class='icon xr-icon-database'><use xlink:href='#icon-database'></use></svg></label><div class='xr-var-attrs'><dl class='xr-attrs'><dt><span>comment :</span></dt><dd>Depth (m) calculated from pressure (dbar) and latitude.</dd><dt><span>long_name :</span></dt><dd>Depth calculated from pressure</dd><dt><span>units :</span></dt><dd>m</dd><dt><span>precision :</span></dt><dd>3</dd><dt><span>instrument :</span></dt><dd>CE02SHSP-SP001-08-CTDPFJ000</dd><dt><span>stream :</span></dt><dd>ctdpf_j_cspp_instrument_recovered</dd><dt><span>axis :</span></dt><dd>Z</dd></dl></div><div class='xr-var-data'><pre>[131979 values with dtype=float64]</pre></div></li><li class='xr-var-item'><div class='xr-var-name'><span>time</span></div><div class='xr-var-dims'>(obs)</div><div class='xr-var-dtype'>datetime64[ns]</div><div class='xr-var-preview xr-preview'>...</div><input id='attrs-e85690d0-bcee-4dcf-9b68-d8c08ee5dcba' class='xr-var-attrs-in' type='checkbox' ><label for='attrs-e85690d0-bcee-4dcf-9b68-d8c08ee5dcba' title='Show/Hide attributes'><svg class='icon xr-icon-file-text2'><use xlink:href='#icon-file-text2'></use></svg></label><input id='data-23b2860e-060a-4123-a4e9-904dcbbe1f68' class='xr-var-data-in' type='checkbox'><label for='data-23b2860e-060a-4123-a4e9-904dcbbe1f68' title='Show/Hide data repr'><svg class='icon xr-icon-database'><use xlink:href='#icon-database'></use></svg></label><div class='xr-var-attrs'><dl class='xr-attrs'><dt><span>long_name :</span></dt><dd>time</dd><dt><span>standard_name :</span></dt><dd>time</dd><dt><span>axis :</span></dt><dd>T</dd></dl></div><div class='xr-var-data'><pre>[131979 values with dtype=datetime64[ns]]</pre></div></li></ul></div></li><li class='xr-section-item'><input id='section-a3c4d479-39fc-4197-b63d-8647c063b0f6' class='xr-section-summary-in' type='checkbox'  ><label for='section-a3c4d479-39fc-4197-b63d-8647c063b0f6' class='xr-section-summary' >Data variables: <span>(30)</span></label><div class='xr-section-inline-details'></div><div class='xr-section-details'><ul class='xr-var-list'><li class='xr-var-item'><div class='xr-var-name'><span>external_temp_raw</span></div><div class='xr-var-dims'>(obs)</div><div class='xr-var-dtype'>float32</div><div class='xr-var-preview xr-preview'>...</div><input id='attrs-1615420a-9c87-4509-a82f-77c3f2998ad2' class='xr-var-attrs-in' type='checkbox' ><label for='attrs-1615420a-9c87-4509-a82f-77c3f2998ad2' title='Show/Hide attributes'><svg class='icon xr-icon-file-text2'><use xlink:href='#icon-file-text2'></use></svg></label><input id='data-25cb602c-9035-415f-b0f7-d0184af8a10b' class='xr-var-data-in' type='checkbox'><label for='data-25cb602c-9035-415f-b0f7-d0184af8a10b' title='Show/Hide data repr'><svg class='icon xr-icon-database'><use xlink:href='#icon-database'></use></svg></label><div class='xr-var-attrs'><dl class='xr-attrs'><dt><span>comment :</span></dt><dd>Temperature external to the instrument measured in counts</dd><dt><span>precision :</span></dt><dd>0</dd><dt><span>long_name :</span></dt><dd>Raw External Temperature</dd><dt><span>units :</span></dt><dd>counts</dd></dl></div><div class='xr-var-data'><pre>[131979 values with dtype=float32]</pre></div></li><li class='xr-var-item'><div class='xr-var-name'><span>c_signal_counts</span></div><div class='xr-var-dims'>(obs, wavelength)</div><div class='xr-var-dtype'>float32</div><div class='xr-var-preview xr-preview'>...</div><input id='attrs-97264b9b-67cc-4b10-a542-c4d7deaad9b2' class='xr-var-attrs-in' type='checkbox' ><label for='attrs-97264b9b-67cc-4b10-a542-c4d7deaad9b2' title='Show/Hide attributes'><svg class='icon xr-icon-file-text2'><use xlink:href='#icon-file-text2'></use></svg></label><input id='data-031b6f56-cba0-4a52-975b-e577ea660b81' class='xr-var-data-in' type='checkbox'><label for='data-031b6f56-cba0-4a52-975b-e577ea660b81' title='Show/Hide data repr'><svg class='icon xr-icon-database'><use xlink:href='#icon-database'></use></svg></label><div class='xr-var-attrs'><dl class='xr-attrs'><dt><span>comment :</span></dt><dd>Array of raw c-channel signal counts. This is the uncorrected beam attenuation measurement.</dd><dt><span>long_name :</span></dt><dd>Signal Beam Attenuation</dd><dt><span>precision :</span></dt><dd>0</dd><dt><span>data_product_identifier :</span></dt><dd>OPTCSIG_L0</dd><dt><span>units :</span></dt><dd>counts</dd></dl></div><div class='xr-var-data'><pre>[11350194 values with dtype=float32]</pre></div></li><li class='xr-var-item'><div class='xr-var-name'><span>deployment</span></div><div class='xr-var-dims'>(obs)</div><div class='xr-var-dtype'>int32</div><div class='xr-var-preview xr-preview'>...</div><input id='attrs-fabf0ed5-b25f-4151-905b-4a4f78b166da' class='xr-var-attrs-in' type='checkbox' ><label for='attrs-fabf0ed5-b25f-4151-905b-4a4f78b166da' title='Show/Hide attributes'><svg class='icon xr-icon-file-text2'><use xlink:href='#icon-file-text2'></use></svg></label><input id='data-b9e1b2a9-9e40-47ad-9489-22b2315f73dc' class='xr-var-data-in' type='checkbox'><label for='data-b9e1b2a9-9e40-47ad-9489-22b2315f73dc' title='Show/Hide data repr'><svg class='icon xr-icon-database'><use xlink:href='#icon-database'></use></svg></label><div class='xr-var-attrs'><dl class='xr-attrs'><dt><span>name :</span></dt><dd>deployment</dd></dl></div><div class='xr-var-data'><pre>[131979 values with dtype=int32]</pre></div></li><li class='xr-var-item'><div class='xr-var-name'><span>a_signal_counts</span></div><div class='xr-var-dims'>(obs, wavelength)</div><div class='xr-var-dtype'>float32</div><div class='xr-var-preview xr-preview'>...</div><input id='attrs-6f67865a-1cfb-42e9-bf5c-e52312ac6654' class='xr-var-attrs-in' type='checkbox' ><label for='attrs-6f67865a-1cfb-42e9-bf5c-e52312ac6654' title='Show/Hide attributes'><svg class='icon xr-icon-file-text2'><use xlink:href='#icon-file-text2'></use></svg></label><input id='data-140fdb2f-27ea-48a0-a948-1bcbaac16b12' class='xr-var-data-in' type='checkbox'><label for='data-140fdb2f-27ea-48a0-a948-1bcbaac16b12' title='Show/Hide data repr'><svg class='icon xr-icon-database'><use xlink:href='#icon-database'></use></svg></label><div class='xr-var-attrs'><dl class='xr-attrs'><dt><span>comment :</span></dt><dd>Array of raw a-channel signal counts. This is the uncorrected absorption measurement.</dd><dt><span>long_name :</span></dt><dd>Signal Absorption</dd><dt><span>precision :</span></dt><dd>0</dd><dt><span>data_product_identifier :</span></dt><dd>OPTASIG_L0</dd><dt><span>units :</span></dt><dd>counts</dd></dl></div><div class='xr-var-data'><pre>[11350194 values with dtype=float32]</pre></div></li><li class='xr-var-item'><div class='xr-var-name'><span>int_ctd_pressure</span></div><div class='xr-var-dims'>(obs)</div><div class='xr-var-dtype'>float64</div><div class='xr-var-preview xr-preview'>...</div><input id='attrs-a3fdb1ab-c8e5-4daa-844a-a8372b98101b' class='xr-var-attrs-in' type='checkbox' ><label for='attrs-a3fdb1ab-c8e5-4daa-844a-a8372b98101b' title='Show/Hide attributes'><svg class='icon xr-icon-file-text2'><use xlink:href='#icon-file-text2'></use></svg></label><input id='data-e466156c-688c-420d-b25d-3d5a8f0157e9' class='xr-var-data-in' type='checkbox'><label for='data-e466156c-688c-420d-b25d-3d5a8f0157e9' title='Show/Hide data repr'><svg class='icon xr-icon-database'><use xlink:href='#icon-database'></use></svg></label><div class='xr-var-attrs'><dl class='xr-attrs'><dt><span>comment :</span></dt><dd>Seawater Pressure refers to the pressure exerted on a sensor in situ by the weight of the column of seawater above it. It is calculated by subtracting one standard atmosphere from the absolute pressure at the sensor to remove the weight of the atmosphere on top of the water column. The pressure at a sensor in situ provides a metric of the depth of that sensor.</dd><dt><span>data_product_identifier :</span></dt><dd>PRESWAT_L1</dd><dt><span>precision :</span></dt><dd>3</dd><dt><span>long_name :</span></dt><dd>Seawater Pressure</dd><dt><span>standard_name :</span></dt><dd>sea_water_pressure</dd><dt><span>units :</span></dt><dd>dbar</dd></dl></div><div class='xr-var-data'><pre>[131979 values with dtype=float64]</pre></div></li><li class='xr-var-item'><div class='xr-var-name'><span>a_reference_counts</span></div><div class='xr-var-dims'>(obs, wavelength)</div><div class='xr-var-dtype'>float32</div><div class='xr-var-preview xr-preview'>...</div><input id='attrs-dbd8688b-d0d3-4e9c-a1ec-53c747332dbd' class='xr-var-attrs-in' type='checkbox' ><label for='attrs-dbd8688b-d0d3-4e9c-a1ec-53c747332dbd' title='Show/Hide attributes'><svg class='icon xr-icon-file-text2'><use xlink:href='#icon-file-text2'></use></svg></label><input id='data-6bc0c26a-a38f-41cb-81ab-500fccdf2875' class='xr-var-data-in' type='checkbox'><label for='data-6bc0c26a-a38f-41cb-81ab-500fccdf2875' title='Show/Hide data repr'><svg class='icon xr-icon-database'><use xlink:href='#icon-database'></use></svg></label><div class='xr-var-attrs'><dl class='xr-attrs'><dt><span>comment :</span></dt><dd>Array of raw a-channel reference counts, used to compute the Optical Absorption Coefficient data product.</dd><dt><span>long_name :</span></dt><dd>Reference Absorption</dd><dt><span>precision :</span></dt><dd>0</dd><dt><span>data_product_identifier :</span></dt><dd>OPTAREF_L0</dd><dt><span>units :</span></dt><dd>counts</dd></dl></div><div class='xr-var-data'><pre>[11350194 values with dtype=float32]</pre></div></li><li class='xr-var-item'><div class='xr-var-name'><span>driver_timestamp</span></div><div class='xr-var-dims'>(obs)</div><div class='xr-var-dtype'>datetime64[ns]</div><div class='xr-var-preview xr-preview'>...</div><input id='attrs-501705cd-0027-4c8e-abc0-122d44e2b3f4' class='xr-var-attrs-in' type='checkbox' ><label for='attrs-501705cd-0027-4c8e-abc0-122d44e2b3f4' title='Show/Hide attributes'><svg class='icon xr-icon-file-text2'><use xlink:href='#icon-file-text2'></use></svg></label><input id='data-70a117c2-5c77-452a-81f0-27e14aa07421' class='xr-var-data-in' type='checkbox'><label for='data-70a117c2-5c77-452a-81f0-27e14aa07421' title='Show/Hide data repr'><svg class='icon xr-icon-database'><use xlink:href='#icon-database'></use></svg></label><div class='xr-var-attrs'><dl class='xr-attrs'><dt><span>comment :</span></dt><dd>Driver timestamp, UTC</dd><dt><span>long_name :</span></dt><dd>Driver Timestamp, UTC</dd></dl></div><div class='xr-var-data'><pre>[131979 values with dtype=datetime64[ns]]</pre></div></li><li class='xr-var-item'><div class='xr-var-name'><span>id</span></div><div class='xr-var-dims'>(obs)</div><div class='xr-var-dtype'>|S36</div><div class='xr-var-preview xr-preview'>...</div><input id='attrs-69fc3fe7-cea6-46d5-8e1f-060132272c0e' class='xr-var-attrs-in' type='checkbox' ><label for='attrs-69fc3fe7-cea6-46d5-8e1f-060132272c0e' title='Show/Hide attributes'><svg class='icon xr-icon-file-text2'><use xlink:href='#icon-file-text2'></use></svg></label><input id='data-f20e9a05-f0b1-4b38-966a-a24f0d0034db' class='xr-var-data-in' type='checkbox'><label for='data-f20e9a05-f0b1-4b38-966a-a24f0d0034db' title='Show/Hide data repr'><svg class='icon xr-icon-database'><use xlink:href='#icon-database'></use></svg></label><div class='xr-var-attrs'><dl class='xr-attrs'><dt><span>name :</span></dt><dd>id</dd></dl></div><div class='xr-var-data'><pre>[131979 values with dtype=|S36]</pre></div></li><li class='xr-var-item'><div class='xr-var-name'><span>wavelength_a</span></div><div class='xr-var-dims'>(wavelength)</div><div class='xr-var-dtype'>float64</div><div class='xr-var-preview xr-preview'>...</div><input id='attrs-5a649861-d315-413f-a7f8-52e39daeb10e' class='xr-var-attrs-in' type='checkbox' ><label for='attrs-5a649861-d315-413f-a7f8-52e39daeb10e' title='Show/Hide attributes'><svg class='icon xr-icon-file-text2'><use xlink:href='#icon-file-text2'></use></svg></label><input id='data-34f228d9-f8b5-4173-9290-790b4e48693c' class='xr-var-data-in' type='checkbox'><label for='data-34f228d9-f8b5-4173-9290-790b4e48693c' title='Show/Hide data repr'><svg class='icon xr-icon-database'><use xlink:href='#icon-database'></use></svg></label><div class='xr-var-attrs'><dl class='xr-attrs'><dt><span>comment :</span></dt><dd>The wavelength at which optical absorption measurements were taken in nm</dd><dt><span>precision :</span></dt><dd>6</dd><dt><span>long_name :</span></dt><dd>Optical Absorption Wavelength</dd><dt><span>units :</span></dt><dd>nm</dd></dl></div><div class='xr-var-data'><pre>[86 values with dtype=float64]</pre></div></li><li class='xr-var-item'><div class='xr-var-name'><span>provenance</span></div><div class='xr-var-dims'>(obs)</div><div class='xr-var-dtype'>|S36</div><div class='xr-var-preview xr-preview'>...</div><input id='attrs-13ccfb58-16e1-496a-af91-f51cf9898cc4' class='xr-var-attrs-in' type='checkbox' ><label for='attrs-13ccfb58-16e1-496a-af91-f51cf9898cc4' title='Show/Hide attributes'><svg class='icon xr-icon-file-text2'><use xlink:href='#icon-file-text2'></use></svg></label><input id='data-71677019-21bd-40cf-8cee-69ffc1b5b13f' class='xr-var-data-in' type='checkbox'><label for='data-71677019-21bd-40cf-8cee-69ffc1b5b13f' title='Show/Hide data repr'><svg class='icon xr-icon-database'><use xlink:href='#icon-database'></use></svg></label><div class='xr-var-attrs'><dl class='xr-attrs'><dt><span>name :</span></dt><dd>provenance</dd></dl></div><div class='xr-var-data'><pre>[131979 values with dtype=|S36]</pre></div></li><li class='xr-var-item'><div class='xr-var-name'><span>wavelength_c</span></div><div class='xr-var-dims'>(wavelength)</div><div class='xr-var-dtype'>float64</div><div class='xr-var-preview xr-preview'>...</div><input id='attrs-3e0a1fb6-bce3-47d9-a9a0-5282575fcfc8' class='xr-var-attrs-in' type='checkbox' ><label for='attrs-3e0a1fb6-bce3-47d9-a9a0-5282575fcfc8' title='Show/Hide attributes'><svg class='icon xr-icon-file-text2'><use xlink:href='#icon-file-text2'></use></svg></label><input id='data-67d3fbfe-c3aa-44dc-8e00-ab26efb63bc5' class='xr-var-data-in' type='checkbox'><label for='data-67d3fbfe-c3aa-44dc-8e00-ab26efb63bc5' title='Show/Hide data repr'><svg class='icon xr-icon-database'><use xlink:href='#icon-database'></use></svg></label><div class='xr-var-attrs'><dl class='xr-attrs'><dt><span>comment :</span></dt><dd>The wavelength at which beam attenuation measurements were taken in nm</dd><dt><span>precision :</span></dt><dd>6</dd><dt><span>long_name :</span></dt><dd>Beam Attenuation Wavelength</dd><dt><span>units :</span></dt><dd>nm</dd></dl></div><div class='xr-var-data'><pre>[86 values with dtype=float64]</pre></div></li><li class='xr-var-item'><div class='xr-var-name'><span>internal_timestamp</span></div><div class='xr-var-dims'>(obs)</div><div class='xr-var-dtype'>datetime64[ns]</div><div class='xr-var-preview xr-preview'>...</div><input id='attrs-5ede8e10-a15a-42b5-8de9-3833c88ba5c2' class='xr-var-attrs-in' type='checkbox' ><label for='attrs-5ede8e10-a15a-42b5-8de9-3833c88ba5c2' title='Show/Hide attributes'><svg class='icon xr-icon-file-text2'><use xlink:href='#icon-file-text2'></use></svg></label><input id='data-fae21891-6d11-4d98-abd8-a7739fabe900' class='xr-var-data-in' type='checkbox'><label for='data-fae21891-6d11-4d98-abd8-a7739fabe900' title='Show/Hide data repr'><svg class='icon xr-icon-database'><use xlink:href='#icon-database'></use></svg></label><div class='xr-var-attrs'><dl class='xr-attrs'><dt><span>comment :</span></dt><dd>Internal timestamp, UTC</dd><dt><span>long_name :</span></dt><dd>Internal Timestamp, UTC</dd></dl></div><div class='xr-var-data'><pre>[131979 values with dtype=datetime64[ns]]</pre></div></li><li class='xr-var-item'><div class='xr-var-name'><span>beam_attenuation</span></div><div class='xr-var-dims'>(obs, wavelength)</div><div class='xr-var-dtype'>float64</div><div class='xr-var-preview xr-preview'>...</div><input id='attrs-f880aa96-624f-4ab5-83ca-5219801ee491' class='xr-var-attrs-in' type='checkbox' ><label for='attrs-f880aa96-624f-4ab5-83ca-5219801ee491' title='Show/Hide attributes'><svg class='icon xr-icon-file-text2'><use xlink:href='#icon-file-text2'></use></svg></label><input id='data-5425de4c-e6c9-4a82-85fe-6cf0cbdaa6e4' class='xr-var-data-in' type='checkbox'><label for='data-5425de4c-e6c9-4a82-85fe-6cf0cbdaa6e4' title='Show/Hide data repr'><svg class='icon xr-icon-database'><use xlink:href='#icon-database'></use></svg></label><div class='xr-var-attrs'><dl class='xr-attrs'><dt><span>comment :</span></dt><dd>The Optical Beam Attenuation Coefficient is the rate that the intensity of a beam of light will decrease in response to the combined effects of absorption and scatter as a function of propagation distance. The Attenuation Coefficient results from the spectral beam attenuation of the combination of all seawater impurities including all particulate and dissolved matter of optical importance.</dd><dt><span>long_name :</span></dt><dd>Optical Beam Attenuation Coefficient</dd><dt><span>precision :</span></dt><dd>6</dd><dt><span>data_product_identifier :</span></dt><dd>OPTATTN_L2</dd><dt><span>units :</span></dt><dd>m-1</dd><dt><span>ancillary_variables :</span></dt><dd>sea_water_practical_salinity internal_temp_raw sea_water_temperature c_signal_counts c_reference_counts</dd></dl></div><div class='xr-var-data'><pre>[11350194 values with dtype=float64]</pre></div></li><li class='xr-var-item'><div class='xr-var-name'><span>profiler_timestamp</span></div><div class='xr-var-dims'>(obs)</div><div class='xr-var-dtype'>datetime64[ns]</div><div class='xr-var-preview xr-preview'>...</div><input id='attrs-2794fd9c-bd1c-4a78-96a1-5e9b18de3e71' class='xr-var-attrs-in' type='checkbox' ><label for='attrs-2794fd9c-bd1c-4a78-96a1-5e9b18de3e71' title='Show/Hide attributes'><svg class='icon xr-icon-file-text2'><use xlink:href='#icon-file-text2'></use></svg></label><input id='data-ff106eab-04e8-43c7-92c1-9fa5de460c02' class='xr-var-data-in' type='checkbox'><label for='data-ff106eab-04e8-43c7-92c1-9fa5de460c02' title='Show/Hide data repr'><svg class='icon xr-icon-database'><use xlink:href='#icon-database'></use></svg></label><div class='xr-var-attrs'><dl class='xr-attrs'><dt><span>comment :</span></dt><dd>Timestamp in seconds since January 01, 1970 UTC.</dd><dt><span>precision :</span></dt><dd>0</dd><dt><span>long_name :</span></dt><dd>Surface-Piercing Profiler Timestamp, UTC</dd></dl></div><div class='xr-var-data'><pre>[131979 values with dtype=datetime64[ns]]</pre></div></li><li class='xr-var-item'><div class='xr-var-name'><span>internal_temp_raw</span></div><div class='xr-var-dims'>(obs)</div><div class='xr-var-dtype'>float32</div><div class='xr-var-preview xr-preview'>...</div><input id='attrs-339c48c0-b4a9-40ce-8fb4-6b6229f54438' class='xr-var-attrs-in' type='checkbox' ><label for='attrs-339c48c0-b4a9-40ce-8fb4-6b6229f54438' title='Show/Hide attributes'><svg class='icon xr-icon-file-text2'><use xlink:href='#icon-file-text2'></use></svg></label><input id='data-7c50cda7-6b01-4e14-a5a1-407e065ee148' class='xr-var-data-in' type='checkbox'><label for='data-7c50cda7-6b01-4e14-a5a1-407e065ee148' title='Show/Hide data repr'><svg class='icon xr-icon-database'><use xlink:href='#icon-database'></use></svg></label><div class='xr-var-attrs'><dl class='xr-attrs'><dt><span>comment :</span></dt><dd>Internal Instrument Temperature of the Absorption Spectrophotometer. These data are used in the calculation of the optical absorption coefficient as changes in instrument internal temperature may alter absorption properties of the seawater.</dd><dt><span>long_name :</span></dt><dd>Internal Instrument Temperature Measurement</dd><dt><span>precision :</span></dt><dd>0</dd><dt><span>data_product_identifier :</span></dt><dd>OPTTEMP_L0</dd><dt><span>units :</span></dt><dd>counts</dd></dl></div><div class='xr-var-data'><pre>[131979 values with dtype=float32]</pre></div></li><li class='xr-var-item'><div class='xr-var-name'><span>ingestion_timestamp</span></div><div class='xr-var-dims'>(obs)</div><div class='xr-var-dtype'>datetime64[ns]</div><div class='xr-var-preview xr-preview'>...</div><input id='attrs-4b306738-1b9b-4863-afb3-755d4748b0ba' class='xr-var-attrs-in' type='checkbox' ><label for='attrs-4b306738-1b9b-4863-afb3-755d4748b0ba' title='Show/Hide attributes'><svg class='icon xr-icon-file-text2'><use xlink:href='#icon-file-text2'></use></svg></label><input id='data-8a9a10d9-cee1-4d1a-b2f3-51391dd9b051' class='xr-var-data-in' type='checkbox'><label for='data-8a9a10d9-cee1-4d1a-b2f3-51391dd9b051' title='Show/Hide data repr'><svg class='icon xr-icon-database'><use xlink:href='#icon-database'></use></svg></label><div class='xr-var-attrs'><dl class='xr-attrs'><dt><span>comment :</span></dt><dd>The NTP Timestamp for when the granule was ingested</dd><dt><span>long_name :</span></dt><dd>Ingestion Timestamp, UTC</dd></dl></div><div class='xr-var-data'><pre>[131979 values with dtype=datetime64[ns]]</pre></div></li><li class='xr-var-item'><div class='xr-var-name'><span>c_reference_dark_counts</span></div><div class='xr-var-dims'>(obs)</div><div class='xr-var-dtype'>float32</div><div class='xr-var-preview xr-preview'>...</div><input id='attrs-e2866d46-6227-4009-970e-741e61437ff4' class='xr-var-attrs-in' type='checkbox' ><label for='attrs-e2866d46-6227-4009-970e-741e61437ff4' title='Show/Hide attributes'><svg class='icon xr-icon-file-text2'><use xlink:href='#icon-file-text2'></use></svg></label><input id='data-225ae702-5ec8-4423-8e83-9cb25369f73f' class='xr-var-data-in' type='checkbox'><label for='data-225ae702-5ec8-4423-8e83-9cb25369f73f' title='Show/Hide data repr'><svg class='icon xr-icon-database'><use xlink:href='#icon-database'></use></svg></label><div class='xr-var-attrs'><dl class='xr-attrs'><dt><span>comment :</span></dt><dd>C-channel reference dark counts, used for diagnostic purposes</dd><dt><span>precision :</span></dt><dd>0</dd><dt><span>long_name :</span></dt><dd>Attenuation Dark Reference</dd><dt><span>units :</span></dt><dd>counts</dd></dl></div><div class='xr-var-data'><pre>[131979 values with dtype=float32]</pre></div></li><li class='xr-var-item'><div class='xr-var-name'><span>port_timestamp</span></div><div class='xr-var-dims'>(obs)</div><div class='xr-var-dtype'>datetime64[ns]</div><div class='xr-var-preview xr-preview'>...</div><input id='attrs-cd4c7d61-4ae0-40bb-b035-134f369161d2' class='xr-var-attrs-in' type='checkbox' ><label for='attrs-cd4c7d61-4ae0-40bb-b035-134f369161d2' title='Show/Hide attributes'><svg class='icon xr-icon-file-text2'><use xlink:href='#icon-file-text2'></use></svg></label><input id='data-d822feb5-0389-4b27-b406-3bb1717eb6de' class='xr-var-data-in' type='checkbox'><label for='data-d822feb5-0389-4b27-b406-3bb1717eb6de' title='Show/Hide data repr'><svg class='icon xr-icon-database'><use xlink:href='#icon-database'></use></svg></label><div class='xr-var-attrs'><dl class='xr-attrs'><dt><span>comment :</span></dt><dd>Port timestamp, UTC</dd><dt><span>long_name :</span></dt><dd>Port Timestamp, UTC</dd></dl></div><div class='xr-var-data'><pre>[131979 values with dtype=datetime64[ns]]</pre></div></li><li class='xr-var-item'><div class='xr-var-name'><span>num_wavelengths</span></div><div class='xr-var-dims'>(obs)</div><div class='xr-var-dtype'>float32</div><div class='xr-var-preview xr-preview'>...</div><input id='attrs-60272a2c-2fe1-420d-82dc-eace630fd14f' class='xr-var-attrs-in' type='checkbox' ><label for='attrs-60272a2c-2fe1-420d-82dc-eace630fd14f' title='Show/Hide attributes'><svg class='icon xr-icon-file-text2'><use xlink:href='#icon-file-text2'></use></svg></label><input id='data-0fc94973-aa34-4ea6-9518-7010385b02ee' class='xr-var-data-in' type='checkbox'><label for='data-0fc94973-aa34-4ea6-9518-7010385b02ee' title='Show/Hide data repr'><svg class='icon xr-icon-database'><use xlink:href='#icon-database'></use></svg></label><div class='xr-var-attrs'><dl class='xr-attrs'><dt><span>comment :</span></dt><dd>Number of output wavelengths</dd><dt><span>precision :</span></dt><dd>0</dd><dt><span>long_name :</span></dt><dd>Number of Wavelengths</dd><dt><span>units :</span></dt><dd>1</dd></dl></div><div class='xr-var-data'><pre>[131979 values with dtype=float32]</pre></div></li><li class='xr-var-item'><div class='xr-var-name'><span>optical_absorption</span></div><div class='xr-var-dims'>(obs, wavelength)</div><div class='xr-var-dtype'>float64</div><div class='xr-var-preview xr-preview'>...</div><input id='attrs-3125f2dd-8c9f-4f1a-b37f-a208ec5be08a' class='xr-var-attrs-in' type='checkbox' ><label for='attrs-3125f2dd-8c9f-4f1a-b37f-a208ec5be08a' title='Show/Hide attributes'><svg class='icon xr-icon-file-text2'><use xlink:href='#icon-file-text2'></use></svg></label><input id='data-111c8850-9e12-4447-90ec-e383ca774a1b' class='xr-var-data-in' type='checkbox'><label for='data-111c8850-9e12-4447-90ec-e383ca774a1b' title='Show/Hide data repr'><svg class='icon xr-icon-database'><use xlink:href='#icon-database'></use></svg></label><div class='xr-var-attrs'><dl class='xr-attrs'><dt><span>comment :</span></dt><dd>Optical Absorption Coefficient is the rate that the intensity of a beam of light will decrease in response to the absorption (removal) of light energy as a function of propagation distance. The Optical Absorption Coefficient reflects the absorption coefficient for the combination of all seawater impurities including all particulate and dissolved matter of optical importance.</dd><dt><span>long_name :</span></dt><dd>Optical Absorption Coefficient</dd><dt><span>precision :</span></dt><dd>6</dd><dt><span>data_product_identifier :</span></dt><dd>OPTABSN_L2</dd><dt><span>units :</span></dt><dd>m-1</dd><dt><span>ancillary_variables :</span></dt><dd>a_reference_counts sea_water_practical_salinity a_signal_counts internal_temp_raw beam_attenuation sea_water_temperature</dd></dl></div><div class='xr-var-data'><pre>[11350194 values with dtype=float64]</pre></div></li><li class='xr-var-item'><div class='xr-var-name'><span>sea_water_practical_salinity</span></div><div class='xr-var-dims'>(obs)</div><div class='xr-var-dtype'>float64</div><div class='xr-var-preview xr-preview'>...</div><input id='attrs-51541eed-1575-4c7e-86c2-688b069deebe' class='xr-var-attrs-in' type='checkbox' ><label for='attrs-51541eed-1575-4c7e-86c2-688b069deebe' title='Show/Hide attributes'><svg class='icon xr-icon-file-text2'><use xlink:href='#icon-file-text2'></use></svg></label><input id='data-f59b3d53-0ca3-47c7-ae43-546ea9928c22' class='xr-var-data-in' type='checkbox'><label for='data-f59b3d53-0ca3-47c7-ae43-546ea9928c22' title='Show/Hide data repr'><svg class='icon xr-icon-database'><use xlink:href='#icon-database'></use></svg></label><div class='xr-var-attrs'><dl class='xr-attrs'><dt><span>comment :</span></dt><dd>Salinity is generally defined as the concentration of dissolved salt in a parcel of seawater. Practical Salinity is a more specific unitless quantity calculated from the conductivity of seawater and adjusted for temperature and pressure. It is approximately equivalent to Absolute Salinity (the mass fraction of dissolved salt in seawater) but they are not interchangeable.</dd><dt><span>data_product_identifier :</span></dt><dd>PRACSAL_L2</dd><dt><span>precision :</span></dt><dd>3</dd><dt><span>long_name :</span></dt><dd>Practical Salinity</dd><dt><span>standard_name :</span></dt><dd>sea_water_practical_salinity</dd><dt><span>units :</span></dt><dd>1</dd><dt><span>alternate_parameter_name :</span></dt><dd>ctdpf_j_cspp_instrument_recovered-salinity</dd><dt><span>instrument :</span></dt><dd>CE02SHSP-SP001-08-CTDPFJ000</dd><dt><span>stream :</span></dt><dd>ctdpf_j_cspp_instrument_recovered</dd></dl></div><div class='xr-var-data'><pre>[131979 values with dtype=float64]</pre></div></li><li class='xr-var-item'><div class='xr-var-name'><span>on_seconds</span></div><div class='xr-var-dims'>(obs)</div><div class='xr-var-dtype'>float32</div><div class='xr-var-preview xr-preview'>...</div><input id='attrs-e04b07eb-63ac-4526-85a5-812433b21021' class='xr-var-attrs-in' type='checkbox' ><label for='attrs-e04b07eb-63ac-4526-85a5-812433b21021' title='Show/Hide attributes'><svg class='icon xr-icon-file-text2'><use xlink:href='#icon-file-text2'></use></svg></label><input id='data-41229677-5ed5-47a7-b9d9-ed52f7c6b570' class='xr-var-data-in' type='checkbox'><label for='data-41229677-5ed5-47a7-b9d9-ed52f7c6b570' title='Show/Hide data repr'><svg class='icon xr-icon-database'><use xlink:href='#icon-database'></use></svg></label><div class='xr-var-attrs'><dl class='xr-attrs'><dt><span>comment :</span></dt><dd>Powered On Time, s</dd><dt><span>precision :</span></dt><dd>4</dd><dt><span>long_name :</span></dt><dd>Powered on Time</dd><dt><span>units :</span></dt><dd>s</dd></dl></div><div class='xr-var-data'><pre>[131979 values with dtype=float32]</pre></div></li><li class='xr-var-item'><div class='xr-var-name'><span>c_signal_dark_counts</span></div><div class='xr-var-dims'>(obs)</div><div class='xr-var-dtype'>float32</div><div class='xr-var-preview xr-preview'>...</div><input id='attrs-0c18d45b-e56d-49c4-a4f8-ea277322b527' class='xr-var-attrs-in' type='checkbox' ><label for='attrs-0c18d45b-e56d-49c4-a4f8-ea277322b527' title='Show/Hide attributes'><svg class='icon xr-icon-file-text2'><use xlink:href='#icon-file-text2'></use></svg></label><input id='data-1e88e488-51a2-4283-85ab-60a162b96938' class='xr-var-data-in' type='checkbox'><label for='data-1e88e488-51a2-4283-85ab-60a162b96938' title='Show/Hide data repr'><svg class='icon xr-icon-database'><use xlink:href='#icon-database'></use></svg></label><div class='xr-var-attrs'><dl class='xr-attrs'><dt><span>comment :</span></dt><dd>C-signal reference dark counts, used for diagnostic purposes</dd><dt><span>precision :</span></dt><dd>0</dd><dt><span>long_name :</span></dt><dd>Attenuation Dark Signal</dd><dt><span>units :</span></dt><dd>counts</dd></dl></div><div class='xr-var-data'><pre>[131979 values with dtype=float32]</pre></div></li><li class='xr-var-item'><div class='xr-var-name'><span>pressure_counts</span></div><div class='xr-var-dims'>(obs)</div><div class='xr-var-dtype'>float32</div><div class='xr-var-preview xr-preview'>...</div><input id='attrs-19ccb7e6-0b53-4bdb-b586-441fcd70ca2d' class='xr-var-attrs-in' type='checkbox' ><label for='attrs-19ccb7e6-0b53-4bdb-b586-441fcd70ca2d' title='Show/Hide attributes'><svg class='icon xr-icon-file-text2'><use xlink:href='#icon-file-text2'></use></svg></label><input id='data-0ef22c85-4d40-4a09-9929-8bdac1a8831e' class='xr-var-data-in' type='checkbox'><label for='data-0ef22c85-4d40-4a09-9929-8bdac1a8831e' title='Show/Hide data repr'><svg class='icon xr-icon-database'><use xlink:href='#icon-database'></use></svg></label><div class='xr-var-attrs'><dl class='xr-attrs'><dt><span>comment :</span></dt><dd>Raw A/D counts from the pressure sensor</dd><dt><span>precision :</span></dt><dd>0</dd><dt><span>long_name :</span></dt><dd>Pressure</dd><dt><span>units :</span></dt><dd>counts</dd></dl></div><div class='xr-var-data'><pre>[131979 values with dtype=float32]</pre></div></li><li class='xr-var-item'><div class='xr-var-name'><span>preferred_timestamp</span></div><div class='xr-var-dims'>(obs)</div><div class='xr-var-dtype'>object</div><div class='xr-var-preview xr-preview'>...</div><input id='attrs-ccc3c93c-adf2-438c-970a-2ff3beafb6de' class='xr-var-attrs-in' type='checkbox' ><label for='attrs-ccc3c93c-adf2-438c-970a-2ff3beafb6de' title='Show/Hide attributes'><svg class='icon xr-icon-file-text2'><use xlink:href='#icon-file-text2'></use></svg></label><input id='data-5677fb4b-0c7e-4205-aba8-e56ac74b7fae' class='xr-var-data-in' type='checkbox'><label for='data-5677fb4b-0c7e-4205-aba8-e56ac74b7fae' title='Show/Hide data repr'><svg class='icon xr-icon-database'><use xlink:href='#icon-database'></use></svg></label><div class='xr-var-attrs'><dl class='xr-attrs'><dt><span>comment :</span></dt><dd>Timestamp preferred as official record.</dd><dt><span>long_name :</span></dt><dd>Preferred Timestamp</dd></dl></div><div class='xr-var-data'><pre>[131979 values with dtype=object]</pre></div></li><li class='xr-var-item'><div class='xr-var-name'><span>a_signal_dark_counts</span></div><div class='xr-var-dims'>(obs)</div><div class='xr-var-dtype'>float32</div><div class='xr-var-preview xr-preview'>...</div><input id='attrs-c01e0b6f-f3dc-499a-b80e-78cbac41edd8' class='xr-var-attrs-in' type='checkbox' ><label for='attrs-c01e0b6f-f3dc-499a-b80e-78cbac41edd8' title='Show/Hide attributes'><svg class='icon xr-icon-file-text2'><use xlink:href='#icon-file-text2'></use></svg></label><input id='data-0a8c85bd-f244-4bff-a4f9-15a14fd6a0e2' class='xr-var-data-in' type='checkbox'><label for='data-0a8c85bd-f244-4bff-a4f9-15a14fd6a0e2' title='Show/Hide data repr'><svg class='icon xr-icon-database'><use xlink:href='#icon-database'></use></svg></label><div class='xr-var-attrs'><dl class='xr-attrs'><dt><span>comment :</span></dt><dd>A-signal reference dark counts, used for diagnostic purposes</dd><dt><span>precision :</span></dt><dd>0</dd><dt><span>long_name :</span></dt><dd>Absorption Dark Signal</dd><dt><span>units :</span></dt><dd>counts</dd></dl></div><div class='xr-var-data'><pre>[131979 values with dtype=float32]</pre></div></li><li class='xr-var-item'><div class='xr-var-name'><span>c_reference_counts</span></div><div class='xr-var-dims'>(obs, wavelength)</div><div class='xr-var-dtype'>float32</div><div class='xr-var-preview xr-preview'>...</div><input id='attrs-df60f550-51c6-4da5-88f8-f8be2966dc57' class='xr-var-attrs-in' type='checkbox' ><label for='attrs-df60f550-51c6-4da5-88f8-f8be2966dc57' title='Show/Hide attributes'><svg class='icon xr-icon-file-text2'><use xlink:href='#icon-file-text2'></use></svg></label><input id='data-11675a86-8552-400b-a309-ac7821eb5470' class='xr-var-data-in' type='checkbox'><label for='data-11675a86-8552-400b-a309-ac7821eb5470' title='Show/Hide data repr'><svg class='icon xr-icon-database'><use xlink:href='#icon-database'></use></svg></label><div class='xr-var-attrs'><dl class='xr-attrs'><dt><span>comment :</span></dt><dd>Array of raw c-channel reference counts, used to compute the Optical Beam Attenuation Coefficient data product.</dd><dt><span>long_name :</span></dt><dd>Reference Beam Attenuation</dd><dt><span>precision :</span></dt><dd>0</dd><dt><span>data_product_identifier :</span></dt><dd>OPTCREF_L0</dd><dt><span>units :</span></dt><dd>counts</dd></dl></div><div class='xr-var-data'><pre>[11350194 values with dtype=float32]</pre></div></li><li class='xr-var-item'><div class='xr-var-name'><span>a_reference_dark_counts</span></div><div class='xr-var-dims'>(obs)</div><div class='xr-var-dtype'>float32</div><div class='xr-var-preview xr-preview'>...</div><input id='attrs-71af3ad8-a622-4a30-962f-6474c407908e' class='xr-var-attrs-in' type='checkbox' ><label for='attrs-71af3ad8-a622-4a30-962f-6474c407908e' title='Show/Hide attributes'><svg class='icon xr-icon-file-text2'><use xlink:href='#icon-file-text2'></use></svg></label><input id='data-8c292457-4539-47a3-93bb-3b3bc36d1c84' class='xr-var-data-in' type='checkbox'><label for='data-8c292457-4539-47a3-93bb-3b3bc36d1c84' title='Show/Hide data repr'><svg class='icon xr-icon-database'><use xlink:href='#icon-database'></use></svg></label><div class='xr-var-attrs'><dl class='xr-attrs'><dt><span>comment :</span></dt><dd>A-channel reference dark counts, used for diagnostic purposes</dd><dt><span>precision :</span></dt><dd>0</dd><dt><span>long_name :</span></dt><dd>Absorption Dark Reference</dd><dt><span>units :</span></dt><dd>counts</dd></dl></div><div class='xr-var-data'><pre>[131979 values with dtype=float32]</pre></div></li><li class='xr-var-item'><div class='xr-var-name'><span>suspect_timestamp</span></div><div class='xr-var-dims'>(obs)</div><div class='xr-var-dtype'>float32</div><div class='xr-var-preview xr-preview'>...</div><input id='attrs-4dc4ecfe-ba42-4b78-b0dd-0837515bff31' class='xr-var-attrs-in' type='checkbox' ><label for='attrs-4dc4ecfe-ba42-4b78-b0dd-0837515bff31' title='Show/Hide attributes'><svg class='icon xr-icon-file-text2'><use xlink:href='#icon-file-text2'></use></svg></label><input id='data-cc0f79ce-409d-44f4-8fc1-65229836eff6' class='xr-var-data-in' type='checkbox'><label for='data-cc0f79ce-409d-44f4-8fc1-65229836eff6' title='Show/Hide data repr'><svg class='icon xr-icon-database'><use xlink:href='#icon-database'></use></svg></label><div class='xr-var-attrs'><dl class='xr-attrs'><dt><span>comment :</span></dt><dd>Flag indicating a potential inaccuracy in the timestamp. No - 0, Yes - 1</dd><dt><span>precision :</span></dt><dd>0</dd><dt><span>long_name :</span></dt><dd>Suspect Timestamp</dd><dt><span>units :</span></dt><dd>1</dd></dl></div><div class='xr-var-data'><pre>[131979 values with dtype=float32]</pre></div></li><li class='xr-var-item'><div class='xr-var-name'><span>sea_water_temperature</span></div><div class='xr-var-dims'>(obs)</div><div class='xr-var-dtype'>float64</div><div class='xr-var-preview xr-preview'>...</div><input id='attrs-679bfd63-c3f5-4278-ae1a-08f6ac4436e0' class='xr-var-attrs-in' type='checkbox' ><label for='attrs-679bfd63-c3f5-4278-ae1a-08f6ac4436e0' title='Show/Hide attributes'><svg class='icon xr-icon-file-text2'><use xlink:href='#icon-file-text2'></use></svg></label><input id='data-eae545cc-dc5e-40cd-861a-afed532c322d' class='xr-var-data-in' type='checkbox'><label for='data-eae545cc-dc5e-40cd-861a-afed532c322d' title='Show/Hide data repr'><svg class='icon xr-icon-database'><use xlink:href='#icon-database'></use></svg></label><div class='xr-var-attrs'><dl class='xr-attrs'><dt><span>comment :</span></dt><dd>Seawater temperature near the sensor.</dd><dt><span>data_product_identifier :</span></dt><dd>TEMPWAT_L1</dd><dt><span>precision :</span></dt><dd>4</dd><dt><span>long_name :</span></dt><dd>Seawater Temperature</dd><dt><span>standard_name :</span></dt><dd>sea_water_temperature</dd><dt><span>units :</span></dt><dd>degrees_Celsius</dd><dt><span>alternate_parameter_name :</span></dt><dd>ctdpf_j_cspp_instrument_recovered-temperature</dd><dt><span>instrument :</span></dt><dd>CE02SHSP-SP001-08-CTDPFJ000</dd><dt><span>stream :</span></dt><dd>ctdpf_j_cspp_instrument_recovered</dd></dl></div><div class='xr-var-data'><pre>[131979 values with dtype=float64]</pre></div></li></ul></div></li><li class='xr-section-item'><input id='section-384f99ae-c6f4-4c00-bfff-358a0a14538f' class='xr-section-summary-in' type='checkbox'  ><label for='section-384f99ae-c6f4-4c00-bfff-358a0a14538f' class='xr-section-summary' >Indexes: <span>(2)</span></label><div class='xr-section-inline-details'></div><div class='xr-section-details'><ul class='xr-var-list'><li class='xr-var-item'><div class='xr-index-name'><div>obs</div></div><div class='xr-index-preview'>PandasIndex</div><input type='checkbox' disabled/><label></label><input id='index-77c4dff9-0328-4be4-a6e0-666abcc82106' class='xr-index-data-in' type='checkbox'/><label for='index-77c4dff9-0328-4be4-a6e0-666abcc82106' title='Show/Hide index repr'><svg class='icon xr-icon-database'><use xlink:href='#icon-database'></use></svg></label><div class='xr-index-data'><pre>PandasIndex(Index([     0,      1,      2,      3,      4,      5,      6,      7,      8,\n",
       "            9,\n",
       "       ...\n",
       "       131969, 131970, 131971, 131972, 131973, 131974, 131975, 131976, 131977,\n",
       "       131978],\n",
       "      dtype=&#x27;int32&#x27;, name=&#x27;obs&#x27;, length=131979))</pre></div></li><li class='xr-var-item'><div class='xr-index-name'><div>wavelength</div></div><div class='xr-index-preview'>PandasIndex</div><input type='checkbox' disabled/><label></label><input id='index-642f5e66-8bf1-44fd-8e66-9edbf7e2412e' class='xr-index-data-in' type='checkbox'/><label for='index-642f5e66-8bf1-44fd-8e66-9edbf7e2412e' title='Show/Hide index repr'><svg class='icon xr-icon-database'><use xlink:href='#icon-database'></use></svg></label><div class='xr-index-data'><pre>PandasIndex(Index([ 0,  1,  2,  3,  4,  5,  6,  7,  8,  9, 10, 11, 12, 13, 14, 15, 16, 17,\n",
       "       18, 19, 20, 21, 22, 23, 24, 25, 26, 27, 28, 29, 30, 31, 32, 33, 34, 35,\n",
       "       36, 37, 38, 39, 40, 41, 42, 43, 44, 45, 46, 47, 48, 49, 50, 51, 52, 53,\n",
       "       54, 55, 56, 57, 58, 59, 60, 61, 62, 63, 64, 65, 66, 67, 68, 69, 70, 71,\n",
       "       72, 73, 74, 75, 76, 77, 78, 79, 80, 81, 82, 83, 84, 85],\n",
       "      dtype=&#x27;int32&#x27;, name=&#x27;wavelength&#x27;))</pre></div></li></ul></div></li><li class='xr-section-item'><input id='section-9aa1fbea-5dcb-400b-b0fb-518b1d360e62' class='xr-section-summary-in' type='checkbox'  ><label for='section-9aa1fbea-5dcb-400b-b0fb-518b1d360e62' class='xr-section-summary' >Attributes: <span>(68)</span></label><div class='xr-section-inline-details'></div><div class='xr-section-details'><dl class='xr-attrs'><dt><span>node :</span></dt><dd>SP001</dd><dt><span>comment :</span></dt><dd></dd><dt><span>publisher_email :</span></dt><dd></dd><dt><span>sourceUrl :</span></dt><dd>http://oceanobservatories.org/</dd><dt><span>collection_method :</span></dt><dd>recovered_cspp</dd><dt><span>stream :</span></dt><dd>optaa_dj_cspp_instrument_recovered</dd><dt><span>featureType :</span></dt><dd>point</dd><dt><span>creator_email :</span></dt><dd></dd><dt><span>publisher_name :</span></dt><dd>Ocean Observatories Initiative</dd><dt><span>date_modified :</span></dt><dd>2023-06-14T16:18:41.293936</dd><dt><span>keywords :</span></dt><dd></dd><dt><span>cdm_data_type :</span></dt><dd>Point</dd><dt><span>references :</span></dt><dd>More information can be found at http://oceanobservatories.org/</dd><dt><span>Metadata_Conventions :</span></dt><dd>Unidata Dataset Discovery v1.0</dd><dt><span>date_created :</span></dt><dd>2023-06-14T16:18:41.293933</dd><dt><span>id :</span></dt><dd>CE02SHSP-SP001-04-OPTAAJ000-recovered_cspp-optaa_dj_cspp_instrument_recovered</dd><dt><span>requestUUID :</span></dt><dd>62529081-0c5a-42f1-a139-b717249fdf1e</dd><dt><span>contributor_role :</span></dt><dd></dd><dt><span>summary :</span></dt><dd>Dataset Generated by Stream Engine from Ocean Observatories Initiative</dd><dt><span>keywords_vocabulary :</span></dt><dd></dd><dt><span>institution :</span></dt><dd>Ocean Observatories Initiative</dd><dt><span>naming_authority :</span></dt><dd>org.oceanobservatories</dd><dt><span>feature_Type :</span></dt><dd>point</dd><dt><span>infoUrl :</span></dt><dd>http://oceanobservatories.org/</dd><dt><span>license :</span></dt><dd></dd><dt><span>contributor_name :</span></dt><dd></dd><dt><span>uuid :</span></dt><dd>62529081-0c5a-42f1-a139-b717249fdf1e</dd><dt><span>creator_name :</span></dt><dd>Ocean Observatories Initiative</dd><dt><span>title :</span></dt><dd>Data produced by Stream Engine version 1.20.6 for CE02SHSP-SP001-04-OPTAAJ000-recovered_cspp-optaa_dj_cspp_instrument_recovered</dd><dt><span>sensor :</span></dt><dd>04-OPTAAJ000</dd><dt><span>standard_name_vocabulary :</span></dt><dd>NetCDF Climate and Forecast (CF) Metadata Convention Standard Name Table 29</dd><dt><span>acknowledgement :</span></dt><dd></dd><dt><span>Conventions :</span></dt><dd>CF-1.6</dd><dt><span>project :</span></dt><dd>Ocean Observatories Initiative</dd><dt><span>source :</span></dt><dd>CE02SHSP-SP001-04-OPTAAJ000-recovered_cspp-optaa_dj_cspp_instrument_recovered</dd><dt><span>publisher_url :</span></dt><dd>http://oceanobservatories.org/</dd><dt><span>creator_url :</span></dt><dd>http://oceanobservatories.org/</dd><dt><span>nodc_template_version :</span></dt><dd>NODC_NetCDF_TimeSeries_Orthogonal_Template_v1.1</dd><dt><span>subsite :</span></dt><dd>CE02SHSP</dd><dt><span>processing_level :</span></dt><dd>L2</dd><dt><span>history :</span></dt><dd>2023-06-14T16:18:41.293877 generated from Stream Engine</dd><dt><span>Manufacturer :</span></dt><dd>WET Labs</dd><dt><span>ModelNumber :</span></dt><dd>AC-S</dd><dt><span>SerialNumber :</span></dt><dd>ACS-138</dd><dt><span>Description :</span></dt><dd>Spectrophotometer: OPTAA Series J</dd><dt><span>FirmwareVersion :</span></dt><dd>Not specified.</dd><dt><span>SoftwareVersion :</span></dt><dd>Not specified.</dd><dt><span>AssetUniqueID :</span></dt><dd>CGINS-OPTAAJ-00138</dd><dt><span>Notes :</span></dt><dd>Not specified.</dd><dt><span>Owner :</span></dt><dd>Oregon State University</dd><dt><span>RemoteResources :</span></dt><dd>[]</dd><dt><span>ShelfLifeExpirationDate :</span></dt><dd>Not specified.</dd><dt><span>Mobile :</span></dt><dd>False</dd><dt><span>AssetManagementRecordLastModified :</span></dt><dd>2023-06-02T18:55:55.111000</dd><dt><span>time_coverage_start :</span></dt><dd>2019-06-24T16:55:43.774000</dd><dt><span>time_coverage_end :</span></dt><dd>2019-06-27T02:39:24.583000</dd><dt><span>time_coverage_resolution :</span></dt><dd>P1.57S</dd><dt><span>geospatial_lat_min :</span></dt><dd>44.63455</dd><dt><span>geospatial_lat_max :</span></dt><dd>44.63455</dd><dt><span>geospatial_lat_units :</span></dt><dd>degrees_north</dd><dt><span>geospatial_lat_resolution :</span></dt><dd>0.1</dd><dt><span>geospatial_lon_min :</span></dt><dd>-123.69743</dd><dt><span>geospatial_lon_max :</span></dt><dd>-123.69743</dd><dt><span>geospatial_lon_units :</span></dt><dd>degrees_east</dd><dt><span>geospatial_lon_resolution :</span></dt><dd>0.1</dd><dt><span>geospatial_vertical_units :</span></dt><dd>meters</dd><dt><span>geospatial_vertical_resolution :</span></dt><dd>0.1</dd><dt><span>geospatial_vertical_positive :</span></dt><dd>down</dd></dl></div></li></ul></div></div>"
      ]
     },
     "execution_count": 3,
     "metadata": {},
     "output_type": "execute_result"
    }
   ],
   "execution_count": 3
  },
  {
   "metadata": {},
   "cell_type": "markdown",
   "source": [
    "The `reformat_ooi_optaa` utility function removes the OOI-processed beam attenuation and optical absorption. These variables do not consider discontinuity or zero shift correction. In this example, we will recalculate these variables from the raw data, so they are removed in the cell below. Note that this function may not be maintained in acspype in the future if significant changes to OOI ACS files are made.\n",
    "\n",
    "Because the reformat_ooi_optaa function only considers a single ACS file, the deployment information is reassigned as a coordinate rather than a variable. This results in additional dimensions to consider when processing and merging multiple ACS data. For simplicity, this example subsets the dataset to reduce the dimensions to consider in processing."
   ],
   "id": "eb837969a0075765"
  },
  {
   "metadata": {
    "ExecuteTime": {
     "end_time": "2025-05-22T15:40:09.061115Z",
     "start_time": "2025-05-22T15:40:07.746177Z"
    }
   },
   "cell_type": "code",
   "source": [
    "acs = reformat_ooi_optaa(ds = acs)\n",
    "acs = acs.sel(latitude = float(acs.latitude), longitude = float(acs.longitude), deployment = int(acs.deployment))"
   ],
   "id": "6a35bb488ff34220",
   "outputs": [],
   "execution_count": 4
  },
  {
   "metadata": {
    "ExecuteTime": {
     "end_time": "2025-05-22T15:40:09.086942Z",
     "start_time": "2025-05-22T15:40:09.061115Z"
    }
   },
   "cell_type": "code",
   "source": "acs  # ACS data after reformatting",
   "id": "ed207f632586a3c",
   "outputs": [
    {
     "data": {
      "text/plain": [
       "<xarray.Dataset> Size: 191MB\n",
       "Dimensions:                       (time: 131979, a_wavelength: 86,\n",
       "                                   c_wavelength: 86)\n",
       "Coordinates:\n",
       "    latitude                      float64 8B 44.63\n",
       "    longitude                     float64 8B -123.7\n",
       "    deployment                    int32 4B 13\n",
       "    depth                         (time) float64 1MB ...\n",
       "  * time                          (time) datetime64[ns] 1MB 2019-06-24T16:55:...\n",
       "  * a_wavelength                  (a_wavelength) float64 688B 401.2 ... 746.8\n",
       "  * c_wavelength                  (c_wavelength) float64 688B 399.4 ... 749.7\n",
       "Data variables: (12/14)\n",
       "    a_reference                   (time, a_wavelength) float32 45MB 604.0 ......\n",
       "    a_reference_dark              (time) float32 528kB 473.0 473.0 ... 471.0\n",
       "    a_signal                      (time, a_wavelength) float32 45MB 462.0 ......\n",
       "    a_signal_dark                 (time) float32 528kB 709.0 709.0 ... 712.0\n",
       "    c_reference                   (time, c_wavelength) float32 45MB 614.0 ......\n",
       "    c_reference_dark              (time) float32 528kB 476.0 476.0 ... 475.0\n",
       "    ...                            ...\n",
       "    elapsed_time                  (time) float32 528kB 5.041e+04 ... 2.107e+05\n",
       "    raw_external_temperature      (time) float32 528kB 4.116e+04 ... 3.889e+04\n",
       "    raw_internal_temperature      (time) float32 528kB 5.149e+04 ... 5.079e+04\n",
       "    sea_water_practical_salinity  (time) float64 1MB 33.98 34.01 ... 31.18 31.18\n",
       "    sea_water_pressure            (time) float64 1MB 77.44 77.44 ... 0.742\n",
       "    sea_water_temperature         (time) float64 1MB 7.288 7.288 ... 15.22 15.21\n",
       "Attributes: (12/59)\n",
       "    AssetManagementRecordLastModified:  2023-06-02T18:55:55.111000\n",
       "    AssetUniqueID:                      CGINS-OPTAAJ-00138\n",
       "    Conventions:                        CF-1.6\n",
       "    Description:                        Spectrophotometer: OPTAA Series J\n",
       "    FirmwareVersion:                    Not specified.\n",
       "    Manufacturer:                       WET Labs\n",
       "    ...                                 ...\n",
       "    time_coverage_end:                  2019-06-27T02:39:24.583000\n",
       "    time_coverage_resolution:           P1.57S\n",
       "    time_coverage_start:                2019-06-24T16:55:43.774000\n",
       "    title:                              Data produced by Stream Engine versio...\n",
       "    uuid:                               62529081-0c5a-42f1-a139-b717249fdf1e\n",
       "    number_of_output_wavelengths:       86"
      ],
      "text/html": [
       "<div><svg style=\"position: absolute; width: 0; height: 0; overflow: hidden\">\n",
       "<defs>\n",
       "<symbol id=\"icon-database\" viewBox=\"0 0 32 32\">\n",
       "<path d=\"M16 0c-8.837 0-16 2.239-16 5v4c0 2.761 7.163 5 16 5s16-2.239 16-5v-4c0-2.761-7.163-5-16-5z\"></path>\n",
       "<path d=\"M16 17c-8.837 0-16-2.239-16-5v6c0 2.761 7.163 5 16 5s16-2.239 16-5v-6c0 2.761-7.163 5-16 5z\"></path>\n",
       "<path d=\"M16 26c-8.837 0-16-2.239-16-5v6c0 2.761 7.163 5 16 5s16-2.239 16-5v-6c0 2.761-7.163 5-16 5z\"></path>\n",
       "</symbol>\n",
       "<symbol id=\"icon-file-text2\" viewBox=\"0 0 32 32\">\n",
       "<path d=\"M28.681 7.159c-0.694-0.947-1.662-2.053-2.724-3.116s-2.169-2.030-3.116-2.724c-1.612-1.182-2.393-1.319-2.841-1.319h-15.5c-1.378 0-2.5 1.121-2.5 2.5v27c0 1.378 1.122 2.5 2.5 2.5h23c1.378 0 2.5-1.122 2.5-2.5v-19.5c0-0.448-0.137-1.23-1.319-2.841zM24.543 5.457c0.959 0.959 1.712 1.825 2.268 2.543h-4.811v-4.811c0.718 0.556 1.584 1.309 2.543 2.268zM28 29.5c0 0.271-0.229 0.5-0.5 0.5h-23c-0.271 0-0.5-0.229-0.5-0.5v-27c0-0.271 0.229-0.5 0.5-0.5 0 0 15.499-0 15.5 0v7c0 0.552 0.448 1 1 1h7v19.5z\"></path>\n",
       "<path d=\"M23 26h-14c-0.552 0-1-0.448-1-1s0.448-1 1-1h14c0.552 0 1 0.448 1 1s-0.448 1-1 1z\"></path>\n",
       "<path d=\"M23 22h-14c-0.552 0-1-0.448-1-1s0.448-1 1-1h14c0.552 0 1 0.448 1 1s-0.448 1-1 1z\"></path>\n",
       "<path d=\"M23 18h-14c-0.552 0-1-0.448-1-1s0.448-1 1-1h14c0.552 0 1 0.448 1 1s-0.448 1-1 1z\"></path>\n",
       "</symbol>\n",
       "</defs>\n",
       "</svg>\n",
       "<style>/* CSS stylesheet for displaying xarray objects in jupyterlab.\n",
       " *\n",
       " */\n",
       "\n",
       ":root {\n",
       "  --xr-font-color0: var(--jp-content-font-color0, rgba(0, 0, 0, 1));\n",
       "  --xr-font-color2: var(--jp-content-font-color2, rgba(0, 0, 0, 0.54));\n",
       "  --xr-font-color3: var(--jp-content-font-color3, rgba(0, 0, 0, 0.38));\n",
       "  --xr-border-color: var(--jp-border-color2, #e0e0e0);\n",
       "  --xr-disabled-color: var(--jp-layout-color3, #bdbdbd);\n",
       "  --xr-background-color: var(--jp-layout-color0, white);\n",
       "  --xr-background-color-row-even: var(--jp-layout-color1, white);\n",
       "  --xr-background-color-row-odd: var(--jp-layout-color2, #eeeeee);\n",
       "}\n",
       "\n",
       "html[theme=\"dark\"],\n",
       "html[data-theme=\"dark\"],\n",
       "body[data-theme=\"dark\"],\n",
       "body.vscode-dark {\n",
       "  --xr-font-color0: rgba(255, 255, 255, 1);\n",
       "  --xr-font-color2: rgba(255, 255, 255, 0.54);\n",
       "  --xr-font-color3: rgba(255, 255, 255, 0.38);\n",
       "  --xr-border-color: #1f1f1f;\n",
       "  --xr-disabled-color: #515151;\n",
       "  --xr-background-color: #111111;\n",
       "  --xr-background-color-row-even: #111111;\n",
       "  --xr-background-color-row-odd: #313131;\n",
       "}\n",
       "\n",
       ".xr-wrap {\n",
       "  display: block !important;\n",
       "  min-width: 300px;\n",
       "  max-width: 700px;\n",
       "}\n",
       "\n",
       ".xr-text-repr-fallback {\n",
       "  /* fallback to plain text repr when CSS is not injected (untrusted notebook) */\n",
       "  display: none;\n",
       "}\n",
       "\n",
       ".xr-header {\n",
       "  padding-top: 6px;\n",
       "  padding-bottom: 6px;\n",
       "  margin-bottom: 4px;\n",
       "  border-bottom: solid 1px var(--xr-border-color);\n",
       "}\n",
       "\n",
       ".xr-header > div,\n",
       ".xr-header > ul {\n",
       "  display: inline;\n",
       "  margin-top: 0;\n",
       "  margin-bottom: 0;\n",
       "}\n",
       "\n",
       ".xr-obj-type,\n",
       ".xr-array-name {\n",
       "  margin-left: 2px;\n",
       "  margin-right: 10px;\n",
       "}\n",
       "\n",
       ".xr-obj-type {\n",
       "  color: var(--xr-font-color2);\n",
       "}\n",
       "\n",
       ".xr-sections {\n",
       "  padding-left: 0 !important;\n",
       "  display: grid;\n",
       "  grid-template-columns: 150px auto auto 1fr 0 20px 0 20px;\n",
       "}\n",
       "\n",
       ".xr-section-item {\n",
       "  display: contents;\n",
       "}\n",
       "\n",
       ".xr-section-item input {\n",
       "  display: inline-block;\n",
       "  opacity: 0;\n",
       "  height: 0;\n",
       "}\n",
       "\n",
       ".xr-section-item input + label {\n",
       "  color: var(--xr-disabled-color);\n",
       "}\n",
       "\n",
       ".xr-section-item input:enabled + label {\n",
       "  cursor: pointer;\n",
       "  color: var(--xr-font-color2);\n",
       "}\n",
       "\n",
       ".xr-section-item input:focus + label {\n",
       "  border: 2px solid var(--xr-font-color0);\n",
       "}\n",
       "\n",
       ".xr-section-item input:enabled + label:hover {\n",
       "  color: var(--xr-font-color0);\n",
       "}\n",
       "\n",
       ".xr-section-summary {\n",
       "  grid-column: 1;\n",
       "  color: var(--xr-font-color2);\n",
       "  font-weight: 500;\n",
       "}\n",
       "\n",
       ".xr-section-summary > span {\n",
       "  display: inline-block;\n",
       "  padding-left: 0.5em;\n",
       "}\n",
       "\n",
       ".xr-section-summary-in:disabled + label {\n",
       "  color: var(--xr-font-color2);\n",
       "}\n",
       "\n",
       ".xr-section-summary-in + label:before {\n",
       "  display: inline-block;\n",
       "  content: \"►\";\n",
       "  font-size: 11px;\n",
       "  width: 15px;\n",
       "  text-align: center;\n",
       "}\n",
       "\n",
       ".xr-section-summary-in:disabled + label:before {\n",
       "  color: var(--xr-disabled-color);\n",
       "}\n",
       "\n",
       ".xr-section-summary-in:checked + label:before {\n",
       "  content: \"▼\";\n",
       "}\n",
       "\n",
       ".xr-section-summary-in:checked + label > span {\n",
       "  display: none;\n",
       "}\n",
       "\n",
       ".xr-section-summary,\n",
       ".xr-section-inline-details {\n",
       "  padding-top: 4px;\n",
       "  padding-bottom: 4px;\n",
       "}\n",
       "\n",
       ".xr-section-inline-details {\n",
       "  grid-column: 2 / -1;\n",
       "}\n",
       "\n",
       ".xr-section-details {\n",
       "  display: none;\n",
       "  grid-column: 1 / -1;\n",
       "  margin-bottom: 5px;\n",
       "}\n",
       "\n",
       ".xr-section-summary-in:checked ~ .xr-section-details {\n",
       "  display: contents;\n",
       "}\n",
       "\n",
       ".xr-array-wrap {\n",
       "  grid-column: 1 / -1;\n",
       "  display: grid;\n",
       "  grid-template-columns: 20px auto;\n",
       "}\n",
       "\n",
       ".xr-array-wrap > label {\n",
       "  grid-column: 1;\n",
       "  vertical-align: top;\n",
       "}\n",
       "\n",
       ".xr-preview {\n",
       "  color: var(--xr-font-color3);\n",
       "}\n",
       "\n",
       ".xr-array-preview,\n",
       ".xr-array-data {\n",
       "  padding: 0 5px !important;\n",
       "  grid-column: 2;\n",
       "}\n",
       "\n",
       ".xr-array-data,\n",
       ".xr-array-in:checked ~ .xr-array-preview {\n",
       "  display: none;\n",
       "}\n",
       "\n",
       ".xr-array-in:checked ~ .xr-array-data,\n",
       ".xr-array-preview {\n",
       "  display: inline-block;\n",
       "}\n",
       "\n",
       ".xr-dim-list {\n",
       "  display: inline-block !important;\n",
       "  list-style: none;\n",
       "  padding: 0 !important;\n",
       "  margin: 0;\n",
       "}\n",
       "\n",
       ".xr-dim-list li {\n",
       "  display: inline-block;\n",
       "  padding: 0;\n",
       "  margin: 0;\n",
       "}\n",
       "\n",
       ".xr-dim-list:before {\n",
       "  content: \"(\";\n",
       "}\n",
       "\n",
       ".xr-dim-list:after {\n",
       "  content: \")\";\n",
       "}\n",
       "\n",
       ".xr-dim-list li:not(:last-child):after {\n",
       "  content: \",\";\n",
       "  padding-right: 5px;\n",
       "}\n",
       "\n",
       ".xr-has-index {\n",
       "  font-weight: bold;\n",
       "}\n",
       "\n",
       ".xr-var-list,\n",
       ".xr-var-item {\n",
       "  display: contents;\n",
       "}\n",
       "\n",
       ".xr-var-item > div,\n",
       ".xr-var-item label,\n",
       ".xr-var-item > .xr-var-name span {\n",
       "  background-color: var(--xr-background-color-row-even);\n",
       "  margin-bottom: 0;\n",
       "}\n",
       "\n",
       ".xr-var-item > .xr-var-name:hover span {\n",
       "  padding-right: 5px;\n",
       "}\n",
       "\n",
       ".xr-var-list > li:nth-child(odd) > div,\n",
       ".xr-var-list > li:nth-child(odd) > label,\n",
       ".xr-var-list > li:nth-child(odd) > .xr-var-name span {\n",
       "  background-color: var(--xr-background-color-row-odd);\n",
       "}\n",
       "\n",
       ".xr-var-name {\n",
       "  grid-column: 1;\n",
       "}\n",
       "\n",
       ".xr-var-dims {\n",
       "  grid-column: 2;\n",
       "}\n",
       "\n",
       ".xr-var-dtype {\n",
       "  grid-column: 3;\n",
       "  text-align: right;\n",
       "  color: var(--xr-font-color2);\n",
       "}\n",
       "\n",
       ".xr-var-preview {\n",
       "  grid-column: 4;\n",
       "}\n",
       "\n",
       ".xr-index-preview {\n",
       "  grid-column: 2 / 5;\n",
       "  color: var(--xr-font-color2);\n",
       "}\n",
       "\n",
       ".xr-var-name,\n",
       ".xr-var-dims,\n",
       ".xr-var-dtype,\n",
       ".xr-preview,\n",
       ".xr-attrs dt {\n",
       "  white-space: nowrap;\n",
       "  overflow: hidden;\n",
       "  text-overflow: ellipsis;\n",
       "  padding-right: 10px;\n",
       "}\n",
       "\n",
       ".xr-var-name:hover,\n",
       ".xr-var-dims:hover,\n",
       ".xr-var-dtype:hover,\n",
       ".xr-attrs dt:hover {\n",
       "  overflow: visible;\n",
       "  width: auto;\n",
       "  z-index: 1;\n",
       "}\n",
       "\n",
       ".xr-var-attrs,\n",
       ".xr-var-data,\n",
       ".xr-index-data {\n",
       "  display: none;\n",
       "  background-color: var(--xr-background-color) !important;\n",
       "  padding-bottom: 5px !important;\n",
       "}\n",
       "\n",
       ".xr-var-attrs-in:checked ~ .xr-var-attrs,\n",
       ".xr-var-data-in:checked ~ .xr-var-data,\n",
       ".xr-index-data-in:checked ~ .xr-index-data {\n",
       "  display: block;\n",
       "}\n",
       "\n",
       ".xr-var-data > table {\n",
       "  float: right;\n",
       "}\n",
       "\n",
       ".xr-var-name span,\n",
       ".xr-var-data,\n",
       ".xr-index-name div,\n",
       ".xr-index-data,\n",
       ".xr-attrs {\n",
       "  padding-left: 25px !important;\n",
       "}\n",
       "\n",
       ".xr-attrs,\n",
       ".xr-var-attrs,\n",
       ".xr-var-data,\n",
       ".xr-index-data {\n",
       "  grid-column: 1 / -1;\n",
       "}\n",
       "\n",
       "dl.xr-attrs {\n",
       "  padding: 0;\n",
       "  margin: 0;\n",
       "  display: grid;\n",
       "  grid-template-columns: 125px auto;\n",
       "}\n",
       "\n",
       ".xr-attrs dt,\n",
       ".xr-attrs dd {\n",
       "  padding: 0;\n",
       "  margin: 0;\n",
       "  float: left;\n",
       "  padding-right: 10px;\n",
       "  width: auto;\n",
       "}\n",
       "\n",
       ".xr-attrs dt {\n",
       "  font-weight: normal;\n",
       "  grid-column: 1;\n",
       "}\n",
       "\n",
       ".xr-attrs dt:hover span {\n",
       "  display: inline-block;\n",
       "  background: var(--xr-background-color);\n",
       "  padding-right: 10px;\n",
       "}\n",
       "\n",
       ".xr-attrs dd {\n",
       "  grid-column: 2;\n",
       "  white-space: pre-wrap;\n",
       "  word-break: break-all;\n",
       "}\n",
       "\n",
       ".xr-icon-database,\n",
       ".xr-icon-file-text2,\n",
       ".xr-no-icon {\n",
       "  display: inline-block;\n",
       "  vertical-align: middle;\n",
       "  width: 1em;\n",
       "  height: 1.5em !important;\n",
       "  stroke-width: 0;\n",
       "  stroke: currentColor;\n",
       "  fill: currentColor;\n",
       "}\n",
       "</style><pre class='xr-text-repr-fallback'>&lt;xarray.Dataset&gt; Size: 191MB\n",
       "Dimensions:                       (time: 131979, a_wavelength: 86,\n",
       "                                   c_wavelength: 86)\n",
       "Coordinates:\n",
       "    latitude                      float64 8B 44.63\n",
       "    longitude                     float64 8B -123.7\n",
       "    deployment                    int32 4B 13\n",
       "    depth                         (time) float64 1MB ...\n",
       "  * time                          (time) datetime64[ns] 1MB 2019-06-24T16:55:...\n",
       "  * a_wavelength                  (a_wavelength) float64 688B 401.2 ... 746.8\n",
       "  * c_wavelength                  (c_wavelength) float64 688B 399.4 ... 749.7\n",
       "Data variables: (12/14)\n",
       "    a_reference                   (time, a_wavelength) float32 45MB 604.0 ......\n",
       "    a_reference_dark              (time) float32 528kB 473.0 473.0 ... 471.0\n",
       "    a_signal                      (time, a_wavelength) float32 45MB 462.0 ......\n",
       "    a_signal_dark                 (time) float32 528kB 709.0 709.0 ... 712.0\n",
       "    c_reference                   (time, c_wavelength) float32 45MB 614.0 ......\n",
       "    c_reference_dark              (time) float32 528kB 476.0 476.0 ... 475.0\n",
       "    ...                            ...\n",
       "    elapsed_time                  (time) float32 528kB 5.041e+04 ... 2.107e+05\n",
       "    raw_external_temperature      (time) float32 528kB 4.116e+04 ... 3.889e+04\n",
       "    raw_internal_temperature      (time) float32 528kB 5.149e+04 ... 5.079e+04\n",
       "    sea_water_practical_salinity  (time) float64 1MB 33.98 34.01 ... 31.18 31.18\n",
       "    sea_water_pressure            (time) float64 1MB 77.44 77.44 ... 0.742\n",
       "    sea_water_temperature         (time) float64 1MB 7.288 7.288 ... 15.22 15.21\n",
       "Attributes: (12/59)\n",
       "    AssetManagementRecordLastModified:  2023-06-02T18:55:55.111000\n",
       "    AssetUniqueID:                      CGINS-OPTAAJ-00138\n",
       "    Conventions:                        CF-1.6\n",
       "    Description:                        Spectrophotometer: OPTAA Series J\n",
       "    FirmwareVersion:                    Not specified.\n",
       "    Manufacturer:                       WET Labs\n",
       "    ...                                 ...\n",
       "    time_coverage_end:                  2019-06-27T02:39:24.583000\n",
       "    time_coverage_resolution:           P1.57S\n",
       "    time_coverage_start:                2019-06-24T16:55:43.774000\n",
       "    title:                              Data produced by Stream Engine versio...\n",
       "    uuid:                               62529081-0c5a-42f1-a139-b717249fdf1e\n",
       "    number_of_output_wavelengths:       86</pre><div class='xr-wrap' style='display:none'><div class='xr-header'><div class='xr-obj-type'>xarray.Dataset</div></div><ul class='xr-sections'><li class='xr-section-item'><input id='section-4b3f57db-43a5-40a8-bc52-6b2ab3bc466f' class='xr-section-summary-in' type='checkbox' disabled ><label for='section-4b3f57db-43a5-40a8-bc52-6b2ab3bc466f' class='xr-section-summary'  title='Expand/collapse section'>Dimensions:</label><div class='xr-section-inline-details'><ul class='xr-dim-list'><li><span class='xr-has-index'>time</span>: 131979</li><li><span class='xr-has-index'>a_wavelength</span>: 86</li><li><span class='xr-has-index'>c_wavelength</span>: 86</li></ul></div><div class='xr-section-details'></div></li><li class='xr-section-item'><input id='section-e0920f01-0463-4e76-8596-ac6430797767' class='xr-section-summary-in' type='checkbox'  checked><label for='section-e0920f01-0463-4e76-8596-ac6430797767' class='xr-section-summary' >Coordinates: <span>(7)</span></label><div class='xr-section-inline-details'></div><div class='xr-section-details'><ul class='xr-var-list'><li class='xr-var-item'><div class='xr-var-name'><span>latitude</span></div><div class='xr-var-dims'>()</div><div class='xr-var-dtype'>float64</div><div class='xr-var-preview xr-preview'>44.63</div><input id='attrs-c2aa822c-46fc-4bc6-bf39-aa69d8bc8f03' class='xr-var-attrs-in' type='checkbox' disabled><label for='attrs-c2aa822c-46fc-4bc6-bf39-aa69d8bc8f03' title='Show/Hide attributes'><svg class='icon xr-icon-file-text2'><use xlink:href='#icon-file-text2'></use></svg></label><input id='data-d71bb709-3f17-4e20-bfbc-a0dd0edbf43f' class='xr-var-data-in' type='checkbox'><label for='data-d71bb709-3f17-4e20-bfbc-a0dd0edbf43f' title='Show/Hide data repr'><svg class='icon xr-icon-database'><use xlink:href='#icon-database'></use></svg></label><div class='xr-var-attrs'><dl class='xr-attrs'></dl></div><div class='xr-var-data'><pre>array(44.63455)</pre></div></li><li class='xr-var-item'><div class='xr-var-name'><span>longitude</span></div><div class='xr-var-dims'>()</div><div class='xr-var-dtype'>float64</div><div class='xr-var-preview xr-preview'>-123.7</div><input id='attrs-c527ebc4-ac4d-4d41-9e7d-037187a5cffa' class='xr-var-attrs-in' type='checkbox' disabled><label for='attrs-c527ebc4-ac4d-4d41-9e7d-037187a5cffa' title='Show/Hide attributes'><svg class='icon xr-icon-file-text2'><use xlink:href='#icon-file-text2'></use></svg></label><input id='data-8b6f2460-3b46-406a-b91d-922103152f27' class='xr-var-data-in' type='checkbox'><label for='data-8b6f2460-3b46-406a-b91d-922103152f27' title='Show/Hide data repr'><svg class='icon xr-icon-database'><use xlink:href='#icon-database'></use></svg></label><div class='xr-var-attrs'><dl class='xr-attrs'></dl></div><div class='xr-var-data'><pre>array(-123.69743)</pre></div></li><li class='xr-var-item'><div class='xr-var-name'><span>deployment</span></div><div class='xr-var-dims'>()</div><div class='xr-var-dtype'>int32</div><div class='xr-var-preview xr-preview'>13</div><input id='attrs-24faff05-63ec-46cb-aedf-1593ea284433' class='xr-var-attrs-in' type='checkbox' disabled><label for='attrs-24faff05-63ec-46cb-aedf-1593ea284433' title='Show/Hide attributes'><svg class='icon xr-icon-file-text2'><use xlink:href='#icon-file-text2'></use></svg></label><input id='data-ea5927c3-85d5-4e4e-8f09-2e5d011ecb05' class='xr-var-data-in' type='checkbox'><label for='data-ea5927c3-85d5-4e4e-8f09-2e5d011ecb05' title='Show/Hide data repr'><svg class='icon xr-icon-database'><use xlink:href='#icon-database'></use></svg></label><div class='xr-var-attrs'><dl class='xr-attrs'></dl></div><div class='xr-var-data'><pre>array(13, dtype=int32)</pre></div></li><li class='xr-var-item'><div class='xr-var-name'><span>depth</span></div><div class='xr-var-dims'>(time)</div><div class='xr-var-dtype'>float64</div><div class='xr-var-preview xr-preview'>...</div><input id='attrs-d69b78fc-7148-4152-8c9d-a54cade356a3' class='xr-var-attrs-in' type='checkbox' ><label for='attrs-d69b78fc-7148-4152-8c9d-a54cade356a3' title='Show/Hide attributes'><svg class='icon xr-icon-file-text2'><use xlink:href='#icon-file-text2'></use></svg></label><input id='data-e530a778-37f2-411b-9669-84ce36c0f611' class='xr-var-data-in' type='checkbox'><label for='data-e530a778-37f2-411b-9669-84ce36c0f611' title='Show/Hide data repr'><svg class='icon xr-icon-database'><use xlink:href='#icon-database'></use></svg></label><div class='xr-var-attrs'><dl class='xr-attrs'><dt><span>comment :</span></dt><dd>Depth (m) calculated from pressure (dbar) and latitude.</dd><dt><span>long_name :</span></dt><dd>Depth calculated from pressure</dd><dt><span>units :</span></dt><dd>m</dd><dt><span>precision :</span></dt><dd>3</dd><dt><span>instrument :</span></dt><dd>CE02SHSP-SP001-08-CTDPFJ000</dd><dt><span>stream :</span></dt><dd>ctdpf_j_cspp_instrument_recovered</dd><dt><span>axis :</span></dt><dd>Z</dd></dl></div><div class='xr-var-data'><pre>[131979 values with dtype=float64]</pre></div></li><li class='xr-var-item'><div class='xr-var-name'><span class='xr-has-index'>time</span></div><div class='xr-var-dims'>(time)</div><div class='xr-var-dtype'>datetime64[ns]</div><div class='xr-var-preview xr-preview'>2019-06-24T16:55:43.774000128 .....</div><input id='attrs-cf36ce57-5c68-4a4e-b22d-0d4d015ccb3c' class='xr-var-attrs-in' type='checkbox' ><label for='attrs-cf36ce57-5c68-4a4e-b22d-0d4d015ccb3c' title='Show/Hide attributes'><svg class='icon xr-icon-file-text2'><use xlink:href='#icon-file-text2'></use></svg></label><input id='data-ec75107f-ade5-4fa2-913c-4602a653059c' class='xr-var-data-in' type='checkbox'><label for='data-ec75107f-ade5-4fa2-913c-4602a653059c' title='Show/Hide data repr'><svg class='icon xr-icon-database'><use xlink:href='#icon-database'></use></svg></label><div class='xr-var-attrs'><dl class='xr-attrs'><dt><span>long_name :</span></dt><dd>time</dd><dt><span>standard_name :</span></dt><dd>time</dd><dt><span>axis :</span></dt><dd>T</dd></dl></div><div class='xr-var-data'><pre>array([&#x27;2019-06-24T16:55:43.774000128&#x27;, &#x27;2019-06-24T16:55:44.024999936&#x27;,\n",
       "       &#x27;2019-06-24T16:55:44.275000320&#x27;, ..., &#x27;2019-06-27T02:39:24.084000256&#x27;,\n",
       "       &#x27;2019-06-27T02:39:24.333000192&#x27;, &#x27;2019-06-27T02:39:24.583000064&#x27;],\n",
       "      shape=(131979,), dtype=&#x27;datetime64[ns]&#x27;)</pre></div></li><li class='xr-var-item'><div class='xr-var-name'><span class='xr-has-index'>a_wavelength</span></div><div class='xr-var-dims'>(a_wavelength)</div><div class='xr-var-dtype'>float64</div><div class='xr-var-preview xr-preview'>401.2 405.1 408.5 ... 743.5 746.8</div><input id='attrs-f0bb578a-1f10-41ff-9629-d8f0fa7f807c' class='xr-var-attrs-in' type='checkbox' disabled><label for='attrs-f0bb578a-1f10-41ff-9629-d8f0fa7f807c' title='Show/Hide attributes'><svg class='icon xr-icon-file-text2'><use xlink:href='#icon-file-text2'></use></svg></label><input id='data-763e8a93-2990-4ed6-8807-019ce735430c' class='xr-var-data-in' type='checkbox'><label for='data-763e8a93-2990-4ed6-8807-019ce735430c' title='Show/Hide data repr'><svg class='icon xr-icon-database'><use xlink:href='#icon-database'></use></svg></label><div class='xr-var-attrs'><dl class='xr-attrs'></dl></div><div class='xr-var-data'><pre>array([401.2, 405.1, 408.5, 412.3, 415.8, 419.9, 424.2, 428.5, 432.5, 436.6,\n",
       "       440.7, 445.3, 449.5, 454.1, 458.7, 462.6, 467.3, 471.9, 476.2, 480.8,\n",
       "       485.3, 489.7, 494.2, 498.2, 502.6, 506.9, 511.4, 516.6, 520.4, 524.9,\n",
       "       529.4, 533.2, 537.2, 541.5, 545.9, 550.2, 554. , 558.2, 562.8, 567.3,\n",
       "       570.7, 574.7, 578.6, 580.3, 583.9, 587.6, 591.3, 595.4, 599.6, 603.5,\n",
       "       608. , 612.2, 616.7, 620.9, 625.2, 629.5, 633.5, 637.5, 641.8, 646.5,\n",
       "       650.4, 654.7, 659. , 663.4, 667.3, 671.8, 676.2, 680.1, 684.3, 687.9,\n",
       "       691.8, 695.4, 699.1, 703. , 707.1, 710.7, 714.5, 717.9, 721.9, 725.3,\n",
       "       728.9, 732.6, 736.4, 739.9, 743.5, 746.8])</pre></div></li><li class='xr-var-item'><div class='xr-var-name'><span class='xr-has-index'>c_wavelength</span></div><div class='xr-var-dims'>(c_wavelength)</div><div class='xr-var-dtype'>float64</div><div class='xr-var-preview xr-preview'>399.4 403.2 406.8 ... 746.4 749.7</div><input id='attrs-96dbbc89-b184-4c92-98e2-f8b94dbe396b' class='xr-var-attrs-in' type='checkbox' disabled><label for='attrs-96dbbc89-b184-4c92-98e2-f8b94dbe396b' title='Show/Hide attributes'><svg class='icon xr-icon-file-text2'><use xlink:href='#icon-file-text2'></use></svg></label><input id='data-7cb3b0fb-8425-4c92-a1be-6372882fce45' class='xr-var-data-in' type='checkbox'><label for='data-7cb3b0fb-8425-4c92-a1be-6372882fce45' title='Show/Hide data repr'><svg class='icon xr-icon-database'><use xlink:href='#icon-database'></use></svg></label><div class='xr-var-attrs'><dl class='xr-attrs'></dl></div><div class='xr-var-data'><pre>array([399.4, 403.2, 406.8, 410.3, 413.9, 417.8, 422.1, 426.3, 430.6, 434.7,\n",
       "       438.7, 442.8, 447.4, 452.3, 456.6, 460.8, 465.2, 469.6, 474.1, 478.9,\n",
       "       483.6, 488. , 492.5, 496.5, 500.9, 505.4, 509.9, 514.6, 519.1, 523.4,\n",
       "       527.9, 532.2, 535.8, 540.1, 544.5, 548.5, 552.9, 557. , 561.5, 565.7,\n",
       "       569.6, 573.6, 577.6, 581.9, 585.6, 589.5, 593.5, 597.7, 601.8, 606. ,\n",
       "       610.8, 614.9, 619.5, 623.2, 627.5, 631.9, 635.9, 640.3, 644.8, 649.3,\n",
       "       653.4, 657.8, 662.3, 666.5, 670.9, 675. , 679.1, 683.2, 687.1, 690.7,\n",
       "       694.9, 698.4, 702.3, 706.7, 710. , 713.9, 717.7, 721.1, 724.8, 728.4,\n",
       "       732.4, 735.9, 739.4, 742.9, 746.4, 749.7])</pre></div></li></ul></div></li><li class='xr-section-item'><input id='section-46a172ef-8135-424d-b347-f561ec4fa6e0' class='xr-section-summary-in' type='checkbox'  checked><label for='section-46a172ef-8135-424d-b347-f561ec4fa6e0' class='xr-section-summary' >Data variables: <span>(14)</span></label><div class='xr-section-inline-details'></div><div class='xr-section-details'><ul class='xr-var-list'><li class='xr-var-item'><div class='xr-var-name'><span>a_reference</span></div><div class='xr-var-dims'>(time, a_wavelength)</div><div class='xr-var-dtype'>float32</div><div class='xr-var-preview xr-preview'>604.0 704.0 ... 5.773e+03 5.31e+03</div><input id='attrs-57d30056-e3a4-477d-b7be-56b33408f7c4' class='xr-var-attrs-in' type='checkbox' ><label for='attrs-57d30056-e3a4-477d-b7be-56b33408f7c4' title='Show/Hide attributes'><svg class='icon xr-icon-file-text2'><use xlink:href='#icon-file-text2'></use></svg></label><input id='data-03ec8b87-9f16-4f39-be99-ffba74292b9a' class='xr-var-data-in' type='checkbox'><label for='data-03ec8b87-9f16-4f39-be99-ffba74292b9a' title='Show/Hide data repr'><svg class='icon xr-icon-database'><use xlink:href='#icon-database'></use></svg></label><div class='xr-var-attrs'><dl class='xr-attrs'><dt><span>comment :</span></dt><dd>Array of raw a-channel reference counts, used to compute the Optical Absorption Coefficient data product.</dd><dt><span>long_name :</span></dt><dd>Reference Absorption</dd><dt><span>precision :</span></dt><dd>0</dd><dt><span>data_product_identifier :</span></dt><dd>OPTAREF_L0</dd><dt><span>units :</span></dt><dd>counts</dd></dl></div><div class='xr-var-data'><pre>array([[ 604.,  704.,  804., ..., 6290., 5815., 5346.],\n",
       "       [ 606.,  702.,  806., ..., 6286., 5814., 5345.],\n",
       "       [ 607.,  703.,  807., ..., 6290., 5812., 5347.],\n",
       "       ...,\n",
       "       [ 592.,  683.,  787., ..., 6235., 5761., 5303.],\n",
       "       [ 593.,  686.,  790., ..., 6241., 5769., 5307.],\n",
       "       [ 593.,  686.,  790., ..., 6244., 5773., 5310.]],\n",
       "      shape=(131979, 86), dtype=float32)</pre></div></li><li class='xr-var-item'><div class='xr-var-name'><span>a_reference_dark</span></div><div class='xr-var-dims'>(time)</div><div class='xr-var-dtype'>float32</div><div class='xr-var-preview xr-preview'>473.0 473.0 472.0 ... 471.0 471.0</div><input id='attrs-44be80ad-1463-491e-b783-c76ed9fb13ac' class='xr-var-attrs-in' type='checkbox' ><label for='attrs-44be80ad-1463-491e-b783-c76ed9fb13ac' title='Show/Hide attributes'><svg class='icon xr-icon-file-text2'><use xlink:href='#icon-file-text2'></use></svg></label><input id='data-a25f3087-699f-47ad-a08d-de31f000cb90' class='xr-var-data-in' type='checkbox'><label for='data-a25f3087-699f-47ad-a08d-de31f000cb90' title='Show/Hide data repr'><svg class='icon xr-icon-database'><use xlink:href='#icon-database'></use></svg></label><div class='xr-var-attrs'><dl class='xr-attrs'><dt><span>comment :</span></dt><dd>A-channel reference dark counts, used for diagnostic purposes</dd><dt><span>precision :</span></dt><dd>0</dd><dt><span>long_name :</span></dt><dd>Absorption Dark Reference</dd><dt><span>units :</span></dt><dd>counts</dd></dl></div><div class='xr-var-data'><pre>array([473., 473., 472., ..., 471., 471., 471.],\n",
       "      shape=(131979,), dtype=float32)</pre></div></li><li class='xr-var-item'><div class='xr-var-name'><span>a_signal</span></div><div class='xr-var-dims'>(time, a_wavelength)</div><div class='xr-var-dtype'>float32</div><div class='xr-var-preview xr-preview'>462.0 573.0 ... 4.361e+03 3.95e+03</div><input id='attrs-c84e44a2-38f2-4ad3-8279-21910c54fbad' class='xr-var-attrs-in' type='checkbox' ><label for='attrs-c84e44a2-38f2-4ad3-8279-21910c54fbad' title='Show/Hide attributes'><svg class='icon xr-icon-file-text2'><use xlink:href='#icon-file-text2'></use></svg></label><input id='data-837a19a7-4829-4d1e-bb48-c15a840914bd' class='xr-var-data-in' type='checkbox'><label for='data-837a19a7-4829-4d1e-bb48-c15a840914bd' title='Show/Hide data repr'><svg class='icon xr-icon-database'><use xlink:href='#icon-database'></use></svg></label><div class='xr-var-attrs'><dl class='xr-attrs'><dt><span>comment :</span></dt><dd>Array of raw a-channel signal counts. This is the uncorrected absorption measurement.</dd><dt><span>long_name :</span></dt><dd>Signal Absorption</dd><dt><span>precision :</span></dt><dd>0</dd><dt><span>data_product_identifier :</span></dt><dd>OPTASIG_L0</dd><dt><span>units :</span></dt><dd>counts</dd></dl></div><div class='xr-var-data'><pre>array([[ 462.,  573.,  688., ..., 5011., 4509., 4076.],\n",
       "       [ 464.,  572.,  690., ..., 5006., 4510., 4076.],\n",
       "       [ 463.,  571.,  689., ..., 5004., 4504., 4073.],\n",
       "       ...,\n",
       "       [ 443.,  545.,  657., ..., 4835., 4354., 3946.],\n",
       "       [ 441.,  546.,  657., ..., 4836., 4355., 3947.],\n",
       "       [ 441.,  547.,  659., ..., 4841., 4361., 3950.]],\n",
       "      shape=(131979, 86), dtype=float32)</pre></div></li><li class='xr-var-item'><div class='xr-var-name'><span>a_signal_dark</span></div><div class='xr-var-dims'>(time)</div><div class='xr-var-dtype'>float32</div><div class='xr-var-preview xr-preview'>709.0 709.0 709.0 ... 712.0 712.0</div><input id='attrs-ae3b377a-9d4d-4aea-bd4e-81d69b743276' class='xr-var-attrs-in' type='checkbox' ><label for='attrs-ae3b377a-9d4d-4aea-bd4e-81d69b743276' title='Show/Hide attributes'><svg class='icon xr-icon-file-text2'><use xlink:href='#icon-file-text2'></use></svg></label><input id='data-8814a3e4-01d3-4ed6-8b70-2d2e2eeabab4' class='xr-var-data-in' type='checkbox'><label for='data-8814a3e4-01d3-4ed6-8b70-2d2e2eeabab4' title='Show/Hide data repr'><svg class='icon xr-icon-database'><use xlink:href='#icon-database'></use></svg></label><div class='xr-var-attrs'><dl class='xr-attrs'><dt><span>comment :</span></dt><dd>A-signal reference dark counts, used for diagnostic purposes</dd><dt><span>precision :</span></dt><dd>0</dd><dt><span>long_name :</span></dt><dd>Absorption Dark Signal</dd><dt><span>units :</span></dt><dd>counts</dd></dl></div><div class='xr-var-data'><pre>array([709., 709., 709., ..., 712., 712., 712.],\n",
       "      shape=(131979,), dtype=float32)</pre></div></li><li class='xr-var-item'><div class='xr-var-name'><span>c_reference</span></div><div class='xr-var-dims'>(time, c_wavelength)</div><div class='xr-var-dtype'>float32</div><div class='xr-var-preview xr-preview'>614.0 722.0 ... 5.988e+03 5.466e+03</div><input id='attrs-b9b42ed4-a805-4bca-a9f8-c049c0dbf20a' class='xr-var-attrs-in' type='checkbox' ><label for='attrs-b9b42ed4-a805-4bca-a9f8-c049c0dbf20a' title='Show/Hide attributes'><svg class='icon xr-icon-file-text2'><use xlink:href='#icon-file-text2'></use></svg></label><input id='data-086a4de8-1fbc-4f38-95e7-62659af9a96f' class='xr-var-data-in' type='checkbox'><label for='data-086a4de8-1fbc-4f38-95e7-62659af9a96f' title='Show/Hide data repr'><svg class='icon xr-icon-database'><use xlink:href='#icon-database'></use></svg></label><div class='xr-var-attrs'><dl class='xr-attrs'><dt><span>comment :</span></dt><dd>Array of raw c-channel reference counts, used to compute the Optical Beam Attenuation Coefficient data product.</dd><dt><span>long_name :</span></dt><dd>Reference Beam Attenuation</dd><dt><span>precision :</span></dt><dd>0</dd><dt><span>data_product_identifier :</span></dt><dd>OPTCREF_L0</dd><dt><span>units :</span></dt><dd>counts</dd></dl></div><div class='xr-var-data'><pre>array([[ 614.,  722.,  838., ..., 6582., 6058., 5526.],\n",
       "       [ 615.,  722.,  837., ..., 6587., 6052., 5523.],\n",
       "       [ 614.,  722.,  838., ..., 6583., 6057., 5520.],\n",
       "       ...,\n",
       "       [ 603.,  708.,  821., ..., 6508., 5985., 5462.],\n",
       "       [ 602.,  707.,  822., ..., 6511., 5987., 5465.],\n",
       "       [ 603.,  707.,  823., ..., 6512., 5988., 5466.]],\n",
       "      shape=(131979, 86), dtype=float32)</pre></div></li><li class='xr-var-item'><div class='xr-var-name'><span>c_reference_dark</span></div><div class='xr-var-dims'>(time)</div><div class='xr-var-dtype'>float32</div><div class='xr-var-preview xr-preview'>476.0 476.0 476.0 ... 475.0 475.0</div><input id='attrs-cb915c96-d56a-4909-9a61-190586272d33' class='xr-var-attrs-in' type='checkbox' ><label for='attrs-cb915c96-d56a-4909-9a61-190586272d33' title='Show/Hide attributes'><svg class='icon xr-icon-file-text2'><use xlink:href='#icon-file-text2'></use></svg></label><input id='data-8fcfb9b8-77c3-4697-a71f-2e74a3172692' class='xr-var-data-in' type='checkbox'><label for='data-8fcfb9b8-77c3-4697-a71f-2e74a3172692' title='Show/Hide data repr'><svg class='icon xr-icon-database'><use xlink:href='#icon-database'></use></svg></label><div class='xr-var-attrs'><dl class='xr-attrs'><dt><span>comment :</span></dt><dd>C-channel reference dark counts, used for diagnostic purposes</dd><dt><span>precision :</span></dt><dd>0</dd><dt><span>long_name :</span></dt><dd>Attenuation Dark Reference</dd><dt><span>units :</span></dt><dd>counts</dd></dl></div><div class='xr-var-data'><pre>array([476., 476., 476., ..., 475., 475., 475.],\n",
       "      shape=(131979,), dtype=float32)</pre></div></li><li class='xr-var-item'><div class='xr-var-name'><span>c_signal</span></div><div class='xr-var-dims'>(time, c_wavelength)</div><div class='xr-var-dtype'>float32</div><div class='xr-var-preview xr-preview'>484.0 574.0 ... 3.726e+03 3.361e+03</div><input id='attrs-4ed8fb3e-745d-4791-b47e-abfda13076d3' class='xr-var-attrs-in' type='checkbox' ><label for='attrs-4ed8fb3e-745d-4791-b47e-abfda13076d3' title='Show/Hide attributes'><svg class='icon xr-icon-file-text2'><use xlink:href='#icon-file-text2'></use></svg></label><input id='data-a670ce01-15b5-4988-bf07-6058ac00a0c4' class='xr-var-data-in' type='checkbox'><label for='data-a670ce01-15b5-4988-bf07-6058ac00a0c4' title='Show/Hide data repr'><svg class='icon xr-icon-database'><use xlink:href='#icon-database'></use></svg></label><div class='xr-var-attrs'><dl class='xr-attrs'><dt><span>comment :</span></dt><dd>Array of raw c-channel signal counts. This is the uncorrected beam attenuation measurement.</dd><dt><span>long_name :</span></dt><dd>Signal Beam Attenuation</dd><dt><span>precision :</span></dt><dd>0</dd><dt><span>data_product_identifier :</span></dt><dd>OPTCSIG_L0</dd><dt><span>units :</span></dt><dd>counts</dd></dl></div><div class='xr-var-data'><pre>array([[ 484.,  574.,  671., ..., 3515., 3175., 2859.],\n",
       "       [ 486.,  573.,  670., ..., 3526., 3182., 2865.],\n",
       "       [ 485.,  574.,  671., ..., 3522., 3181., 2864.],\n",
       "       ...,\n",
       "       [ 598.,  708.,  831., ..., 4137., 3735., 3372.],\n",
       "       [ 598.,  709.,  829., ..., 4130., 3728., 3366.],\n",
       "       [ 599.,  709.,  832., ..., 4125., 3726., 3361.]],\n",
       "      shape=(131979, 86), dtype=float32)</pre></div></li><li class='xr-var-item'><div class='xr-var-name'><span>c_signal_dark</span></div><div class='xr-var-dims'>(time)</div><div class='xr-var-dtype'>float32</div><div class='xr-var-preview xr-preview'>717.0 717.0 716.0 ... 716.0 717.0</div><input id='attrs-1184bc03-8e8c-4656-955e-55901fd65b58' class='xr-var-attrs-in' type='checkbox' ><label for='attrs-1184bc03-8e8c-4656-955e-55901fd65b58' title='Show/Hide attributes'><svg class='icon xr-icon-file-text2'><use xlink:href='#icon-file-text2'></use></svg></label><input id='data-0d7f9c49-f166-4880-9649-ac631c5316b9' class='xr-var-data-in' type='checkbox'><label for='data-0d7f9c49-f166-4880-9649-ac631c5316b9' title='Show/Hide data repr'><svg class='icon xr-icon-database'><use xlink:href='#icon-database'></use></svg></label><div class='xr-var-attrs'><dl class='xr-attrs'><dt><span>comment :</span></dt><dd>C-signal reference dark counts, used for diagnostic purposes</dd><dt><span>precision :</span></dt><dd>0</dd><dt><span>long_name :</span></dt><dd>Attenuation Dark Signal</dd><dt><span>units :</span></dt><dd>counts</dd></dl></div><div class='xr-var-data'><pre>array([717., 717., 716., ..., 716., 716., 717.],\n",
       "      shape=(131979,), dtype=float32)</pre></div></li><li class='xr-var-item'><div class='xr-var-name'><span>elapsed_time</span></div><div class='xr-var-dims'>(time)</div><div class='xr-var-dtype'>float32</div><div class='xr-var-preview xr-preview'>5.041e+04 5.066e+04 ... 2.107e+05</div><input id='attrs-96c75c64-7630-407a-a90d-45d924344704' class='xr-var-attrs-in' type='checkbox' ><label for='attrs-96c75c64-7630-407a-a90d-45d924344704' title='Show/Hide attributes'><svg class='icon xr-icon-file-text2'><use xlink:href='#icon-file-text2'></use></svg></label><input id='data-f6837eb6-a1ba-4f8b-bb07-75fd910a88d4' class='xr-var-data-in' type='checkbox'><label for='data-f6837eb6-a1ba-4f8b-bb07-75fd910a88d4' title='Show/Hide data repr'><svg class='icon xr-icon-database'><use xlink:href='#icon-database'></use></svg></label><div class='xr-var-attrs'><dl class='xr-attrs'><dt><span>units :</span></dt><dd>ms</dd></dl></div><div class='xr-var-data'><pre>array([ 50406.,  50657.,  50907., ..., 210188., 210437., 210687.],\n",
       "      shape=(131979,), dtype=float32)</pre></div></li><li class='xr-var-item'><div class='xr-var-name'><span>raw_external_temperature</span></div><div class='xr-var-dims'>(time)</div><div class='xr-var-dtype'>float32</div><div class='xr-var-preview xr-preview'>4.116e+04 4.116e+04 ... 3.889e+04</div><input id='attrs-5b4b8cad-4789-4a39-b9a6-2c9957d6af87' class='xr-var-attrs-in' type='checkbox' ><label for='attrs-5b4b8cad-4789-4a39-b9a6-2c9957d6af87' title='Show/Hide attributes'><svg class='icon xr-icon-file-text2'><use xlink:href='#icon-file-text2'></use></svg></label><input id='data-b516c513-3081-4cb2-a4b4-2c74bca2ff9c' class='xr-var-data-in' type='checkbox'><label for='data-b516c513-3081-4cb2-a4b4-2c74bca2ff9c' title='Show/Hide data repr'><svg class='icon xr-icon-database'><use xlink:href='#icon-database'></use></svg></label><div class='xr-var-attrs'><dl class='xr-attrs'><dt><span>comment :</span></dt><dd>Temperature external to the instrument measured in counts</dd><dt><span>precision :</span></dt><dd>0</dd><dt><span>long_name :</span></dt><dd>Raw External Temperature</dd><dt><span>units :</span></dt><dd>counts</dd></dl></div><div class='xr-var-data'><pre>array([41158., 41155., 41155., ..., 38946., 38920., 38892.],\n",
       "      shape=(131979,), dtype=float32)</pre></div></li><li class='xr-var-item'><div class='xr-var-name'><span>raw_internal_temperature</span></div><div class='xr-var-dims'>(time)</div><div class='xr-var-dtype'>float32</div><div class='xr-var-preview xr-preview'>5.149e+04 5.149e+04 ... 5.079e+04</div><input id='attrs-ad4e6bfa-e9e5-481e-96f6-3195ba31c734' class='xr-var-attrs-in' type='checkbox' ><label for='attrs-ad4e6bfa-e9e5-481e-96f6-3195ba31c734' title='Show/Hide attributes'><svg class='icon xr-icon-file-text2'><use xlink:href='#icon-file-text2'></use></svg></label><input id='data-8fe74d61-9c62-442b-a5f0-9571ebab2aa9' class='xr-var-data-in' type='checkbox'><label for='data-8fe74d61-9c62-442b-a5f0-9571ebab2aa9' title='Show/Hide data repr'><svg class='icon xr-icon-database'><use xlink:href='#icon-database'></use></svg></label><div class='xr-var-attrs'><dl class='xr-attrs'><dt><span>comment :</span></dt><dd>Internal Instrument Temperature of the Absorption Spectrophotometer. These data are used in the calculation of the optical absorption coefficient as changes in instrument internal temperature may alter absorption properties of the seawater.</dd><dt><span>long_name :</span></dt><dd>Internal Instrument Temperature Measurement</dd><dt><span>precision :</span></dt><dd>0</dd><dt><span>data_product_identifier :</span></dt><dd>OPTTEMP_L0</dd><dt><span>units :</span></dt><dd>counts</dd></dl></div><div class='xr-var-data'><pre>array([51489., 51488., 51483., ..., 50807., 50793., 50787.],\n",
       "      shape=(131979,), dtype=float32)</pre></div></li><li class='xr-var-item'><div class='xr-var-name'><span>sea_water_practical_salinity</span></div><div class='xr-var-dims'>(time)</div><div class='xr-var-dtype'>float64</div><div class='xr-var-preview xr-preview'>33.98 34.01 33.98 ... 31.18 31.18</div><input id='attrs-1d7173b1-9ff0-4008-8bf1-96d6352143e0' class='xr-var-attrs-in' type='checkbox' ><label for='attrs-1d7173b1-9ff0-4008-8bf1-96d6352143e0' title='Show/Hide attributes'><svg class='icon xr-icon-file-text2'><use xlink:href='#icon-file-text2'></use></svg></label><input id='data-97ac41bc-2c57-47d7-bf16-104a88a59ab8' class='xr-var-data-in' type='checkbox'><label for='data-97ac41bc-2c57-47d7-bf16-104a88a59ab8' title='Show/Hide data repr'><svg class='icon xr-icon-database'><use xlink:href='#icon-database'></use></svg></label><div class='xr-var-attrs'><dl class='xr-attrs'><dt><span>comment :</span></dt><dd>Salinity is generally defined as the concentration of dissolved salt in a parcel of seawater. Practical Salinity is a more specific unitless quantity calculated from the conductivity of seawater and adjusted for temperature and pressure. It is approximately equivalent to Absolute Salinity (the mass fraction of dissolved salt in seawater) but they are not interchangeable.</dd><dt><span>data_product_identifier :</span></dt><dd>PRACSAL_L2</dd><dt><span>precision :</span></dt><dd>3</dd><dt><span>long_name :</span></dt><dd>Practical Salinity</dd><dt><span>standard_name :</span></dt><dd>sea_water_practical_salinity</dd><dt><span>units :</span></dt><dd>1</dd><dt><span>alternate_parameter_name :</span></dt><dd>ctdpf_j_cspp_instrument_recovered-salinity</dd><dt><span>instrument :</span></dt><dd>CE02SHSP-SP001-08-CTDPFJ000</dd><dt><span>stream :</span></dt><dd>ctdpf_j_cspp_instrument_recovered</dd></dl></div><div class='xr-var-data'><pre>array([33.97606878, 34.00754816, 33.97879819, ..., 31.18486532,\n",
       "       31.18419475, 31.18386269], shape=(131979,))</pre></div></li><li class='xr-var-item'><div class='xr-var-name'><span>sea_water_pressure</span></div><div class='xr-var-dims'>(time)</div><div class='xr-var-dtype'>float64</div><div class='xr-var-preview xr-preview'>77.44 77.44 77.44 ... 0.8002 0.742</div><input id='attrs-300ae1b6-5f95-41a7-b89a-95de1ae6ba22' class='xr-var-attrs-in' type='checkbox' ><label for='attrs-300ae1b6-5f95-41a7-b89a-95de1ae6ba22' title='Show/Hide attributes'><svg class='icon xr-icon-file-text2'><use xlink:href='#icon-file-text2'></use></svg></label><input id='data-81925bef-7fb1-4415-8e88-fb2a15b65a45' class='xr-var-data-in' type='checkbox'><label for='data-81925bef-7fb1-4415-8e88-fb2a15b65a45' title='Show/Hide data repr'><svg class='icon xr-icon-database'><use xlink:href='#icon-database'></use></svg></label><div class='xr-var-attrs'><dl class='xr-attrs'><dt><span>comment :</span></dt><dd>Seawater Pressure refers to the pressure exerted on a sensor in situ by the weight of the column of seawater above it. It is calculated by subtracting one standard atmosphere from the absolute pressure at the sensor to remove the weight of the atmosphere on top of the water column. The pressure at a sensor in situ provides a metric of the depth of that sensor.</dd><dt><span>data_product_identifier :</span></dt><dd>PRESWAT_L1</dd><dt><span>precision :</span></dt><dd>3</dd><dt><span>long_name :</span></dt><dd>Seawater Pressure</dd><dt><span>standard_name :</span></dt><dd>sea_water_pressure</dd><dt><span>units :</span></dt><dd>dbar</dd></dl></div><div class='xr-var-data'><pre>array([77.43763344, 77.43800354, 77.4392092 , ...,  0.86126989,\n",
       "        0.8002381 ,  0.74204765], shape=(131979,))</pre></div></li><li class='xr-var-item'><div class='xr-var-name'><span>sea_water_temperature</span></div><div class='xr-var-dims'>(time)</div><div class='xr-var-dtype'>float64</div><div class='xr-var-preview xr-preview'>7.288 7.288 7.288 ... 15.22 15.21</div><input id='attrs-988b97f3-df8a-42b0-92ff-650928e708e0' class='xr-var-attrs-in' type='checkbox' ><label for='attrs-988b97f3-df8a-42b0-92ff-650928e708e0' title='Show/Hide attributes'><svg class='icon xr-icon-file-text2'><use xlink:href='#icon-file-text2'></use></svg></label><input id='data-922c5ab3-e040-4348-958e-883ad2cfbdea' class='xr-var-data-in' type='checkbox'><label for='data-922c5ab3-e040-4348-958e-883ad2cfbdea' title='Show/Hide data repr'><svg class='icon xr-icon-database'><use xlink:href='#icon-database'></use></svg></label><div class='xr-var-attrs'><dl class='xr-attrs'><dt><span>comment :</span></dt><dd>Seawater temperature near the sensor.</dd><dt><span>data_product_identifier :</span></dt><dd>TEMPWAT_L1</dd><dt><span>precision :</span></dt><dd>4</dd><dt><span>long_name :</span></dt><dd>Seawater Temperature</dd><dt><span>standard_name :</span></dt><dd>sea_water_temperature</dd><dt><span>units :</span></dt><dd>degrees_Celsius</dd><dt><span>alternate_parameter_name :</span></dt><dd>ctdpf_j_cspp_instrument_recovered-temperature</dd><dt><span>instrument :</span></dt><dd>CE02SHSP-SP001-08-CTDPFJ000</dd><dt><span>stream :</span></dt><dd>ctdpf_j_cspp_instrument_recovered</dd></dl></div><div class='xr-var-data'><pre>array([ 7.28783162,  7.2881999 ,  7.28826984, ..., 15.21738228,\n",
       "       15.21629029, 15.21211415], shape=(131979,))</pre></div></li></ul></div></li><li class='xr-section-item'><input id='section-86fca457-be67-464f-877d-c58759108e22' class='xr-section-summary-in' type='checkbox'  ><label for='section-86fca457-be67-464f-877d-c58759108e22' class='xr-section-summary' >Indexes: <span>(3)</span></label><div class='xr-section-inline-details'></div><div class='xr-section-details'><ul class='xr-var-list'><li class='xr-var-item'><div class='xr-index-name'><div>time</div></div><div class='xr-index-preview'>PandasIndex</div><input type='checkbox' disabled/><label></label><input id='index-86bcaf06-a785-4baf-a671-d956c484bc58' class='xr-index-data-in' type='checkbox'/><label for='index-86bcaf06-a785-4baf-a671-d956c484bc58' title='Show/Hide index repr'><svg class='icon xr-icon-database'><use xlink:href='#icon-database'></use></svg></label><div class='xr-index-data'><pre>PandasIndex(DatetimeIndex([&#x27;2019-06-24 16:55:43.774000128&#x27;,\n",
       "               &#x27;2019-06-24 16:55:44.024999936&#x27;,\n",
       "               &#x27;2019-06-24 16:55:44.275000320&#x27;,\n",
       "               &#x27;2019-06-24 16:55:44.524000256&#x27;,\n",
       "               &#x27;2019-06-24 16:55:44.774000128&#x27;,\n",
       "               &#x27;2019-06-24 16:55:45.024999936&#x27;,\n",
       "               &#x27;2019-06-24 16:55:45.275000320&#x27;,\n",
       "               &#x27;2019-06-24 16:55:45.524000256&#x27;,\n",
       "               &#x27;2019-06-24 16:55:45.774000128&#x27;,\n",
       "               &#x27;2019-06-24 16:55:46.024999936&#x27;,\n",
       "               ...\n",
       "               &#x27;2019-06-27 02:39:22.333000192&#x27;,\n",
       "                  &#x27;2019-06-27 02:39:22.584000&#x27;,\n",
       "               &#x27;2019-06-27 02:39:22.833999872&#x27;,\n",
       "               &#x27;2019-06-27 02:39:23.083000320&#x27;,\n",
       "               &#x27;2019-06-27 02:39:23.333000192&#x27;,\n",
       "                  &#x27;2019-06-27 02:39:23.584000&#x27;,\n",
       "               &#x27;2019-06-27 02:39:23.834999808&#x27;,\n",
       "               &#x27;2019-06-27 02:39:24.084000256&#x27;,\n",
       "               &#x27;2019-06-27 02:39:24.333000192&#x27;,\n",
       "               &#x27;2019-06-27 02:39:24.583000064&#x27;],\n",
       "              dtype=&#x27;datetime64[ns]&#x27;, name=&#x27;time&#x27;, length=131979, freq=None))</pre></div></li><li class='xr-var-item'><div class='xr-index-name'><div>a_wavelength</div></div><div class='xr-index-preview'>PandasIndex</div><input type='checkbox' disabled/><label></label><input id='index-3116e8d0-3b77-4869-a47d-a0a3a8b048ef' class='xr-index-data-in' type='checkbox'/><label for='index-3116e8d0-3b77-4869-a47d-a0a3a8b048ef' title='Show/Hide index repr'><svg class='icon xr-icon-database'><use xlink:href='#icon-database'></use></svg></label><div class='xr-index-data'><pre>PandasIndex(Index([401.2, 405.1, 408.5, 412.3, 415.8, 419.9, 424.2, 428.5, 432.5, 436.6,\n",
       "       440.7, 445.3, 449.5, 454.1, 458.7, 462.6, 467.3, 471.9, 476.2, 480.8,\n",
       "       485.3, 489.7, 494.2, 498.2, 502.6, 506.9, 511.4, 516.6, 520.4, 524.9,\n",
       "       529.4, 533.2, 537.2, 541.5, 545.9, 550.2, 554.0, 558.2, 562.8, 567.3,\n",
       "       570.7, 574.7, 578.6, 580.3, 583.9, 587.6, 591.3, 595.4, 599.6, 603.5,\n",
       "       608.0, 612.2, 616.7, 620.9, 625.2, 629.5, 633.5, 637.5, 641.8, 646.5,\n",
       "       650.4, 654.7, 659.0, 663.4, 667.3, 671.8, 676.2, 680.1, 684.3, 687.9,\n",
       "       691.8, 695.4, 699.1, 703.0, 707.1, 710.7, 714.5, 717.9, 721.9, 725.3,\n",
       "       728.9, 732.6, 736.4, 739.9, 743.5, 746.8],\n",
       "      dtype=&#x27;float64&#x27;, name=&#x27;a_wavelength&#x27;))</pre></div></li><li class='xr-var-item'><div class='xr-index-name'><div>c_wavelength</div></div><div class='xr-index-preview'>PandasIndex</div><input type='checkbox' disabled/><label></label><input id='index-7bcab19b-76c5-4f35-bda1-32a096a09b22' class='xr-index-data-in' type='checkbox'/><label for='index-7bcab19b-76c5-4f35-bda1-32a096a09b22' title='Show/Hide index repr'><svg class='icon xr-icon-database'><use xlink:href='#icon-database'></use></svg></label><div class='xr-index-data'><pre>PandasIndex(Index([399.4, 403.2, 406.8, 410.3, 413.9, 417.8, 422.1, 426.3, 430.6, 434.7,\n",
       "       438.7, 442.8, 447.4, 452.3, 456.6, 460.8, 465.2, 469.6, 474.1, 478.9,\n",
       "       483.6, 488.0, 492.5, 496.5, 500.9, 505.4, 509.9, 514.6, 519.1, 523.4,\n",
       "       527.9, 532.2, 535.8, 540.1, 544.5, 548.5, 552.9, 557.0, 561.5, 565.7,\n",
       "       569.6, 573.6, 577.6, 581.9, 585.6, 589.5, 593.5, 597.7, 601.8, 606.0,\n",
       "       610.8, 614.9, 619.5, 623.2, 627.5, 631.9, 635.9, 640.3, 644.8, 649.3,\n",
       "       653.4, 657.8, 662.3, 666.5, 670.9, 675.0, 679.1, 683.2, 687.1, 690.7,\n",
       "       694.9, 698.4, 702.3, 706.7, 710.0, 713.9, 717.7, 721.1, 724.8, 728.4,\n",
       "       732.4, 735.9, 739.4, 742.9, 746.4, 749.7],\n",
       "      dtype=&#x27;float64&#x27;, name=&#x27;c_wavelength&#x27;))</pre></div></li></ul></div></li><li class='xr-section-item'><input id='section-e196c39b-271d-4731-8402-7bc40b60083d' class='xr-section-summary-in' type='checkbox'  ><label for='section-e196c39b-271d-4731-8402-7bc40b60083d' class='xr-section-summary' >Attributes: <span>(59)</span></label><div class='xr-section-inline-details'></div><div class='xr-section-details'><dl class='xr-attrs'><dt><span>AssetManagementRecordLastModified :</span></dt><dd>2023-06-02T18:55:55.111000</dd><dt><span>AssetUniqueID :</span></dt><dd>CGINS-OPTAAJ-00138</dd><dt><span>Conventions :</span></dt><dd>CF-1.6</dd><dt><span>Description :</span></dt><dd>Spectrophotometer: OPTAA Series J</dd><dt><span>FirmwareVersion :</span></dt><dd>Not specified.</dd><dt><span>Manufacturer :</span></dt><dd>WET Labs</dd><dt><span>Metadata_Conventions :</span></dt><dd>Unidata Dataset Discovery v1.0</dd><dt><span>Mobile :</span></dt><dd>False</dd><dt><span>ModelNumber :</span></dt><dd>AC-S</dd><dt><span>Notes :</span></dt><dd>Not specified.</dd><dt><span>Owner :</span></dt><dd>Oregon State University</dd><dt><span>SerialNumber :</span></dt><dd>ACS-138</dd><dt><span>ShelfLifeExpirationDate :</span></dt><dd>Not specified.</dd><dt><span>SoftwareVersion :</span></dt><dd>Not specified.</dd><dt><span>cdm_data_type :</span></dt><dd>Point</dd><dt><span>collection_method :</span></dt><dd>recovered_cspp</dd><dt><span>creator_name :</span></dt><dd>Ocean Observatories Initiative</dd><dt><span>creator_url :</span></dt><dd>http://oceanobservatories.org/</dd><dt><span>date_created :</span></dt><dd>2023-06-14T16:18:41.293933</dd><dt><span>date_modified :</span></dt><dd>2023-06-14T16:18:41.293936</dd><dt><span>featureType :</span></dt><dd>point</dd><dt><span>feature_Type :</span></dt><dd>point</dd><dt><span>geospatial_lat_max :</span></dt><dd>44.63455</dd><dt><span>geospatial_lat_min :</span></dt><dd>44.63455</dd><dt><span>geospatial_lat_resolution :</span></dt><dd>0.1</dd><dt><span>geospatial_lat_units :</span></dt><dd>degrees_north</dd><dt><span>geospatial_lon_max :</span></dt><dd>-123.69743</dd><dt><span>geospatial_lon_min :</span></dt><dd>-123.69743</dd><dt><span>geospatial_lon_resolution :</span></dt><dd>0.1</dd><dt><span>geospatial_lon_units :</span></dt><dd>degrees_east</dd><dt><span>geospatial_vertical_positive :</span></dt><dd>down</dd><dt><span>geospatial_vertical_resolution :</span></dt><dd>0.1</dd><dt><span>geospatial_vertical_units :</span></dt><dd>meters</dd><dt><span>history :</span></dt><dd>2023-06-14T16:18:41.293877 generated from Stream Engine</dd><dt><span>id :</span></dt><dd>CE02SHSP-SP001-04-OPTAAJ000-recovered_cspp-optaa_dj_cspp_instrument_recovered</dd><dt><span>infoUrl :</span></dt><dd>http://oceanobservatories.org/</dd><dt><span>institution :</span></dt><dd>Ocean Observatories Initiative</dd><dt><span>naming_authority :</span></dt><dd>org.oceanobservatories</dd><dt><span>nodc_template_version :</span></dt><dd>NODC_NetCDF_TimeSeries_Orthogonal_Template_v1.1</dd><dt><span>node :</span></dt><dd>SP001</dd><dt><span>processing_level :</span></dt><dd>L2</dd><dt><span>project :</span></dt><dd>Ocean Observatories Initiative</dd><dt><span>publisher_name :</span></dt><dd>Ocean Observatories Initiative</dd><dt><span>publisher_url :</span></dt><dd>http://oceanobservatories.org/</dd><dt><span>references :</span></dt><dd>More information can be found at http://oceanobservatories.org/</dd><dt><span>requestUUID :</span></dt><dd>62529081-0c5a-42f1-a139-b717249fdf1e</dd><dt><span>sensor :</span></dt><dd>04-OPTAAJ000</dd><dt><span>source :</span></dt><dd>CE02SHSP-SP001-04-OPTAAJ000-recovered_cspp-optaa_dj_cspp_instrument_recovered</dd><dt><span>sourceUrl :</span></dt><dd>http://oceanobservatories.org/</dd><dt><span>standard_name_vocabulary :</span></dt><dd>NetCDF Climate and Forecast (CF) Metadata Convention Standard Name Table 29</dd><dt><span>stream :</span></dt><dd>optaa_dj_cspp_instrument_recovered</dd><dt><span>subsite :</span></dt><dd>CE02SHSP</dd><dt><span>summary :</span></dt><dd>Dataset Generated by Stream Engine from Ocean Observatories Initiative</dd><dt><span>time_coverage_end :</span></dt><dd>2019-06-27T02:39:24.583000</dd><dt><span>time_coverage_resolution :</span></dt><dd>P1.57S</dd><dt><span>time_coverage_start :</span></dt><dd>2019-06-24T16:55:43.774000</dd><dt><span>title :</span></dt><dd>Data produced by Stream Engine version 1.20.6 for CE02SHSP-SP001-04-OPTAAJ000-recovered_cspp-optaa_dj_cspp_instrument_recovered</dd><dt><span>uuid :</span></dt><dd>62529081-0c5a-42f1-a139-b717249fdf1e</dd><dt><span>number_of_output_wavelengths :</span></dt><dd>86</dd></dl></div></li></ul></div></div>"
      ]
     },
     "execution_count": 5,
     "metadata": {},
     "output_type": "execute_result"
    }
   ],
   "execution_count": 5
  },
  {
   "metadata": {},
   "cell_type": "markdown",
   "source": [
    "#### Download OOI Device Calibration Information\n",
    "Normally, you would use the `ACSDev` class to import device calibration information from the ACS device file (ACS-XXX.dev). However, the OOI does not make these easily accessible for download. They do provide the coefficients in JSON form through their REST API. The `get_ooi_optaa_cal` function will download the device file information via the OOI REST API and return an `ACSDev`-compatible object with the calibration information."
   ],
   "id": "96690f9ca9f2b0c5"
  },
  {
   "metadata": {
    "ExecuteTime": {
     "end_time": "2025-05-22T15:40:09.382314Z",
     "start_time": "2025-05-22T15:40:09.086942Z"
    }
   },
   "cell_type": "code",
   "source": "dev = get_ooi_optaa_cal(ds = acs) # The get_ooi_optaa_cal function uses the uid in the dataset attributes.",
   "id": "ff31bc08d402012e",
   "outputs": [],
   "execution_count": 6
  },
  {
   "metadata": {
    "ExecuteTime": {
     "end_time": "2025-05-22T15:40:09.386764Z",
     "start_time": "2025-05-22T15:40:09.383317Z"
    }
   },
   "cell_type": "code",
   "source": [
    "print('dev class accessible attributes:', [v for v in dir(dev) if \"__\" not in v])\n",
    "print(dev.a_wavelength)"
   ],
   "id": "841e48f163cfe8b7",
   "outputs": [
    {
     "name": "stdout",
     "output_type": "stream",
     "text": [
      "dev class accessible attributes: ['a_delta_t', 'a_offset', 'a_wavelength', 'c_delta_t', 'c_offset', 'c_wavelength', 'func_a_delta_t', 'func_c_delta_t', 'path_length', 'tbin', 'tcal']\n",
      "[401.2, 405.1, 408.5, 412.3, 415.8, 419.9, 424.2, 428.5, 432.5, 436.6, 440.7, 445.3, 449.5, 454.1, 458.7, 462.6, 467.3, 471.9, 476.2, 480.8, 485.3, 489.7, 494.2, 498.2, 502.6, 506.9, 511.4, 516.6, 520.4, 524.9, 529.4, 533.2, 537.2, 541.5, 545.9, 550.2, 554.0, 558.2, 562.8, 567.3, 570.7, 574.7, 578.6, 580.3, 583.9, 587.6, 591.3, 595.4, 599.6, 603.5, 608.0, 612.2, 616.7, 620.9, 625.2, 629.5, 633.5, 637.5, 641.8, 646.5, 650.4, 654.7, 659.0, 663.4, 667.3, 671.8, 676.2, 680.1, 684.3, 687.9, 691.8, 695.4, 699.1, 703.0, 707.1, 710.7, 714.5, 717.9, 721.9, 725.3, 728.9, 732.6, 736.4, 739.9, 743.5, 746.8]\n"
     ]
    }
   ],
   "execution_count": 7
  },
  {
   "metadata": {},
   "cell_type": "markdown",
   "source": [
    "#### Quick Verification of Data and Device File\n",
    "The device file is a file that is unique to each ACS. For OOI datasets, one way to verify that you have the correct device file information is to verify that the wavelength values match between the file and the calibration information. In some rare cases, two calibration files for the same instrument may have the same wavelengths, so it is important to use the calibration information that happens before the data collection and is closest to the first timestamp in the dataset. The `get_ooi_optaa_cal` function does this automatically, so there is no need to worry about this for this example. There are more complex ways to compare the device file to the sensor output, but for this example, comparing the wavelengths is sufficient."
   ],
   "id": "6020574aefcf2e37"
  },
  {
   "metadata": {
    "ExecuteTime": {
     "end_time": "2025-05-22T15:40:09.393782Z",
     "start_time": "2025-05-22T15:40:09.386764Z"
    }
   },
   "cell_type": "code",
   "source": "assert np.all(dev.a_wavelength == acs.a_wavelength)  # Will raise an error if the wavelengths do not match.",
   "id": "cccf3b2614054cee",
   "outputs": [],
   "execution_count": 8
  },
  {
   "metadata": {},
   "cell_type": "markdown",
   "source": [
    "## Reprocess Data\n",
    "\n",
    "The processing steps in the cells below follow most of the steps outline in the [Recommended Processing Steps (1.0 - 4.1)](https://github.com/IanTBlack/acspype/blob/main/info/PROCESSING.md) in the *acspype* documentation. There are several key things to note about OOI data in relation to the optional steps in this table.\n",
    "We\n",
    "\n",
    "This examples skips the following steps:\n",
    "- Step 1.5: Application of User-Collected Pure Water Coefficients. These are sometimes performed by the OOI, but are not easily accessible and require formatting to work with *acspype*. For the sake of brevity, this step is skipped.\n",
    "- Step 1.7: Time-lag Correction is not performed. The CTD is located roughly 30cm below the intake of the ACS. However, the ACS intake to the flow cell distance is roughly 50 cm and water is pulled through using a SBS 5T pump. For this example, we just assume everything is contemporary and co-located at the same depth.\n",
    "- Step 2.0: Lag correction between the absorption and attenuation channels is not necessary for the ACS on this profiler because the flow cells are plumbed in parallel.\n",
    "- Step 5.0: Splitting of data into particulate and gelbstoff datasets. This is not done because the OOI does not filter ACS water to obtain the gelbstoff signal.\n"
   ],
   "id": "a2dcb7986a78f5fc"
  },
  {
   "metadata": {},
   "cell_type": "markdown",
   "source": [
    "### Step 1.0: Load TSCor Coefficients\n",
    "We loaded the device file information in a previous cell already."
   ],
   "id": "99fe1ba98f17cae3"
  },
  {
   "metadata": {
    "ExecuteTime": {
     "end_time": "2025-05-22T15:40:09.400282Z",
     "start_time": "2025-05-22T15:40:09.393782Z"
    }
   },
   "cell_type": "code",
   "source": "tscor = ACSTSCor().to_xarray()  ## Load the TSCor coefficients as an xarray dataset.",
   "id": "a93523a5996e5857",
   "outputs": [],
   "execution_count": 9
  },
  {
   "metadata": {
    "ExecuteTime": {
     "end_time": "2025-05-22T15:40:09.416200Z",
     "start_time": "2025-05-22T15:40:09.400282Z"
    }
   },
   "cell_type": "code",
   "source": "tscor",
   "id": "f82b47955d334e1f",
   "outputs": [
    {
     "data": {
      "text/plain": [
       "<xarray.Dataset> Size: 115kB\n",
       "Dimensions:     (wavelength: 3600)\n",
       "Coordinates:\n",
       "  * wavelength  (wavelength) float64 29kB 395.0 395.1 395.2 ... 754.9 755.0\n",
       "Data variables:\n",
       "    psi_t       (wavelength) float64 29kB 0.0001 0.0001 ... 0.008574 0.00853\n",
       "    psi_s_c     (wavelength) float64 29kB -1.2e-05 -1.2e-05 ... 0.00077 0.000773\n",
       "    psi_s_a     (wavelength) float64 29kB 3.3e-05 3.3e-05 ... 0.000815 0.000818\n",
       "Attributes:\n",
       "    tscor_data:  Sullivan et al., 2006"
      ],
      "text/html": [
       "<div><svg style=\"position: absolute; width: 0; height: 0; overflow: hidden\">\n",
       "<defs>\n",
       "<symbol id=\"icon-database\" viewBox=\"0 0 32 32\">\n",
       "<path d=\"M16 0c-8.837 0-16 2.239-16 5v4c0 2.761 7.163 5 16 5s16-2.239 16-5v-4c0-2.761-7.163-5-16-5z\"></path>\n",
       "<path d=\"M16 17c-8.837 0-16-2.239-16-5v6c0 2.761 7.163 5 16 5s16-2.239 16-5v-6c0 2.761-7.163 5-16 5z\"></path>\n",
       "<path d=\"M16 26c-8.837 0-16-2.239-16-5v6c0 2.761 7.163 5 16 5s16-2.239 16-5v-6c0 2.761-7.163 5-16 5z\"></path>\n",
       "</symbol>\n",
       "<symbol id=\"icon-file-text2\" viewBox=\"0 0 32 32\">\n",
       "<path d=\"M28.681 7.159c-0.694-0.947-1.662-2.053-2.724-3.116s-2.169-2.030-3.116-2.724c-1.612-1.182-2.393-1.319-2.841-1.319h-15.5c-1.378 0-2.5 1.121-2.5 2.5v27c0 1.378 1.122 2.5 2.5 2.5h23c1.378 0 2.5-1.122 2.5-2.5v-19.5c0-0.448-0.137-1.23-1.319-2.841zM24.543 5.457c0.959 0.959 1.712 1.825 2.268 2.543h-4.811v-4.811c0.718 0.556 1.584 1.309 2.543 2.268zM28 29.5c0 0.271-0.229 0.5-0.5 0.5h-23c-0.271 0-0.5-0.229-0.5-0.5v-27c0-0.271 0.229-0.5 0.5-0.5 0 0 15.499-0 15.5 0v7c0 0.552 0.448 1 1 1h7v19.5z\"></path>\n",
       "<path d=\"M23 26h-14c-0.552 0-1-0.448-1-1s0.448-1 1-1h14c0.552 0 1 0.448 1 1s-0.448 1-1 1z\"></path>\n",
       "<path d=\"M23 22h-14c-0.552 0-1-0.448-1-1s0.448-1 1-1h14c0.552 0 1 0.448 1 1s-0.448 1-1 1z\"></path>\n",
       "<path d=\"M23 18h-14c-0.552 0-1-0.448-1-1s0.448-1 1-1h14c0.552 0 1 0.448 1 1s-0.448 1-1 1z\"></path>\n",
       "</symbol>\n",
       "</defs>\n",
       "</svg>\n",
       "<style>/* CSS stylesheet for displaying xarray objects in jupyterlab.\n",
       " *\n",
       " */\n",
       "\n",
       ":root {\n",
       "  --xr-font-color0: var(--jp-content-font-color0, rgba(0, 0, 0, 1));\n",
       "  --xr-font-color2: var(--jp-content-font-color2, rgba(0, 0, 0, 0.54));\n",
       "  --xr-font-color3: var(--jp-content-font-color3, rgba(0, 0, 0, 0.38));\n",
       "  --xr-border-color: var(--jp-border-color2, #e0e0e0);\n",
       "  --xr-disabled-color: var(--jp-layout-color3, #bdbdbd);\n",
       "  --xr-background-color: var(--jp-layout-color0, white);\n",
       "  --xr-background-color-row-even: var(--jp-layout-color1, white);\n",
       "  --xr-background-color-row-odd: var(--jp-layout-color2, #eeeeee);\n",
       "}\n",
       "\n",
       "html[theme=\"dark\"],\n",
       "html[data-theme=\"dark\"],\n",
       "body[data-theme=\"dark\"],\n",
       "body.vscode-dark {\n",
       "  --xr-font-color0: rgba(255, 255, 255, 1);\n",
       "  --xr-font-color2: rgba(255, 255, 255, 0.54);\n",
       "  --xr-font-color3: rgba(255, 255, 255, 0.38);\n",
       "  --xr-border-color: #1f1f1f;\n",
       "  --xr-disabled-color: #515151;\n",
       "  --xr-background-color: #111111;\n",
       "  --xr-background-color-row-even: #111111;\n",
       "  --xr-background-color-row-odd: #313131;\n",
       "}\n",
       "\n",
       ".xr-wrap {\n",
       "  display: block !important;\n",
       "  min-width: 300px;\n",
       "  max-width: 700px;\n",
       "}\n",
       "\n",
       ".xr-text-repr-fallback {\n",
       "  /* fallback to plain text repr when CSS is not injected (untrusted notebook) */\n",
       "  display: none;\n",
       "}\n",
       "\n",
       ".xr-header {\n",
       "  padding-top: 6px;\n",
       "  padding-bottom: 6px;\n",
       "  margin-bottom: 4px;\n",
       "  border-bottom: solid 1px var(--xr-border-color);\n",
       "}\n",
       "\n",
       ".xr-header > div,\n",
       ".xr-header > ul {\n",
       "  display: inline;\n",
       "  margin-top: 0;\n",
       "  margin-bottom: 0;\n",
       "}\n",
       "\n",
       ".xr-obj-type,\n",
       ".xr-array-name {\n",
       "  margin-left: 2px;\n",
       "  margin-right: 10px;\n",
       "}\n",
       "\n",
       ".xr-obj-type {\n",
       "  color: var(--xr-font-color2);\n",
       "}\n",
       "\n",
       ".xr-sections {\n",
       "  padding-left: 0 !important;\n",
       "  display: grid;\n",
       "  grid-template-columns: 150px auto auto 1fr 0 20px 0 20px;\n",
       "}\n",
       "\n",
       ".xr-section-item {\n",
       "  display: contents;\n",
       "}\n",
       "\n",
       ".xr-section-item input {\n",
       "  display: inline-block;\n",
       "  opacity: 0;\n",
       "  height: 0;\n",
       "}\n",
       "\n",
       ".xr-section-item input + label {\n",
       "  color: var(--xr-disabled-color);\n",
       "}\n",
       "\n",
       ".xr-section-item input:enabled + label {\n",
       "  cursor: pointer;\n",
       "  color: var(--xr-font-color2);\n",
       "}\n",
       "\n",
       ".xr-section-item input:focus + label {\n",
       "  border: 2px solid var(--xr-font-color0);\n",
       "}\n",
       "\n",
       ".xr-section-item input:enabled + label:hover {\n",
       "  color: var(--xr-font-color0);\n",
       "}\n",
       "\n",
       ".xr-section-summary {\n",
       "  grid-column: 1;\n",
       "  color: var(--xr-font-color2);\n",
       "  font-weight: 500;\n",
       "}\n",
       "\n",
       ".xr-section-summary > span {\n",
       "  display: inline-block;\n",
       "  padding-left: 0.5em;\n",
       "}\n",
       "\n",
       ".xr-section-summary-in:disabled + label {\n",
       "  color: var(--xr-font-color2);\n",
       "}\n",
       "\n",
       ".xr-section-summary-in + label:before {\n",
       "  display: inline-block;\n",
       "  content: \"►\";\n",
       "  font-size: 11px;\n",
       "  width: 15px;\n",
       "  text-align: center;\n",
       "}\n",
       "\n",
       ".xr-section-summary-in:disabled + label:before {\n",
       "  color: var(--xr-disabled-color);\n",
       "}\n",
       "\n",
       ".xr-section-summary-in:checked + label:before {\n",
       "  content: \"▼\";\n",
       "}\n",
       "\n",
       ".xr-section-summary-in:checked + label > span {\n",
       "  display: none;\n",
       "}\n",
       "\n",
       ".xr-section-summary,\n",
       ".xr-section-inline-details {\n",
       "  padding-top: 4px;\n",
       "  padding-bottom: 4px;\n",
       "}\n",
       "\n",
       ".xr-section-inline-details {\n",
       "  grid-column: 2 / -1;\n",
       "}\n",
       "\n",
       ".xr-section-details {\n",
       "  display: none;\n",
       "  grid-column: 1 / -1;\n",
       "  margin-bottom: 5px;\n",
       "}\n",
       "\n",
       ".xr-section-summary-in:checked ~ .xr-section-details {\n",
       "  display: contents;\n",
       "}\n",
       "\n",
       ".xr-array-wrap {\n",
       "  grid-column: 1 / -1;\n",
       "  display: grid;\n",
       "  grid-template-columns: 20px auto;\n",
       "}\n",
       "\n",
       ".xr-array-wrap > label {\n",
       "  grid-column: 1;\n",
       "  vertical-align: top;\n",
       "}\n",
       "\n",
       ".xr-preview {\n",
       "  color: var(--xr-font-color3);\n",
       "}\n",
       "\n",
       ".xr-array-preview,\n",
       ".xr-array-data {\n",
       "  padding: 0 5px !important;\n",
       "  grid-column: 2;\n",
       "}\n",
       "\n",
       ".xr-array-data,\n",
       ".xr-array-in:checked ~ .xr-array-preview {\n",
       "  display: none;\n",
       "}\n",
       "\n",
       ".xr-array-in:checked ~ .xr-array-data,\n",
       ".xr-array-preview {\n",
       "  display: inline-block;\n",
       "}\n",
       "\n",
       ".xr-dim-list {\n",
       "  display: inline-block !important;\n",
       "  list-style: none;\n",
       "  padding: 0 !important;\n",
       "  margin: 0;\n",
       "}\n",
       "\n",
       ".xr-dim-list li {\n",
       "  display: inline-block;\n",
       "  padding: 0;\n",
       "  margin: 0;\n",
       "}\n",
       "\n",
       ".xr-dim-list:before {\n",
       "  content: \"(\";\n",
       "}\n",
       "\n",
       ".xr-dim-list:after {\n",
       "  content: \")\";\n",
       "}\n",
       "\n",
       ".xr-dim-list li:not(:last-child):after {\n",
       "  content: \",\";\n",
       "  padding-right: 5px;\n",
       "}\n",
       "\n",
       ".xr-has-index {\n",
       "  font-weight: bold;\n",
       "}\n",
       "\n",
       ".xr-var-list,\n",
       ".xr-var-item {\n",
       "  display: contents;\n",
       "}\n",
       "\n",
       ".xr-var-item > div,\n",
       ".xr-var-item label,\n",
       ".xr-var-item > .xr-var-name span {\n",
       "  background-color: var(--xr-background-color-row-even);\n",
       "  margin-bottom: 0;\n",
       "}\n",
       "\n",
       ".xr-var-item > .xr-var-name:hover span {\n",
       "  padding-right: 5px;\n",
       "}\n",
       "\n",
       ".xr-var-list > li:nth-child(odd) > div,\n",
       ".xr-var-list > li:nth-child(odd) > label,\n",
       ".xr-var-list > li:nth-child(odd) > .xr-var-name span {\n",
       "  background-color: var(--xr-background-color-row-odd);\n",
       "}\n",
       "\n",
       ".xr-var-name {\n",
       "  grid-column: 1;\n",
       "}\n",
       "\n",
       ".xr-var-dims {\n",
       "  grid-column: 2;\n",
       "}\n",
       "\n",
       ".xr-var-dtype {\n",
       "  grid-column: 3;\n",
       "  text-align: right;\n",
       "  color: var(--xr-font-color2);\n",
       "}\n",
       "\n",
       ".xr-var-preview {\n",
       "  grid-column: 4;\n",
       "}\n",
       "\n",
       ".xr-index-preview {\n",
       "  grid-column: 2 / 5;\n",
       "  color: var(--xr-font-color2);\n",
       "}\n",
       "\n",
       ".xr-var-name,\n",
       ".xr-var-dims,\n",
       ".xr-var-dtype,\n",
       ".xr-preview,\n",
       ".xr-attrs dt {\n",
       "  white-space: nowrap;\n",
       "  overflow: hidden;\n",
       "  text-overflow: ellipsis;\n",
       "  padding-right: 10px;\n",
       "}\n",
       "\n",
       ".xr-var-name:hover,\n",
       ".xr-var-dims:hover,\n",
       ".xr-var-dtype:hover,\n",
       ".xr-attrs dt:hover {\n",
       "  overflow: visible;\n",
       "  width: auto;\n",
       "  z-index: 1;\n",
       "}\n",
       "\n",
       ".xr-var-attrs,\n",
       ".xr-var-data,\n",
       ".xr-index-data {\n",
       "  display: none;\n",
       "  background-color: var(--xr-background-color) !important;\n",
       "  padding-bottom: 5px !important;\n",
       "}\n",
       "\n",
       ".xr-var-attrs-in:checked ~ .xr-var-attrs,\n",
       ".xr-var-data-in:checked ~ .xr-var-data,\n",
       ".xr-index-data-in:checked ~ .xr-index-data {\n",
       "  display: block;\n",
       "}\n",
       "\n",
       ".xr-var-data > table {\n",
       "  float: right;\n",
       "}\n",
       "\n",
       ".xr-var-name span,\n",
       ".xr-var-data,\n",
       ".xr-index-name div,\n",
       ".xr-index-data,\n",
       ".xr-attrs {\n",
       "  padding-left: 25px !important;\n",
       "}\n",
       "\n",
       ".xr-attrs,\n",
       ".xr-var-attrs,\n",
       ".xr-var-data,\n",
       ".xr-index-data {\n",
       "  grid-column: 1 / -1;\n",
       "}\n",
       "\n",
       "dl.xr-attrs {\n",
       "  padding: 0;\n",
       "  margin: 0;\n",
       "  display: grid;\n",
       "  grid-template-columns: 125px auto;\n",
       "}\n",
       "\n",
       ".xr-attrs dt,\n",
       ".xr-attrs dd {\n",
       "  padding: 0;\n",
       "  margin: 0;\n",
       "  float: left;\n",
       "  padding-right: 10px;\n",
       "  width: auto;\n",
       "}\n",
       "\n",
       ".xr-attrs dt {\n",
       "  font-weight: normal;\n",
       "  grid-column: 1;\n",
       "}\n",
       "\n",
       ".xr-attrs dt:hover span {\n",
       "  display: inline-block;\n",
       "  background: var(--xr-background-color);\n",
       "  padding-right: 10px;\n",
       "}\n",
       "\n",
       ".xr-attrs dd {\n",
       "  grid-column: 2;\n",
       "  white-space: pre-wrap;\n",
       "  word-break: break-all;\n",
       "}\n",
       "\n",
       ".xr-icon-database,\n",
       ".xr-icon-file-text2,\n",
       ".xr-no-icon {\n",
       "  display: inline-block;\n",
       "  vertical-align: middle;\n",
       "  width: 1em;\n",
       "  height: 1.5em !important;\n",
       "  stroke-width: 0;\n",
       "  stroke: currentColor;\n",
       "  fill: currentColor;\n",
       "}\n",
       "</style><pre class='xr-text-repr-fallback'>&lt;xarray.Dataset&gt; Size: 115kB\n",
       "Dimensions:     (wavelength: 3600)\n",
       "Coordinates:\n",
       "  * wavelength  (wavelength) float64 29kB 395.0 395.1 395.2 ... 754.9 755.0\n",
       "Data variables:\n",
       "    psi_t       (wavelength) float64 29kB 0.0001 0.0001 ... 0.008574 0.00853\n",
       "    psi_s_c     (wavelength) float64 29kB -1.2e-05 -1.2e-05 ... 0.00077 0.000773\n",
       "    psi_s_a     (wavelength) float64 29kB 3.3e-05 3.3e-05 ... 0.000815 0.000818\n",
       "Attributes:\n",
       "    tscor_data:  Sullivan et al., 2006</pre><div class='xr-wrap' style='display:none'><div class='xr-header'><div class='xr-obj-type'>xarray.Dataset</div></div><ul class='xr-sections'><li class='xr-section-item'><input id='section-68838bf5-92b2-4a7e-b538-7cb9b81e3c33' class='xr-section-summary-in' type='checkbox' disabled ><label for='section-68838bf5-92b2-4a7e-b538-7cb9b81e3c33' class='xr-section-summary'  title='Expand/collapse section'>Dimensions:</label><div class='xr-section-inline-details'><ul class='xr-dim-list'><li><span class='xr-has-index'>wavelength</span>: 3600</li></ul></div><div class='xr-section-details'></div></li><li class='xr-section-item'><input id='section-87774c80-7a33-4690-8e3f-9ed97ae3e5d6' class='xr-section-summary-in' type='checkbox'  checked><label for='section-87774c80-7a33-4690-8e3f-9ed97ae3e5d6' class='xr-section-summary' >Coordinates: <span>(1)</span></label><div class='xr-section-inline-details'></div><div class='xr-section-details'><ul class='xr-var-list'><li class='xr-var-item'><div class='xr-var-name'><span class='xr-has-index'>wavelength</span></div><div class='xr-var-dims'>(wavelength)</div><div class='xr-var-dtype'>float64</div><div class='xr-var-preview xr-preview'>395.0 395.1 395.2 ... 754.9 755.0</div><input id='attrs-31690ab9-ac83-4142-98b2-76c2a70107d9' class='xr-var-attrs-in' type='checkbox' disabled><label for='attrs-31690ab9-ac83-4142-98b2-76c2a70107d9' title='Show/Hide attributes'><svg class='icon xr-icon-file-text2'><use xlink:href='#icon-file-text2'></use></svg></label><input id='data-2e255afd-7465-48c3-9fa7-5b28c4f66837' class='xr-var-data-in' type='checkbox'><label for='data-2e255afd-7465-48c3-9fa7-5b28c4f66837' title='Show/Hide data repr'><svg class='icon xr-icon-database'><use xlink:href='#icon-database'></use></svg></label><div class='xr-var-attrs'><dl class='xr-attrs'></dl></div><div class='xr-var-data'><pre>array([395. , 395.1, 395.2, ..., 754.8, 754.9, 755. ], shape=(3600,))</pre></div></li></ul></div></li><li class='xr-section-item'><input id='section-3babb777-fbca-4143-b53d-cbdc92f196ee' class='xr-section-summary-in' type='checkbox'  checked><label for='section-3babb777-fbca-4143-b53d-cbdc92f196ee' class='xr-section-summary' >Data variables: <span>(3)</span></label><div class='xr-section-inline-details'></div><div class='xr-section-details'><ul class='xr-var-list'><li class='xr-var-item'><div class='xr-var-name'><span>psi_t</span></div><div class='xr-var-dims'>(wavelength)</div><div class='xr-var-dtype'>float64</div><div class='xr-var-preview xr-preview'>0.0001 0.0001 ... 0.008574 0.00853</div><input id='attrs-4989eed6-8437-4de3-9bf5-da07fa863f5b' class='xr-var-attrs-in' type='checkbox' disabled><label for='attrs-4989eed6-8437-4de3-9bf5-da07fa863f5b' title='Show/Hide attributes'><svg class='icon xr-icon-file-text2'><use xlink:href='#icon-file-text2'></use></svg></label><input id='data-edc24d76-317b-415d-a4ea-bf25d417d1c9' class='xr-var-data-in' type='checkbox'><label for='data-edc24d76-317b-415d-a4ea-bf25d417d1c9' title='Show/Hide data repr'><svg class='icon xr-icon-database'><use xlink:href='#icon-database'></use></svg></label><div class='xr-var-attrs'><dl class='xr-attrs'></dl></div><div class='xr-var-data'><pre>array([0.0001  , 0.0001  , 0.0001  , ..., 0.008618, 0.008574, 0.00853 ],\n",
       "      shape=(3600,))</pre></div></li><li class='xr-var-item'><div class='xr-var-name'><span>psi_s_c</span></div><div class='xr-var-dims'>(wavelength)</div><div class='xr-var-dtype'>float64</div><div class='xr-var-preview xr-preview'>-1.2e-05 -1.2e-05 ... 0.000773</div><input id='attrs-0a64e01f-7a5f-456d-8056-1c1538df41f6' class='xr-var-attrs-in' type='checkbox' disabled><label for='attrs-0a64e01f-7a5f-456d-8056-1c1538df41f6' title='Show/Hide attributes'><svg class='icon xr-icon-file-text2'><use xlink:href='#icon-file-text2'></use></svg></label><input id='data-3d114955-5d31-4880-a28a-00d5b34775a9' class='xr-var-data-in' type='checkbox'><label for='data-3d114955-5d31-4880-a28a-00d5b34775a9' title='Show/Hide data repr'><svg class='icon xr-icon-database'><use xlink:href='#icon-database'></use></svg></label><div class='xr-var-attrs'><dl class='xr-attrs'></dl></div><div class='xr-var-data'><pre>array([-1.20e-05, -1.20e-05, -1.20e-05, ...,  7.67e-04,  7.70e-04,\n",
       "        7.73e-04], shape=(3600,))</pre></div></li><li class='xr-var-item'><div class='xr-var-name'><span>psi_s_a</span></div><div class='xr-var-dims'>(wavelength)</div><div class='xr-var-dtype'>float64</div><div class='xr-var-preview xr-preview'>3.3e-05 3.3e-05 ... 0.000818</div><input id='attrs-19f5229d-464d-437c-89a7-3b8067a0d52d' class='xr-var-attrs-in' type='checkbox' disabled><label for='attrs-19f5229d-464d-437c-89a7-3b8067a0d52d' title='Show/Hide attributes'><svg class='icon xr-icon-file-text2'><use xlink:href='#icon-file-text2'></use></svg></label><input id='data-b80163ea-31b6-47d4-875f-a0a9c04fa7b6' class='xr-var-data-in' type='checkbox'><label for='data-b80163ea-31b6-47d4-875f-a0a9c04fa7b6' title='Show/Hide data repr'><svg class='icon xr-icon-database'><use xlink:href='#icon-database'></use></svg></label><div class='xr-var-attrs'><dl class='xr-attrs'></dl></div><div class='xr-var-data'><pre>array([3.30e-05, 3.30e-05, 3.30e-05, ..., 8.12e-04, 8.15e-04, 8.18e-04],\n",
       "      shape=(3600,))</pre></div></li></ul></div></li><li class='xr-section-item'><input id='section-56cd5563-b89f-4ac9-962f-458a64401c9c' class='xr-section-summary-in' type='checkbox'  ><label for='section-56cd5563-b89f-4ac9-962f-458a64401c9c' class='xr-section-summary' >Indexes: <span>(1)</span></label><div class='xr-section-inline-details'></div><div class='xr-section-details'><ul class='xr-var-list'><li class='xr-var-item'><div class='xr-index-name'><div>wavelength</div></div><div class='xr-index-preview'>PandasIndex</div><input type='checkbox' disabled/><label></label><input id='index-9cf09e85-459d-4505-a2e1-63af10a0c6d0' class='xr-index-data-in' type='checkbox'/><label for='index-9cf09e85-459d-4505-a2e1-63af10a0c6d0' title='Show/Hide index repr'><svg class='icon xr-icon-database'><use xlink:href='#icon-database'></use></svg></label><div class='xr-index-data'><pre>PandasIndex(Index([395.0, 395.1, 395.2, 395.3, 395.4, 395.5, 395.6, 395.7, 395.8, 395.9,\n",
       "       ...\n",
       "       754.1, 754.2, 754.3, 754.4, 754.5, 754.6, 754.7, 754.8, 754.9, 755.0],\n",
       "      dtype=&#x27;float64&#x27;, name=&#x27;wavelength&#x27;, length=3600))</pre></div></li></ul></div></li><li class='xr-section-item'><input id='section-b0406776-35e5-4bc5-821e-1231304d898f' class='xr-section-summary-in' type='checkbox'  checked><label for='section-b0406776-35e5-4bc5-821e-1231304d898f' class='xr-section-summary' >Attributes: <span>(1)</span></label><div class='xr-section-inline-details'></div><div class='xr-section-details'><dl class='xr-attrs'><dt><span>tscor_data :</span></dt><dd>Sullivan et al., 2006</dd></dl></div></li></ul></div></div>"
      ]
     },
     "execution_count": 10,
     "metadata": {},
     "output_type": "execute_result"
    }
   ],
   "execution_count": 10
  },
  {
   "metadata": {
    "ExecuteTime": {
     "end_time": "2025-05-22T15:40:09.423157Z",
     "start_time": "2025-05-22T15:40:09.416200Z"
    }
   },
   "cell_type": "code",
   "source": [
    "# TSCor coeffs for absorption.\n",
    "psi_t_a = tscor.psi_t.sel(wavelength=acs.a_wavelength)\n",
    "psi_s_a = tscor.psi_s_a.sel(wavelength=acs.a_wavelength)\n",
    "\n",
    "# TSCor coeffs for attenuation.\n",
    "psi_t_c = tscor.psi_t.sel(wavelength=acs.c_wavelength)\n",
    "psi_s_c = tscor.psi_s_c.sel(wavelength=acs.c_wavelength)"
   ],
   "id": "c5655ca32137e0a7",
   "outputs": [],
   "execution_count": 11
  },
  {
   "metadata": {
    "ExecuteTime": {
     "end_time": "2025-05-22T15:40:09.426790Z",
     "start_time": "2025-05-22T15:40:09.423157Z"
    }
   },
   "cell_type": "code",
   "source": [
    "print(f\"\\nTSCor Attributes\")\n",
    "print(tscor.attrs)"
   ],
   "id": "61c29e8e9be00f5",
   "outputs": [
    {
     "name": "stdout",
     "output_type": "stream",
     "text": [
      "\n",
      "TSCor Attributes\n",
      "{'tscor_data': 'Sullivan et al., 2006'}\n"
     ]
    }
   ],
   "execution_count": 12
  },
  {
   "metadata": {},
   "cell_type": "markdown",
   "source": [
    "### Step 1.1: Compute Internal Temperature from Raw Counts\n",
    "At this stage, you can also compute the external temperature of the ACS (using `compute_external_temperature`), but in this example a more accurate temperature from an ancillary source is used for temperature-salinity correction in a later step."
   ],
   "id": "f239b6a4bef0411b"
  },
  {
   "metadata": {
    "ExecuteTime": {
     "end_time": "2025-05-22T15:40:09.440319Z",
     "start_time": "2025-05-22T15:40:09.426790Z"
    }
   },
   "cell_type": "code",
   "source": [
    "acs['internal_temperature'] = acsproc.compute_internal_temperature(counts = acs.raw_internal_temperature)\n",
    "\n",
    "print(f\"\\nVariable Attributes\")\n",
    "print(acs.internal_temperature.attrs)"
   ],
   "id": "a6964392491f445c",
   "outputs": [
    {
     "name": "stdout",
     "output_type": "stream",
     "text": [
      "\n",
      "Variable Attributes\n",
      "{'ancillary_variables': 'raw_internal_temperature'}\n"
     ]
    }
   ],
   "execution_count": 13
  },
  {
   "metadata": {},
   "cell_type": "markdown",
   "source": [
    "### Step 1.3: Compute Uncorrected Absorption and Attenuation\n",
    "\n",
    "In this next cell, uncorrected absorption and attenuation are computed. At this stage, the data are converted from raw counts to geophysical units (m^-1). However, this data has not yet been corrected for the effect of the internal temperature of the instrument nor the effect of pure water.\n",
    "\n",
    "You will likely observe that a RuntimeWarning occurs that describes a divide by zero scenario in a log. This is expected behaviour for the function and indicates that there are reference values that are equal to zero and dividing by zero leads to NaN or Inf values. Leaving these in the dataset will propagate them throughout the rest of the calculations. At this stage, they could be removed, but it is not necessary. The occasional spectrum with a NaN may occur and can be likely be removed without significant loss of data for analysis. Consecutive NaNs in time and by wavelength dimension likely indicate an issue with the sensor (e.g. lamp is dead).  In QAQC later in this example, you will see that a few hundred absorption and attenuation samples contain NaNs/Infs in the spectra, which is not a significant portion of the 132 thousand samples in this dataset."
   ],
   "id": "fb202407fedf05cb"
  },
  {
   "metadata": {
    "ExecuteTime": {
     "end_time": "2025-05-22T15:40:09.569446Z",
     "start_time": "2025-05-22T15:40:09.440319Z"
    }
   },
   "cell_type": "code",
   "source": [
    "acs['a_uncorrected'] = acsproc.compute_uncorrected(signal_counts=acs.a_signal, \n",
    "                                                   reference_counts = acs.a_reference, \n",
    "                                                   path_length=dev.path_length)\n",
    "\n",
    "acs['c_uncorrected'] = acsproc.compute_uncorrected(signal_counts=acs.c_signal, \n",
    "                                                   reference_counts=acs.c_reference, \n",
    "                                                   path_length =dev.path_length)\n",
    "\n",
    "print(f\"\\nVariable Attributes\")\n",
    "print(acs.a_uncorrected.attrs)\n",
    "print(acs.c_uncorrected.attrs)"
   ],
   "id": "636ccc3532a8f7cb",
   "outputs": [
    {
     "name": "stdout",
     "output_type": "stream",
     "text": [
      "\n",
      "Variable Attributes\n",
      "{'ancillary_variables': ['a_signal', 'a_reference'], 'path_length': 0.25}\n",
      "{'ancillary_variables': ['c_signal', 'c_reference'], 'path_length': 0.25}\n"
     ]
    },
    {
     "name": "stderr",
     "output_type": "stream",
     "text": [
      "C:\\Users\\Ian\\phd\\projects\\acspype\\.venv\\Lib\\site-packages\\xarray\\computation\\apply_ufunc.py:818: RuntimeWarning: divide by zero encountered in log\n",
      "  result_data = func(*input_data)\n",
      "C:\\Users\\Ian\\phd\\projects\\acspype\\.venv\\Lib\\site-packages\\xarray\\computation\\apply_ufunc.py:818: RuntimeWarning: divide by zero encountered in log\n",
      "  result_data = func(*input_data)\n"
     ]
    }
   ],
   "execution_count": 14
  },
  {
   "metadata": {},
   "cell_type": "markdown",
   "source": [
    "### Step 1.4: Compute Measured Absorption and Attenuation\n",
    "\n",
    "The measured absorption and attenuation are the first representations of ACS absorption and attenuation that have been corrected for the effect of pure water and the internal temperature of the ACS. However, if you were to look at the individual spectrum, you may notice a discontinuity somewhere around 560nm in both absorption and attenuation. This is mentioned in the manual as a discontinuity that is induced by splitting of the filter and timing of the filter wheel rotation, but it could also have something to do with wobble in the filter wheel. In short, the issue is likely mechanically related. A common practice is to apply a cubic spline around the discontinuity and to create a scalar offset that is applied to the second half of the spectrum. The discontinuity is most easily identified by observing the minimum difference in the absorption and attenuation wavelengths. \n",
    "\n",
    "When applying the discontinuity correction, it is recommended to name variables with _m_discontinuity if they contain the discontinuity and _m if they have been corrected for the discontinuity. The _m_discontinuity variables are useful for QAQC and for visualizing the discontinuity. Significant discontinuity offsets can also be indicative of poor quality spectrum. "
   ],
   "id": "21e5ea7ff86065b0"
  },
  {
   "metadata": {
    "ExecuteTime": {
     "end_time": "2025-05-22T15:40:09.803064Z",
     "start_time": "2025-05-22T15:40:09.569956Z"
    }
   },
   "cell_type": "code",
   "source": [
    "acs['a_m_discontinuity'] = acsproc.compute_measured(uncorrected = acs.a_uncorrected, \n",
    "                                                    internal_temperature = acs.internal_temperature, \n",
    "                                                    offset = dev.a_offset, \n",
    "                                                    func_delta_t = dev.func_a_delta_t)\n",
    "acs['c_m_discontinuity'] = acsproc.compute_measured(uncorrected = acs.c_uncorrected, \n",
    "                                                    internal_temperature = acs.internal_temperature, \n",
    "                                                    offset = dev.c_offset, \n",
    "                                                    func_delta_t=dev.func_c_delta_t)\n",
    "\n",
    "print(f\"\\nVariable Attributes\")\n",
    "print(acs.a_m_discontinuity.attrs)\n",
    "print(acs.c_m_discontinuity.attrs)"
   ],
   "id": "f5c9eed96b0e3daf",
   "outputs": [
    {
     "name": "stdout",
     "output_type": "stream",
     "text": [
      "\n",
      "Variable Attributes\n",
      "{'ancillary_variables': ['a_uncorrected', 'internal_temperature'], 'func_delta_t': 'scipy.interpolate.make_interp_spline', 'func_delta_t_k_value': '1'}\n",
      "{'ancillary_variables': ['c_uncorrected', 'internal_temperature'], 'func_delta_t': 'scipy.interpolate.make_interp_spline', 'func_delta_t_k_value': '1'}\n"
     ]
    }
   ],
   "execution_count": 15
  },
  {
   "metadata": {},
   "cell_type": "markdown",
   "source": [
    "### Step 1.6: Correct Measured Values for Spectrum Discontinuity\n",
    "This function may take some time to run, since the original offset calculation function for single spectrum must be vectorized for each individual spectrum."
   ],
   "id": "88763782d5bcce2c"
  },
  {
   "metadata": {
    "ExecuteTime": {
     "end_time": "2025-05-22T15:40:46.387662Z",
     "start_time": "2025-05-22T15:40:09.803064Z"
    }
   },
   "cell_type": "code",
   "source": [
    "discontinuity_index = acsproc.find_discontinuity_index(a_wavelength = acs.a_wavelength, \n",
    "                                                       c_wavelength = acs.c_wavelength)\n",
    "acs['a_m'], acs['a_discontinuity_offset'] = acsproc.discontinuity_correction(measured = acs.a_m_discontinuity,\n",
    "                                                                             discontinuity_index=discontinuity_index,\n",
    "                                                                             wavelength_dim='a_wavelength')\n",
    "acs['c_m'], acs['c_discontinuity_offset'] = acsproc.discontinuity_correction(measured = acs.c_m_discontinuity,\n",
    "                                                                             discontinuity_index=discontinuity_index,\n",
    "                                                                             wavelength_dim='c_wavelength')\n",
    "print(f\"\\nVariable Attributes\")\n",
    "print(acs.a_m.attrs)\n",
    "print(acs.c_m.attrs)"
   ],
   "id": "fc919d2adc1b840",
   "outputs": [
    {
     "name": "stdout",
     "output_type": "stream",
     "text": [
      "\n",
      "Variable Attributes\n",
      "{'ancillary_variables': 'a_m_discontinuity', 'wavelength_dimension': 'a_wavelength', 'discontinuity_index': 42, 'discontinuity_offset_applied': True, 'discontinuity_corrected': True}\n",
      "{'ancillary_variables': 'c_m_discontinuity', 'wavelength_dimension': 'c_wavelength', 'discontinuity_index': 42, 'discontinuity_offset_applied': True, 'discontinuity_corrected': True}\n"
     ]
    }
   ],
   "execution_count": 16
  },
  {
   "metadata": {},
   "cell_type": "markdown",
   "source": [
    "### Step 1.8 Correct Values for Effects of Temperature and Salinity\n",
    "The corresponding temperature-salinity coefficients for the absorption and attenuation bins were extracted in Step 1.0."
   ],
   "id": "857c1cc555fe10cf"
  },
  {
   "metadata": {
    "ExecuteTime": {
     "end_time": "2025-05-22T15:40:46.738335Z",
     "start_time": "2025-05-22T15:40:46.387662Z"
    }
   },
   "cell_type": "code",
   "source": [
    "tcal = dev.tcal  # The reference temperature value in the device file.\n",
    "\n",
    "acs['a_mts'] = acsproc.ts_correction(measured = acs.a_m, \n",
    "                                     temperature = acs.sea_water_temperature,\n",
    "                                     salinity = acs.sea_water_practical_salinity, \n",
    "                                     psi_temperature = psi_t_a, \n",
    "                                     psi_salinity= psi_s_a, \n",
    "                                     tcal = tcal)\n",
    "acs['c_mts'] = acsproc.ts_correction(measured = acs.c_m, \n",
    "                                     temperature = acs.sea_water_temperature,\n",
    "                                     salinity = acs.sea_water_practical_salinity, \n",
    "                                     psi_temperature= psi_t_c, \n",
    "                                     psi_salinity = psi_s_c, \n",
    "                                     tcal = tcal)\n",
    "\n",
    "\n",
    "print(f\"\\nVariable Attributes\")\n",
    "print(acs.a_mts.attrs)\n",
    "print(acs.c_mts.attrs)"
   ],
   "id": "82bab5e2c8b480f6",
   "outputs": [
    {
     "name": "stdout",
     "output_type": "stream",
     "text": [
      "\n",
      "Variable Attributes\n",
      "{'ancillary_variables': ['a_m', 'sea_water_temperature', 'sea_water_practical_salinity', 'psi_t', 'psi_s_a'], 'tcal': 18.0}\n",
      "{'ancillary_variables': ['c_m', 'sea_water_temperature', 'sea_water_practical_salinity', 'psi_t', 'psi_s_c'], 'tcal': 18.0}\n"
     ]
    }
   ],
   "execution_count": 17
  },
  {
   "metadata": {},
   "cell_type": "markdown",
   "source": [
    "### Step 1.9: Zero Shift Correction\n",
    "In the ACS manual, it is stated that values between -0.005 and 0 can effectively be treated as zero, so this next function will perform that shift where applicable."
   ],
   "id": "3c9a5d5cd72eb1b"
  },
  {
   "metadata": {
    "ExecuteTime": {
     "end_time": "2025-05-22T15:40:46.848791Z",
     "start_time": "2025-05-22T15:40:46.738335Z"
    }
   },
   "cell_type": "code",
   "source": [
    "acs['a_mts'] = acsproc.zero_shift_correction(mts = acs.a_mts)\n",
    "acs['c_mts'] = acsproc.zero_shift_correction(mts = acs.c_mts)\n",
    "\n",
    "print(f\"\\nVariable Attributes\")\n",
    "print(acs.a_mts.attrs)\n",
    "print(acs.c_mts.attrs)"
   ],
   "id": "3fcdf93d0e1cdceb",
   "outputs": [
    {
     "name": "stdout",
     "output_type": "stream",
     "text": [
      "\n",
      "Variable Attributes\n",
      "{'ancillary_variables': ['a_m', 'sea_water_temperature', 'sea_water_practical_salinity', 'psi_t', 'psi_s_a'], 'tcal': 18.0, 'zero_shifted': True}\n",
      "{'ancillary_variables': ['c_m', 'sea_water_temperature', 'sea_water_practical_salinity', 'psi_t', 'psi_s_c'], 'tcal': 18.0, 'zero_shifted': True}\n"
     ]
    }
   ],
   "execution_count": 18
  },
  {
   "metadata": {},
   "cell_type": "markdown",
   "source": [
    "### Step 3.0: Interpolate to Common Wavelengths\n",
    "In this step, we will linearly interpolate between wavelength bins for the absorption and attenuation bins to create common wavelength bins for the two channels. 1 nm is used as the step size. Common wavelength bins allow for easier computation for applications that require comparison of attenuation to absorption. If not interpolating, an absorption wavelength bin may differ for a corresponding attenuation wavelength bin by several nanometers.\n",
    "\n",
    "You may note that a RuntimeWarning occurs that describes invalid values. This likely occurs on ACS spectra where NaNs are still present somewhere along the wavelength dimension."
   ],
   "id": "dd85ea4eaa8ecc9d"
  },
  {
   "metadata": {
    "ExecuteTime": {
     "end_time": "2025-05-22T15:40:52.853703Z",
     "start_time": "2025-05-22T15:40:46.848791Z"
    }
   },
   "cell_type": "code",
   "source": [
    "acs = acsproc.interpolate_common_wavelengths(ds = acs, \n",
    "                                             a_wavelength_dim='a_wavelength',\n",
    "                                             c_wavelength_dim='c_wavelength',\n",
    "                                             new_wavelength_dim='wavelength',\n",
    "                                             step=1,\n",
    "                                             wavelength_range='infer')"
   ],
   "id": "8e521e00d5fb0fa",
   "outputs": [
    {
     "name": "stderr",
     "output_type": "stream",
     "text": [
      "C:\\Users\\Ian\\phd\\projects\\acspype\\.venv\\Lib\\site-packages\\scipy\\interpolate\\_interpolate.py:482: RuntimeWarning: invalid value encountered in add\n",
      "  y_new = slope*(x_new - x_lo)[:, None] + y_lo\n",
      "C:\\Users\\Ian\\phd\\projects\\acspype\\.venv\\Lib\\site-packages\\scipy\\interpolate\\_interpolate.py:479: RuntimeWarning: invalid value encountered in subtract\n",
      "  slope = (y_hi - y_lo) / (x_hi - x_lo)[:, None]\n"
     ]
    }
   ],
   "execution_count": 19
  },
  {
   "metadata": {},
   "cell_type": "markdown",
   "source": [
    "### Step 3.1: Apply Scattering Corrections\n",
    "In this example, we will only apply the baseline and proportional scattering correction, since these do not rely on empirical scale factors. "
   ],
   "id": "8c15f579902408b8"
  },
  {
   "metadata": {},
   "cell_type": "markdown",
   "source": [
    "#### Slice to the Reference Wavelength\n",
    "Values beyond the reference wavelength may result in negative values, which can skew some QAQC tests. For simplicity, we will slice the dataset to remove wavelengths beyond the reference wavelength.\" Traditionally, 715 nm has been used as the reference."
   ],
   "id": "f54e015f3f4c1837"
  },
  {
   "metadata": {
    "ExecuteTime": {
     "end_time": "2025-05-22T15:40:52.858306Z",
     "start_time": "2025-05-22T15:40:52.853703Z"
    }
   },
   "cell_type": "code",
   "source": "reference_wavelength = 715",
   "id": "c4c949116bc40003",
   "outputs": [],
   "execution_count": 20
  },
  {
   "metadata": {
    "ExecuteTime": {
     "end_time": "2025-05-22T15:40:52.866181Z",
     "start_time": "2025-05-22T15:40:52.858306Z"
    }
   },
   "cell_type": "code",
   "source": "acs = acs.sel(wavelength = slice(None, reference_wavelength))",
   "id": "212127745c77df3a",
   "outputs": [],
   "execution_count": 21
  },
  {
   "metadata": {
    "ExecuteTime": {
     "end_time": "2025-05-22T15:40:52.871402Z",
     "start_time": "2025-05-22T15:40:52.866181Z"
    }
   },
   "cell_type": "code",
   "source": [
    "a_mts_715 = acs.a_mts.sel(wavelength = reference_wavelength, method = 'nearest')\n",
    "c_mts_715 = acs.c_mts.sel(wavelength = reference_wavelength, method = 'nearest')"
   ],
   "id": "6871ac8c12eaf29c",
   "outputs": [],
   "execution_count": 22
  },
  {
   "metadata": {},
   "cell_type": "markdown",
   "source": "#### Baseline Method",
   "id": "87d351e3715819d8"
  },
  {
   "metadata": {
    "ExecuteTime": {
     "end_time": "2025-05-22T15:40:53.103315Z",
     "start_time": "2025-05-22T15:40:52.871402Z"
    }
   },
   "cell_type": "code",
   "source": [
    "acs['a_mts_baseline'] = acsproc.baseline_scattering_correction(a_mts = acs.a_mts, \n",
    "                                                               reference_a = a_mts_715) # Baseline Method from Zaneveld et al. 1994\n",
    "acs['a_mts_baseline'] = acsproc.zero_shift_correction(mts = acs.a_mts_baseline)\n",
    "\n",
    "print(f\"\\nVariable Attributes\")\n",
    "print(acs.a_mts_baseline.attrs)"
   ],
   "id": "c1d6a8f2c778a90a",
   "outputs": [
    {
     "name": "stdout",
     "output_type": "stream",
     "text": [
      "\n",
      "Variable Attributes\n",
      "{'ancillary_variables': 'a_mts', 'scattering_correction_method': 'Baseline, Zaneveld et al. (1994)', 'scattering_correction_method_doi': 'https://doi.org/10.1117/12.190095', 'zero_shifted': True}\n"
     ]
    }
   ],
   "execution_count": 23
  },
  {
   "metadata": {},
   "cell_type": "markdown",
   "source": "#### Proportional Method",
   "id": "6334b4bd7eac6f4c"
  },
  {
   "metadata": {
    "ExecuteTime": {
     "end_time": "2025-05-22T15:40:53.516855Z",
     "start_time": "2025-05-22T15:40:53.104324Z"
    }
   },
   "cell_type": "code",
   "source": [
    "acs['a_mts_proportional'] = acsproc.proportional_scattering_correction(a_mts = acs.a_mts, \n",
    "                                                                       c_mts = acs.c_mts, \n",
    "                                                                       reference_a = a_mts_715, \n",
    "                                                                       reference_c = c_mts_715) # Proportional Method from Zaneveld et al. 1994\n",
    "acs['a_mts_proportional'] = acsproc.zero_shift_correction(mts = acs.a_mts_proportional)\n",
    "\n",
    "print(f\"\\nVariable Attributes\")\n",
    "print(acs.a_mts_proportional.attrs)"
   ],
   "id": "641f5baabd7b0b85",
   "outputs": [
    {
     "name": "stdout",
     "output_type": "stream",
     "text": [
      "\n",
      "Variable Attributes\n",
      "{'ancillary_variables': ['a_mts', 'c_mts'], 'scattering_correction_method': 'Proportional, Zaneveld et al. (1994)', 'scattering_correction_method_doi': 'https://doi.org/10.1117/12.190095', 'zero_shifted': True}\n"
     ]
    }
   ],
   "execution_count": 24
  },
  {
   "metadata": {},
   "cell_type": "markdown",
   "source": "### Step 4.0: Run QAQC Tests",
   "id": "c147a4fb5ff5de1c"
  },
  {
   "metadata": {},
   "cell_type": "markdown",
   "source": "#### Elapsed Time Test",
   "id": "d02fa401f0bead0c"
  },
  {
   "metadata": {
    "ExecuteTime": {
     "end_time": "2025-05-22T15:40:53.529231Z",
     "start_time": "2025-05-22T15:40:53.517167Z"
    }
   },
   "cell_type": "code",
   "source": [
    "elasped_time_fail = 20 * 1000\n",
    "elapsed_time_suspect = 60 * 1000\n",
    "acs['flag_elapsed_time'] = acsqaqc.elapsed_time_test(acs.elapsed_time, fail_threshold = elasped_time_fail, suspect_threshold = elapsed_time_suspect)\n",
    "\n",
    "flags, flag_counts = np.unique(acs.flag_elapsed_time.values, return_counts = True)\n",
    "print('elapsed_time')\n",
    "for flag in flags:\n",
    "    print(f\"Flag {flag}: {flag_counts[flags.tolist().index(flag)]}\")\n",
    "\n",
    "print(f\"\\nVariable Attributes\")\n",
    "print(acs.flag_elapsed_time.attrs)"
   ],
   "id": "33895506cc84a227",
   "outputs": [
    {
     "name": "stdout",
     "output_type": "stream",
     "text": [
      "elapsed_time\n",
      "Flag 1.0: 102970\n",
      "Flag 3.0: 22387\n",
      "Flag 4.0: 6622\n",
      "\n",
      "Variable Attributes\n",
      "{'ancillary_variables': 'elapsed_time', 'fail_threshold': 20000, 'suspect_threshold': 60000, 'threshold_units': 'milliseconds', 'test_name': 'elapsed_time_test'}\n"
     ]
    }
   ],
   "execution_count": 25
  },
  {
   "metadata": {},
   "cell_type": "markdown",
   "source": "#### Internal Temperature Test",
   "id": "787e999061fd44a5"
  },
  {
   "metadata": {
    "ExecuteTime": {
     "end_time": "2025-05-22T15:40:53.541117Z",
     "start_time": "2025-05-22T15:40:53.530239Z"
    }
   },
   "cell_type": "code",
   "source": [
    "acs['flag_internal_temperature'] = acsqaqc.internal_temperature_test(internal_temperature=acs.internal_temperature, dev = dev)\n",
    "\n",
    "flags, flag_counts = np.unique(acs.flag_internal_temperature.values, return_counts = True)\n",
    "print('internal_temperature')\n",
    "for flag in flags:\n",
    "    print(f\"Flag {flag}: {flag_counts[flags.tolist().index(flag)]}\")\n",
    "    \n",
    "    \n",
    "print(f\"\\nVariable Attributes\")\n",
    "print(acs.flag_internal_temperature.attrs)"
   ],
   "id": "fad839c1ced65190",
   "outputs": [
    {
     "name": "stdout",
     "output_type": "stream",
     "text": [
      "internal_temperature\n",
      "Flag 1: 131979\n",
      "\n",
      "Variable Attributes\n",
      "{'ancillary_variables': 'internal_temperature', 'minimum_temperature_bin': 0.584034, 'maximum_temperature_bin': 35.0, 'temperature_bin_units': 'degrees Celsius', 'test_name': 'internal_temperature_test'}\n"
     ]
    }
   ],
   "execution_count": 26
  },
  {
   "metadata": {},
   "cell_type": "markdown",
   "source": "#### Inf/NaN Test",
   "id": "91a8692ea7eba36e"
  },
  {
   "metadata": {
    "ExecuteTime": {
     "end_time": "2025-05-22T15:40:53.687934Z",
     "start_time": "2025-05-22T15:40:53.541631Z"
    }
   },
   "cell_type": "code",
   "source": [
    "acs['flag_a_uncorrected_inf_nan'] = acsqaqc.inf_nan_test(uncorrected = acs.a_uncorrected)\n",
    "acs['flag_c_uncorrected_inf_nan'] = acsqaqc.inf_nan_test(uncorrected = acs.c_uncorrected)\n",
    "\n",
    "flags, flag_counts = np.unique(acs.flag_a_uncorrected_inf_nan.values, return_counts = True)\n",
    "print('a_uncorrected')\n",
    "for flag in flags:\n",
    "    print(f\"Flag {flag}: {flag_counts[flags.tolist().index(flag)]}\")\n",
    "\n",
    "print(\"\")\n",
    "\n",
    "flags, flag_counts = np.unique(acs.flag_c_uncorrected_inf_nan.values, return_counts = True)\n",
    "print('c_uncorrected')\n",
    "for flag in flags:\n",
    "    print(f\"Flag {flag}: {flag_counts[flags.tolist().index(flag)]}\")\n",
    "    \n",
    "    \n",
    "print(f\"\\nVariable Attributes\")\n",
    "print(acs.flag_a_uncorrected_inf_nan.attrs)\n",
    "print(acs.flag_c_uncorrected_inf_nan.attrs)"
   ],
   "id": "c7378475f68407f0",
   "outputs": [
    {
     "name": "stdout",
     "output_type": "stream",
     "text": [
      "a_uncorrected\n",
      "Flag 1: 131828\n",
      "Flag 4: 151\n",
      "\n",
      "c_uncorrected\n",
      "Flag 1: 131768\n",
      "Flag 4: 211\n",
      "\n",
      "Variable Attributes\n",
      "{'ancillary_variables': 'a_uncorrected', 'test_name': 'inf_nan_test'}\n",
      "{'ancillary_variables': 'c_uncorrected', 'test_name': 'inf_nan_test'}\n"
     ]
    }
   ],
   "execution_count": 27
  },
  {
   "metadata": {},
   "cell_type": "markdown",
   "source": "#### Gross Range Test",
   "id": "1f9df68b37e2f46d"
  },
  {
   "metadata": {
    "ExecuteTime": {
     "end_time": "2025-05-22T15:40:55.169674Z",
     "start_time": "2025-05-22T15:40:53.690458Z"
    }
   },
   "cell_type": "code",
   "source": [
    "acs['flag_c_mts_gross_range'] = acsqaqc.gross_range_test(mts = acs.c_mts, \n",
    "                                                         sensor_min = -0.005, sensor_max = 10,\n",
    "                                                         op_min = 0, op_max = 8.5)\n",
    "\n",
    "acs['flag_a_mts_proportional_gross_range'] = acsqaqc.gross_range_test(mts = acs.a_mts_proportional, \n",
    "                                                                      sensor_min = -0.005, sensor_max = 10,\n",
    "                                                                      op_min = 0, op_max = 8.5)\n",
    "\n",
    "print(f\"\\nVariable Attributes\")\n",
    "print(acs.flag_c_mts_gross_range.attrs)\n",
    "print(acs.flag_a_mts_proportional_gross_range.attrs)"
   ],
   "id": "313f16fb0920ceca",
   "outputs": [
    {
     "name": "stdout",
     "output_type": "stream",
     "text": [
      "\n",
      "Variable Attributes\n",
      "{'ancillary_variables': 'c_mts', 'tcal': 18.0, 'zero_shifted': True, 'sensor_min': -0.005, 'sensor_max': 10, 'operator_min': 0, 'operator_max': 8.5, 'threshold_units': 'm^-1', 'test_name': 'gross_range_test'}\n",
      "{'ancillary_variables': 'a_mts_proportional', 'scattering_correction_method': 'Proportional, Zaneveld et al. (1994)', 'scattering_correction_method_doi': 'https://doi.org/10.1117/12.190095', 'zero_shifted': True, 'sensor_min': -0.005, 'sensor_max': 10, 'operator_min': 0, 'operator_max': 8.5, 'threshold_units': 'm^-1', 'test_name': 'gross_range_test'}\n"
     ]
    }
   ],
   "execution_count": 28
  },
  {
   "metadata": {
    "ExecuteTime": {
     "end_time": "2025-05-22T15:40:55.475963Z",
     "start_time": "2025-05-22T15:40:55.169674Z"
    }
   },
   "cell_type": "code",
   "source": [
    "acs['blanket_flag_c_mts_gross_range'] = acsqaqc.blanket_gross_range_test(acs.flag_c_mts_gross_range, \n",
    "                                                                 wavelength_dim = 'wavelength', \n",
    "                                                                 suspect_threshold = 0.10, \n",
    "                                                                 fail_threshold = 0.30, \n",
    "                                                                 include_suspect_flags = False)\n",
    "\n",
    "acs['blanket_flag_a_mts_proportional_gross_range'] = acsqaqc.blanket_gross_range_test(acs.flag_a_mts_proportional_gross_range, \n",
    "                                                                         wavelength_dim = 'wavelength', \n",
    "                                                                         suspect_threshold = 0.10, \n",
    "                                                                         fail_threshold = 0.30, \n",
    "                                                                         include_suspect_flags = False)\n",
    "\n",
    "\n",
    "\n",
    "flags, flag_counts = np.unique(acs.blanket_flag_a_mts_proportional_gross_range.values, return_counts = True)\n",
    "print('Blanket a_mts_proportional Gross Range')\n",
    "for flag in flags:\n",
    "    print(f\"Flag {flag}: {flag_counts[flags.tolist().index(flag)]}\")\n",
    "\n",
    "print(\"\")\n",
    "\n",
    "\n",
    "flags, flag_counts = np.unique(acs.blanket_flag_c_mts_gross_range.values, return_counts = True)\n",
    "print('Blanket c_mts Gross Range')\n",
    "for flag in flags:\n",
    "    print(f\"Flag {flag}: {flag_counts[flags.tolist().index(flag)]}\")\n",
    "    \n",
    "print(f\"\\nVariable Attributes\")\n",
    "print(acs.blanket_flag_c_mts_gross_range.attrs)\n",
    "print(acs.blanket_flag_a_mts_proportional_gross_range.attrs)"
   ],
   "id": "637903af27c02ce8",
   "outputs": [
    {
     "name": "stdout",
     "output_type": "stream",
     "text": [
      "Blanket a_mts_proportional Gross Range\n",
      "Flag 1: 93036\n",
      "Flag 3: 36468\n",
      "Flag 4: 2475\n",
      "\n",
      "Blanket c_mts Gross Range\n",
      "Flag 1: 131794\n",
      "Flag 3: 58\n",
      "Flag 4: 127\n",
      "\n",
      "Variable Attributes\n",
      "{'ancillary_variables': 'flag_c_mts_gross_range', 'suspect_threshold': 0.1, 'fail_threshold': 0.3, 'threshold_units': 'm^-1', 'includes_suspect_flags': False, 'test_name': 'blanket_gross_range_test'}\n",
      "{'ancillary_variables': 'flag_a_mts_proportional_gross_range', 'suspect_threshold': 0.1, 'fail_threshold': 0.3, 'threshold_units': 'm^-1', 'includes_suspect_flags': False, 'test_name': 'blanket_gross_range_test'}\n"
     ]
    }
   ],
   "execution_count": 29
  },
  {
   "metadata": {},
   "cell_type": "markdown",
   "source": [
    "## Step 4.1: Remove Poor Quality Data\n",
    "\n",
    "Because OOI distributes ACS data parsed into its raw values, we can probably assume that the gap and syntax tests passed."
   ],
   "id": "ab59b12f6e4b97f4"
  },
  {
   "metadata": {
    "ExecuteTime": {
     "end_time": "2025-05-22T15:40:55.480143Z",
     "start_time": "2025-05-22T15:40:55.475963Z"
    }
   },
   "cell_type": "code",
   "source": [
    "pre = len(acs.time.values)\n",
    "print(f'Total Number of ACS Spectra Before Removal: {pre}')"
   ],
   "id": "5b33a47550a83266",
   "outputs": [
    {
     "name": "stdout",
     "output_type": "stream",
     "text": [
      "Total Number of ACS Spectra Before Removal: 131979\n"
     ]
    }
   ],
   "execution_count": 30
  },
  {
   "metadata": {
    "ExecuteTime": {
     "end_time": "2025-05-22T15:41:21.760206Z",
     "start_time": "2025-05-22T15:40:55.480143Z"
    }
   },
   "cell_type": "code",
   "source": [
    "acs = acs.where(acs.flag_elapsed_time != 4, drop = True)  # Remove samples with a flag of 4 for the elapsed time test\n",
    "print(f'Removed {pre - len(acs.time.values)} samples due to failure of elapsed time test.')\n",
    "next = len(acs.time.values)\n",
    "\n",
    "acs = acs.where(acs.flag_internal_temperature != 4, drop = True)  # Remove samples with a flag of 4 for the internal temperature test.\n",
    "print(f'Removed {next - len(acs.time.values)} samples due to failure of internal temperature test.')\n",
    "next = len(acs.time.values)\n",
    "\n",
    "acs = acs.where(acs.flag_a_uncorrected_inf_nan != 4, drop = True)  # Remove samples with a flag of 4 for the absorption inf nan test.\n",
    "acs = acs.where(acs.flag_c_uncorrected_inf_nan != 4, drop = True)  # Remove samples with a flag of 4 for the absorption inf nan test.4\n",
    "print(f'Removed {next - len(acs.time.values)} samples due to failure of inf nan test for attenuation or absorption.')\n",
    "next = len(acs.time.values)\n",
    "\n",
    "acs = acs.where(acs.blanket_flag_a_mts_proportional_gross_range != 4, drop = True)  # Remove samples with a flag of 4 for the absorption gross range test.\n",
    "acs = acs.where(acs.blanket_flag_c_mts_gross_range != 4, drop = True)  # Remove samples with a flag of 4 for the absorption gross range test.\n",
    "print(f'Removed {next - len(acs.time.values)} samples due to failure of blanket gross range test for attenuation or absorption.')"
   ],
   "id": "deedc7d7479c37b3",
   "outputs": [
    {
     "name": "stdout",
     "output_type": "stream",
     "text": [
      "Removed 6622 samples due to failure of elapsed time test.\n",
      "Removed 0 samples due to failure of internal temperature test.\n",
      "Removed 361 samples due to failure of inf nan test for attenuation or absorption.\n",
      "Removed 2268 samples due to failure of blanket gross range test for attenuation or absorption.\n"
     ]
    }
   ],
   "execution_count": 31
  },
  {
   "metadata": {
    "ExecuteTime": {
     "end_time": "2025-05-22T15:41:21.765523Z",
     "start_time": "2025-05-22T15:41:21.760206Z"
    }
   },
   "cell_type": "code",
   "source": [
    "post = len(acs.time.values)\n",
    "print(f'Total Number of ACS Spectra After Removal: {post}')\n",
    "print(f'Removed {round((1-post/pre) * 100,2)}% of samples due to failure of QAQC tests.')"
   ],
   "id": "fc06da08c5815e14",
   "outputs": [
    {
     "name": "stdout",
     "output_type": "stream",
     "text": [
      "Total Number of ACS Spectra After Removal: 122728\n",
      "Removed 7.01% of samples due to failure of QAQC tests.\n"
     ]
    }
   ],
   "execution_count": 32
  },
  {
   "metadata": {},
   "cell_type": "markdown",
   "source": "## Sidebar: Quick Plot a Spectrum",
   "id": "f7080f1f0ddc62f1"
  },
  {
   "metadata": {
    "ExecuteTime": {
     "end_time": "2025-05-22T15:41:22.460621Z",
     "start_time": "2025-05-22T15:41:21.765523Z"
    }
   },
   "cell_type": "code",
   "source": [
    "spectrum = acs.sel(time = acs.time.values[-51000])\n",
    "dt = spectrum.time.values\n",
    "fig, ax = plt.subplots(1, 2, figsize=(12, 5), sharex = True)\n",
    "\n",
    "ax[0].set_title('Absorption')\n",
    "ax[0].axhline(0, color = 'k', linestyle = '--')\n",
    "ax[0].axvline(reference_wavelength, color = 'k', linestyle = '--')\n",
    "ax[0].plot(spectrum.wavelength, spectrum.a_mts, label='a_mts')\n",
    "ax[0].plot(spectrum.wavelength, spectrum.a_mts_baseline, label = 'a_mts_baseline')\n",
    "ax[0].plot(spectrum.wavelength, spectrum.a_mts_proportional, label = 'a_mts_proportional')\n",
    "ax[0].legend(loc = 'upper right', ncols = 1)\n",
    "ax[0].yaxis.set_major_locator(MultipleLocator(0.25))\n",
    "ax[0].yaxis.set_minor_locator(MultipleLocator(0.05))\n",
    "\n",
    "ax[1].set_title('Attenuation')\n",
    "ax[1].plot(spectrum.wavelength, spectrum.c_mts, label = 'c_mts')\n",
    "ax[1].axvline(reference_wavelength, color = 'k', linestyle = '--')\n",
    "ax[1].legend(loc = 'upper right', ncols = 1)\n",
    "ax[1].yaxis.set_major_locator(MultipleLocator(0.05))\n",
    "ax[1].yaxis.set_minor_locator(MultipleLocator(0.01))\n",
    "\n",
    "ax[-1].xaxis.set_major_locator(MultipleLocator(50))\n",
    "ax[-1].xaxis.set_minor_locator(MultipleLocator(5))\n",
    "\n",
    "ax[0].set_ylabel(r'Absorption ($m^{-1}$)')\n",
    "ax[1].set_ylabel(r'Attenuation ($m^{-1}$)')\n",
    "ax[0].set_xlabel('Wavelength (nm)')\n",
    "ax[1].set_xlabel('Wavelength (nm)')"
   ],
   "id": "ea46f345e224488a",
   "outputs": [
    {
     "data": {
      "text/plain": [
       "Text(0.5, 0, 'Wavelength (nm)')"
      ]
     },
     "execution_count": 33,
     "metadata": {},
     "output_type": "execute_result"
    },
    {
     "data": {
      "text/plain": [
       "<Figure size 1200x500 with 2 Axes>"
      ],
      "image/png": "[encoded data removed]"
     },
     "metadata": {},
     "output_type": "display_data"
    }
   ],
   "execution_count": 33
  },
  {
   "metadata": {},
   "cell_type": "markdown",
   "source": [
    "### Step 6.0: Smooth Data\n",
    "\n",
    "For simplicity, we will apply a median filter with a centered window width of 13 to attenuation. It may be more appropriate to bin the data by depth, but the OOI does not provide unique profile identifiers, so estimation of a profile would need to be done. That is outside the scope of this example."
   ],
   "id": "cf9638353347fa39"
  },
  {
   "metadata": {
    "ExecuteTime": {
     "end_time": "2025-05-22T15:41:26.481640Z",
     "start_time": "2025-05-22T15:41:22.460621Z"
    }
   },
   "cell_type": "code",
   "source": [
    "a = acs.a_mts_proportional.rolling({'time': 25}, center = True, min_periods = 1).median(skipna = True)\n",
    "a = acsproc.zero_shift_correction(mts = a)\n",
    "\n",
    "a = a.where(a<10, drop = True)  # Remove values greater than 10 m^-1. "
   ],
   "id": "88786bf621c5b599",
   "outputs": [],
   "execution_count": 34
  },
  {
   "metadata": {},
   "cell_type": "markdown",
   "source": [
    "### Step 7.0: Compute Advanced Data Products\n",
    "In this example we compute chlorophyll-a from absorption line height using the methods from Roesler and Barnard, 2013. \n",
    "It should be noted that this algorithm technically calls for the particulate signal, but the OOI does not take the dissolved samples to calculate the particulate signal."
   ],
   "id": "f97c4f0f97455e1a"
  },
  {
   "metadata": {
    "ExecuteTime": {
     "end_time": "2025-05-22T15:41:26.501888Z",
     "start_time": "2025-05-22T15:41:26.481640Z"
    }
   },
   "cell_type": "code",
   "source": [
    "a650 = a.sel(wavelength = 650, method = 'nearest') \n",
    "a676 = a.sel(wavelength = 676, method = 'nearest') \n",
    "a715 = a.sel(wavelength = 715, method = 'nearest') \n",
    "\n",
    "acs['estimated_chl'] = estimate_chl(a650,a676,a715,0.02) # Using larger alh_coeff.\n",
    "acs['estimated_chl'] = acs['estimated_chl'].where(acs.estimated_chl > 0, 0) # Values less than 0 are set to 0. Probably from spectra that were not flagged appropriately.\n",
    "acs['estimated_chl']  = acs.estimated_chl.rolling({'time':4 * 3 + 1}, center = True, min_periods = 1).median(skipna = True)"
   ],
   "id": "efa56c8ea35766e3",
   "outputs": [],
   "execution_count": 35
  },
  {
   "metadata": {
    "ExecuteTime": {
     "end_time": "2025-05-22T15:41:26.506668Z",
     "start_time": "2025-05-22T15:41:26.501888Z"
    }
   },
   "cell_type": "code",
   "source": [
    "print(f\"\\nVariable Attributes\")\n",
    "print(acs.estimated_chl.attrs)"
   ],
   "id": "b9fd3d71f13ce3fb",
   "outputs": [
    {
     "name": "stdout",
     "output_type": "stream",
     "text": [
      "\n",
      "Variable Attributes\n",
      "{'ancillary_variables': 'a_mts_proportional', 'alh_coeff': 0.02, 'long_name': 'Chlorophyll-a Concentration from Absorption Line Height', 'units': 'mg/m^3', 'estimation_method': 'Roesler and Barnard (2013)', 'method_data_source': 'Cultures and Gulf of Maine', 'reference': 'Roesler and Barnard (2013)', 'reference_doi': 'https://doi.org/10.1016/j.mio.2013.12.003'}\n"
     ]
    }
   ],
   "execution_count": 36
  },
  {
   "metadata": {},
   "cell_type": "markdown",
   "source": "## Download Fluorometer Data",
   "id": "36e3e681c0fa9fc5"
  },
  {
   "metadata": {
    "ExecuteTime": {
     "end_time": "2025-05-22T15:41:26.649446Z",
     "start_time": "2025-05-22T15:41:26.506668Z"
    }
   },
   "cell_type": "code",
   "source": [
    "fl = download_and_load_goldcopy('https://thredds.dataexplorer.oceanobservatories.org/thredds/fileServer/ooigoldcopy/public/CE02SHSP-SP001-07-FLORTJ000-recovered_cspp-flort_sample/deployment0013_CE02SHSP-SP001-07-FLORTJ000-recovered_cspp-flort_sample_20190624T165545.113000-20190627T023924.529000.nc')\n",
    "fl = fl.swap_dims({'obs':'time'})\n",
    "fl = fl[['fluorometric_chlorophyll_a']]\n",
    "fl = fl.rolling({'time': 2*3 + 1}, center = True, min_periods = 1).median(skipna = True)"
   ],
   "id": "1324a70458b8e19",
   "outputs": [],
   "execution_count": 37
  },
  {
   "metadata": {},
   "cell_type": "markdown",
   "source": [
    "# Plot Data\n",
    "\n"
   ],
   "id": "bfee25873049d1ad"
  },
  {
   "metadata": {
    "ExecuteTime": {
     "end_time": "2025-05-22T15:41:33.944887Z",
     "start_time": "2025-05-22T15:41:26.649446Z"
    }
   },
   "cell_type": "code",
   "source": [
    "cmap = matplotlib.colormaps.get_cmap('viridis')\n",
    "\n",
    "fig, ax = plt.subplots(1,2,figsize = (6,5), constrained_layout = True, sharex = True, sharey = True)\n",
    "\n",
    "p0 = ax[0].scatter(acs.time, acs.depth, c = acs.estimated_chl, cmap = cmap, s = 10, vmin = 0, vmax = 25)\n",
    "\n",
    "p1 = ax[1].scatter(fl.time, fl.depth, c = fl.fluorometric_chlorophyll_a, cmap = cmap, s = 10, vmin = 0, vmax = 25)\n",
    "\n",
    "\n",
    "ax[-1].set_ylim(1,40)\n",
    "ax[-1].invert_yaxis()\n",
    "\n",
    "ax[0].set_title('ACS')\n",
    "ax[1].set_title('ECO Triplet-w')\n",
    "\n",
    "ax[0].set_ylabel('Depth (m)')\n",
    "\n",
    "ax[-1].set_xlim(datetime(2019,6,25,6),datetime(2019,6,27,4))\n",
    "ax[-1].xaxis.set_major_locator(DayLocator(interval = 1))\n",
    "ax[-1].xaxis.set_minor_locator(HourLocator(interval = 1))\n",
    "\n",
    "ax[-1].yaxis.set_major_locator(MultipleLocator(5))\n",
    "ax[-1].yaxis.set_minor_locator(MultipleLocator(1))\n",
    "\n",
    "fig.colorbar(p1, ax = ax[1], label = r'Chlorophyll-a (${mg}{\\cdot}{m^{-3}}$)',shrink = 0.8, pad = 0.001)\n",
    "\n",
    "plt.savefig('f4.jpg', dpi = 600)"
   ],
   "id": "79911d2ebc02748c",
   "outputs": [
    {
     "data": {
      "text/plain": [
       "<Figure size 600x500 with 3 Axes>"
      ],
      "image/png": "[encoded data removed]"
     },
     "metadata": {},
     "output_type": "display_data"
    }
   ],
   "execution_count": 38
  },
  {
   "metadata": {},
   "cell_type": "markdown",
   "source": [
    "# Export Data\n",
    "\n",
    "To export data to a new netCDF, you can use Xarray's builtin to_netcdf function. It is important to define the time encoding so that other programming languages can interpret the time units correctly (Python, MATLAB, R, etc.).\n",
    "\n",
    "\n",
    "<br>\n",
    "\n",
    "```\n",
    "from acspype.core import NC_ENCODING\n",
    "acs.to_netcdf('processed.nc', encoding=NC_ENCODING)\n",
    "```"
   ],
   "id": "939907d0f4d02830"
  },
  {
   "metadata": {
    "ExecuteTime": {
     "end_time": "2025-05-22T15:41:33.947865Z",
     "start_time": "2025-05-22T15:41:33.944887Z"
    }
   },
   "cell_type": "code",
   "source": "",
   "id": "28f2794b7bf0f59",
   "outputs": [],
   "execution_count": 38
  }
 ],
 "metadata": {
  "kernelspec": {
   "display_name": "Python 3",
   "language": "python",
   "name": "python3"
  },
  "language_info": {
   "codemirror_mode": {
    "name": "ipython",
    "version": 2
   },
   "file_extension": ".py",
   "mimetype": "text/x-python",
   "name": "python",
   "nbconvert_exporter": "python",
   "pygments_lexer": "ipython2",
   "version": "2.7.6"
  }
 },
 "nbformat": 4,
 "nbformat_minor": 5
}

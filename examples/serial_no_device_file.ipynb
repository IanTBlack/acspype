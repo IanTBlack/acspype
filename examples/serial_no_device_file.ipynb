{
 "cells": [
  {
   "metadata": {},
   "cell_type": "markdown",
   "source": [
    "# Acquire ACS Data Over Serial WITHOUT Knowledge From the Device File\n",
    "For this example, you will need to connect an ACS to your computer via serial. \n",
    "The sensor should be on before running this notebook. Note that the ACS is in picoDOS for the first 10 seconds after it is powered on and may not register on a serial port.\n",
    "\n",
    "Note: In this example, absorption and attenuation will look bad because the ACS is running in air.\n"
   ],
   "id": "6facca7087610df9"
  },
  {
   "metadata": {
    "ExecuteTime": {
     "end_time": "2025-04-30T20:33:59.862497Z",
     "start_time": "2025-04-30T20:33:58.752831Z"
    }
   },
   "cell_type": "code",
   "source": [
    "from datetime import datetime, timezone\n",
    "\n",
    "from acspype import ACSStream\n",
    "from acspype.processing import convert_sn_str\n",
    "import acspype.qaqc as acsqaqc\n",
    "from acspype.utils import find_acs_port # This is a convenience function that finds the first port that has an ACS attached to it."
   ],
   "id": "initial_id",
   "outputs": [],
   "execution_count": 1
  },
  {
   "metadata": {
    "ExecuteTime": {
     "end_time": "2025-04-30T20:33:59.867696Z",
     "start_time": "2025-04-30T20:33:59.862497Z"
    }
   },
   "cell_type": "code",
   "source": "num_loops = 5  # Acquire X packets, and then stop. Otherwise, the while loop will run forever.",
   "id": "736f9f3ebd20bb92",
   "outputs": [],
   "execution_count": 2
  },
  {
   "metadata": {
    "ExecuteTime": {
     "end_time": "2025-04-30T20:34:02.539394Z",
     "start_time": "2025-04-30T20:33:59.867696Z"
    }
   },
   "cell_type": "code",
   "source": [
    "port = find_acs_port()  # Find the port that has an ACS attached to it.\n",
    "with ACSStream(port) as acss: # Open a serial object.\n",
    "    i = 0\n",
    "    while True:  # Continuously read the stream until a full packet is found.\n",
    "        acss.read_stream()\n",
    "        acs_pkt = acss.find_packet()\n",
    "        if acs_pkt.full_packet is not None:\n",
    "            parsed_packet = acss.parse_packet(acs_packet = acs_pkt) # Parse the packet.\n",
    "            \n",
    "            # Run the gap and syntax tests.\n",
    "            flag_gap = acsqaqc.gap_test(now = datetime.now(timezone.utc), \n",
    "                                        time_stmp = acs_pkt.daq_time, \n",
    "                                        buffer_length= len(acss._buffer), # The bytes in the serial buffer can be accessed with the _buffer attribute. This is really the only instance where you would need access to the buffer contents outside of the ACSStream class.\n",
    "                                        record_length = parsed_packet.record_length)\n",
    "            flag_syntax = acsqaqc.syntax_test(full_packet = acs_pkt.full_packet)\n",
    "            \n",
    "            # Print some of the results.\n",
    "            print(f\"---------- Packet {i} ----------\")\n",
    "            print(f\"Acquisition Time: {parsed_packet.daq_time.strftime('%Y-%m-%dT%H:%M:%S.%f')[:-3] + 'Z'}\")\n",
    "            print(f\"Acquired Packet From: {convert_sn_str(parsed_packet.sn_int)}\")\n",
    "            print(f\"Elapsed Time (ms): {parsed_packet.elapsed_time}\")\n",
    "            print(f\"Absorption Signal Counts: {parsed_packet.a_signal}\")\n",
    "            if flag_gap == 1:\n",
    "                print('Gap Test: Passed')\n",
    "            elif flag_gap == 4:\n",
    "                print('Gap Test: Failed')\n",
    "            if flag_syntax == 1:\n",
    "                print('Syntax Test: Passed')\n",
    "            elif flag_syntax == 4:\n",
    "                print('Syntax Test: Failed')\n",
    "            print('\\n')\n",
    "            \n",
    "            i += 1\n",
    "            if i == num_loops:\n",
    "                break"
   ],
   "id": "13ea0d856beb7c69",
   "outputs": [
    {
     "name": "stdout",
     "output_type": "stream",
     "text": [
      "---------- Packet 0 ----------\n",
      "Acquisition Time: 2025-04-30T20:34:01.402Z\n",
      "Acquired Packet From: ACS-00011\n",
      "Elapsed Time (ms): 925376\n",
      "Absorption Signal Counts: (436, 503, 588, 690, 813, 941, 1083, 1260, 1453, 1685, 1933, 2171, 2433, 2724, 3055, 3396, 3777, 4171, 4613, 5120, 5655, 6188, 6795, 7394, 8003, 8627, 9212, 9879, 10621, 11321, 12032, 12854, 13707, 14729, 15784, 16783, 17814, 18766, 19828, 20844, 21674, 22608, 23493, 24436, 25548, 26312, 28266, 29122, 29955, 30660, 31354, 31959, 32618, 33257, 33582, 33760, 33882, 33919, 33849, 33699, 33281, 32617, 31863, 31001, 30595, 30268, 29373, 28412, 27454, 26360, 25312, 24258, 23073, 21704, 20361, 19245, 18184, 17027, 15872, 14773, 13697, 12731, 11827, 10910)\n",
      "Gap Test: Passed\n",
      "Syntax Test: Passed\n",
      "\n",
      "\n",
      "---------- Packet 1 ----------\n",
      "Acquisition Time: 2025-04-30T20:34:01.660Z\n",
      "Acquired Packet From: ACS-00011\n",
      "Elapsed Time (ms): 925627\n",
      "Absorption Signal Counts: (437, 505, 589, 690, 812, 943, 1085, 1259, 1454, 1684, 1932, 2172, 2432, 2724, 3056, 3396, 3777, 4173, 4611, 5121, 5654, 6187, 6797, 7394, 8002, 8627, 9211, 9880, 10622, 11320, 12033, 12856, 13705, 14731, 15784, 16782, 17814, 18765, 19829, 20843, 21673, 22608, 23493, 24433, 25548, 26312, 28267, 29127, 29952, 30662, 31357, 31958, 32620, 33258, 33582, 33761, 33881, 33919, 33847, 33698, 33278, 32614, 31865, 30996, 30592, 30269, 29367, 28413, 27453, 26357, 25314, 24258, 23069, 21704, 20359, 19241, 18185, 17023, 15870, 14776, 13698, 12733, 11829, 10908)\n",
      "Gap Test: Passed\n",
      "Syntax Test: Passed\n",
      "\n",
      "\n",
      "---------- Packet 2 ----------\n",
      "Acquisition Time: 2025-04-30T20:34:01.909Z\n",
      "Acquired Packet From: ACS-00011\n",
      "Elapsed Time (ms): 925877\n",
      "Absorption Signal Counts: (436, 503, 589, 690, 812, 942, 1085, 1261, 1452, 1686, 1933, 2171, 2435, 2724, 3056, 3396, 3779, 4171, 4612, 5119, 5654, 6187, 6797, 7395, 8001, 8628, 9212, 9879, 10620, 11322, 12029, 12856, 13706, 14728, 15785, 16778, 17815, 18766, 19827, 20843, 21672, 22605, 23496, 24433, 25549, 26313, 28264, 29122, 29952, 30658, 31353, 31957, 32614, 33254, 33581, 33760, 33881, 33915, 33845, 33696, 33277, 32610, 31860, 30995, 30591, 30267, 29366, 28408, 27452, 26354, 25308, 24257, 23069, 21701, 20359, 19239, 18183, 17025, 15867, 14775, 13696, 12730, 11828, 10906)\n",
      "Gap Test: Passed\n",
      "Syntax Test: Passed\n",
      "\n",
      "\n",
      "---------- Packet 3 ----------\n",
      "Acquisition Time: 2025-04-30T20:34:02.154Z\n",
      "Acquired Packet From: ACS-00011\n",
      "Elapsed Time (ms): 926126\n",
      "Absorption Signal Counts: (437, 505, 590, 690, 813, 943, 1087, 1259, 1455, 1685, 1933, 2173, 2436, 2724, 3058, 3396, 3777, 4173, 4612, 5119, 5654, 6187, 6797, 7396, 8003, 8627, 9214, 9880, 10622, 11319, 12031, 12856, 13707, 14730, 15783, 16780, 17815, 18764, 19831, 20844, 21673, 22612, 23493, 24434, 25551, 26312, 28263, 29124, 29953, 30657, 31354, 31957, 32616, 33257, 33579, 33759, 33881, 33916, 33848, 33697, 33276, 32612, 31863, 30999, 30593, 30268, 29366, 28409, 27455, 26353, 25312, 24258, 23067, 21705, 20359, 19242, 18186, 17026, 15870, 14775, 13699, 12731, 11829, 10905)\n",
      "Gap Test: Passed\n",
      "Syntax Test: Passed\n",
      "\n",
      "\n",
      "---------- Packet 4 ----------\n",
      "Acquisition Time: 2025-04-30T20:34:02.402Z\n",
      "Acquired Packet From: ACS-00011\n",
      "Elapsed Time (ms): 926376\n",
      "Absorption Signal Counts: (437, 506, 589, 690, 813, 942, 1087, 1260, 1454, 1685, 1934, 2172, 2435, 2724, 3057, 3396, 3778, 4174, 4611, 5120, 5655, 6188, 6797, 7397, 8001, 8628, 9212, 9879, 10623, 11320, 12032, 12854, 13705, 14731, 15784, 16780, 17815, 18764, 19829, 20843, 21675, 22610, 23492, 24434, 25547, 26311, 28266, 29123, 29956, 30659, 31356, 31957, 32617, 33258, 33582, 33761, 33883, 33919, 33848, 33699, 33280, 32613, 31862, 31001, 30594, 30270, 29371, 28413, 27452, 26359, 25312, 24261, 23070, 21705, 20363, 19246, 18189, 17026, 15873, 14777, 13700, 12734, 11830, 10909)\n",
      "Gap Test: Passed\n",
      "Syntax Test: Passed\n",
      "\n",
      "\n"
     ]
    }
   ],
   "execution_count": 3
  }
 ],
 "metadata": {
  "kernelspec": {
   "display_name": "Python 3",
   "language": "python",
   "name": "python3"
  },
  "language_info": {
   "codemirror_mode": {
    "name": "ipython",
    "version": 2
   },
   "file_extension": ".py",
   "mimetype": "text/x-python",
   "name": "python",
   "nbconvert_exporter": "python",
   "pygments_lexer": "ipython2",
   "version": "2.7.6"
  }
 },
 "nbformat": 4,
 "nbformat_minor": 5
}

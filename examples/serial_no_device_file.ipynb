{
 "cells": [
  {
   "metadata": {},
   "cell_type": "markdown",
   "source": [
    "# Acquire ACS Data Over Serial WITHOUT Knowledge From the Device File\n",
    "For this example, you will need to connect an ACS to your computer via serial. \n",
    "The sensor should be on before running this notebook. Note that the ACS is in picoDOS for the first 10 seconds after it is powered on and may not register on a serial port.\n",
    "\n",
    "Note: In this example, absorption and attenuation will look bad because the ACS is running in air.\n"
   ],
   "id": "6facca7087610df9"
  },
  {
   "metadata": {
    "ExecuteTime": {
     "end_time": "2025-05-04T18:01:13.512004Z",
     "start_time": "2025-05-04T18:01:13.504382Z"
    }
   },
   "cell_type": "code",
   "source": [
    "from datetime import datetime, timezone\n",
    "\n",
    "from acspype import ACSStream\n",
    "from acspype.processing import convert_sn_str\n",
    "import acspype.qaqc as acsqaqc\n",
    "from acspype.utils import find_acs_port # This is a convenience function that finds the first port that has an ACS attached to it."
   ],
   "id": "initial_id",
   "outputs": [],
   "execution_count": 4
  },
  {
   "metadata": {
    "ExecuteTime": {
     "end_time": "2025-05-04T18:01:13.588672Z",
     "start_time": "2025-05-04T18:01:13.574971Z"
    }
   },
   "cell_type": "code",
   "source": "num_loops = 5  # Acquire X packets, and then stop. Otherwise, the while loop will run forever.",
   "id": "736f9f3ebd20bb92",
   "outputs": [],
   "execution_count": 5
  },
  {
   "metadata": {
    "ExecuteTime": {
     "end_time": "2025-05-04T18:01:16.273515Z",
     "start_time": "2025-05-04T18:01:13.590688Z"
    }
   },
   "cell_type": "code",
   "source": [
    "port = find_acs_port()  # Find the port that has an ACS attached to it.\n",
    "port = 'COM5'\n",
    "with ACSStream(port) as acss: # Open a serial object.\n",
    "    i = 0\n",
    "    while True:  # Continuously read the stream until a full packet is found.\n",
    "        acss.read_stream()\n",
    "        acs_pkt = acss.find_packet()\n",
    "        if acs_pkt.full_packet is not None:\n",
    "            parsed_packet = acss.parse_packet(acs_packet = acs_pkt) # Parse the packet.\n",
    "            \n",
    "            # Run the gap and syntax tests.\n",
    "            flag_gap = acsqaqc.gap_test(now = datetime.now(timezone.utc), \n",
    "                                        time_stmp = acs_pkt.daq_time, \n",
    "                                        buffer_length= len(acss._buffer), # The bytes in the serial buffer can be accessed with the _buffer attribute. This is really the only instance where you would need access to the buffer contents outside of the ACSStream class.\n",
    "                                        record_length = parsed_packet.record_length)\n",
    "            flag_syntax = acsqaqc.syntax_test(full_packet = acs_pkt.full_packet)\n",
    "            \n",
    "            # Print some of the results.\n",
    "            print(f\"---------- Packet {i} ----------\")\n",
    "            print(f\"Acquisition Time: {parsed_packet.daq_time.strftime('%Y-%m-%dT%H:%M:%S.%f')[:-3] + 'Z'}\")\n",
    "            print(f\"Acquired Packet From: {convert_sn_str(parsed_packet.sn_int)}\")\n",
    "            print(f\"Elapsed Time (ms): {parsed_packet.elapsed_time}\")\n",
    "            print(f\"Absorption Signal Counts: {parsed_packet.a_signal}\")\n",
    "            if flag_gap == 1:\n",
    "                print('Gap Test: Passed')\n",
    "            elif flag_gap == 4:\n",
    "                print('Gap Test: Failed')\n",
    "            if flag_syntax == 1:\n",
    "                print('Syntax Test: Passed')\n",
    "            elif flag_syntax == 4:\n",
    "                print('Syntax Test: Failed')\n",
    "            print('\\n')\n",
    "            \n",
    "            i += 1\n",
    "            if i == num_loops:\n",
    "                break"
   ],
   "id": "13ea0d856beb7c69",
   "outputs": [
    {
     "name": "stdout",
     "output_type": "stream",
     "text": [
      "---------- Packet 0 ----------\n",
      "Acquisition Time: 2025-05-04T18:01:15.143Z\n",
      "Acquired Packet From: ACS-00011\n",
      "Elapsed Time (ms): 623434\n",
      "Absorption Signal Counts: (507, 567, 641, 734, 847, 971, 1107, 1277, 1466, 1713, 1993, 2268, 2565, 2888, 3248, 3604, 4002, 4403, 4846, 5360, 5901, 6438, 7059, 7663, 8281, 8914, 9513, 10217, 11011, 11754, 12512, 13373, 14258, 15323, 16398, 17413, 18470, 19433, 20521, 21553, 22390, 23345, 24241, 25210, 26386, 27192, 29275, 30147, 30985, 31689, 32388, 32991, 33651, 34296, 34610, 34773, 34892, 34940, 34886, 34751, 34336, 33651, 32879, 31985, 31548, 31200, 30260, 29247, 28248, 27103, 26005, 24914, 23676, 22274, 20923, 19787, 18725, 17554, 16370, 15253, 14142, 13130, 12197, 11233)\n",
      "Gap Test: Passed\n",
      "Syntax Test: Passed\n",
      "\n",
      "\n",
      "---------- Packet 1 ----------\n",
      "Acquisition Time: 2025-05-04T18:01:15.400Z\n",
      "Acquired Packet From: ACS-00011\n",
      "Elapsed Time (ms): 623685\n",
      "Absorption Signal Counts: (503, 561, 635, 729, 842, 964, 1103, 1273, 1465, 1713, 1995, 2269, 2568, 2889, 3250, 3605, 3999, 4400, 4843, 5357, 5898, 6436, 7057, 7661, 8278, 8915, 9508, 10218, 11010, 11752, 12511, 13371, 14258, 15314, 16393, 17414, 18468, 19430, 20518, 21549, 22390, 23345, 24241, 25217, 26392, 27197, 29274, 30142, 30979, 31689, 32382, 32987, 33649, 34291, 34607, 34773, 34893, 34944, 34889, 34751, 34332, 33654, 32876, 31976, 31545, 31194, 30247, 29246, 28240, 27093, 26004, 24901, 23671, 22276, 20919, 19789, 18727, 17549, 16371, 15250, 14134, 13125, 12187, 11225)\n",
      "Gap Test: Passed\n",
      "Syntax Test: Passed\n",
      "\n",
      "\n",
      "---------- Packet 2 ----------\n",
      "Acquisition Time: 2025-05-04T18:01:15.651Z\n",
      "Acquired Packet From: ACS-00011\n",
      "Elapsed Time (ms): 623935\n",
      "Absorption Signal Counts: (499, 556, 633, 724, 839, 962, 1098, 1269, 1458, 1706, 1988, 2263, 2559, 2879, 3241, 3601, 3994, 4396, 4840, 5353, 5894, 6433, 7053, 7657, 8275, 8909, 9507, 10208, 11001, 11748, 12501, 13367, 14252, 15315, 16393, 17409, 18467, 19428, 20514, 21548, 22387, 23340, 24238, 25208, 26381, 27187, 29275, 30140, 30978, 31686, 32380, 32986, 33645, 34291, 34606, 34769, 34890, 34942, 34886, 34751, 34331, 33651, 32875, 31977, 31544, 31192, 30250, 29241, 28240, 27094, 26001, 24906, 23670, 22275, 20919, 19786, 18725, 17550, 16370, 15249, 14135, 13127, 12189, 11226)\n",
      "Gap Test: Passed\n",
      "Syntax Test: Passed\n",
      "\n",
      "\n",
      "---------- Packet 3 ----------\n",
      "Acquisition Time: 2025-05-04T18:01:15.902Z\n",
      "Acquired Packet From: ACS-00011\n",
      "Elapsed Time (ms): 624184\n",
      "Absorption Signal Counts: (501, 562, 636, 727, 842, 965, 1102, 1271, 1461, 1699, 1975, 2246, 2547, 2870, 3233, 3594, 3993, 4396, 4840, 5357, 5895, 6434, 7054, 7660, 8276, 8912, 9504, 10201, 10989, 11737, 12492, 13363, 14248, 15315, 16394, 17411, 18468, 19430, 20517, 21549, 22388, 23342, 24237, 25200, 26368, 27172, 29269, 30137, 30976, 31685, 32380, 32986, 33645, 34287, 34604, 34769, 34880, 34931, 34874, 34738, 34322, 33647, 32869, 31977, 31544, 31194, 30254, 29247, 28241, 27100, 26004, 24904, 23670, 22262, 20904, 19774, 18709, 17541, 16361, 15241, 14134, 13124, 12186, 11228)\n",
      "Gap Test: Passed\n",
      "Syntax Test: Passed\n",
      "\n",
      "\n",
      "---------- Packet 4 ----------\n",
      "Acquisition Time: 2025-05-04T18:01:16.147Z\n",
      "Acquired Packet From: ACS-00011\n",
      "Elapsed Time (ms): 624433\n",
      "Absorption Signal Counts: (501, 562, 636, 731, 842, 966, 1101, 1273, 1463, 1696, 1970, 2243, 2540, 2869, 3228, 3593, 3991, 4396, 4840, 5356, 5896, 6436, 7054, 7660, 8279, 8911, 9504, 10195, 10984, 11732, 12490, 13355, 14248, 15308, 16395, 17414, 18465, 19434, 20517, 21549, 22387, 23342, 24238, 25197, 26363, 27167, 29268, 30140, 30977, 31688, 32381, 32986, 33646, 34288, 34605, 34769, 34878, 34921, 34864, 34731, 34313, 33642, 32866, 31974, 31545, 31194, 30254, 29248, 28240, 27099, 26004, 24905, 23672, 22257, 20892, 19767, 18700, 17534, 16358, 15239, 14131, 13126, 12190, 11230)\n",
      "Gap Test: Passed\n",
      "Syntax Test: Passed\n",
      "\n",
      "\n"
     ]
    }
   ],
   "execution_count": 6
  },
  {
   "metadata": {},
   "cell_type": "code",
   "outputs": [],
   "execution_count": null,
   "source": "",
   "id": "aaa44d79c07430c5"
  }
 ],
 "metadata": {
  "kernelspec": {
   "display_name": "Python 3",
   "language": "python",
   "name": "python3"
  },
  "language_info": {
   "codemirror_mode": {
    "name": "ipython",
    "version": 2
   },
   "file_extension": ".py",
   "mimetype": "text/x-python",
   "name": "python",
   "nbconvert_exporter": "python",
   "pygments_lexer": "ipython2",
   "version": "2.7.6"
  }
 },
 "nbformat": 4,
 "nbformat_minor": 5
}

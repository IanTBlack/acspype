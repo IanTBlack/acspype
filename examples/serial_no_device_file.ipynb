{
 "cells": [
  {
   "metadata": {},
   "cell_type": "markdown",
   "source": [
    "# ACS Serial Stream Example - With No Known Device File\n",
    "\n",
    "`acpype` assumes a default baudrate of 115200 bps for the ACS. \n",
    "\n",
    "Some convenience utilities are provided for finding a COM port that an ACS is attached to `acpype.utils.find_acs_port`. This is done by looking for the ACS packet registration packets over 1 second on an incomming stream. Note that this function will iterate through the available ports and will return the first available ACS port that is found. It is not guaranteed to work with multiple ACS instruments unless the port is first made unavailable."
   ],
   "id": "7befbd75a5530dd1"
  },
  {
   "metadata": {
    "ExecuteTime": {
     "end_time": "2025-04-22T17:50:06.568321Z",
     "start_time": "2025-04-22T17:50:06.561011Z"
    }
   },
   "cell_type": "code",
   "source": [
    "from acpype import ACSStream, parse_packet\n",
    "from acpype.utils import find_acs_port"
   ],
   "id": "initial_id",
   "outputs": [],
   "execution_count": 3
  },
  {
   "metadata": {},
   "cell_type": "markdown",
   "source": "## Retrieve a Single ACS Packet and Display the Parsed Data",
   "id": "59865430da11086b"
  },
  {
   "metadata": {
    "ExecuteTime": {
     "end_time": "2025-04-22T17:50:08.347508Z",
     "start_time": "2025-04-22T17:50:06.593208Z"
    }
   },
   "cell_type": "code",
   "source": [
    "port = find_acs_port()  # Find the port that has an ACS attached to it.\n",
    "if port is not None: # If a port is found and it is streaming ACS registration bytes...\n",
    "    print(f'ACS available on port {port}.\\n')\n",
    "    with ACSStream(port) as acss: # Open a serial object.\n",
    "        while True:  # Continuously read the stream until a full packet is found.\n",
    "            acss.read_stream()\n",
    "            acs_packet = acss.find_packet()\n",
    "            if acs_packet.packet_data is not None:\n",
    "                print(f'Packet Byte Data: {acs_packet.packet_data}\\n')\n",
    "                parsed_packet = parse_packet(acs_packet)\n",
    "                print(f'Packet acquired from {parsed_packet.serial_number}.\\n')\n",
    "                \n",
    "                # Code to store parsed packet data would go here and you would remove the break statement below.\n",
    "                break  # Break after finding the first full length packet, otherwise this example would continue forever.\n",
    "                \n",
    "    print(parsed_packet)\n",
    "else:\n",
    "    print('No ACS found on any port.')"
   ],
   "id": "be4f9f870d95a55c",
   "outputs": [
    {
     "name": "stdout",
     "output_type": "stream",
     "text": [
      "ACS available on port COM5.\n",
      "\n",
      "Packet Byte Data: bytearray(b'\\xff\\x00\\xff\\x00\\x02\\xc0\\x05\\x01S\\x00\\x00\\x0b\\x01\\xd0\\x00\\x00\\r\\x9bq\\x10\\xab5\\x01\\xe1\\x02\\xcd\\x00\\x0c\\x87\\xc5\\x01T\\x02\\x11\\x01\\x9a\\x01\\xfa\\x01\\xc1\\x02[\\x01\\xd5\\x02B\\x02\\x05\\x02\\xad\\x02\"\\x02\\x90\\x02[\\x03\\x11\\x02y\\x02\\xf7\\x02\\xc5\\x03\\x81\\x02\\xe0\\x03f\\x03<\\x03\\xfd\\x03O\\x03\\xe7\\x03\\xc0\\x04{\\x03\\xc6\\x04g\\x04O\\x05\\x14\\x04V\\x05\\x01\\x04\\xfd\\x05\\xbb\\x04\\xf1\\x05\\xb0\\x05\\xc1\\x06}\\x05\\xaa\\x06v\\x06\\xaa\\x07S\\x06l\\x07\\\\\\x07\\xa1\\x08\\x1e\\x07&\\x085\\x08\\x92\\x08\\xf0\\x07\\xf1\\t\\x10\\t\\x99\\t\\xd3\\x08\\xcb\\n\\x03\\n\\xbb\\n\\xd6\\t\\xc5\\x0b\\x13\\x0c\\t\\x0b\\xe2\\n\\xc1\\x0c7\\r]\\x0c\\xfc\\x0b\\xdb\\ra\\x0e\\xdd\\x0e7\\x0c\\xf9\\x0e\\xb6\\x10h\\x0fq\\x0e6\\x10\\x05\\x12!\\x10\\xec\\x0f\\xa5\\x11\\x9a\\x14 \\x12}\\x11\\x1a\\x13N\\x166\\x14\\x07\\x12\\x91\\x15\\x06\\x18L\\x15\\xaa\\x149\\x16\\xc2\\x1a\\xaf\\x17h\\x15\\xd0\\x18\\xbb\\x1d\\x04\\x19\\x14\\x17l\\x1a\\x8d\\x1fe\\x1a\\xd3\\x19\\x11\\x1cz!\\xd8\\x1ci\\x1a\\x93\\x1eG$#\\x1e\\x15\\x1cK \\x0c&\\xc0\\x1f\\xfd\\x1e1\"0)\\xa5!\\xdb\\x1f\\xf7$P,a#\\x9a!\\xbe&7/-%\\x98#\\xcc(_2b\\'\\xb1%\\xed*\\xc35\\xb9*\\x17(\\x82-J9\\xbf,\\xd3+\\x1f0p=\\xd8/D-\\x923+A\\xbf1\\xcc0\\x1c5\\xf4E\\xca4\\x102g8\\x8fI\\x7f6s4\\xf9;\"M\\xac8\\xf07e>\\x06Q\\x9f:\\xeb9N@QT\\xde<\\xe7;{BpX\\x88>\\xfa=\\x83D\\xdf[\\xf9@\\xe7?\\xacF\\xf6_\\xaaChBAI\\xbcd\\x05EzC\\xf2Lef\\xfdK\\rH\\xccR?n\\x98L\\xd4J\\xa6T@q\\xefN\\x8aLqVHu0O\\xdeM\\xe1W\\xcew\\xefQ3OKYXz\\xa7RUPzZ\\xb3}\\x07S\\x83Q\\xc3[\\xf5\\x7f\\x93T\\xacS\\x03]\\x82\\x82\\x12U\\x06Sx^\\t\\x83ZT\\xf8S\\x97^\\x03\\x84\\rT\\xd8S\\x88]\\xfa\\x84\\x85T\\x83SB]\\xb0\\x84\\xa6S\\xf7R\\xbe](\\x84aS6R\\x0c\\\\q\\x83\\xcbQ\\xd6P\\xb2[#\\x82%O\\xe7N\\xbeY\\x07\\x7f\\x8cM\\xc2L\\xa2V\\xc2|\\x99K1J=S\\xday3I\\xd3I\\x07R&w\\x9eH\\xefH\\x0fQ\\x9cv^F\\x9eE\\xb1O&r\\xddD\\x18C4L8o\\x1fA\\xa5@\\xbeI\\x94kd>\\xd4=\\xf6Fug\\x16<-;VCpb\\xf99\\x978\\xbd@\\xa0^\\xde6\\xbf5\\xd2=\\x8cZ53{2\\x839\\xf0T\\xe106/K6+O\\xa7-\\x83,\\x973\"KB+\\t*\\x110sG#(S\\'O-qB\\x9b%\\x98$\\x91*R>\\x17#\\t!\\xfb\\'x9\\xd2 \\x7f\\x1fu$\\xa05\\x9b\\x1e9\\x1d/\"\\x071\\xd3\\x1c(\\x1b\\x10\\x1f\\xc8.H\\x1a\\x07\\x18\\xea\\x1dV*\\xae\\xf3;\\x00')\n",
      "\n",
      "Packet acquired from ACS-00011.\n",
      "\n",
      "ParsedPacket(daq_time=datetime.datetime(2025, 4, 22, 17, 50, 8, 225990, tzinfo=datetime.timezone.utc), registration_bytes=(b'\\xff', b'\\x00', b'\\xff', b'\\x00'), record_length=704, packet_type=5, reserved_1=1, serial_number_int=1392508939, serial_number_hexdec='0x5300000b', serial_number='ACS-00011', a_reference_dark=464, raw_pressure=0, a_signal_dark=3483, raw_external_temperature=28944, raw_internal_temperature=43829, c_reference_dark=481, c_signal_dark=717, elapsed_time=821189, reserved_2=1, number_of_output_wavelengths=84, c_reference=(529, 603, 685, 785, 897, 1021, 1147, 1300, 1467, 1661, 1875, 2078, 2288, 2515, 2774, 3042, 3324, 3639, 3953, 4332, 4733, 5127, 5546, 5992, 6420, 6867, 7273, 7701, 8189, 8667, 9114, 9624, 10161, 10775, 11475, 12100, 12748, 13328, 13939, 14576, 15083, 15591, 16122, 16615, 17256, 17786, 19213, 19668, 20106, 20446, 20787, 21077, 21379, 21676, 21766, 21752, 21720, 21635, 21495, 21302, 20950, 20455, 19906, 19249, 18899, 18671, 18078, 17432, 16805, 16084, 15405, 14743, 14015, 13179, 12342, 11651, 11017, 10323, 9624, 8969, 8319, 7737, 7208, 6663), a_reference=(410, 469, 546, 633, 736, 847, 966, 1110, 1265, 1450, 1644, 1830, 2033, 2251, 2501, 2753, 3035, 3321, 3638, 4005, 4378, 4753, 5177, 5584, 5996, 6417, 6803, 7243, 7729, 8183, 8638, 9164, 9709, 10370, 11039, 11666, 12316, 12903, 13561, 14181, 14670, 15227, 15747, 16300, 16961, 17394, 18636, 19110, 19569, 19937, 20299, 20602, 20931, 21251, 21368, 21399, 21384, 21314, 21182, 21004, 20658, 20158, 19618, 19005, 18695, 18447, 17841, 17204, 16574, 15862, 15190, 14525, 13778, 12931, 12107, 11415, 10769, 10063, 9361, 8699, 8053, 7471, 6928, 6378), c_signal=(506, 578, 656, 759, 870, 999, 1127, 1281, 1456, 1654, 1884, 2101, 2320, 2563, 2835, 3127, 3425, 3766, 4101, 4506, 4942, 5382, 5826, 6331, 6797, 7290, 7751, 8204, 8752, 9296, 9783, 10335, 10947, 11594, 12400, 13099, 13812, 14479, 15138, 15878, 16465, 17008, 17631, 18166, 18876, 19557, 21055, 21568, 22088, 22478, 22872, 23219, 23541, 23938, 24073, 24067, 24058, 23984, 23848, 23665, 23331, 22791, 22210, 21466, 21030, 20892, 20262, 19512, 18836, 18037, 17264, 16544, 15756, 14832, 13867, 13090, 12403, 11633, 10834, 10104, 9376, 8711, 8136, 7510), a_signal=(449, 517, 603, 709, 828, 960, 1103, 1277, 1473, 1706, 1953, 2194, 2457, 2747, 3081, 3421, 3805, 4200, 4641, 5152, 5686, 6220, 6831, 7428, 8037, 8664, 9251, 9920, 10661, 11361, 12077, 12898, 13753, 14783, 15832, 16831, 17866, 18815, 19884, 20895, 21726, 22664, 23545, 24490, 25605, 26365, 28312, 29167, 30000, 30703, 31399, 32007, 32659, 33298, 33626, 33805, 33925, 33958, 33889, 33739, 33317, 32652, 31897, 31027, 30622, 30302, 29405, 28447, 27492, 26390, 25337, 24286, 23093, 21729, 20391, 19266, 18211, 17051, 15895, 14802, 13723, 12755, 11848, 10926), checksum=62267, flag_syntax=1, flag_elapsed_time=1)\n"
     ]
    }
   ],
   "execution_count": 4
  }
 ],
 "metadata": {
  "kernelspec": {
   "display_name": "Python 3",
   "language": "python",
   "name": "python3"
  },
  "language_info": {
   "codemirror_mode": {
    "name": "ipython",
    "version": 2
   },
   "file_extension": ".py",
   "mimetype": "text/x-python",
   "name": "python",
   "nbconvert_exporter": "python",
   "pygments_lexer": "ipython2",
   "version": "2.7.6"
  }
 },
 "nbformat": 4,
 "nbformat_minor": 5
}

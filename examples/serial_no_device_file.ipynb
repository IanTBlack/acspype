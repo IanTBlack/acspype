{
 "cells": [
  {
   "metadata": {},
   "cell_type": "markdown",
   "source": [
    "# Acquire ACS Data Over Serial WITHOUT Knowledge From the Device File\n",
    "For this example, you will need to connect an ACS to your computer via serial. \n",
    "The sensor should be on before running this notebook. Note that the ACS is in picoDOS for the first 10 seconds after it is powered on and may not register on a serial port.\n",
    "\n",
    "Note: In this example, absorption and attenuation will look bad because the ACS is running in air.\n"
   ],
   "id": "6facca7087610df9"
  },
  {
   "metadata": {
    "ExecuteTime": {
     "end_time": "2025-04-30T21:37:44.941859Z",
     "start_time": "2025-04-30T21:37:44.056880Z"
    }
   },
   "cell_type": "code",
   "source": [
    "from datetime import datetime, timezone\n",
    "\n",
    "from acspype import ACSStream\n",
    "from acspype.processing import convert_sn_str\n",
    "import acspype.qaqc as acsqaqc\n",
    "from acspype.utils import find_acs_port # This is a convenience function that finds the first port that has an ACS attached to it."
   ],
   "id": "initial_id",
   "outputs": [],
   "execution_count": 1
  },
  {
   "metadata": {
    "ExecuteTime": {
     "end_time": "2025-04-30T21:37:44.946434Z",
     "start_time": "2025-04-30T21:37:44.941859Z"
    }
   },
   "cell_type": "code",
   "source": "num_loops = 5  # Acquire X packets, and then stop. Otherwise, the while loop will run forever.",
   "id": "736f9f3ebd20bb92",
   "outputs": [],
   "execution_count": 2
  },
  {
   "metadata": {
    "ExecuteTime": {
     "end_time": "2025-04-30T21:37:47.819514Z",
     "start_time": "2025-04-30T21:37:44.946434Z"
    }
   },
   "cell_type": "code",
   "source": [
    "port = find_acs_port()  # Find the port that has an ACS attached to it.\n",
    "with ACSStream(port) as acss: # Open a serial object.\n",
    "    i = 0\n",
    "    while True:  # Continuously read the stream until a full packet is found.\n",
    "        acss.read_stream()\n",
    "        acs_pkt = acss.find_packet()\n",
    "        if acs_pkt.full_packet is not None:\n",
    "            parsed_packet = acss.parse_packet(acs_packet = acs_pkt) # Parse the packet.\n",
    "            \n",
    "            # Run the gap and syntax tests.\n",
    "            flag_gap = acsqaqc.gap_test(now = datetime.now(timezone.utc), \n",
    "                                        time_stmp = acs_pkt.daq_time, \n",
    "                                        buffer_length= len(acss._buffer), # The bytes in the serial buffer can be accessed with the _buffer attribute. This is really the only instance where you would need access to the buffer contents outside of the ACSStream class.\n",
    "                                        record_length = parsed_packet.record_length)\n",
    "            flag_syntax = acsqaqc.syntax_test(full_packet = acs_pkt.full_packet)\n",
    "            \n",
    "            # Print some of the results.\n",
    "            print(f\"---------- Packet {i} ----------\")\n",
    "            print(f\"Acquisition Time: {parsed_packet.daq_time.strftime('%Y-%m-%dT%H:%M:%S.%f')[:-3] + 'Z'}\")\n",
    "            print(f\"Acquired Packet From: {convert_sn_str(parsed_packet.sn_int)}\")\n",
    "            print(f\"Elapsed Time (ms): {parsed_packet.elapsed_time}\")\n",
    "            print(f\"Absorption Signal Counts: {parsed_packet.a_signal}\")\n",
    "            if flag_gap == 1:\n",
    "                print('Gap Test: Passed')\n",
    "            elif flag_gap == 4:\n",
    "                print('Gap Test: Failed')\n",
    "            if flag_syntax == 1:\n",
    "                print('Syntax Test: Passed')\n",
    "            elif flag_syntax == 4:\n",
    "                print('Syntax Test: Failed')\n",
    "            print('\\n')\n",
    "            \n",
    "            i += 1\n",
    "            if i == num_loops:\n",
    "                break"
   ],
   "id": "13ea0d856beb7c69",
   "outputs": [
    {
     "name": "stdout",
     "output_type": "stream",
     "text": [
      "---------- Packet 0 ----------\n",
      "Acquisition Time: 2025-04-30T21:37:46.685Z\n",
      "Acquired Packet From: ACS-00011\n",
      "Elapsed Time (ms): 4750556\n",
      "Absorption Signal Counts: (454, 520, 604, 707, 824, 957, 1098, 1271, 1463, 1692, 1938, 2174, 2435, 2723, 3052, 3390, 3770, 4161, 4598, 5101, 5632, 6162, 6768, 7358, 7966, 8583, 9165, 9829, 10564, 11258, 11966, 12781, 13630, 14650, 15696, 16693, 17718, 18660, 19721, 20724, 21551, 22482, 23355, 24290, 25399, 26155, 28094, 28947, 29776, 30477, 31172, 31772, 32425, 33068, 33390, 33570, 33693, 33728, 33662, 33515, 33101, 32440, 31694, 30838, 30434, 30109, 29218, 28263, 27312, 26220, 25182, 24139, 22958, 21600, 20268, 19154, 18105, 16955, 15800, 14715, 13641, 12679, 11782, 10869)\n",
      "Gap Test: Passed\n",
      "Syntax Test: Passed\n",
      "\n",
      "\n",
      "---------- Packet 1 ----------\n",
      "Acquisition Time: 2025-04-30T21:37:46.941Z\n",
      "Acquired Packet From: ACS-00011\n",
      "Elapsed Time (ms): 4750807\n",
      "Absorption Signal Counts: (449, 516, 603, 704, 824, 953, 1094, 1268, 1460, 1687, 1935, 2171, 2430, 2720, 3050, 3385, 3767, 4157, 4594, 5099, 5628, 6158, 6763, 7356, 7960, 8580, 9160, 9825, 10560, 11254, 11962, 12778, 13626, 14647, 15693, 16687, 17713, 18657, 19714, 20722, 21545, 22475, 23354, 24285, 25394, 26151, 28091, 28941, 29772, 30473, 31164, 31767, 32422, 33059, 33386, 33565, 33685, 33724, 33657, 33509, 33091, 32433, 31687, 30831, 30429, 30104, 29209, 28258, 27303, 26216, 25179, 24130, 22955, 21594, 20258, 19150, 18099, 16947, 15799, 14709, 13638, 12675, 11774, 10865)\n",
      "Gap Test: Passed\n",
      "Syntax Test: Passed\n",
      "\n",
      "\n",
      "---------- Packet 2 ----------\n",
      "Acquisition Time: 2025-04-30T21:37:47.192Z\n",
      "Acquired Packet From: ACS-00011\n",
      "Elapsed Time (ms): 4751056\n",
      "Absorption Signal Counts: (453, 518, 604, 704, 823, 952, 1095, 1270, 1459, 1690, 1935, 2170, 2432, 2720, 3050, 3387, 3767, 4160, 4594, 5099, 5631, 6158, 6765, 7355, 7962, 8581, 9162, 9826, 10560, 11255, 11962, 12780, 13628, 14646, 15696, 16685, 17714, 18657, 19717, 20722, 21547, 22476, 23355, 24289, 25396, 26153, 28092, 28946, 29777, 30474, 31168, 31770, 32425, 33065, 33387, 33569, 33692, 33727, 33661, 33514, 33098, 32437, 31690, 30837, 30435, 30108, 29217, 28258, 27310, 26220, 25180, 24137, 22956, 21598, 20263, 19154, 18100, 16949, 15799, 14708, 13639, 12677, 11778, 10867)\n",
      "Gap Test: Passed\n",
      "Syntax Test: Passed\n",
      "\n",
      "\n",
      "---------- Packet 3 ----------\n",
      "Acquisition Time: 2025-04-30T21:37:47.440Z\n",
      "Acquired Packet From: ACS-00011\n",
      "Elapsed Time (ms): 4751306\n",
      "Absorption Signal Counts: (451, 519, 601, 702, 823, 953, 1094, 1269, 1459, 1687, 1935, 2171, 2431, 2718, 3048, 3387, 3766, 4159, 4594, 5098, 5629, 6158, 6765, 7356, 7962, 8581, 9161, 9824, 10559, 11254, 11961, 12777, 13626, 14647, 15693, 16686, 17714, 18655, 19717, 20720, 21546, 22479, 23354, 24287, 25396, 26151, 28089, 28944, 29769, 30474, 31166, 31767, 32423, 33060, 33385, 33566, 33685, 33724, 33657, 33512, 33093, 32432, 31691, 30830, 30429, 30104, 29208, 28256, 27305, 26216, 25180, 24133, 22953, 21596, 20261, 19151, 18099, 16945, 15798, 14708, 13635, 12675, 11778, 10864)\n",
      "Gap Test: Passed\n",
      "Syntax Test: Passed\n",
      "\n",
      "\n",
      "---------- Packet 4 ----------\n",
      "Acquisition Time: 2025-04-30T21:37:47.691Z\n",
      "Acquired Packet From: ACS-00011\n",
      "Elapsed Time (ms): 4751555\n",
      "Absorption Signal Counts: (451, 519, 603, 703, 823, 953, 1095, 1267, 1460, 1689, 1934, 2170, 2429, 2720, 3050, 3386, 3767, 4157, 4594, 5099, 5628, 6158, 6767, 7355, 7961, 8582, 9160, 9826, 10561, 11254, 11963, 12779, 13627, 14648, 15693, 16688, 17714, 18654, 19718, 20723, 21547, 22479, 23353, 24288, 25398, 26151, 28091, 28944, 29772, 30475, 31164, 31768, 32426, 33061, 33387, 33567, 33687, 33726, 33660, 33513, 33094, 32433, 31691, 30834, 30431, 30108, 29213, 28257, 27308, 26217, 25180, 24137, 22952, 21596, 20262, 19152, 18103, 16949, 15798, 14712, 13637, 12674, 11779, 10866)\n",
      "Gap Test: Passed\n",
      "Syntax Test: Passed\n",
      "\n",
      "\n"
     ]
    }
   ],
   "execution_count": 3
  },
  {
   "metadata": {},
   "cell_type": "code",
   "outputs": [],
   "execution_count": null,
   "source": "",
   "id": "54fb31ca55ffd775"
  }
 ],
 "metadata": {
  "kernelspec": {
   "display_name": "Python 3",
   "language": "python",
   "name": "python3"
  },
  "language_info": {
   "codemirror_mode": {
    "name": "ipython",
    "version": 2
   },
   "file_extension": ".py",
   "mimetype": "text/x-python",
   "name": "python",
   "nbconvert_exporter": "python",
   "pygments_lexer": "ipython2",
   "version": "2.7.6"
  }
 },
 "nbformat": 4,
 "nbformat_minor": 5
}

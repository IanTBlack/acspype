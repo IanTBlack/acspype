{
 "cells": [
  {
   "cell_type": "code",
   "id": "initial_id",
   "metadata": {
    "collapsed": true,
    "ExecuteTime": {
     "end_time": "2025-04-24T17:46:59.291010Z",
     "start_time": "2025-04-24T17:46:57.076320Z"
    }
   },
   "source": [
    "import matplotlib.dates as mdates\n",
    "import matplotlib.pyplot as plt\n",
    "import matplotlib.ticker as mticker\n",
    "import os\n",
    "import requests\n",
    "import shutil\n",
    "import xarray as xr\n",
    "\n",
    "import acspype.processing as acsproc\n",
    "import acspype.qaqc as acsqaqc\n",
    "from acspype import ACSTSCor\n",
    "from acspype.utils.ooi import get_ooi_optaa_cal, reformat_ooi_optaa\n",
    "from acspype.experimental import compute_chl_alh"
   ],
   "outputs": [],
   "execution_count": 1
  },
  {
   "metadata": {},
   "cell_type": "markdown",
   "source": [
    "## Acquire a File From CE02SHSM Deployment 9\n",
    "\n",
    "1. First we import the dataset from Thredds using Xarray.\n",
    "2. Then we reformat the dataset to be compatible with acspype using `reformat_ooi_optaa`.\n",
    "    -   No ACS data are removed from the dataset, only excess variables (e.g. pressure_counts) and timestamps (e.g. port_timestamp). These are either not needed for processing or are meaningless.\n",
    "    - Some variables are compressed and assigned reassigned dimensions (e.g. lat, lon, deployment) since they should be the same throughout a single file. \n",
    "    - File and variable attributes are preserved.\n",
    "    - Attributes and variables are alphabetized.\n",
    "3. `reformat_ooi_optaa` renames `optical_absorption` and `beam_attenuation` to `a_m_discontinuity` and `c_m_discontinuity`, respectively, since OOI does not correct for the discontinuity jump inherent in all ACS'. We can drop these because we will reprocess to that stage as part of this example anyway.\n",
    "4. Since `reformat_ooi_optaa` adds the dimensions of latitude, longitude, and deployment, and we are only working with a single deployment file, we can subset by those values."
   ],
   "id": "edf6b8d160db2e4f"
  },
  {
   "metadata": {
    "ExecuteTime": {
     "end_time": "2025-04-24T17:46:59.295680Z",
     "start_time": "2025-04-24T17:46:59.291010Z"
    }
   },
   "cell_type": "code",
   "source": [
    "def download_and_load_goldcopy(url):\n",
    "    filename = os.path.basename(url)\n",
    "    if os.path.isfile(filename):\n",
    "        ds = xr.open_dataset(filename)\n",
    "        return ds\n",
    "    else:\n",
    "        with requests.get(url, stream = True) as req:\n",
    "            with open(filename, 'wb') as fileobj:\n",
    "                shutil.copyfileobj(req.raw, fileobj)\n",
    "        if os.path.isfile(filename):\n",
    "            ds = xr.open_dataset(filename)\n",
    "            return ds\n",
    "        else:\n",
    "            return FileNotFoundError"
   ],
   "id": "fd26ed23aa5695d7",
   "outputs": [],
   "execution_count": 2
  },
  {
   "metadata": {
    "ExecuteTime": {
     "end_time": "2025-04-24T17:46:59.356859Z",
     "start_time": "2025-04-24T17:46:59.295680Z"
    }
   },
   "cell_type": "code",
   "source": [
    "http_url = \"http://thredds.dataexplorer.oceanobservatories.org/thredds/fileServer/ooigoldcopy/public/CE02SHSM-RID27-01-OPTAAD000-recovered_host-optaa_dj_dcl_instrument_recovered/deployment0009_CE02SHSM-RID27-01-OPTAAD000-recovered_host-optaa_dj_dcl_instrument_recovered_20190622T003023-20190723T233200.492000.nc\"\n",
    "\n",
    "ds = download_and_load_goldcopy(http_url)"
   ],
   "id": "df2b15192fa32dc5",
   "outputs": [],
   "execution_count": 3
  },
  {
   "metadata": {
    "ExecuteTime": {
     "end_time": "2025-04-24T17:47:01.831312Z",
     "start_time": "2025-04-24T17:46:59.356859Z"
    }
   },
   "cell_type": "code",
   "source": [
    "\n",
    "ds = reformat_ooi_optaa(ds)\n",
    "\n",
    "ds = ds.drop_vars(['a_m_discontinuity', 'c_m_discontinuity'], errors='ignore')  \n",
    "\n",
    "ds = ds.sel(latitude = float(ds.latitude), longitude = float(ds.longitude), deployment = int(ds.deployment))"
   ],
   "id": "4e777cfb25674f1f",
   "outputs": [],
   "execution_count": 4
  },
  {
   "metadata": {},
   "cell_type": "markdown",
   "source": [
    "## Acquire the Device Factory Calibration Information and TS Correction Coefficients\n",
    "The factory calibration information is available through the OOI REST API. The `get_ooi_optaa_cal` function retrieves this information and reformats it to match the format of acspype's `ACSDev` class. The `ACSTSCor` class imports coefficients that have been pre-compiled to a Python file within acspype from the original TS4.cor file that accompanies each device. These files should be the same between all ACS.\n",
    "If using acspype to process ACS data, you do not need to import the TS4.cor file on your own, but that functionality exists through the `ACSTS4CorReader` class if you want to do that yourself."
   ],
   "id": "b9bed77210b190e"
  },
  {
   "metadata": {
    "ExecuteTime": {
     "end_time": "2025-04-24T17:47:02.135980Z",
     "start_time": "2025-04-24T17:47:01.831312Z"
    }
   },
   "cell_type": "code",
   "source": [
    "dev = get_ooi_optaa_cal(ds)\n",
    "tscor = ACSTSCor()"
   ],
   "id": "523815df0ff5fdd9",
   "outputs": [],
   "execution_count": 5
  },
  {
   "metadata": {},
   "cell_type": "markdown",
   "source": "## Reprocess the Data",
   "id": "849f1190b5a5874"
  },
  {
   "metadata": {
    "ExecuteTime": {
     "end_time": "2025-04-24T17:47:02.156809Z",
     "start_time": "2025-04-24T17:47:02.135980Z"
    }
   },
   "cell_type": "code",
   "source": [
    "ds['internal_temperature'] = acsproc.compute_internal_temperature(ds['raw_internal_temperature'])\n",
    "ds['external_temperature'] = acsproc.compute_external_temperature(ds['raw_external_temperature'])"
   ],
   "id": "a9cbbeb7ec280255",
   "outputs": [],
   "execution_count": 6
  },
  {
   "metadata": {
    "ExecuteTime": {
     "end_time": "2025-04-24T17:47:02.346439Z",
     "start_time": "2025-04-24T17:47:02.156809Z"
    }
   },
   "cell_type": "code",
   "source": [
    "ds['a_uncorrected'] = acsproc.compute_uncorrected(ds['a_signal'], ds['a_reference'], dev)\n",
    "ds['c_uncorrected'] = acsproc.compute_uncorrected(ds['c_signal'], ds['c_reference'], dev)"
   ],
   "id": "a6f6bd01b770bf8f",
   "outputs": [
    {
     "name": "stderr",
     "output_type": "stream",
     "text": [
      "C:\\Users\\Ian\\phd\\projects\\acspype\\.venv\\Lib\\site-packages\\xarray\\computation\\apply_ufunc.py:821: RuntimeWarning: divide by zero encountered in log\n",
      "  result_data = func(*input_data)\n"
     ]
    }
   ],
   "execution_count": 7
  },
  {
   "metadata": {
    "ExecuteTime": {
     "end_time": "2025-04-24T17:47:03.201180Z",
     "start_time": "2025-04-24T17:47:02.346439Z"
    }
   },
   "cell_type": "code",
   "source": [
    "ds['a_m_discontinuity'] = acsproc.compute_measured(ds['a_uncorrected'], 'a', ds['internal_temperature'], dev)\n",
    "ds['c_m_discontinuity'] = acsproc.compute_measured(ds['c_uncorrected'], 'c', ds['internal_temperature'], dev)"
   ],
   "id": "4f04cd3018a4a301",
   "outputs": [],
   "execution_count": 8
  },
  {
   "metadata": {
    "ExecuteTime": {
     "end_time": "2025-04-24T17:48:24.049015Z",
     "start_time": "2025-04-24T17:47:03.201180Z"
    }
   },
   "cell_type": "code",
   "source": [
    "discontinuity_index = acsproc.find_discontinuity_index(ds['a_wavelength'], ds['c_wavelength'])\n",
    "ds['a_m'], ds['a_discontinuity_offset'] = acsproc.discontinuity_correction(ds.a_m_discontinuity, 'a_wavelength', discontinuity_index)\n",
    "ds['c_m'], ds['c_discontinuity_offset'] = acsproc.discontinuity_correction(ds.c_m_discontinuity, 'c_wavelength', discontinuity_index)"
   ],
   "id": "a65c438cb08d965d",
   "outputs": [],
   "execution_count": 9
  },
  {
   "metadata": {
    "ExecuteTime": {
     "end_time": "2025-04-24T17:48:25.110336Z",
     "start_time": "2025-04-24T17:48:24.049015Z"
    }
   },
   "cell_type": "code",
   "source": [
    "ds['a_mts'] = acsproc.ts_correction(ds.a_m, 'a', ds.sea_water_temperature, ds.sea_water_practical_salinity, dev, tscor)\n",
    "ds['c_mts'] = acsproc.ts_correction(ds.c_m, 'c', ds.sea_water_temperature, ds.sea_water_practical_salinity, dev, tscor)"
   ],
   "id": "1b89163c683c469e",
   "outputs": [],
   "execution_count": 10
  },
  {
   "metadata": {
    "ExecuteTime": {
     "end_time": "2025-04-24T17:48:25.374845Z",
     "start_time": "2025-04-24T17:48:25.110336Z"
    }
   },
   "cell_type": "code",
   "source": [
    "ds['a_mts'] = acsproc.zero_shift(ds.a_mts)\n",
    "ds['c_mts'] = acsproc.zero_shift(ds.c_mts)"
   ],
   "id": "3be811eb3242e394",
   "outputs": [],
   "execution_count": 11
  },
  {
   "metadata": {
    "ExecuteTime": {
     "end_time": "2025-04-24T17:48:25.453157Z",
     "start_time": "2025-04-24T17:48:25.375934Z"
    }
   },
   "cell_type": "code",
   "source": "ds['a_mts_baseline'] = acsproc.scattering_correction_baseline(ds.a_mts)",
   "id": "1cc9468809c88bf1",
   "outputs": [],
   "execution_count": 12
  },
  {
   "metadata": {
    "ExecuteTime": {
     "end_time": "2025-04-24T17:48:25.461033Z",
     "start_time": "2025-04-24T17:48:25.453157Z"
    }
   },
   "cell_type": "code",
   "source": "ds.a_mts_baseline.attrs",
   "id": "fc9abe1c04d2ebc0",
   "outputs": [
    {
     "data": {
      "text/plain": [
       "{'reference_wavelength': 715,\n",
       " 'method': 'Baseline Scattering Correction - Method 1'}"
      ]
     },
     "execution_count": 13,
     "metadata": {},
     "output_type": "execute_result"
    }
   ],
   "execution_count": 13
  },
  {
   "metadata": {},
   "cell_type": "markdown",
   "source": "## Flag Data",
   "id": "ad9235fe84b9e848"
  },
  {
   "metadata": {
    "ExecuteTime": {
     "end_time": "2025-04-24T17:48:25.481845Z",
     "start_time": "2025-04-24T17:48:25.461033Z"
    }
   },
   "cell_type": "code",
   "source": [
    "ds['flag_internal_temperature'] = acsqaqc.internal_temperature_test(ds['internal_temperature'], dev)\n",
    "ds['flag_elapsed_time'] = acsqaqc.elapsed_time_test(ds['elapsed_time'])"
   ],
   "id": "fd066f2d2531ffe4",
   "outputs": [],
   "execution_count": 14
  },
  {
   "metadata": {
    "ExecuteTime": {
     "end_time": "2025-04-24T17:48:25.486427Z",
     "start_time": "2025-04-24T17:48:25.481845Z"
    }
   },
   "cell_type": "code",
   "source": "# Add more tests here and section about removing bad data.",
   "id": "67f9d74584858118",
   "outputs": [],
   "execution_count": 15
  },
  {
   "metadata": {},
   "cell_type": "markdown",
   "source": "## Interpolate to Common Wavelengths",
   "id": "b99db9da61adca05"
  },
  {
   "metadata": {
    "ExecuteTime": {
     "end_time": "2025-04-24T17:48:43.441626Z",
     "start_time": "2025-04-24T17:48:25.486427Z"
    }
   },
   "cell_type": "code",
   "source": "ds = acsproc.interpolate_common_wavelengths(ds)",
   "id": "89209c3ca08baf62",
   "outputs": [
    {
     "name": "stderr",
     "output_type": "stream",
     "text": [
      "C:\\Users\\Ian\\phd\\projects\\acspype\\.venv\\Lib\\site-packages\\scipy\\interpolate\\_interpolate.py:479: RuntimeWarning: invalid value encountered in subtract\n",
      "  slope = (y_hi - y_lo) / (x_hi - x_lo)[:, None]\n",
      "C:\\Users\\Ian\\phd\\projects\\acspype\\.venv\\Lib\\site-packages\\scipy\\interpolate\\_interpolate.py:482: RuntimeWarning: invalid value encountered in add\n",
      "  y_new = slope*(x_new - x_lo)[:, None] + y_lo\n"
     ]
    }
   ],
   "execution_count": 16
  },
  {
   "metadata": {},
   "cell_type": "markdown",
   "source": "## Calculate Chlorophyll-a",
   "id": "23e838d3a9b5d459"
  },
  {
   "metadata": {
    "ExecuteTime": {
     "end_time": "2025-04-24T17:48:43.454070Z",
     "start_time": "2025-04-24T17:48:43.441626Z"
    }
   },
   "cell_type": "code",
   "source": "ds['chl_alh'] = compute_chl_alh(ds['a_mts_baseline'])",
   "id": "7f50f2e9126a9d8f",
   "outputs": [],
   "execution_count": 17
  },
  {
   "metadata": {
    "ExecuteTime": {
     "end_time": "2025-04-24T17:48:43.505298Z",
     "start_time": "2025-04-24T17:48:43.454070Z"
    }
   },
   "cell_type": "code",
   "source": [
    "chlr = ds['chl_alh'].rolling(time = 12+1, center = True).median(skipna = True)\n",
    "chlr = chlr.resample(time = '3h').mean(skipna = True)"
   ],
   "id": "9a74a539140970c1",
   "outputs": [],
   "execution_count": 18
  },
  {
   "metadata": {},
   "cell_type": "markdown",
   "source": "## Quick Plot",
   "id": "ce110afada13c886"
  },
  {
   "metadata": {
    "ExecuteTime": {
     "end_time": "2025-04-24T17:48:43.939470Z",
     "start_time": "2025-04-24T17:48:43.505298Z"
    }
   },
   "cell_type": "code",
   "source": [
    "fig, ax = plt.subplots(1,1, figsize = (6,5), constrained_layout = True)\n",
    "ax.plot(chlr.time, chlr)\n",
    "\n",
    "ax.set_ylim(0, 35)\n",
    "ax.set_xlabel('Time')\n",
    "ax.set_ylabel(r'Chlorophyll-a from Absorption Line Height ($\\frac{mg}{m^3}$)')\n",
    "ax.set_title('CE02SHSM - 7m - 3H Average')\n",
    "\n",
    "ax.xaxis.set_major_locator(mdates.DayLocator(interval = 14))\n",
    "ax.xaxis.set_minor_locator(mdates.DayLocator(interval = 1))\n",
    "ax.yaxis.set_major_locator(mticker.MultipleLocator(5))\n",
    "ax.yaxis.set_minor_locator(mticker.MultipleLocator(1))"
   ],
   "id": "fcd1773f1e25b30b",
   "outputs": [
    {
     "data": {
      "text/plain": [
       "<Figure size 600x500 with 1 Axes>"
      ],
      "image/png": "[encoded data removed]"
     },
     "metadata": {},
     "output_type": "display_data"
    }
   ],
   "execution_count": 19
  },
  {
   "metadata": {
    "ExecuteTime": {
     "end_time": "2025-04-24T17:48:43.944020Z",
     "start_time": "2025-04-24T17:48:43.939470Z"
    }
   },
   "cell_type": "code",
   "source": "",
   "id": "4ddb3649925a49b1",
   "outputs": [],
   "execution_count": 19
  }
 ],
 "metadata": {
  "kernelspec": {
   "display_name": "Python 3",
   "language": "python",
   "name": "python3"
  },
  "language_info": {
   "codemirror_mode": {
    "name": "ipython",
    "version": 2
   },
   "file_extension": ".py",
   "mimetype": "text/x-python",
   "name": "python",
   "nbconvert_exporter": "python",
   "pygments_lexer": "ipython2",
   "version": "2.7.6"
  }
 },
 "nbformat": 4,
 "nbformat_minor": 5
}

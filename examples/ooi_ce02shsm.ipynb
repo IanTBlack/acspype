{
 "cells": [
  {
   "cell_type": "code",
   "id": "initial_id",
   "metadata": {
    "collapsed": true
   },
   "source": [
    "import xarray as xr\n",
    "\n",
    "import acspype.processing as acsproc\n",
    "import acspype.qaqc as acsqaqc\n",
    "from acspype import ACSTSCor\n",
    "from acspype.utils.ooi import get_ooi_optaa_cal, reformat_ooi_optaa"
   ],
   "outputs": [],
   "execution_count": null
  },
  {
   "metadata": {},
   "cell_type": "markdown",
   "source": [
    "## Acquire a File From CE02SHSM Deployment 9\n",
    "\n",
    "1. First we import the dataset from OpenDAP using Xarray.\n",
    "2. Then we reformat the dataset to be compatible with acspype using `reformat_ooi_optaa`.\n",
    "    -   No ACS data are removed from the dataset, only excess variables (e.g. pressure_counts) and timestamps (e.g. port_timestamp). These are either not needed for processing or are meaningless.\n",
    "    - Some variables are compressed and assigned reassigned dimensions (e.g. lat, lon, deployment) since they should be the same throughout a single file. \n",
    "    - File and variable attributes are preserved.\n",
    "    - Attributes and variables are alphabetized.\n",
    "3. `reformat_ooi_optaa` renames `optical_absorption` and `beam_attenuation` to `a_m_discontinuity` and `c_m_discontinuity`, respectively, since OOI does not correct for the discontinuity jump inherent in all ACS'. We can drop these because we will reprocess to that stage as part of this example anyway.\n",
    "4. Since `reformat_ooi_optaa` adds the dimensions of latitude, longitude, and deployment, and we are only working with a single deployment file, we can subset by those values."
   ],
   "id": "edf6b8d160db2e4f"
  },
  {
   "metadata": {},
   "cell_type": "code",
   "source": [
    "opendap_url = \"http://thredds.dataexplorer.oceanobservatories.org/thredds/dodsC/ooigoldcopy/public/CE02SHSM-RID27-01-OPTAAD000-recovered_host-optaa_dj_dcl_instrument_recovered/deployment0009_CE02SHSM-RID27-01-OPTAAD000-recovered_host-optaa_dj_dcl_instrument_recovered_20190622T003023-20190723T233200.492000.nc\"\n",
    "ds = xr.open_dataset(opendap_url)\n",
    "\n",
    "ds = reformat_ooi_optaa(ds)\n",
    "\n",
    "ds = ds.drop_vars(['a_m_discontinuity', 'c_m_discontinuity'], errors='ignore')  \n",
    "\n",
    "ds = ds.sel(latitude = float(ds.latitude), longitude = float(ds.longitude), deployment = int(ds.deployment))"
   ],
   "id": "4e777cfb25674f1f",
   "outputs": [],
   "execution_count": null
  },
  {
   "metadata": {},
   "cell_type": "markdown",
   "source": [
    "## Acquire the Device Factory Calibration Information and TS Correction Coefficients\n",
    "The factory calibration information is available through the OOI REST API. The `get_ooi_optaa_cal` function retrieves this information and reformats it to match the format of acspype's `ACSDev` class. The `ACSTSCor` class imports coefficients that have been pre-compiled to a Python file within acspype from the original TS4.cor file that accompanies each device. These files should be the same between all ACS.\n",
    "If using acspype to process ACS data, you do not need to import the TS4.cor file on your own, but that functionality exists through the `ACSTS4CorReader` class if you want to do that yourself."
   ],
   "id": "b9bed77210b190e"
  },
  {
   "metadata": {},
   "cell_type": "code",
   "source": "dev = get_ooi_optaa_cal(ds)",
   "id": "523815df0ff5fdd9",
   "outputs": [],
   "execution_count": null
  },
  {
   "metadata": {},
   "cell_type": "code",
   "source": "tscor = ACSTSCor()",
   "id": "f6833208230fa9d7",
   "outputs": [],
   "execution_count": null
  },
  {
   "metadata": {},
   "cell_type": "markdown",
   "source": "## Reprocess the Data",
   "id": "849f1190b5a5874"
  },
  {
   "metadata": {},
   "cell_type": "code",
   "source": [
    "ds['internal_temperature'] = acsproc.compute_internal_temperature(ds['raw_internal_temperature'])\n",
    "ds['external_temperature'] = acsproc.compute_external_temperature(ds['raw_external_temperature'])"
   ],
   "id": "a9cbbeb7ec280255",
   "outputs": [],
   "execution_count": null
  },
  {
   "metadata": {},
   "cell_type": "code",
   "source": [
    "ds['a_uncorrected'] = acsproc.compute_uncorrected(ds['a_signal'], ds['a_reference'], dev)\n",
    "ds['c_uncorrected'] = acsproc.compute_uncorrected(ds['c_signal'], ds['c_reference'], dev)"
   ],
   "id": "a6f6bd01b770bf8f",
   "outputs": [],
   "execution_count": null
  },
  {
   "metadata": {},
   "cell_type": "code",
   "source": [
    "ds['a_m_discontinuity'] = acsproc.compute_measured(ds['a_uncorrected'], 'a', ds['internal_temperature'], dev)\n",
    "ds['c_m_discontinuity'] = acsproc.compute_measured(ds['c_uncorrected'], 'c', ds['internal_temperature'], dev)"
   ],
   "id": "4f04cd3018a4a301",
   "outputs": [],
   "execution_count": null
  },
  {
   "metadata": {},
   "cell_type": "code",
   "source": [
    "discontinuity_index = acsproc.find_discontinuity_index(ds['a_wavelength'], ds['c_wavelength'])\n",
    "ds['a_m'], ds['a_discontinuity_offset'] = acsproc.discontinuity_correction(ds.a_m_discontinuity, 'a_wavelength', discontinuity_index)\n",
    "ds['c_m'], ds['c_discontinuity_offset'] = acsproc.discontinuity_correction(ds.c_m_discontinuity, 'c_wavelength', discontinuity_index)"
   ],
   "id": "a65c438cb08d965d",
   "outputs": [],
   "execution_count": null
  },
  {
   "metadata": {},
   "cell_type": "code",
   "source": [
    "ds['a_mts'] = acsproc.ts_correction(ds.a_m, 'a', ds.sea_water_temperature, ds.sea_water_practical_salinity, dev, tscor)\n",
    "ds['c_mts'] = acsproc.ts_correction(ds.c_m, 'c', ds.sea_water_temperature, ds.sea_water_practical_salinity, dev, tscor)"
   ],
   "id": "1b89163c683c469e",
   "outputs": [],
   "execution_count": null
  },
  {
   "metadata": {},
   "cell_type": "code",
   "source": [
    "ds['a_mts'] = acsproc.zero_shift(ds.a_mts)\n",
    "ds['c_mts'] = acsproc.zero_shift(ds.c_mts)"
   ],
   "id": "3be811eb3242e394",
   "outputs": [],
   "execution_count": null
  },
  {
   "metadata": {},
   "cell_type": "markdown",
   "source": "## Flag Data",
   "id": "ad9235fe84b9e848"
  },
  {
   "metadata": {},
   "cell_type": "code",
   "source": "ds['flag_internal_temperature'] = acsqaqc.internal_temperature_test(ds['internal_temperature'], dev)",
   "id": "fd066f2d2531ffe4",
   "outputs": [],
   "execution_count": null
  }
 ],
 "metadata": {
  "kernelspec": {
   "display_name": "Python 3",
   "language": "python",
   "name": "python3"
  },
  "language_info": {
   "codemirror_mode": {
    "name": "ipython",
    "version": 2
   },
   "file_extension": ".py",
   "mimetype": "text/x-python",
   "name": "python",
   "nbconvert_exporter": "python",
   "pygments_lexer": "ipython2",
   "version": "2.7.6"
  }
 },
 "nbformat": 4,
 "nbformat_minor": 5
}

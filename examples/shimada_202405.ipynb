{
 "cells": [
  {
   "cell_type": "code",
   "id": "initial_id",
   "metadata": {
    "collapsed": true,
    "ExecuteTime": {
     "end_time": "2025-05-12T23:37:48.363119Z",
     "start_time": "2025-05-12T23:37:47.148369Z"
    }
   },
   "source": [
    "import gsw\n",
    "import matplotlib.pyplot as plt\n",
    "from matplotlib.ticker import MultipleLocator\n",
    "import numpy as np\n",
    "import xarray as xr\n",
    "\n",
    "from acspype import ACSDev\n",
    "from acspype import ACSTSCor\n",
    "import acspype.processing as acsproc\n",
    "import acspype.qaqc as acsqaqc\n",
    "from acspype.tscor import ACSTSCor"
   ],
   "outputs": [],
   "execution_count": 1
  },
  {
   "metadata": {
    "ExecuteTime": {
     "end_time": "2025-05-12T23:37:48.638566Z",
     "start_time": "2025-05-12T23:37:48.365550Z"
    }
   },
   "cell_type": "code",
   "source": [
    "data_filepath = '../dev_tools/test_files/TEST_SHIMADA_202405.nc'\n",
    "acs = xr.open_dataset(data_filepath)"
   ],
   "id": "55129149fe2c3feb",
   "outputs": [],
   "execution_count": 2
  },
  {
   "metadata": {
    "ExecuteTime": {
     "end_time": "2025-05-12T23:37:48.658080Z",
     "start_time": "2025-05-12T23:37:48.640574Z"
    }
   },
   "cell_type": "code",
   "source": [
    "dev_filepath = '../dev_tools/test_files/ACS-00412_2023-05-10.dev'\n",
    "dev = ACSDev(dev_filepath)"
   ],
   "id": "21d9f36f7a2e38a",
   "outputs": [],
   "execution_count": 3
  },
  {
   "metadata": {
    "ExecuteTime": {
     "end_time": "2025-05-12T23:37:56.341418Z",
     "start_time": "2025-05-12T23:37:56.333063Z"
    }
   },
   "cell_type": "code",
   "source": "dev.serial_number",
   "id": "5c143b0b86376b30",
   "outputs": [
    {
     "data": {
      "text/plain": [
       "'ACS-00412'"
      ]
     },
     "execution_count": 4,
     "metadata": {},
     "output_type": "execute_result"
    }
   ],
   "execution_count": 4
  },
  {
   "metadata": {
    "ExecuteTime": {
     "end_time": "2025-05-12T23:38:32.091415Z",
     "start_time": "2025-05-12T23:38:32.085546Z"
    }
   },
   "cell_type": "code",
   "source": "acs.attrs['acs_serial_number']",
   "id": "1ddb8e7c5fff3313",
   "outputs": [
    {
     "data": {
      "text/plain": [
       "'ACS412'"
      ]
     },
     "execution_count": 6,
     "metadata": {},
     "output_type": "execute_result"
    }
   ],
   "execution_count": 6
  },
  {
   "metadata": {},
   "cell_type": "code",
   "outputs": [],
   "execution_count": null,
   "source": "",
   "id": "7b1ec6e6d3dea12b"
  }
 ],
 "metadata": {
  "kernelspec": {
   "display_name": "Python 3",
   "language": "python",
   "name": "python3"
  },
  "language_info": {
   "codemirror_mode": {
    "name": "ipython",
    "version": 2
   },
   "file_extension": ".py",
   "mimetype": "text/x-python",
   "name": "python",
   "nbconvert_exporter": "python",
   "pygments_lexer": "ipython2",
   "version": "2.7.6"
  }
 },
 "nbformat": 4,
 "nbformat_minor": 5
}

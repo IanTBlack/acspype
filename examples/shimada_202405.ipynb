{
 "cells": [
  {
   "cell_type": "code",
   "id": "initial_id",
   "metadata": {
    "collapsed": true,
    "ExecuteTime": {
     "end_time": "2025-05-02T23:34:05.746423Z",
     "start_time": "2025-05-02T23:34:05.737449Z"
    }
   },
   "source": [
    "import gsw\n",
    "import matplotlib.pyplot as plt\n",
    "from matplotlib.ticker import MultipleLocator\n",
    "import numpy as np\n",
    "import xarray as xr\n",
    "\n",
    "from acspype import ACSDev\n",
    "from acspype import ACSTSCor\n",
    "import acspype.processing as acsproc\n",
    "import acspype.qaqc as acsqaqc\n",
    "from acspype.tscor import ACSTSCor"
   ],
   "outputs": [],
   "execution_count": 7
  },
  {
   "metadata": {
    "ExecuteTime": {
     "end_time": "2025-05-02T23:34:05.913216Z",
     "start_time": "2025-05-02T23:34:05.901405Z"
    }
   },
   "cell_type": "code",
   "source": [
    "data_filepath = '../dev_tools/test_files/TEST_SHIMADA_202405.nc'\n",
    "acs = xr.open_dataset(data_filepath)"
   ],
   "id": "55129149fe2c3feb",
   "outputs": [],
   "execution_count": 8
  },
  {
   "metadata": {
    "ExecuteTime": {
     "end_time": "2025-05-02T23:34:06.235109Z",
     "start_time": "2025-05-02T23:34:06.217146Z"
    }
   },
   "cell_type": "code",
   "source": [
    "dev_filepath = '../dev_tools/test_files/ACS-00412_2023-05-10.dev'\n",
    "dev = ACSDev(dev_filepath)"
   ],
   "id": "21d9f36f7a2e38a",
   "outputs": [],
   "execution_count": 9
  },
  {
   "metadata": {},
   "cell_type": "code",
   "outputs": [],
   "execution_count": null,
   "source": "",
   "id": "5c143b0b86376b30"
  }
 ],
 "metadata": {
  "kernelspec": {
   "display_name": "Python 3",
   "language": "python",
   "name": "python3"
  },
  "language_info": {
   "codemirror_mode": {
    "name": "ipython",
    "version": 2
   },
   "file_extension": ".py",
   "mimetype": "text/x-python",
   "name": "python",
   "nbconvert_exporter": "python",
   "pygments_lexer": "ipython2",
   "version": "2.7.6"
  }
 },
 "nbformat": 4,
 "nbformat_minor": 5
}

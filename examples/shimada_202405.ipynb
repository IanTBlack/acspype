{
 "cells": [
  {
   "metadata": {},
   "cell_type": "markdown",
   "source": [
    "# Separating Particulate and Dissolved Constituents in ACS Data\n",
    "\n",
    "In this notebook, processing ACS data and separating the particulate and gelbstoff signals using Xarray are demonstrated. This requires a merged dataset that contains information about the filtration state, the location, temperature, and salinity. In this example dataset, a seawater_state value of 0 indicates seawater (particulate + gelbstoff) and a value of 1 indicates that seawater that has been filtered through a 0.2 micron filter (gelbstoff).\n",
    "\n",
    "You can rerun this example by downloading the subset dataset and device file from [Kaggle](https://www.kaggle.com/datasets/blackia/shimada202405-subset-acs) and modifying the filepath locations in the following cells."
   ],
   "id": "6cdaba9df7cb5855"
  },
  {
   "metadata": {
    "ExecuteTime": {
     "end_time": "2025-05-13T19:29:08.380819Z",
     "start_time": "2025-05-13T19:29:05.048905Z"
    }
   },
   "cell_type": "code",
   "source": [
    "import gsw\n",
    "import matplotlib\n",
    "import matplotlib.pyplot as plt\n",
    "from matplotlib.dates import DayLocator, HourLocator\n",
    "from matplotlib.ticker import MultipleLocator\n",
    "import numpy as np\n",
    "import xarray as xr\n",
    "import scipy\n",
    "from scipy.stats import linregress\n",
    "\n",
    "from acspype import ACSDev, ACSTSCor\n",
    "import acspype.processing as acsproc\n",
    "import acspype.qaqc as acsqaqc"
   ],
   "id": "initial_id",
   "outputs": [],
   "execution_count": 1
  },
  {
   "metadata": {
    "ExecuteTime": {
     "end_time": "2025-05-13T19:29:08.573280Z",
     "start_time": "2025-05-13T19:29:08.380819Z"
    }
   },
   "cell_type": "code",
   "source": [
    "data_fp = '../dev_tools/test_files/shimada_202405_subset.nc'\n",
    "dev_fp = '../dev_tools/test_files/ACS-00412_2023-05-10.dev'\n",
    "\n",
    "acs = xr.open_dataset(data_fp)\n",
    "dev = ACSDev(dev_fp)"
   ],
   "id": "e696c0e583996e74",
   "outputs": [],
   "execution_count": 2
  },
  {
   "metadata": {
    "ExecuteTime": {
     "end_time": "2025-05-13T19:29:08.587891Z",
     "start_time": "2025-05-13T19:29:08.573918Z"
    }
   },
   "cell_type": "code",
   "source": [
    "tscor = ACSTSCor().to_xarray()  ## Load the TSCor coefficients as an xarray dataset.\n",
    "\n",
    "# TSCor coeffs for absorption.\n",
    "psi_t_a = tscor.psi_t.sel(wavelength=acs.a_wavelength)\n",
    "psi_s_a = tscor.psi_s_a.sel(wavelength=acs.a_wavelength)\n",
    "\n",
    "# TSCor coeffs for attenuation.\n",
    "psi_t_c = tscor.psi_t.sel(wavelength=acs.c_wavelength)\n",
    "psi_s_c = tscor.psi_s_c.sel(wavelength=acs.c_wavelength)"
   ],
   "id": "5725fa1d6d4cc279",
   "outputs": [],
   "execution_count": 3
  },
  {
   "metadata": {},
   "cell_type": "markdown",
   "source": "## Reprocess Data",
   "id": "1c99ff9928e1739b"
  },
  {
   "metadata": {
    "ExecuteTime": {
     "end_time": "2025-05-13T19:29:08.628376Z",
     "start_time": "2025-05-13T19:29:08.587891Z"
    }
   },
   "cell_type": "code",
   "source": "acs['internal_temperature'] = acsproc.compute_internal_temperature(counts = acs.raw_internal_temperature)",
   "id": "edaba60b22387b4b",
   "outputs": [],
   "execution_count": 4
  },
  {
   "metadata": {
    "ExecuteTime": {
     "end_time": "2025-05-13T19:29:08.754453Z",
     "start_time": "2025-05-13T19:29:08.628376Z"
    }
   },
   "cell_type": "code",
   "source": [
    "sea_water_pressure = 3 # Assume flowthrough intake is 3 dbars/meters below the average water line.\n",
    "acs['sea_water_absolute_salinity'] = gsw.SA_from_SP(acs.sea_water_practical_salinity, sea_water_pressure, acs.longitude, acs.latitude)\n",
    "acs['sea_water_conservative_temperature'] = gsw.CT_from_t(acs.sea_water_absolute_salinity, acs.sea_water_temperature, sea_water_pressure)"
   ],
   "id": "31d1f4429452a089",
   "outputs": [],
   "execution_count": 5
  },
  {
   "metadata": {
    "ExecuteTime": {
     "end_time": "2025-05-13T19:29:10.792969Z",
     "start_time": "2025-05-13T19:29:08.754453Z"
    }
   },
   "cell_type": "code",
   "source": [
    "acs['a_uncorrected'] = acsproc.compute_uncorrected(signal_counts=acs.a_signal,\n",
    "                                                   reference_counts=acs.a_reference, \n",
    "                                                   path_length = dev.path_length)\n",
    "acs['c_uncorrected'] = acsproc.compute_uncorrected(signal_counts = acs.c_signal, \n",
    "                                                   reference_counts = acs.c_reference, \n",
    "                                                   path_length = dev.path_length)"
   ],
   "id": "f79c0735afcd59e8",
   "outputs": [],
   "execution_count": 6
  },
  {
   "metadata": {
    "ExecuteTime": {
     "end_time": "2025-05-13T19:29:11.478405Z",
     "start_time": "2025-05-13T19:29:10.792969Z"
    }
   },
   "cell_type": "code",
   "source": [
    "acs['a_m_discontinuity'] = acsproc.compute_measured(uncorrected = acs.a_uncorrected, \n",
    "                                                    internal_temperature = acs.internal_temperature, \n",
    "                                                    offset = dev.a_offset, \n",
    "                                                    func_delta_t = dev.func_a_delta_t)\n",
    "acs['c_m_discontinuity'] = acsproc.compute_measured(uncorrected = acs.c_uncorrected, \n",
    "                                                    internal_temperature = acs.internal_temperature, \n",
    "                                                    offset = dev.c_offset, \n",
    "                                                    func_delta_t=dev.func_c_delta_t)"
   ],
   "id": "d367e8723a8de812",
   "outputs": [],
   "execution_count": 7
  },
  {
   "metadata": {
    "ExecuteTime": {
     "end_time": "2025-05-13T19:31:24.835721Z",
     "start_time": "2025-05-13T19:29:11.478405Z"
    }
   },
   "cell_type": "code",
   "source": [
    "discontinuity_index = acsproc.find_discontinuity_index(a_wavelength = acs.a_wavelength, \n",
    "                                                       c_wavelength = acs.c_wavelength)\n",
    "acs['a_m'], acs['a_discontinuity_offset'] = acsproc.discontinuity_correction(measured = acs.a_m_discontinuity,\n",
    "                                                                             discontinuity_index=discontinuity_index,\n",
    "                                                                             wavelength_dim='a_wavelength')\n",
    "acs['c_m'], acs['c_discontinuity_offset'] = acsproc.discontinuity_correction(measured = acs.c_m_discontinuity,\n",
    "                                                                             discontinuity_index=discontinuity_index,\n",
    "                                                                             wavelength_dim='c_wavelength')"
   ],
   "id": "69d6a4219125b78e",
   "outputs": [],
   "execution_count": 8
  },
  {
   "metadata": {
    "ExecuteTime": {
     "end_time": "2025-05-13T19:31:26.378149Z",
     "start_time": "2025-05-13T19:31:24.837467Z"
    }
   },
   "cell_type": "code",
   "source": [
    "tcal = dev.tcal  # The reference temperature value in the device file.\n",
    "acs['a_mts'] = acsproc.ts_correction(measured = acs.a_m, \n",
    "                                     temperature = acs.sea_water_conservative_temperature,\n",
    "                                     salinity = acs.sea_water_absolute_salinity, \n",
    "                                     psi_temperature = psi_t_a, \n",
    "                                     psi_salinity= psi_s_a, \n",
    "                                     tcal = tcal)\n",
    "acs['c_mts'] = acsproc.ts_correction(measured = acs.c_m, \n",
    "                                     temperature = acs.sea_water_conservative_temperature,\n",
    "                                     salinity = acs.sea_water_absolute_salinity, \n",
    "                                     psi_temperature= psi_t_c, \n",
    "                                     psi_salinity = psi_s_c, \n",
    "                                     tcal = tcal)"
   ],
   "id": "712e9f871fc9b6fd",
   "outputs": [],
   "execution_count": 9
  },
  {
   "metadata": {
    "ExecuteTime": {
     "end_time": "2025-05-13T19:31:26.733225Z",
     "start_time": "2025-05-13T19:31:26.379048Z"
    }
   },
   "cell_type": "code",
   "source": [
    "acs['a_mts'] = acsproc.zero_shift_correction(mts = acs.a_mts)\n",
    "acs['c_mts'] = acsproc.zero_shift_correction(mts = acs.c_mts)"
   ],
   "id": "b29a88a51b710d75",
   "outputs": [],
   "execution_count": 10
  },
  {
   "metadata": {
    "ExecuteTime": {
     "end_time": "2025-05-13T19:32:34.646689Z",
     "start_time": "2025-05-13T19:31:26.733586Z"
    }
   },
   "cell_type": "code",
   "source": [
    "acs = acsproc.interpolate_common_wavelengths(ds = acs,\n",
    "                                             a_wavelength_dim='a_wavelength',\n",
    "                                             c_wavelength_dim='c_wavelength',\n",
    "                                             new_wavelength_dim='wavelength',\n",
    "                                             wavelength_range='infer',\n",
    "                                             step = 1)"
   ],
   "id": "187c05e1b038ebce",
   "outputs": [],
   "execution_count": 11
  },
  {
   "metadata": {
    "ExecuteTime": {
     "end_time": "2025-05-13T19:32:34.656818Z",
     "start_time": "2025-05-13T19:32:34.648711Z"
    }
   },
   "cell_type": "code",
   "source": [
    "reference_wavelength = 715\n",
    "acs = acs.sel(wavelength = slice(None, reference_wavelength))\n",
    "a_715 = acs.a_mts.sel(wavelength = reference_wavelength, method = 'nearest')\n",
    "c_715 = acs.c_mts.sel(wavelength = reference_wavelength, method = 'nearest')"
   ],
   "id": "74d20abf1f298cea",
   "outputs": [],
   "execution_count": 12
  },
  {
   "metadata": {
    "ExecuteTime": {
     "end_time": "2025-05-13T19:32:36.856586Z",
     "start_time": "2025-05-13T19:32:34.656818Z"
    }
   },
   "cell_type": "code",
   "source": [
    "acs['a_mts_proportional'] = acsproc.proportional_scattering_correction(a_mts = acs.a_mts, \n",
    "                                                                       c_mts = acs.c_mts, \n",
    "                                                                       reference_a = a_715, \n",
    "                                                                       reference_c = c_715) # Proportional Method from Zaneveld et al. 1994\n",
    "acs['a_mts_proportional'] = acsproc.zero_shift_correction(mts = acs.a_mts_proportional)"
   ],
   "id": "55c8d8c77fd53a6f",
   "outputs": [],
   "execution_count": 13
  },
  {
   "metadata": {},
   "cell_type": "markdown",
   "source": "## Remove Poor Data",
   "id": "1f0999f2c94ebc5c"
  },
  {
   "metadata": {
    "ExecuteTime": {
     "end_time": "2025-05-13T19:32:45.571800Z",
     "start_time": "2025-05-13T19:32:36.856586Z"
    }
   },
   "cell_type": "code",
   "source": [
    "# Elapsed Time Test\n",
    "acs['flag_elapsed_time'] = acsqaqc.elapsed_time_test(acs.elapsed_time, fail_threshold = 10 * 60 * 1000, suspect_threshold = 15 * 60 * 1000)\n",
    "\n",
    "# Internal Temperature Test\n",
    "acs['flag_internal_temperature'] = acsqaqc.internal_temperature_test(internal_temperature=acs.internal_temperature, dev = dev)\n",
    "\n",
    "# Inf Nan Teset\n",
    "acs['flag_a_uncorrected_inf_nan'] = acsqaqc.inf_nan_test(uncorrected = acs.a_uncorrected)\n",
    "acs['flag_c_uncorrected_inf_nan'] = acsqaqc.inf_nan_test(uncorrected = acs.c_uncorrected)\n",
    "\n",
    "\n",
    "# Gross Range Test\n",
    "acs['flag_c_mts_gross_range'] = acsqaqc.gross_range_test(mts = acs.c_mts, \n",
    "                                                         sensor_min = -0.005, sensor_max = 10,\n",
    "                                                         op_min = 0, op_max = 8.5)\n",
    "acs['flag_a_mts_proportional_gross_range'] = acsqaqc.gross_range_test(mts = acs.a_mts_proportional, \n",
    "                                                                      sensor_min = -0.005, sensor_max = 10,\n",
    "                                                                      op_min = 0, op_max = 8.5)\n",
    "acs['blanket_flag_c_mts_gross_range'] = acsqaqc.blanket_gross_range_test(acs.flag_c_mts_gross_range, \n",
    "                                                                 wavelength_dim = 'wavelength', \n",
    "                                                                 suspect_threshold = 0.10, \n",
    "                                                                 fail_threshold = 0.30, \n",
    "                                                                 include_suspect_flags = False)\n",
    "acs['blanket_flag_a_mts_proportional_gross_range'] = acsqaqc.blanket_gross_range_test(acs.flag_a_mts_proportional_gross_range, \n",
    "                                                                         wavelength_dim = 'wavelength', \n",
    "                                                                         suspect_threshold = 0.10, \n",
    "                                                                         fail_threshold = 0.30, \n",
    "                                                                         include_suspect_flags = False)"
   ],
   "id": "cd3842fe7d2baa6c",
   "outputs": [],
   "execution_count": 14
  },
  {
   "metadata": {
    "jupyter": {
     "is_executing": true
    },
    "ExecuteTime": {
     "start_time": "2025-05-13T19:32:45.573391Z"
    }
   },
   "cell_type": "code",
   "source": [
    "acs = acs.where(acs.flag_elapsed_time != 4, drop = True)  # Remove samples with a flag of 4 for the elapsed time test\n",
    "acs = acs.where(acs.flag_internal_temperature != 4, drop = True)  # Remove samples with a flag of 4 for the internal temperature test.\n",
    "acs = acs.where(acs.flag_a_uncorrected_inf_nan != 4, drop = True)  # Remove samples with a flag of 4 for the absorption inf nan test.\n",
    "acs = acs.where(acs.flag_c_uncorrected_inf_nan != 4, drop = True)  # Remove samples with a flag of 4 for the absorption inf nan test.\n",
    "acs = acs.where(acs.blanket_flag_a_mts_proportional_gross_range != 4, drop = True)  # Remove samples with a flag of 4 for the absorption gross range test.\n",
    "acs = acs.where(acs.blanket_flag_c_mts_gross_range != 4, drop = True)  # Remove samples with a flag of 4 for the absorption gross range test."
   ],
   "id": "5bb4f6e3b942c89d",
   "outputs": [],
   "execution_count": null
  },
  {
   "metadata": {
    "jupyter": {
     "is_executing": true
    }
   },
   "cell_type": "code",
   "source": "acs = acs[['c_mts','a_mts_proportional', 'sea_water_conservative_temperature','sea_water_absolute_salinity','seawater_state','longitude','latitude',]]  ",
   "id": "1043fa12199bc986",
   "outputs": [],
   "execution_count": null
  },
  {
   "metadata": {
    "jupyter": {
     "is_executing": true
    }
   },
   "cell_type": "code",
   "source": [
    "fig, ax = plt.subplots(1,1, figsize=(10,6), constrained_layout=True)\n",
    "p = ax.scatter(acs.longitude, acs.latitude, c = acs.seawater_state,cmap = 'bwr')\n",
    "cbar = fig.colorbar(p, ax = ax, ticks = [0,1])\n",
    "cbar.ax.set_yticklabels(['pg', 'g'])\n",
    "\n",
    "ax.set_box_aspect((acs.latitude.max() - acs.latitude.min())/(acs.longitude.max() - acs.longitude.min()))\n",
    "\n",
    "ax.yaxis.set_major_locator(MultipleLocator(1))\n",
    "ax.yaxis.set_minor_locator(MultipleLocator(0.1))\n",
    "ax.xaxis.set_major_locator(MultipleLocator(1))\n",
    "ax.xaxis.set_minor_locator(MultipleLocator(0.1))\n",
    "ax.set_xlabel('Longitude')\n",
    "ax.set_ylabel('Latitude')"
   ],
   "id": "eb2fdc92e54b6c73",
   "outputs": [],
   "execution_count": null
  },
  {
   "metadata": {
    "jupyter": {
     "is_executing": true
    }
   },
   "cell_type": "code",
   "source": "g = acs.where(acs.seawater_state != 0, drop = True)",
   "id": "5521efd283f06a4e",
   "outputs": [],
   "execution_count": null
  },
  {
   "metadata": {
    "jupyter": {
     "is_executing": true
    }
   },
   "cell_type": "code",
   "source": "pg = acs.where(acs.seawater_state != 1, drop = True)",
   "id": "4981c43354cfacae",
   "outputs": [],
   "execution_count": null
  },
  {
   "metadata": {
    "jupyter": {
     "is_executing": true
    }
   },
   "cell_type": "code",
   "source": [
    "def cleanup_filtered_periods(g, remove_start = 5 * 60, remove_end = 1 * 60):\n",
    "    dt = g.where(g['time'].diff('time') > np.timedelta64(30 * 60, 's'), drop=True).get_index('time')\n",
    "    fperiods = []\n",
    "    jback = np.timedelta64(60, 's')  # 30 second jump back to avoid collecting data from the following profile\n",
    "    for i, d in enumerate(dt):\n",
    "        # pull out the profile\n",
    "        if i == 0:\n",
    "            fperiod = g.sel(time=slice(g['time'].values[0], d - jback))\n",
    "        else:\n",
    "            fperiod = g.sel(time=slice(dt[i - 1], d - jback))\n",
    "            \n",
    "            \n",
    "        fperiod = fperiod.sel(time = slice(fperiod.time.min() + np.timedelta64(remove_start,'s'), \n",
    "                                           fperiod.time.max() - np.timedelta64(remove_end,'s')))    \n",
    "        \n",
    "        if len(fperiod.time.values != 0):\n",
    "            fperiods.append(fperiod)\n",
    "    \n",
    "        # grab the last profile and append it to the list\n",
    "        fperiod = g.sel(time=slice(d, g['time'].values[-1]))\n",
    "        fperiod = fperiod.sel(time = slice(fperiod.time.min() + np.timedelta64(remove_start,'s'), \n",
    "                                           fperiod.time.max() - np.timedelta64(remove_end,'s')))    \n",
    "\n",
    "        if len(fperiod.time.values != 0):\n",
    "            fperiods.append(fperiod)\n",
    "    \n",
    "    filtered = xr.concat(fperiods, dim = 'time')\n",
    "    filtered = filtered.drop_duplicates(dim = 'time')\n",
    "    return filtered\n",
    "    "
   ],
   "id": "35fe3fbd85325a43",
   "outputs": [],
   "execution_count": null
  },
  {
   "metadata": {
    "jupyter": {
     "is_executing": true
    }
   },
   "cell_type": "code",
   "source": [
    "gc = cleanup_filtered_periods(g)\n",
    "gi = gc.interp(time = pg.time, method = 'linear')"
   ],
   "id": "e4623147a8d2d6b7",
   "outputs": [],
   "execution_count": null
  },
  {
   "metadata": {
    "jupyter": {
     "is_executing": true
    }
   },
   "cell_type": "code",
   "source": "p = pg - gi",
   "id": "7dd7d87d2e56b83a",
   "outputs": [],
   "execution_count": null
  },
  {
   "metadata": {
    "jupyter": {
     "is_executing": true
    }
   },
   "cell_type": "code",
   "source": [
    "for dv in g.data_vars: \n",
    "    if 'mts' in dv:\n",
    "        _dv = dv.replace('mts', 'g')\n",
    "        g = g.rename({dv: _dv})"
   ],
   "id": "38a01ae75a2fd1e3",
   "outputs": [],
   "execution_count": null
  },
  {
   "metadata": {
    "jupyter": {
     "is_executing": true
    }
   },
   "cell_type": "code",
   "source": [
    "for dv in p.data_vars: \n",
    "    if 'mts' in dv:\n",
    "        _dv = dv.replace('mts', 'p')\n",
    "        p = p.rename({dv: _dv})"
   ],
   "id": "6a8c2aa2f32be445",
   "outputs": [],
   "execution_count": null
  },
  {
   "metadata": {
    "jupyter": {
     "is_executing": true
    }
   },
   "cell_type": "code",
   "source": [
    "t = p.time.values[250000]\n",
    "\n",
    "sp = p.sel(time = t)\n",
    "sg = gi.sel(time = t)\n",
    "\n",
    "fig, ax = plt.subplots(2,1, figsize = (12,5), constrained_layout = True)\n",
    "\n",
    "ax[0].plot(sp.wavelength, sp.c_p)\n",
    "ax[1].plot(sg.wavelength, sg.c_g)"
   ],
   "id": "dd416a91db5d45f4",
   "outputs": [],
   "execution_count": null
  }
 ],
 "metadata": {
  "kernelspec": {
   "display_name": "Python 3",
   "language": "python",
   "name": "python3"
  },
  "language_info": {
   "codemirror_mode": {
    "name": "ipython",
    "version": 2
   },
   "file_extension": ".py",
   "mimetype": "text/x-python",
   "name": "python",
   "nbconvert_exporter": "python",
   "pygments_lexer": "ipython2",
   "version": "2.7.6"
  }
 },
 "nbformat": 4,
 "nbformat_minor": 5
}

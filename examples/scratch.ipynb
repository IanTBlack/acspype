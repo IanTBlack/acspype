{
 "cells": [
  {
   "cell_type": "code",
   "id": "initial_id",
   "metadata": {
    "collapsed": true,
    "ExecuteTime": {
     "end_time": "2025-04-30T19:49:20.857619Z",
     "start_time": "2025-04-30T19:49:20.852645Z"
    }
   },
   "source": [
    "from acspype.processing import convert_sn_hexdec, convert_sn_str\n",
    "import xarray as xr\n",
    "\n",
    "from acspype.packet import parse_packet, ACSPacket"
   ],
   "outputs": [],
   "execution_count": 7
  },
  {
   "metadata": {
    "ExecuteTime": {
     "end_time": "2025-04-30T19:04:20.116718Z",
     "start_time": "2025-04-30T19:04:20.007870Z"
    }
   },
   "cell_type": "code",
   "source": "import numpy as np",
   "id": "794317894541369f",
   "outputs": [],
   "execution_count": 2
  },
  {
   "metadata": {
    "ExecuteTime": {
     "end_time": "2025-04-30T19:48:59.756187Z",
     "start_time": "2025-04-30T19:48:59.748695Z"
    }
   },
   "cell_type": "code",
   "source": "TEST_PACKET = b'\\xff\\x00\\xff\\x00\\x02\\xe0\\x05\\x01S\\x00\\x00\\xb8\\x01\\xdb\\x00\\x00\\x02\\xbc~^\\xc3\\xe3\\x01\\xdd\\x02\\xc6\\x00\\x000\\x80\\x01X\\x1c4\\x11R\\x16\\x90\\x13\\x7f-\\x14\\x1b\\x89$\\xaa\\x1f\\xa6D\\xe6)W8\\xd60La\\xc76\\xf5S\\x0f@\\xc8y\\xb4?\\x89j\\xb1KQ\\x83\\xb0?\\xdav\\xacK\\xdf|\\xbf9\\x88r\\xb1Drl\\x8b1\\xffdc;\\x8b]`,\\x97V[5+S\\xeb*\\xc3M\\x943\\x1cQ\\xdb-~K\\x926\\x87W\\xb14aQ\\x18>\\xe4cM<\\xe9\\\\\\xfcI(p\\xa0F\\x16j\\xfbT@}`M\\xecx\\xd3]\\xaf\\x86\\xa3R\\xbe\\x83\\xb7c\\x83\\x8a\\xd1T\\x83\\x89\\x85e\\xc2\\x8b\\x03T\\xbb\\x8a\\xe7f>\\x88\\xd6S\\x9d\\x8a\\te\"\\x85\\x05Q\\x99\\x87kb\\xf4\\x80QO4\\x83\\xbf`Y{@L\\xc9\\x7f~]\\xbfv\\x8cJ\\xc0{M[\\xa7r\\x99I_w\\xfeZbokH-uuYBl\\x8dG&sOXYj.G\\x12qCX\\xabi2G\\xcap\\xacY\\xf5iYI\\x13qN[\\xf6j\\xafKMs\\x0f_,l\\xf9N-v\\nc6o\\x9aP\\xe6yWg\\x14r&S6|\\xcajwt\\x99U\\x91\\x7f\\xe7m\\xeev\\xb7We\\x82\\xf3p\\xb1w\\xb3X\\x17\\x84\\xc6q\\xfawQW\\x8e\\x84\\xfeq\\xa8u\\xb7V9\\x83\\xbapZs\\xc6T\\xcf\\x81\\xf6n\\xe6q#R\\xdc\\x7f\\x9bl\\xb5n\\x0bQ\\x14|gj\\xc5k\\x1dO\\\\y\\x86h\\xddhmM\\xa1v\\xd9f\\xe8f\\x02Lqt<e\\xaad\\\\K\\x85r\\x89d\\xaea\\x8fH\\xdfm\\xceaz`\\xfeH\\xd8m3a\\x93`\\xfcI\\x04mVa\\xcfa\\nIXm\\x88b,a J\\x13m\\xa2c\\x00a\\xd4J\\xfbnAd\\x03b\\xbbL\\x14n\\xd3eAc\\xf0Mpo\\xa5f\\xf7eUOup\\xc9i\\xb7g2P\\xb5r|kviAP\\xceu\\x19k\\xcai\\x9cQ?u\\xecl\\x9eirQ\\xa5u\\x93m^i\\x95Q\\xeau\\xecm\\xeei\\xbdQ\\x8bvSm\\x90i\\x12P\\xb6u\\xf4l\\x9fg\\xc6O\\xaet\\x95kOfMN\\ts\\x04i\\x19d\\x87K\\xf4q\\x1ffCa\\xefI\\x94nAb\\xf9^\\xb6G\\x14j\\x94_\\x85[-D0f\\x85[\\x9cW\\x87AObmW\\xc2S\\xd3>?^\\x0cS\\x9aP\\r:\\xb8Y\\xecN\\xd0K\\xa37uT\\xe2JNGK4JO\\xafE\\xcfC/0\\xebJ\\xee@\\xf1>\\xed-\\xc8E\\xe5<A:\\xcf*\\xda@\\xb37\\xba7&\\'\\xe8< 3\\x1d3^%\\x197L.\\x95/\\xa0\"X2Z*#,\\x0f\\x1f\\xcd-\\xa5%\\xe8(\\xaa\\x1dx)\\x07!\\xf4%\\xa8\\x1b6$\\xdd\\x1e(\"\\xd8\\x19& \\xeb\\x1a\\xa9 ;\\x17.\\x1dP\\x17u\\x1d\\xc2\\x15h\\x19\\xde\\x14\\xa0\\x1b{\\x13\\xce\\x16\\xc9\\x12M\\x19_\\x12L\\x14\\x03\\x10Q\\x17i\\x10\\xf0\\x11\\xc5\\x0e\\xad\\x15\\x98\\x0e\\xf2\\x0f\\xd0\\x0c\\xa58\\x18\\x00'\n",
   "id": "b7ce3cf4a3ffc55",
   "outputs": [],
   "execution_count": 5
  },
  {
   "metadata": {
    "ExecuteTime": {
     "end_time": "2025-04-30T19:49:43.419004Z",
     "start_time": "2025-04-30T19:49:43.412525Z"
    }
   },
   "cell_type": "code",
   "source": "parse_packet(ACSPacket(daq_time = None, full_packet = TEST_PACKET))",
   "id": "99e5517e46886baf",
   "outputs": [
    {
     "data": {
      "text/plain": [
       "ParsedPacket(daq_time=None, record_length=736, packet_type=5, sn_int=1392509112, a_reference_dark=475, a_signal_dark=700, raw_external_temperature=32350, raw_internal_temperature=50147, c_reference_dark=477, c_signal_dark=710, elapsed_time=12416, number_of_wavelengths=88, c_reference=(7220, 11540, 17638, 25031, 31156, 33712, 31935, 27787, 23904, 21483, 20955, 22449, 25421, 28832, 32096, 34467, 35537, 35587, 35030, 34053, 32849, 31552, 30348, 29337, 28523, 27789, 27182, 26930, 26969, 27311, 27897, 28570, 29222, 29849, 30391, 30643, 30545, 30135, 29638, 28963, 28171, 27421, 26733, 26114, 25692, 24975, 24830, 24828, 24842, 24864, 25044, 25275, 25584, 25941, 26418, 26945, 27036, 26994, 27029, 27069, 26898, 26566, 26189, 25735, 25071, 24246, 23341, 22407, 21459, 20493, 19363, 18251, 17199, 16109, 15055, 14118, 13150, 12192, 11279, 10410, 9640, 8920, 8251, 7618, 7035, 6495, 5993, 5528), a_reference=(4434, 7049, 10583, 14069, 16265, 16346, 14728, 12799, 11415, 10947, 11646, 13409, 15593, 17942, 19948, 21182, 21635, 21691, 21405, 20889, 20276, 19657, 19136, 18783, 18477, 18214, 18194, 18378, 18707, 19277, 20013, 20710, 21302, 21905, 22373, 22551, 22414, 22073, 21711, 21212, 20756, 20316, 19873, 19569, 19333, 18655, 18648, 18692, 18776, 18963, 19195, 19476, 19824, 20341, 20661, 20686, 20799, 20901, 20970, 20875, 20662, 20398, 19977, 19444, 18836, 18196, 17456, 16719, 15935, 15032, 14197, 13386, 12523, 11720, 10970, 10216, 9497, 8792, 8141, 7544, 6966, 6438, 5934, 5480, 5070, 4684, 4336, 3826), c_signal=(5776, 9386, 14550, 21263, 27313, 30380, 29361, 25699, 22107, 19860, 19346, 20760, 23804, 27387, 30931, 33719, 35205, 35559, 35337, 34667, 33727, 32638, 31565, 30718, 30069, 29519, 28995, 28844, 29006, 29455, 30218, 31063, 31946, 32743, 33523, 33990, 34046, 33722, 33270, 32667, 31847, 31110, 30425, 29756, 29321, 28110, 27955, 27990, 28040, 28066, 28225, 28371, 28581, 28873, 29308, 29977, 30188, 30099, 30188, 30291, 30196, 29845, 29444, 28959, 28225, 27284, 26245, 25197, 24076, 23020, 21730, 20399, 19182, 17893, 16563, 15392, 14156, 12890, 11685, 10503, 9437, 8427, 7504, 6622, 5833, 5123, 4549, 4048), a_signal=(4991, 8102, 12364, 16584, 19281, 19423, 17522, 15243, 13611, 13084, 13959, 16100, 18728, 21568, 23983, 25475, 26050, 26174, 25890, 25332, 24665, 23999, 23463, 23138, 22850, 22617, 22699, 23029, 23542, 24364, 25398, 26388, 27255, 28142, 28849, 29178, 29096, 28762, 28390, 27829, 27333, 26845, 26344, 26026, 25774, 24954, 24979, 25039, 25132, 25344, 25603, 25921, 26359, 27063, 27510, 27594, 27806, 27998, 28142, 28048, 27807, 27471, 26905, 26179, 25337, 24453, 23452, 22466, 21402, 20176, 19022, 17871, 16625, 15425, 14266, 13085, 11925, 10787, 9704, 8692, 7720, 6825, 6005, 5280, 4685, 4177, 3757, 3237), checksum=14360)"
      ]
     },
     "execution_count": 10,
     "metadata": {},
     "output_type": "execute_result"
    }
   ],
   "execution_count": 10
  },
  {
   "metadata": {
    "ExecuteTime": {
     "end_time": "2025-04-30T19:55:07.188588Z",
     "start_time": "2025-04-30T19:55:07.177328Z"
    }
   },
   "cell_type": "code",
   "source": "import acspype.processing as acsproc",
   "id": "ba689500ae2c6a1e",
   "outputs": [],
   "execution_count": 11
  },
  {
   "metadata": {
    "ExecuteTime": {
     "end_time": "2025-04-30T19:56:29.850333Z",
     "start_time": "2025-04-30T19:56:29.843574Z"
    }
   },
   "cell_type": "code",
   "source": "acsproc.compute_internal_temperature(50147)\n",
   "id": "1a407f5e5f793e82",
   "outputs": [
    {
     "data": {
      "text/plain": [
       "11.252535447384389"
      ]
     },
     "execution_count": 14,
     "metadata": {},
     "output_type": "execute_result"
    }
   ],
   "execution_count": 14
  },
  {
   "metadata": {
    "ExecuteTime": {
     "end_time": "2025-04-30T19:56:30.169767Z",
     "start_time": "2025-04-30T19:56:30.157289Z"
    }
   },
   "cell_type": "code",
   "source": "acsproc.compute_external_temperature(32350)",
   "id": "b6d80e45125d40bd",
   "outputs": [
    {
     "data": {
      "text/plain": [
       "20.79767641954963"
      ]
     },
     "execution_count": 15,
     "metadata": {},
     "output_type": "execute_result"
    }
   ],
   "execution_count": 15
  },
  {
   "metadata": {},
   "cell_type": "code",
   "outputs": [],
   "execution_count": null,
   "source": "",
   "id": "33a2f4f319162b64"
  }
 ],
 "metadata": {
  "kernelspec": {
   "display_name": "Python 3",
   "language": "python",
   "name": "python3"
  },
  "language_info": {
   "codemirror_mode": {
    "name": "ipython",
    "version": 2
   },
   "file_extension": ".py",
   "mimetype": "text/x-python",
   "name": "python",
   "nbconvert_exporter": "python",
   "pygments_lexer": "ipython2",
   "version": "2.7.6"
  }
 },
 "nbformat": 4,
 "nbformat_minor": 5
}

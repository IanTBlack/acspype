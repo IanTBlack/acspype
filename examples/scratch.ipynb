{
 "cells": [
  {
   "cell_type": "code",
   "id": "initial_id",
   "metadata": {
    "collapsed": true,
    "ExecuteTime": {
     "end_time": "2025-04-30T22:05:04.281118Z",
     "start_time": "2025-04-30T22:05:03.301705Z"
    }
   },
   "source": [
    "from datetime import datetime\n",
    "import xarray as xr"
   ],
   "outputs": [],
   "execution_count": 1
  },
  {
   "metadata": {
    "ExecuteTime": {
     "end_time": "2025-04-30T22:05:04.286205Z",
     "start_time": "2025-04-30T22:05:04.281118Z"
    }
   },
   "cell_type": "code",
   "source": "fp = '../dev_tools/test_files/EXAMPLE_SHIMADA_202405.nc'",
   "id": "794317894541369f",
   "outputs": [],
   "execution_count": 2
  },
  {
   "metadata": {
    "ExecuteTime": {
     "end_time": "2025-04-30T22:05:04.536116Z",
     "start_time": "2025-04-30T22:05:04.286205Z"
    }
   },
   "cell_type": "code",
   "source": "ds = xr.open_dataset(fp)",
   "id": "33a2f4f319162b64",
   "outputs": [],
   "execution_count": 3
  },
  {
   "metadata": {
    "ExecuteTime": {
     "end_time": "2025-04-30T22:05:04.571899Z",
     "start_time": "2025-04-30T22:05:04.565375Z"
    }
   },
   "cell_type": "code",
   "source": "ds = ds.sel(time = slice(None, datetime(2024,6,3,4,15,0)))",
   "id": "cc95e882886e8a64",
   "outputs": [],
   "execution_count": 6
  },
  {
   "metadata": {
    "ExecuteTime": {
     "end_time": "2025-04-30T22:05:21.958233Z",
     "start_time": "2025-04-30T22:05:21.876598Z"
    }
   },
   "cell_type": "code",
   "source": "ds.to_netcdf('TEST_SHIMADA_202405.nc')",
   "id": "11d68a0e48a9f8b2",
   "outputs": [],
   "execution_count": 9
  },
  {
   "metadata": {},
   "cell_type": "code",
   "outputs": [],
   "execution_count": null,
   "source": "",
   "id": "885db5d1c8c5c529"
  }
 ],
 "metadata": {
  "kernelspec": {
   "display_name": "Python 3",
   "language": "python",
   "name": "python3"
  },
  "language_info": {
   "codemirror_mode": {
    "name": "ipython",
    "version": 2
   },
   "file_extension": ".py",
   "mimetype": "text/x-python",
   "name": "python",
   "nbconvert_exporter": "python",
   "pygments_lexer": "ipython2",
   "version": "2.7.6"
  }
 },
 "nbformat": 4,
 "nbformat_minor": 5
}

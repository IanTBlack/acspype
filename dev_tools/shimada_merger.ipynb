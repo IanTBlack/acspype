{
 "cells": [
  {
   "cell_type": "code",
   "id": "initial_id",
   "metadata": {
    "collapsed": true,
    "ExecuteTime": {
     "end_time": "2025-05-08T19:01:33.384568Z",
     "start_time": "2025-05-08T19:01:31.857201Z"
    }
   },
   "source": [
    "import matplotlib.pyplot as plt\n",
    "import numpy as np\n",
    "import xarray as xr\n",
    "\n",
    "import scipy\n",
    "from scipy.stats import linregress\n",
    "\n",
    "from acspype import ACSDev, ACSTSCor\n",
    "import acspype.processing as acsproc\n",
    "import acspype.qaqc as acsqaqc"
   ],
   "outputs": [],
   "execution_count": 1
  },
  {
   "metadata": {
    "ExecuteTime": {
     "end_time": "2025-05-08T19:02:00.625882Z",
     "start_time": "2025-05-08T19:01:33.384568Z"
    }
   },
   "cell_type": "code",
   "source": [
    "acs = xr.open_dataset('test_files/PROMETHEUS_AGG_SHIMADA_202405.nc', group = 'acs')\n",
    "acs = acs.drop_vars(['packet_type','record_length', 'packet',  # Drop variables that are not used or will get recomputed.\n",
    "                     'internal_temperature', 'external_temperature',\n",
    "                     'a_uncorr','c_uncorr','a_pg',\n",
    "                     'c_pg','raw_external_temperature'], errors = 'ignore')\n",
    "\n",
    "tsg = xr.open_dataset('test_files/PROMETHEUS_AGG_SHIMADA_202405.nc', group = 'tsg')\n",
    "tsg = tsg.drop_vars(['sea_water_electrical_conductivity'], errors = 'ignore')\n",
    "tsg = tsg.where(tsg['sea_water_temperature'] > 0, drop=True) \n",
    "tsg = tsg.where(tsg['sea_water_temperature'] < 35, drop=True)\n",
    "tsg = tsg.where(tsg['sea_water_practical_salinity'] > 22, drop=True) \n",
    "tsg = tsg.where(tsg['sea_water_temperature'] < 35, drop=True) \n",
    "tsg = tsg.rolling({'time': 11}, center = True).median(skipna = True)\n",
    "tsg = tsg.interp(time=acs.time, method='nearest', kwargs={'fill_value': 'extrapolate'})\n",
    "\n",
    "valve = xr.open_dataset('test_files/PROMETHEUS_AGG_SHIMADA_202405.nc', group = 'valve')\n",
    "valve = valve.drop_vars(['valve_relay_state'], errors = 'ignore')\n",
    "valve = valve.interp(time = acs.time, method='nearest', kwargs={'fill_value': 'extrapolate'})\n",
    "\n",
    "gps = xr.open_dataset('test_files/PROMETHEUS_AGG_SHIMADA_202405.nc', group = 'gps')\n",
    "gps = gps.drop_vars(['GPGGA'], errors = 'ignore')\n",
    "gps = gps.interp(time = acs.time, method='nearest', kwargs={'fill_value': 'extrapolate'})\n",
    "\n",
    "\n",
    "acs = xr.combine_by_coords([acs,tsg, valve, gps])\n",
    "\n",
    "dev = ACSDev('test_files/ACS-00412_2023-05-10.dev')"
   ],
   "id": "4bbc8edb4e4fb5cb",
   "outputs": [],
   "execution_count": 2
  },
  {
   "metadata": {
    "ExecuteTime": {
     "end_time": "2025-05-08T19:12:32.867158Z",
     "start_time": "2025-05-08T19:02:00.625882Z"
    }
   },
   "cell_type": "code",
   "source": [
    "acs['internal_temperature'] = acsproc.compute_internal_temperature(acs.raw_internal_temperature)\n",
    "acs['a_uncorrected'] = acsproc.compute_uncorrected(acs.a_signal, acs.a_reference, dev.path_length)\n",
    "acs['c_uncorrected'] = acsproc.compute_uncorrected(acs.c_signal, acs.c_reference, dev.path_length)\n",
    "acs['a_pg_discontinuity' ] = acsproc.compute_measured(acs.a_uncorrected, acs.internal_temperature, dev.a_offset, dev.func_a_delta_t)\n",
    "acs['c_pg_discontinuity' ] = acsproc.compute_measured(acs.c_uncorrected, acs.internal_temperature, dev.c_offset, dev.func_c_delta_t)\n",
    "\n",
    "discontinuity_index = acsproc.find_discontinuity_index(acs.a_wavelength, acs.c_wavelength)\n",
    "acs['a_pg'], acs['a_discontinuity_offset'] = acsproc.discontinuity_correction(acs.a_pg_discontinuity, discontinuity_index, 'a_wavelength')\n",
    "acs['c_pg'], acs['c_discontinuity_offset'] = acsproc.discontinuity_correction(acs.c_pg_discontinuity, discontinuity_index, 'c_wavelength')\n",
    "\n",
    "tscor = ACSTSCor().to_xarray()\n",
    "\n",
    "psi_s_a = tscor.psi_s_a.sel(wavelength = acs.a_wavelength)\n",
    "psi_s_c = tscor.psi_s_c.sel(wavelength = acs.c_wavelength)\n",
    "psi_t_a = tscor.psi_t.sel(wavelength = acs.a_wavelength)\n",
    "psi_t_c = tscor.psi_t.sel(wavelength = acs.c_wavelength)\n",
    "\n",
    "acs['a_pgts'] = acsproc.ts_correction(acs.a_pg, acs.sea_water_temperature, acs.sea_water_practical_salinity, psi_t_a, psi_s_a, dev.tcal)\n",
    "acs['c_pgts'] = acsproc.ts_correction(acs.c_pg, acs.sea_water_temperature, acs.sea_water_practical_salinity, psi_t_c, psi_s_c, dev.tcal)"
   ],
   "id": "943fad2dc2f0540",
   "outputs": [],
   "execution_count": 3
  },
  {
   "metadata": {
    "ExecuteTime": {
     "end_time": "2025-05-08T19:16:09.286186Z",
     "start_time": "2025-05-08T19:15:49.982155Z"
    }
   },
   "cell_type": "code",
   "source": "acs.to_netcdf('shimada_merged.nc')",
   "id": "5807b28e621a0c96",
   "outputs": [],
   "execution_count": 5
  },
  {
   "metadata": {},
   "cell_type": "code",
   "outputs": [],
   "execution_count": null,
   "source": "",
   "id": "ed652bbbb0c8abf0"
  }
 ],
 "metadata": {
  "kernelspec": {
   "display_name": "Python 3",
   "language": "python",
   "name": "python3"
  },
  "language_info": {
   "codemirror_mode": {
    "name": "ipython",
    "version": 2
   },
   "file_extension": ".py",
   "mimetype": "text/x-python",
   "name": "python",
   "nbconvert_exporter": "python",
   "pygments_lexer": "ipython2",
   "version": "2.7.6"
  }
 },
 "nbformat": 4,
 "nbformat_minor": 5
}

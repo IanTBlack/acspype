{
 "cells": [
  {
   "cell_type": "code",
   "id": "initial_id",
   "metadata": {
    "collapsed": true,
    "ExecuteTime": {
     "end_time": "2025-05-08T19:39:49.195538Z",
     "start_time": "2025-05-08T19:39:49.187801Z"
    }
   },
   "source": [
    "from datetime import datetime\n",
    "import matplotlib.pyplot as plt\n",
    "import numpy as np\n",
    "import xarray as xr\n",
    "\n",
    "import scipy\n",
    "from scipy.stats import linregress\n",
    "\n",
    "from acspype import ACSDev, ACSTSCor\n",
    "import acspype.processing as acsproc\n",
    "import acspype.qaqc as acsqaqc"
   ],
   "outputs": [],
   "execution_count": 17
  },
  {
   "metadata": {
    "ExecuteTime": {
     "end_time": "2025-05-08T19:39:49.843869Z",
     "start_time": "2025-05-08T19:39:49.764692Z"
    }
   },
   "cell_type": "code",
   "source": [
    "acs = xr.open_dataset('shimada_merged.nc')\n",
    "dev = ACSDev('test_files/ACS-00412_2023-05-10.dev')"
   ],
   "id": "3f687d4a52cd19a0",
   "outputs": [],
   "execution_count": 18
  },
  {
   "metadata": {
    "ExecuteTime": {
     "end_time": "2025-05-08T19:56:44.092227Z",
     "start_time": "2025-05-08T19:39:49.936611Z"
    }
   },
   "cell_type": "code",
   "source": [
    "g = acs.where(acs.seawater_state == 0, drop = True)\n",
    "pg = acs.where(acs.seawater_state == 1, drop = True)"
   ],
   "id": "93bd3cf28eeab5ae",
   "outputs": [],
   "execution_count": 19
  },
  {
   "metadata": {
    "ExecuteTime": {
     "end_time": "2025-05-08T19:56:44.102719Z",
     "start_time": "2025-05-08T19:56:44.092227Z"
    }
   },
   "cell_type": "code",
   "source": "dtr = xr.date_range(datetime(2024,6,1,16), g.time.max().values, freq='1h')",
   "id": "a56de27eb5779f18",
   "outputs": [],
   "execution_count": 20
  },
  {
   "metadata": {
    "ExecuteTime": {
     "end_time": "2025-05-08T19:39:15.773088Z",
     "start_time": "2025-05-08T19:39:15.764461Z"
    }
   },
   "cell_type": "code",
   "source": "",
   "id": "f2b2e4350f81384c",
   "outputs": [
    {
     "data": {
      "text/plain": [
       "DatetimeIndex(['2024-06-01 16:14:36.801201', '2024-06-01 17:14:36.801201',\n",
       "               '2024-06-01 18:14:36.801201', '2024-06-01 19:14:36.801201',\n",
       "               '2024-06-01 20:14:36.801201', '2024-06-01 21:14:36.801201',\n",
       "               '2024-06-01 22:14:36.801201', '2024-06-01 23:14:36.801201',\n",
       "               '2024-06-02 00:14:36.801201', '2024-06-02 01:14:36.801201',\n",
       "               ...\n",
       "               '2024-06-11 12:14:36.801201', '2024-06-11 13:14:36.801201',\n",
       "               '2024-06-11 14:14:36.801201', '2024-06-11 15:14:36.801201',\n",
       "               '2024-06-11 16:14:36.801201', '2024-06-11 17:14:36.801201',\n",
       "               '2024-06-11 18:14:36.801201', '2024-06-11 19:14:36.801201',\n",
       "               '2024-06-11 20:14:36.801201', '2024-06-11 21:14:36.801201'],\n",
       "              dtype='datetime64[ns]', length=246, freq='h')"
      ]
     },
     "execution_count": 16,
     "metadata": {},
     "output_type": "execute_result"
    }
   ],
   "execution_count": 16
  },
  {
   "metadata": {},
   "cell_type": "code",
   "outputs": [],
   "execution_count": null,
   "source": "",
   "id": "579bae7d1a678f7e"
  }
 ],
 "metadata": {
  "kernelspec": {
   "display_name": "Python 3",
   "language": "python",
   "name": "python3"
  },
  "language_info": {
   "codemirror_mode": {
    "name": "ipython",
    "version": 2
   },
   "file_extension": ".py",
   "mimetype": "text/x-python",
   "name": "python",
   "nbconvert_exporter": "python",
   "pygments_lexer": "ipython2",
   "version": "2.7.6"
  }
 },
 "nbformat": 4,
 "nbformat_minor": 5
}
